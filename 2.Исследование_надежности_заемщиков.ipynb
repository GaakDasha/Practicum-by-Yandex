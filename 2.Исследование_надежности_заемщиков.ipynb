{
  "cells": [
    {
      "cell_type": "markdown",
      "id": "c33bd693",
      "metadata": {
        "id": "c33bd693"
      },
      "source": [
        "# Исследование надежности заемщиков."
      ]
    },
    {
      "cell_type": "markdown",
      "id": "1731a6e1",
      "metadata": {
        "id": "1731a6e1"
      },
      "source": [
        "**Описание проекта:**\n",
        "\n",
        "Заказчик — кредитный отдел банка. Нужно разобраться, влияет ли семейное положение и количество детей клиента на факт погашения кредита в срок. Входные данные от банка — статистика о платёжеспособности клиентов. Результаты исследования будут учтены при построении модели кредитного скоринга — специальной системы, которая оценивает способность потенциального заёмщика вернуть кредит банку.\n",
        "\n",
        "**Описание данных:**\n",
        "\n",
        "children — количество детей в семье\n",
        "\n",
        "days_employed — общий трудовой стаж в днях\n",
        "\n",
        "dob_years — возраст клиента в годах\n",
        "\n",
        "education — уровень образования клиента\n",
        "\n",
        "education_id — идентификатор уровня образования\n",
        "\n",
        "family_status — семейное положение\n",
        "\n",
        "family_status_id — идентификатор семейного положения\n",
        "\n",
        "gender — пол клиента\n",
        "\n",
        "income_type — тип занятости\n",
        "\n",
        "debt — имел ли задолженность по возврату кредитов\n",
        "\n",
        "total_income — ежемесячный доход\n",
        "\n",
        "purpose — цель получения кредита\n",
        "\n",
        "\n",
        "**Цель исследования** — ответить на вопросы:\n",
        "\n",
        "1. Есть ли зависимость между количеством детей и возвратом кредита в срок?\n",
        "2. Есть ли зависимость между семейным положением и возвратом кредита в срок?\n",
        "3. Есть ли зависимость между уровнем дохода и возвратом кредита в срок?\n",
        "4. Как разные цели кредита влияют на его возврат в срок?\n",
        "\n",
        "**Ход исследования:**\n",
        "\n",
        "1. Обзор данных\n",
        "2. Предобработка данных\n",
        "3. Ответы на вопросы\n",
        "4. Общий вывод"
      ]
    },
    {
      "cell_type": "markdown",
      "id": "62975638",
      "metadata": {
        "id": "62975638"
      },
      "source": [
        "### Шаг 1. Обзор данных"
      ]
    },
    {
      "cell_type": "code",
      "source": [
        "!wget https://code.s3.yandex.net/datasets/data.csv"
      ],
      "metadata": {
        "colab": {
          "base_uri": "https://localhost:8080/"
        },
        "id": "LZ3wkJ2rBr6w",
        "outputId": "0a54b44c-f52e-4ee0-81c1-e060706dbc93"
      },
      "id": "LZ3wkJ2rBr6w",
      "execution_count": 69,
      "outputs": [
        {
          "output_type": "stream",
          "name": "stdout",
          "text": [
            "--2023-02-14 08:44:28--  https://code.s3.yandex.net/datasets/data.csv\n",
            "Resolving code.s3.yandex.net (code.s3.yandex.net)... 93.158.134.158, 2a02:6b8::2:158\n",
            "Connecting to code.s3.yandex.net (code.s3.yandex.net)|93.158.134.158|:443... connected.\n",
            "HTTP request sent, awaiting response... 200 OK\n",
            "Length: 3323295 (3.2M) [application/octet-stream]\n",
            "Saving to: ‘data.csv.3’\n",
            "\n",
            "data.csv.3          100%[===================>]   3.17M  1.53MB/s    in 2.1s    \n",
            "\n",
            "2023-02-14 08:44:32 (1.53 MB/s) - ‘data.csv.3’ saved [3323295/3323295]\n",
            "\n"
          ]
        }
      ]
    },
    {
      "cell_type": "code",
      "execution_count": 70,
      "id": "d7a5a587",
      "metadata": {
        "id": "d7a5a587"
      },
      "outputs": [],
      "source": [
        "import pandas as pd\n",
        "import seaborn as sns"
      ]
    },
    {
      "cell_type": "code",
      "source": [
        "df = pd.read_csv('data.csv')"
      ],
      "metadata": {
        "id": "lVkiiLH4BwOB"
      },
      "id": "lVkiiLH4BwOB",
      "execution_count": 71,
      "outputs": []
    },
    {
      "cell_type": "markdown",
      "id": "ecc28fb5",
      "metadata": {
        "id": "ecc28fb5"
      },
      "source": [
        "Изучим общую информацию о данных, посмотрим первые 10 строк таблицы, построим гистограммы, для того чтобы посмотреть распределение данных в столбцах наглядно. А также посмотрим на все статистические значения методом describe()."
      ]
    },
    {
      "cell_type": "code",
      "execution_count": 72,
      "id": "5261ac80",
      "metadata": {
        "scrolled": true,
        "id": "5261ac80",
        "outputId": "e87cf120-8178-428e-9342-a6adb70a3dc9",
        "colab": {
          "base_uri": "https://localhost:8080/"
        }
      },
      "outputs": [
        {
          "output_type": "stream",
          "name": "stdout",
          "text": [
            "<class 'pandas.core.frame.DataFrame'>\n",
            "RangeIndex: 21525 entries, 0 to 21524\n",
            "Data columns (total 12 columns):\n",
            " #   Column            Non-Null Count  Dtype  \n",
            "---  ------            --------------  -----  \n",
            " 0   children          21525 non-null  int64  \n",
            " 1   days_employed     19351 non-null  float64\n",
            " 2   dob_years         21525 non-null  int64  \n",
            " 3   education         21525 non-null  object \n",
            " 4   education_id      21525 non-null  int64  \n",
            " 5   family_status     21525 non-null  object \n",
            " 6   family_status_id  21525 non-null  int64  \n",
            " 7   gender            21525 non-null  object \n",
            " 8   income_type       21525 non-null  object \n",
            " 9   debt              21525 non-null  int64  \n",
            " 10  total_income      19351 non-null  float64\n",
            " 11  purpose           21525 non-null  object \n",
            "dtypes: float64(2), int64(5), object(5)\n",
            "memory usage: 2.0+ MB\n"
          ]
        }
      ],
      "source": [
        "df.info() "
      ]
    },
    {
      "cell_type": "markdown",
      "id": "32c35c55",
      "metadata": {
        "id": "32c35c55"
      },
      "source": [
        "В датасете есть пропуски, а именно в столбцах days_employed и total_income, причем количество пропущенных значений в столбцах одинаковоe. Столбцы days_employed и total_income сохранены в формате float64, это может быть неудобным для анализа данных. "
      ]
    },
    {
      "cell_type": "code",
      "execution_count": 73,
      "id": "df88cec5",
      "metadata": {
        "scrolled": true,
        "id": "df88cec5",
        "outputId": "caa4b841-4bbb-4fff-c1bf-476619dcefb4",
        "colab": {
          "base_uri": "https://localhost:8080/",
          "height": 363
        }
      },
      "outputs": [
        {
          "output_type": "execute_result",
          "data": {
            "text/plain": [
              "   children  days_employed  dob_years education  education_id  \\\n",
              "0         1   -8437.673028         42    высшее             0   \n",
              "1         1   -4024.803754         36   среднее             1   \n",
              "2         0   -5623.422610         33   Среднее             1   \n",
              "3         3   -4124.747207         32   среднее             1   \n",
              "4         0  340266.072047         53   среднее             1   \n",
              "5         0    -926.185831         27    высшее             0   \n",
              "6         0   -2879.202052         43    высшее             0   \n",
              "7         0    -152.779569         50   СРЕДНЕЕ             1   \n",
              "8         2   -6929.865299         35    ВЫСШЕЕ             0   \n",
              "9         0   -2188.756445         41   среднее             1   \n",
              "\n",
              "      family_status  family_status_id gender income_type  debt   total_income  \\\n",
              "0   женат / замужем                 0      F   сотрудник     0  253875.639453   \n",
              "1   женат / замужем                 0      F   сотрудник     0  112080.014102   \n",
              "2   женат / замужем                 0      M   сотрудник     0  145885.952297   \n",
              "3   женат / замужем                 0      M   сотрудник     0  267628.550329   \n",
              "4  гражданский брак                 1      F   пенсионер     0  158616.077870   \n",
              "5  гражданский брак                 1      M   компаньон     0  255763.565419   \n",
              "6   женат / замужем                 0      F   компаньон     0  240525.971920   \n",
              "7   женат / замужем                 0      M   сотрудник     0  135823.934197   \n",
              "8  гражданский брак                 1      F   сотрудник     0   95856.832424   \n",
              "9   женат / замужем                 0      M   сотрудник     0  144425.938277   \n",
              "\n",
              "                      purpose  \n",
              "0               покупка жилья  \n",
              "1     приобретение автомобиля  \n",
              "2               покупка жилья  \n",
              "3  дополнительное образование  \n",
              "4             сыграть свадьбу  \n",
              "5               покупка жилья  \n",
              "6           операции с жильем  \n",
              "7                 образование  \n",
              "8       на проведение свадьбы  \n",
              "9     покупка жилья для семьи  "
            ],
            "text/html": [
              "\n",
              "  <div id=\"df-76fecce0-b1c5-473a-9612-b6692079af13\">\n",
              "    <div class=\"colab-df-container\">\n",
              "      <div>\n",
              "<style scoped>\n",
              "    .dataframe tbody tr th:only-of-type {\n",
              "        vertical-align: middle;\n",
              "    }\n",
              "\n",
              "    .dataframe tbody tr th {\n",
              "        vertical-align: top;\n",
              "    }\n",
              "\n",
              "    .dataframe thead th {\n",
              "        text-align: right;\n",
              "    }\n",
              "</style>\n",
              "<table border=\"1\" class=\"dataframe\">\n",
              "  <thead>\n",
              "    <tr style=\"text-align: right;\">\n",
              "      <th></th>\n",
              "      <th>children</th>\n",
              "      <th>days_employed</th>\n",
              "      <th>dob_years</th>\n",
              "      <th>education</th>\n",
              "      <th>education_id</th>\n",
              "      <th>family_status</th>\n",
              "      <th>family_status_id</th>\n",
              "      <th>gender</th>\n",
              "      <th>income_type</th>\n",
              "      <th>debt</th>\n",
              "      <th>total_income</th>\n",
              "      <th>purpose</th>\n",
              "    </tr>\n",
              "  </thead>\n",
              "  <tbody>\n",
              "    <tr>\n",
              "      <th>0</th>\n",
              "      <td>1</td>\n",
              "      <td>-8437.673028</td>\n",
              "      <td>42</td>\n",
              "      <td>высшее</td>\n",
              "      <td>0</td>\n",
              "      <td>женат / замужем</td>\n",
              "      <td>0</td>\n",
              "      <td>F</td>\n",
              "      <td>сотрудник</td>\n",
              "      <td>0</td>\n",
              "      <td>253875.639453</td>\n",
              "      <td>покупка жилья</td>\n",
              "    </tr>\n",
              "    <tr>\n",
              "      <th>1</th>\n",
              "      <td>1</td>\n",
              "      <td>-4024.803754</td>\n",
              "      <td>36</td>\n",
              "      <td>среднее</td>\n",
              "      <td>1</td>\n",
              "      <td>женат / замужем</td>\n",
              "      <td>0</td>\n",
              "      <td>F</td>\n",
              "      <td>сотрудник</td>\n",
              "      <td>0</td>\n",
              "      <td>112080.014102</td>\n",
              "      <td>приобретение автомобиля</td>\n",
              "    </tr>\n",
              "    <tr>\n",
              "      <th>2</th>\n",
              "      <td>0</td>\n",
              "      <td>-5623.422610</td>\n",
              "      <td>33</td>\n",
              "      <td>Среднее</td>\n",
              "      <td>1</td>\n",
              "      <td>женат / замужем</td>\n",
              "      <td>0</td>\n",
              "      <td>M</td>\n",
              "      <td>сотрудник</td>\n",
              "      <td>0</td>\n",
              "      <td>145885.952297</td>\n",
              "      <td>покупка жилья</td>\n",
              "    </tr>\n",
              "    <tr>\n",
              "      <th>3</th>\n",
              "      <td>3</td>\n",
              "      <td>-4124.747207</td>\n",
              "      <td>32</td>\n",
              "      <td>среднее</td>\n",
              "      <td>1</td>\n",
              "      <td>женат / замужем</td>\n",
              "      <td>0</td>\n",
              "      <td>M</td>\n",
              "      <td>сотрудник</td>\n",
              "      <td>0</td>\n",
              "      <td>267628.550329</td>\n",
              "      <td>дополнительное образование</td>\n",
              "    </tr>\n",
              "    <tr>\n",
              "      <th>4</th>\n",
              "      <td>0</td>\n",
              "      <td>340266.072047</td>\n",
              "      <td>53</td>\n",
              "      <td>среднее</td>\n",
              "      <td>1</td>\n",
              "      <td>гражданский брак</td>\n",
              "      <td>1</td>\n",
              "      <td>F</td>\n",
              "      <td>пенсионер</td>\n",
              "      <td>0</td>\n",
              "      <td>158616.077870</td>\n",
              "      <td>сыграть свадьбу</td>\n",
              "    </tr>\n",
              "    <tr>\n",
              "      <th>5</th>\n",
              "      <td>0</td>\n",
              "      <td>-926.185831</td>\n",
              "      <td>27</td>\n",
              "      <td>высшее</td>\n",
              "      <td>0</td>\n",
              "      <td>гражданский брак</td>\n",
              "      <td>1</td>\n",
              "      <td>M</td>\n",
              "      <td>компаньон</td>\n",
              "      <td>0</td>\n",
              "      <td>255763.565419</td>\n",
              "      <td>покупка жилья</td>\n",
              "    </tr>\n",
              "    <tr>\n",
              "      <th>6</th>\n",
              "      <td>0</td>\n",
              "      <td>-2879.202052</td>\n",
              "      <td>43</td>\n",
              "      <td>высшее</td>\n",
              "      <td>0</td>\n",
              "      <td>женат / замужем</td>\n",
              "      <td>0</td>\n",
              "      <td>F</td>\n",
              "      <td>компаньон</td>\n",
              "      <td>0</td>\n",
              "      <td>240525.971920</td>\n",
              "      <td>операции с жильем</td>\n",
              "    </tr>\n",
              "    <tr>\n",
              "      <th>7</th>\n",
              "      <td>0</td>\n",
              "      <td>-152.779569</td>\n",
              "      <td>50</td>\n",
              "      <td>СРЕДНЕЕ</td>\n",
              "      <td>1</td>\n",
              "      <td>женат / замужем</td>\n",
              "      <td>0</td>\n",
              "      <td>M</td>\n",
              "      <td>сотрудник</td>\n",
              "      <td>0</td>\n",
              "      <td>135823.934197</td>\n",
              "      <td>образование</td>\n",
              "    </tr>\n",
              "    <tr>\n",
              "      <th>8</th>\n",
              "      <td>2</td>\n",
              "      <td>-6929.865299</td>\n",
              "      <td>35</td>\n",
              "      <td>ВЫСШЕЕ</td>\n",
              "      <td>0</td>\n",
              "      <td>гражданский брак</td>\n",
              "      <td>1</td>\n",
              "      <td>F</td>\n",
              "      <td>сотрудник</td>\n",
              "      <td>0</td>\n",
              "      <td>95856.832424</td>\n",
              "      <td>на проведение свадьбы</td>\n",
              "    </tr>\n",
              "    <tr>\n",
              "      <th>9</th>\n",
              "      <td>0</td>\n",
              "      <td>-2188.756445</td>\n",
              "      <td>41</td>\n",
              "      <td>среднее</td>\n",
              "      <td>1</td>\n",
              "      <td>женат / замужем</td>\n",
              "      <td>0</td>\n",
              "      <td>M</td>\n",
              "      <td>сотрудник</td>\n",
              "      <td>0</td>\n",
              "      <td>144425.938277</td>\n",
              "      <td>покупка жилья для семьи</td>\n",
              "    </tr>\n",
              "  </tbody>\n",
              "</table>\n",
              "</div>\n",
              "      <button class=\"colab-df-convert\" onclick=\"convertToInteractive('df-76fecce0-b1c5-473a-9612-b6692079af13')\"\n",
              "              title=\"Convert this dataframe to an interactive table.\"\n",
              "              style=\"display:none;\">\n",
              "        \n",
              "  <svg xmlns=\"http://www.w3.org/2000/svg\" height=\"24px\"viewBox=\"0 0 24 24\"\n",
              "       width=\"24px\">\n",
              "    <path d=\"M0 0h24v24H0V0z\" fill=\"none\"/>\n",
              "    <path d=\"M18.56 5.44l.94 2.06.94-2.06 2.06-.94-2.06-.94-.94-2.06-.94 2.06-2.06.94zm-11 1L8.5 8.5l.94-2.06 2.06-.94-2.06-.94L8.5 2.5l-.94 2.06-2.06.94zm10 10l.94 2.06.94-2.06 2.06-.94-2.06-.94-.94-2.06-.94 2.06-2.06.94z\"/><path d=\"M17.41 7.96l-1.37-1.37c-.4-.4-.92-.59-1.43-.59-.52 0-1.04.2-1.43.59L10.3 9.45l-7.72 7.72c-.78.78-.78 2.05 0 2.83L4 21.41c.39.39.9.59 1.41.59.51 0 1.02-.2 1.41-.59l7.78-7.78 2.81-2.81c.8-.78.8-2.07 0-2.86zM5.41 20L4 18.59l7.72-7.72 1.47 1.35L5.41 20z\"/>\n",
              "  </svg>\n",
              "      </button>\n",
              "      \n",
              "  <style>\n",
              "    .colab-df-container {\n",
              "      display:flex;\n",
              "      flex-wrap:wrap;\n",
              "      gap: 12px;\n",
              "    }\n",
              "\n",
              "    .colab-df-convert {\n",
              "      background-color: #E8F0FE;\n",
              "      border: none;\n",
              "      border-radius: 50%;\n",
              "      cursor: pointer;\n",
              "      display: none;\n",
              "      fill: #1967D2;\n",
              "      height: 32px;\n",
              "      padding: 0 0 0 0;\n",
              "      width: 32px;\n",
              "    }\n",
              "\n",
              "    .colab-df-convert:hover {\n",
              "      background-color: #E2EBFA;\n",
              "      box-shadow: 0px 1px 2px rgba(60, 64, 67, 0.3), 0px 1px 3px 1px rgba(60, 64, 67, 0.15);\n",
              "      fill: #174EA6;\n",
              "    }\n",
              "\n",
              "    [theme=dark] .colab-df-convert {\n",
              "      background-color: #3B4455;\n",
              "      fill: #D2E3FC;\n",
              "    }\n",
              "\n",
              "    [theme=dark] .colab-df-convert:hover {\n",
              "      background-color: #434B5C;\n",
              "      box-shadow: 0px 1px 3px 1px rgba(0, 0, 0, 0.15);\n",
              "      filter: drop-shadow(0px 1px 2px rgba(0, 0, 0, 0.3));\n",
              "      fill: #FFFFFF;\n",
              "    }\n",
              "  </style>\n",
              "\n",
              "      <script>\n",
              "        const buttonEl =\n",
              "          document.querySelector('#df-76fecce0-b1c5-473a-9612-b6692079af13 button.colab-df-convert');\n",
              "        buttonEl.style.display =\n",
              "          google.colab.kernel.accessAllowed ? 'block' : 'none';\n",
              "\n",
              "        async function convertToInteractive(key) {\n",
              "          const element = document.querySelector('#df-76fecce0-b1c5-473a-9612-b6692079af13');\n",
              "          const dataTable =\n",
              "            await google.colab.kernel.invokeFunction('convertToInteractive',\n",
              "                                                     [key], {});\n",
              "          if (!dataTable) return;\n",
              "\n",
              "          const docLinkHtml = 'Like what you see? Visit the ' +\n",
              "            '<a target=\"_blank\" href=https://colab.research.google.com/notebooks/data_table.ipynb>data table notebook</a>'\n",
              "            + ' to learn more about interactive tables.';\n",
              "          element.innerHTML = '';\n",
              "          dataTable['output_type'] = 'display_data';\n",
              "          await google.colab.output.renderOutput(dataTable, element);\n",
              "          const docLink = document.createElement('div');\n",
              "          docLink.innerHTML = docLinkHtml;\n",
              "          element.appendChild(docLink);\n",
              "        }\n",
              "      </script>\n",
              "    </div>\n",
              "  </div>\n",
              "  "
            ]
          },
          "metadata": {},
          "execution_count": 73
        }
      ],
      "source": [
        "df.head(10)"
      ]
    },
    {
      "cell_type": "markdown",
      "id": "0eef55c9",
      "metadata": {
        "id": "0eef55c9"
      },
      "source": [
        "Столбец education имеет проблемы с регистром, а в purpose одинаковые цели прописаны разными словами."
      ]
    },
    {
      "cell_type": "code",
      "execution_count": 74,
      "id": "b4094d0f",
      "metadata": {
        "id": "b4094d0f",
        "outputId": "c5e1c846-2203-4b9c-86de-7aade43fc8dc",
        "colab": {
          "base_uri": "https://localhost:8080/",
          "height": 301
        }
      },
      "outputs": [
        {
          "output_type": "execute_result",
          "data": {
            "text/plain": [
              "           children  days_employed     dob_years  education_id  \\\n",
              "count  21525.000000   19351.000000  21525.000000  21525.000000   \n",
              "mean       0.538908   63046.497661     43.293380      0.817236   \n",
              "std        1.381587  140827.311974     12.574584      0.548138   \n",
              "min       -1.000000  -18388.949901      0.000000      0.000000   \n",
              "25%        0.000000   -2747.423625     33.000000      1.000000   \n",
              "50%        0.000000   -1203.369529     42.000000      1.000000   \n",
              "75%        1.000000    -291.095954     53.000000      1.000000   \n",
              "max       20.000000  401755.400475     75.000000      4.000000   \n",
              "\n",
              "       family_status_id          debt  total_income  \n",
              "count      21525.000000  21525.000000  1.935100e+04  \n",
              "mean           0.972544      0.080883  1.674223e+05  \n",
              "std            1.420324      0.272661  1.029716e+05  \n",
              "min            0.000000      0.000000  2.066726e+04  \n",
              "25%            0.000000      0.000000  1.030532e+05  \n",
              "50%            0.000000      0.000000  1.450179e+05  \n",
              "75%            1.000000      0.000000  2.034351e+05  \n",
              "max            4.000000      1.000000  2.265604e+06  "
            ],
            "text/html": [
              "\n",
              "  <div id=\"df-ae0ca16b-b5b7-4d73-b428-155e9275ec3b\">\n",
              "    <div class=\"colab-df-container\">\n",
              "      <div>\n",
              "<style scoped>\n",
              "    .dataframe tbody tr th:only-of-type {\n",
              "        vertical-align: middle;\n",
              "    }\n",
              "\n",
              "    .dataframe tbody tr th {\n",
              "        vertical-align: top;\n",
              "    }\n",
              "\n",
              "    .dataframe thead th {\n",
              "        text-align: right;\n",
              "    }\n",
              "</style>\n",
              "<table border=\"1\" class=\"dataframe\">\n",
              "  <thead>\n",
              "    <tr style=\"text-align: right;\">\n",
              "      <th></th>\n",
              "      <th>children</th>\n",
              "      <th>days_employed</th>\n",
              "      <th>dob_years</th>\n",
              "      <th>education_id</th>\n",
              "      <th>family_status_id</th>\n",
              "      <th>debt</th>\n",
              "      <th>total_income</th>\n",
              "    </tr>\n",
              "  </thead>\n",
              "  <tbody>\n",
              "    <tr>\n",
              "      <th>count</th>\n",
              "      <td>21525.000000</td>\n",
              "      <td>19351.000000</td>\n",
              "      <td>21525.000000</td>\n",
              "      <td>21525.000000</td>\n",
              "      <td>21525.000000</td>\n",
              "      <td>21525.000000</td>\n",
              "      <td>1.935100e+04</td>\n",
              "    </tr>\n",
              "    <tr>\n",
              "      <th>mean</th>\n",
              "      <td>0.538908</td>\n",
              "      <td>63046.497661</td>\n",
              "      <td>43.293380</td>\n",
              "      <td>0.817236</td>\n",
              "      <td>0.972544</td>\n",
              "      <td>0.080883</td>\n",
              "      <td>1.674223e+05</td>\n",
              "    </tr>\n",
              "    <tr>\n",
              "      <th>std</th>\n",
              "      <td>1.381587</td>\n",
              "      <td>140827.311974</td>\n",
              "      <td>12.574584</td>\n",
              "      <td>0.548138</td>\n",
              "      <td>1.420324</td>\n",
              "      <td>0.272661</td>\n",
              "      <td>1.029716e+05</td>\n",
              "    </tr>\n",
              "    <tr>\n",
              "      <th>min</th>\n",
              "      <td>-1.000000</td>\n",
              "      <td>-18388.949901</td>\n",
              "      <td>0.000000</td>\n",
              "      <td>0.000000</td>\n",
              "      <td>0.000000</td>\n",
              "      <td>0.000000</td>\n",
              "      <td>2.066726e+04</td>\n",
              "    </tr>\n",
              "    <tr>\n",
              "      <th>25%</th>\n",
              "      <td>0.000000</td>\n",
              "      <td>-2747.423625</td>\n",
              "      <td>33.000000</td>\n",
              "      <td>1.000000</td>\n",
              "      <td>0.000000</td>\n",
              "      <td>0.000000</td>\n",
              "      <td>1.030532e+05</td>\n",
              "    </tr>\n",
              "    <tr>\n",
              "      <th>50%</th>\n",
              "      <td>0.000000</td>\n",
              "      <td>-1203.369529</td>\n",
              "      <td>42.000000</td>\n",
              "      <td>1.000000</td>\n",
              "      <td>0.000000</td>\n",
              "      <td>0.000000</td>\n",
              "      <td>1.450179e+05</td>\n",
              "    </tr>\n",
              "    <tr>\n",
              "      <th>75%</th>\n",
              "      <td>1.000000</td>\n",
              "      <td>-291.095954</td>\n",
              "      <td>53.000000</td>\n",
              "      <td>1.000000</td>\n",
              "      <td>1.000000</td>\n",
              "      <td>0.000000</td>\n",
              "      <td>2.034351e+05</td>\n",
              "    </tr>\n",
              "    <tr>\n",
              "      <th>max</th>\n",
              "      <td>20.000000</td>\n",
              "      <td>401755.400475</td>\n",
              "      <td>75.000000</td>\n",
              "      <td>4.000000</td>\n",
              "      <td>4.000000</td>\n",
              "      <td>1.000000</td>\n",
              "      <td>2.265604e+06</td>\n",
              "    </tr>\n",
              "  </tbody>\n",
              "</table>\n",
              "</div>\n",
              "      <button class=\"colab-df-convert\" onclick=\"convertToInteractive('df-ae0ca16b-b5b7-4d73-b428-155e9275ec3b')\"\n",
              "              title=\"Convert this dataframe to an interactive table.\"\n",
              "              style=\"display:none;\">\n",
              "        \n",
              "  <svg xmlns=\"http://www.w3.org/2000/svg\" height=\"24px\"viewBox=\"0 0 24 24\"\n",
              "       width=\"24px\">\n",
              "    <path d=\"M0 0h24v24H0V0z\" fill=\"none\"/>\n",
              "    <path d=\"M18.56 5.44l.94 2.06.94-2.06 2.06-.94-2.06-.94-.94-2.06-.94 2.06-2.06.94zm-11 1L8.5 8.5l.94-2.06 2.06-.94-2.06-.94L8.5 2.5l-.94 2.06-2.06.94zm10 10l.94 2.06.94-2.06 2.06-.94-2.06-.94-.94-2.06-.94 2.06-2.06.94z\"/><path d=\"M17.41 7.96l-1.37-1.37c-.4-.4-.92-.59-1.43-.59-.52 0-1.04.2-1.43.59L10.3 9.45l-7.72 7.72c-.78.78-.78 2.05 0 2.83L4 21.41c.39.39.9.59 1.41.59.51 0 1.02-.2 1.41-.59l7.78-7.78 2.81-2.81c.8-.78.8-2.07 0-2.86zM5.41 20L4 18.59l7.72-7.72 1.47 1.35L5.41 20z\"/>\n",
              "  </svg>\n",
              "      </button>\n",
              "      \n",
              "  <style>\n",
              "    .colab-df-container {\n",
              "      display:flex;\n",
              "      flex-wrap:wrap;\n",
              "      gap: 12px;\n",
              "    }\n",
              "\n",
              "    .colab-df-convert {\n",
              "      background-color: #E8F0FE;\n",
              "      border: none;\n",
              "      border-radius: 50%;\n",
              "      cursor: pointer;\n",
              "      display: none;\n",
              "      fill: #1967D2;\n",
              "      height: 32px;\n",
              "      padding: 0 0 0 0;\n",
              "      width: 32px;\n",
              "    }\n",
              "\n",
              "    .colab-df-convert:hover {\n",
              "      background-color: #E2EBFA;\n",
              "      box-shadow: 0px 1px 2px rgba(60, 64, 67, 0.3), 0px 1px 3px 1px rgba(60, 64, 67, 0.15);\n",
              "      fill: #174EA6;\n",
              "    }\n",
              "\n",
              "    [theme=dark] .colab-df-convert {\n",
              "      background-color: #3B4455;\n",
              "      fill: #D2E3FC;\n",
              "    }\n",
              "\n",
              "    [theme=dark] .colab-df-convert:hover {\n",
              "      background-color: #434B5C;\n",
              "      box-shadow: 0px 1px 3px 1px rgba(0, 0, 0, 0.15);\n",
              "      filter: drop-shadow(0px 1px 2px rgba(0, 0, 0, 0.3));\n",
              "      fill: #FFFFFF;\n",
              "    }\n",
              "  </style>\n",
              "\n",
              "      <script>\n",
              "        const buttonEl =\n",
              "          document.querySelector('#df-ae0ca16b-b5b7-4d73-b428-155e9275ec3b button.colab-df-convert');\n",
              "        buttonEl.style.display =\n",
              "          google.colab.kernel.accessAllowed ? 'block' : 'none';\n",
              "\n",
              "        async function convertToInteractive(key) {\n",
              "          const element = document.querySelector('#df-ae0ca16b-b5b7-4d73-b428-155e9275ec3b');\n",
              "          const dataTable =\n",
              "            await google.colab.kernel.invokeFunction('convertToInteractive',\n",
              "                                                     [key], {});\n",
              "          if (!dataTable) return;\n",
              "\n",
              "          const docLinkHtml = 'Like what you see? Visit the ' +\n",
              "            '<a target=\"_blank\" href=https://colab.research.google.com/notebooks/data_table.ipynb>data table notebook</a>'\n",
              "            + ' to learn more about interactive tables.';\n",
              "          element.innerHTML = '';\n",
              "          dataTable['output_type'] = 'display_data';\n",
              "          await google.colab.output.renderOutput(dataTable, element);\n",
              "          const docLink = document.createElement('div');\n",
              "          docLink.innerHTML = docLinkHtml;\n",
              "          element.appendChild(docLink);\n",
              "        }\n",
              "      </script>\n",
              "    </div>\n",
              "  </div>\n",
              "  "
            ]
          },
          "metadata": {},
          "execution_count": 74
        }
      ],
      "source": [
        "df.describe()"
      ]
    },
    {
      "cell_type": "code",
      "execution_count": 75,
      "id": "bddf1235",
      "metadata": {
        "scrolled": true,
        "id": "bddf1235",
        "outputId": "2dd5cbae-7512-48a1-a656-7f943d693710",
        "colab": {
          "base_uri": "https://localhost:8080/",
          "height": 282
        }
      },
      "outputs": [
        {
          "output_type": "execute_result",
          "data": {
            "text/plain": [
              "<matplotlib.axes._subplots.AxesSubplot at 0x7f911f5f7df0>"
            ]
          },
          "metadata": {},
          "execution_count": 75
        },
        {
          "output_type": "display_data",
          "data": {
            "text/plain": [
              "<Figure size 432x288 with 1 Axes>"
            ],
            "image/png": "[encoded data removed]"
          },
          "metadata": {
            "needs_background": "light"
          }
        }
      ],
      "source": [
        "df['children'].hist()"
      ]
    },
    {
      "cell_type": "markdown",
      "id": "b080eb0a",
      "metadata": {
        "id": "b080eb0a"
      },
      "source": [
        "В столбце children есть аномальные значения -1 и 20. Скорее всего это ошибка записи данных."
      ]
    },
    {
      "cell_type": "code",
      "execution_count": 76,
      "id": "fc2fa602",
      "metadata": {
        "scrolled": true,
        "id": "fc2fa602",
        "outputId": "bbe2e5ea-80c6-4b97-8527-30fd54eed3b1",
        "colab": {
          "base_uri": "https://localhost:8080/",
          "height": 282
        }
      },
      "outputs": [
        {
          "output_type": "execute_result",
          "data": {
            "text/plain": [
              "<matplotlib.axes._subplots.AxesSubplot at 0x7f911f4d1220>"
            ]
          },
          "metadata": {},
          "execution_count": 76
        },
        {
          "output_type": "display_data",
          "data": {
            "text/plain": [
              "<Figure size 432x288 with 1 Axes>"
            ],
            "image/png": "[encoded data removed]"
          },
          "metadata": {
            "needs_background": "light"
          }
        }
      ],
      "source": [
        "df['dob_years'].hist()"
      ]
    },
    {
      "cell_type": "markdown",
      "id": "ceb5ab73",
      "metadata": {
        "id": "ceb5ab73"
      },
      "source": [
        "В dob_years есть значения равные 0. Скорее всего это техническая ошибка."
      ]
    },
    {
      "cell_type": "code",
      "execution_count": 77,
      "id": "35e40dc0",
      "metadata": {
        "id": "35e40dc0",
        "outputId": "dd22460e-6ef3-460b-91b9-3d19d6aacef7",
        "colab": {
          "base_uri": "https://localhost:8080/",
          "height": 295
        }
      },
      "outputs": [
        {
          "output_type": "execute_result",
          "data": {
            "text/plain": [
              "<matplotlib.axes._subplots.AxesSubplot at 0x7f911f43fc40>"
            ]
          },
          "metadata": {},
          "execution_count": 77
        },
        {
          "output_type": "display_data",
          "data": {
            "text/plain": [
              "<Figure size 432x288 with 1 Axes>"
            ],
            "image/png": "[encoded data removed]"
          },
          "metadata": {
            "needs_background": "light"
          }
        }
      ],
      "source": [
        "df['total_income'].hist()"
      ]
    },
    {
      "cell_type": "code",
      "execution_count": 78,
      "id": "4caf2ae7",
      "metadata": {
        "id": "4caf2ae7",
        "outputId": "f80b9090-a2ef-4e55-f998-004154ac10d9",
        "colab": {
          "base_uri": "https://localhost:8080/",
          "height": 282
        }
      },
      "outputs": [
        {
          "output_type": "execute_result",
          "data": {
            "text/plain": [
              "<matplotlib.axes._subplots.AxesSubplot at 0x7f911f3e82e0>"
            ]
          },
          "metadata": {},
          "execution_count": 78
        },
        {
          "output_type": "display_data",
          "data": {
            "text/plain": [
              "<Figure size 432x288 with 1 Axes>"
            ],
            "image/png": "[encoded data removed]"
          },
          "metadata": {
            "needs_background": "light"
          }
        }
      ],
      "source": [
        "df['days_employed'].hist()"
      ]
    },
    {
      "cell_type": "markdown",
      "id": "610bbdf1",
      "metadata": {
        "id": "610bbdf1"
      },
      "source": [
        "В столбце days_employed есть отрицательные значения."
      ]
    },
    {
      "cell_type": "markdown",
      "id": "80ee63c0",
      "metadata": {
        "id": "80ee63c0"
      },
      "source": [
        "**Вывод по шагу 1.** \n",
        "1. Столбцы days_employed и total_income имеют пропущенные значения, причем количество пропущенных значений в столбцах одинаковоe. \n",
        "2. Столбцы days_employed и total_income сохранены в формате float64, это может быть неудобным для анализа данных. \n",
        "3. Столбец education имеет проблемы с регистром, а в purpose одинаковые цели прописаны разными словами.\n",
        "4. В столбце children есть значения -1 и 20. Скорее всего это ошибка записи данных.\n",
        "5. В столбце dob_years есть значения равные 0.\n",
        "6. В days_employed есть отрицательные значения.\n",
        "7. Значения в days_employed скорее всего имеют другую единицу измерения, возможно это техническая ошибка, поскольку 499163.144947 это 1367.5702601287671 лет. Поскольку в задании нет вопроса о взаимосвязи трудового стажа с возвратом кредита в срок, изменять эту ситуацию не будем."
      ]
    },
    {
      "cell_type": "markdown",
      "id": "e6faa7ad",
      "metadata": {
        "id": "e6faa7ad"
      },
      "source": [
        "### Шаг 2.1 Заполнение пропусков"
      ]
    },
    {
      "cell_type": "markdown",
      "id": "831983fa",
      "metadata": {
        "id": "831983fa"
      },
      "source": [
        "Прежде, чем перейти к заполнению пропусков, посмотрим на их общее количество в датафрейме."
      ]
    },
    {
      "cell_type": "code",
      "execution_count": 79,
      "id": "8bcffd63",
      "metadata": {
        "scrolled": true,
        "id": "8bcffd63",
        "outputId": "232cffcd-4e8d-40a6-a182-d6c10f87c394",
        "colab": {
          "base_uri": "https://localhost:8080/"
        }
      },
      "outputs": [
        {
          "output_type": "execute_result",
          "data": {
            "text/plain": [
              "children               0\n",
              "days_employed       2174\n",
              "dob_years              0\n",
              "education              0\n",
              "education_id           0\n",
              "family_status          0\n",
              "family_status_id       0\n",
              "gender                 0\n",
              "income_type            0\n",
              "debt                   0\n",
              "total_income        2174\n",
              "purpose                0\n",
              "dtype: int64"
            ]
          },
          "metadata": {},
          "execution_count": 79
        }
      ],
      "source": [
        "df.isna().sum()"
      ]
    },
    {
      "cell_type": "markdown",
      "id": "1e961dc1",
      "metadata": {
        "id": "1e961dc1"
      },
      "source": [
        "Посчитаем долю пропущенных значений в days_employed и total_income."
      ]
    },
    {
      "cell_type": "code",
      "execution_count": 80,
      "id": "4a6e68c3",
      "metadata": {
        "id": "4a6e68c3",
        "colab": {
          "base_uri": "https://localhost:8080/",
          "height": 35
        },
        "outputId": "81ec2197-7acb-41d1-a434-3a9d4830bff9"
      },
      "outputs": [
        {
          "output_type": "execute_result",
          "data": {
            "text/plain": [
              "'Доля пропущенных значений в days_employed составляет: 10.1%'"
            ],
            "application/vnd.google.colaboratory.intrinsic+json": {
              "type": "string"
            }
          },
          "metadata": {},
          "execution_count": 80
        }
      ],
      "source": [
        "df_nan_days_employed = df[df['days_employed'].isna()]\n",
        "'Доля пропущенных значений в days_employed составляет: {:.1%}' .format(len(df_nan_days_employed) / len(df))"
      ]
    },
    {
      "cell_type": "code",
      "execution_count": 81,
      "id": "b7f28961",
      "metadata": {
        "id": "b7f28961",
        "colab": {
          "base_uri": "https://localhost:8080/",
          "height": 35
        },
        "outputId": "2adfcc52-5e02-429c-ee6f-21a14bd32357"
      },
      "outputs": [
        {
          "output_type": "execute_result",
          "data": {
            "text/plain": [
              "'Доля пропущенных значений в total_income составляет: 10.1%'"
            ],
            "application/vnd.google.colaboratory.intrinsic+json": {
              "type": "string"
            }
          },
          "metadata": {},
          "execution_count": 81
        }
      ],
      "source": [
        "df_nan_total_income = df[df['total_income'].isna()]\n",
        "'Доля пропущенных значений в total_income составляет: {:.1%}' .format(len(df_nan_total_income) / len(df))"
      ]
    },
    {
      "cell_type": "markdown",
      "id": "c8ea33da",
      "metadata": {
        "id": "c8ea33da"
      },
      "source": [
        "Перейдем к заполнению пропусков в total_income, к days_employed вернемся позже, поскольку там есть отрицательные значения.\n",
        "\n",
        "Заполним пропущенные значения в total_income медианой. \n",
        "Для заполнения выбираем медиану, поскольку эта мера измерения наиболее объективна, чем среднее значение. Для наглядности посмотрим сначала среднее значение и медиану."
      ]
    },
    {
      "cell_type": "code",
      "execution_count": 82,
      "id": "2c017dcb",
      "metadata": {
        "id": "2c017dcb",
        "colab": {
          "base_uri": "https://localhost:8080/"
        },
        "outputId": "f2690329-bab1-4917-dc9f-6434e076387c"
      },
      "outputs": [
        {
          "output_type": "execute_result",
          "data": {
            "text/plain": [
              "145017.93753253992"
            ]
          },
          "metadata": {},
          "execution_count": 82
        }
      ],
      "source": [
        "df['total_income'].median()"
      ]
    },
    {
      "cell_type": "code",
      "execution_count": 83,
      "id": "f6d42353",
      "metadata": {
        "id": "f6d42353",
        "colab": {
          "base_uri": "https://localhost:8080/"
        },
        "outputId": "3e647631-5e2a-457c-d1ed-f78ce2fed6e9"
      },
      "outputs": [
        {
          "output_type": "execute_result",
          "data": {
            "text/plain": [
              "167422.30220817294"
            ]
          },
          "metadata": {},
          "execution_count": 83
        }
      ],
      "source": [
        "df['total_income'].mean()"
      ]
    },
    {
      "cell_type": "markdown",
      "id": "3b4a23fe",
      "metadata": {
        "id": "3b4a23fe"
      },
      "source": [
        "Посмотрим на медианные значения total_income в зависимости от типа занятости."
      ]
    },
    {
      "cell_type": "code",
      "execution_count": 84,
      "id": "f370d22f",
      "metadata": {
        "id": "f370d22f",
        "colab": {
          "base_uri": "https://localhost:8080/"
        },
        "outputId": "c3019067-fefa-4bd4-fc3b-66ed84b73d22"
      },
      "outputs": [
        {
          "output_type": "execute_result",
          "data": {
            "text/plain": [
              "income_type\n",
              "безработный        131339.751676\n",
              "в декрете           53829.130729\n",
              "госслужащий        150447.935283\n",
              "компаньон          172357.950966\n",
              "пенсионер          118514.486412\n",
              "предприниматель    499163.144947\n",
              "сотрудник          142594.396847\n",
              "студент             98201.625314\n",
              "Name: total_income, dtype: float64"
            ]
          },
          "metadata": {},
          "execution_count": 84
        }
      ],
      "source": [
        "total_income_median = df.groupby('income_type')['total_income'].median()\n",
        "total_income_median"
      ]
    },
    {
      "cell_type": "markdown",
      "id": "61eefc63",
      "metadata": {
        "id": "61eefc63"
      },
      "source": [
        "Напишем функцию, которая будет возвращать медианное значение заработной платы в соответствии типом занятости."
      ]
    },
    {
      "cell_type": "code",
      "execution_count": 85,
      "id": "a5ae5970",
      "metadata": {
        "id": "a5ae5970"
      },
      "outputs": [],
      "source": [
        "def fillna_total_income_median_ (df, row):\n",
        "    income_type_unique = df['income_type'].unique()\n",
        "    for type in income_type_unique:\n",
        "        df.loc[df['income_type'] == type, row] = df.loc[df['income_type'] == type, row].fillna(df[df['income_type'] == type]['total_income'].median())\n",
        "    return df\n",
        "\n",
        "df = fillna_total_income_median_(df, 'total_income')"
      ]
    },
    {
      "cell_type": "code",
      "execution_count": 86,
      "id": "633777cc",
      "metadata": {
        "scrolled": false,
        "id": "633777cc",
        "colab": {
          "base_uri": "https://localhost:8080/"
        },
        "outputId": "73474be7-db7c-49ac-aff6-6aa6ceca65ee"
      },
      "outputs": [
        {
          "output_type": "execute_result",
          "data": {
            "text/plain": [
              "children               0\n",
              "days_employed       2174\n",
              "dob_years              0\n",
              "education              0\n",
              "education_id           0\n",
              "family_status          0\n",
              "family_status_id       0\n",
              "gender                 0\n",
              "income_type            0\n",
              "debt                   0\n",
              "total_income           0\n",
              "purpose                0\n",
              "dtype: int64"
            ]
          },
          "metadata": {},
          "execution_count": 86
        }
      ],
      "source": [
        "df.isna().sum()"
      ]
    },
    {
      "cell_type": "markdown",
      "id": "15c3f59a",
      "metadata": {
        "id": "15c3f59a"
      },
      "source": [
        "Пропуски в total_income заполнены."
      ]
    },
    {
      "cell_type": "markdown",
      "id": "67c0829a",
      "metadata": {
        "id": "67c0829a"
      },
      "source": [
        "### Шаг 2.2 Проверка данных на аномалии и исправления."
      ]
    },
    {
      "cell_type": "markdown",
      "id": "0a91ca91",
      "metadata": {
        "id": "0a91ca91"
      },
      "source": [
        "Аномальные (в нашем случае - отрицательные) значения есть, в days_employed. Исправим это."
      ]
    },
    {
      "cell_type": "code",
      "execution_count": 87,
      "id": "f3953958",
      "metadata": {
        "id": "f3953958"
      },
      "outputs": [],
      "source": [
        "df['days_employed'] = df['days_employed'].apply(abs)"
      ]
    },
    {
      "cell_type": "code",
      "execution_count": 88,
      "id": "af9a0a26",
      "metadata": {
        "id": "af9a0a26",
        "outputId": "b9037e8b-9b61-472c-e116-a26c07157a83",
        "colab": {
          "base_uri": "https://localhost:8080/",
          "height": 282
        }
      },
      "outputs": [
        {
          "output_type": "execute_result",
          "data": {
            "text/plain": [
              "<matplotlib.axes._subplots.AxesSubplot at 0x7f911f475340>"
            ]
          },
          "metadata": {},
          "execution_count": 88
        },
        {
          "output_type": "display_data",
          "data": {
            "text/plain": [
              "<Figure size 432x288 with 1 Axes>"
            ],
            "image/png": "[encoded data removed]"
          },
          "metadata": {
            "needs_background": "light"
          }
        }
      ],
      "source": [
        "df['days_employed'].hist()"
      ]
    },
    {
      "cell_type": "markdown",
      "id": "d67d5ce4",
      "metadata": {
        "id": "d67d5ce4"
      },
      "source": [
        "Создадим сводную таблицу pivot_table_days_employed"
      ]
    },
    {
      "cell_type": "code",
      "execution_count": 89,
      "id": "3dceade0",
      "metadata": {
        "id": "3dceade0"
      },
      "outputs": [],
      "source": [
        "pivot_table_days_employed = df.pivot_table(index=['dob_years'],\n",
        "                                columns = 'gender',\n",
        "                                values = 'days_employed',\n",
        "                                aggfunc='median')"
      ]
    },
    {
      "cell_type": "markdown",
      "id": "4646f82a",
      "metadata": {
        "id": "4646f82a"
      },
      "source": [
        "Напишем функцию, которая будет возвращать медианное значение трудового стажа в соответствии с полом и возрастом, если обнаружит NaN. В противном случае вернет значение обратно."
      ]
    },
    {
      "cell_type": "code",
      "execution_count": 90,
      "id": "f21dda32",
      "metadata": {
        "id": "f21dda32"
      },
      "outputs": [],
      "source": [
        "def fillna_days_employed(df):\n",
        "    gender = df['gender']\n",
        "    age = df['dob_years']\n",
        "    if pd.isna(df['days_employed']):\n",
        "        return pivot_table_days_employed.loc[age,gender]\n",
        "    else:\n",
        "        return df['days_employed']"
      ]
    },
    {
      "cell_type": "code",
      "execution_count": 91,
      "id": "fd608916",
      "metadata": {
        "id": "fd608916"
      },
      "outputs": [],
      "source": [
        "df['days_employed'] = df.apply(fillna_days_employed, axis = 1)"
      ]
    },
    {
      "cell_type": "code",
      "execution_count": 92,
      "id": "3c6e96b6",
      "metadata": {
        "id": "3c6e96b6",
        "outputId": "8dfd4530-9016-4ff3-ff98-aab5831233eb",
        "colab": {
          "base_uri": "https://localhost:8080/",
          "height": 282
        }
      },
      "outputs": [
        {
          "output_type": "execute_result",
          "data": {
            "text/plain": [
              "<matplotlib.axes._subplots.AxesSubplot at 0x7f911f3d3ca0>"
            ]
          },
          "metadata": {},
          "execution_count": 92
        },
        {
          "output_type": "display_data",
          "data": {
            "text/plain": [
              "<Figure size 432x288 with 1 Axes>"
            ],
            "image/png": "[encoded data removed]"
          },
          "metadata": {
            "needs_background": "light"
          }
        }
      ],
      "source": [
        "df['days_employed'].hist()"
      ]
    },
    {
      "cell_type": "code",
      "execution_count": 93,
      "id": "b7b4daf2",
      "metadata": {
        "id": "b7b4daf2",
        "outputId": "d85856e4-e08a-4c8d-dad2-83eb83cf1a8d",
        "colab": {
          "base_uri": "https://localhost:8080/"
        }
      },
      "outputs": [
        {
          "output_type": "execute_result",
          "data": {
            "text/plain": [
              "children            0\n",
              "days_employed       0\n",
              "dob_years           0\n",
              "education           0\n",
              "education_id        0\n",
              "family_status       0\n",
              "family_status_id    0\n",
              "gender              0\n",
              "income_type         0\n",
              "debt                0\n",
              "total_income        0\n",
              "purpose             0\n",
              "dtype: int64"
            ]
          },
          "metadata": {},
          "execution_count": 93
        }
      ],
      "source": [
        "df.isna().sum()"
      ]
    },
    {
      "cell_type": "markdown",
      "id": "e787567e",
      "metadata": {
        "id": "e787567e"
      },
      "source": [
        "Пропуски в days_employed заполнены. "
      ]
    },
    {
      "cell_type": "markdown",
      "id": "fc1aa40b",
      "metadata": {
        "id": "fc1aa40b"
      },
      "source": [
        "Теперь исправим аномальные значения в children."
      ]
    },
    {
      "cell_type": "code",
      "execution_count": 94,
      "id": "50b8b081",
      "metadata": {
        "id": "50b8b081"
      },
      "outputs": [],
      "source": [
        "df['children'] = df['children'].replace(20, 2)\n",
        "df['children'] = df['children'].replace(-1, 1)"
      ]
    },
    {
      "cell_type": "code",
      "execution_count": 95,
      "id": "541d5cfb",
      "metadata": {
        "id": "541d5cfb",
        "outputId": "9c4b3d60-02fb-4144-cee7-89b53af1c895",
        "colab": {
          "base_uri": "https://localhost:8080/",
          "height": 282
        }
      },
      "outputs": [
        {
          "output_type": "execute_result",
          "data": {
            "text/plain": [
              "<matplotlib.axes._subplots.AxesSubplot at 0x7f911f0948b0>"
            ]
          },
          "metadata": {},
          "execution_count": 95
        },
        {
          "output_type": "display_data",
          "data": {
            "text/plain": [
              "<Figure size 432x288 with 1 Axes>"
            ],
            "image/png": "[encoded data removed]"
          },
          "metadata": {
            "needs_background": "light"
          }
        }
      ],
      "source": [
        "df['days_employed'].hist()"
      ]
    },
    {
      "cell_type": "code",
      "execution_count": 96,
      "id": "4b0fe9d4",
      "metadata": {
        "id": "4b0fe9d4",
        "outputId": "131eed69-d371-437c-90a3-8893cbb4ea34",
        "colab": {
          "base_uri": "https://localhost:8080/"
        }
      },
      "outputs": [
        {
          "output_type": "execute_result",
          "data": {
            "text/plain": [
              "array(['F', 'M', 'XNA'], dtype=object)"
            ]
          },
          "metadata": {},
          "execution_count": 96
        }
      ],
      "source": [
        "df['gender'].unique()"
      ]
    },
    {
      "cell_type": "markdown",
      "id": "111e889d",
      "metadata": {
        "id": "111e889d"
      },
      "source": [
        "В столбце gender есть значение XNA"
      ]
    },
    {
      "cell_type": "code",
      "execution_count": 97,
      "id": "45578377",
      "metadata": {
        "id": "45578377",
        "outputId": "4657b3b9-7e00-4799-fe7d-6dabf8b44d73",
        "colab": {
          "base_uri": "https://localhost:8080/"
        }
      },
      "outputs": [
        {
          "output_type": "execute_result",
          "data": {
            "text/plain": [
              "children            1\n",
              "days_employed       1\n",
              "dob_years           1\n",
              "education           1\n",
              "education_id        1\n",
              "family_status       1\n",
              "family_status_id    1\n",
              "gender              1\n",
              "income_type         1\n",
              "debt                1\n",
              "total_income        1\n",
              "purpose             1\n",
              "dtype: int64"
            ]
          },
          "metadata": {},
          "execution_count": 97
        }
      ],
      "source": [
        "df[df['gender'] == 'XNA'].count()"
      ]
    },
    {
      "cell_type": "code",
      "execution_count": 98,
      "id": "eee5bfbb",
      "metadata": {
        "scrolled": true,
        "id": "eee5bfbb",
        "outputId": "6b1d945d-8457-4fa8-8ccb-d25689d95d0d",
        "colab": {
          "base_uri": "https://localhost:8080/",
          "height": 81
        }
      },
      "outputs": [
        {
          "output_type": "execute_result",
          "data": {
            "text/plain": [
              "       children  days_employed  dob_years            education  education_id  \\\n",
              "10701         0    2358.600502         24  неоконченное высшее             2   \n",
              "\n",
              "          family_status  family_status_id gender income_type  debt  \\\n",
              "10701  гражданский брак                 1    XNA   компаньон     0   \n",
              "\n",
              "        total_income               purpose  \n",
              "10701  203905.157261  покупка недвижимости  "
            ],
            "text/html": [
              "\n",
              "  <div id=\"df-0e2c4b98-47d2-4752-96c7-97b8b7102140\">\n",
              "    <div class=\"colab-df-container\">\n",
              "      <div>\n",
              "<style scoped>\n",
              "    .dataframe tbody tr th:only-of-type {\n",
              "        vertical-align: middle;\n",
              "    }\n",
              "\n",
              "    .dataframe tbody tr th {\n",
              "        vertical-align: top;\n",
              "    }\n",
              "\n",
              "    .dataframe thead th {\n",
              "        text-align: right;\n",
              "    }\n",
              "</style>\n",
              "<table border=\"1\" class=\"dataframe\">\n",
              "  <thead>\n",
              "    <tr style=\"text-align: right;\">\n",
              "      <th></th>\n",
              "      <th>children</th>\n",
              "      <th>days_employed</th>\n",
              "      <th>dob_years</th>\n",
              "      <th>education</th>\n",
              "      <th>education_id</th>\n",
              "      <th>family_status</th>\n",
              "      <th>family_status_id</th>\n",
              "      <th>gender</th>\n",
              "      <th>income_type</th>\n",
              "      <th>debt</th>\n",
              "      <th>total_income</th>\n",
              "      <th>purpose</th>\n",
              "    </tr>\n",
              "  </thead>\n",
              "  <tbody>\n",
              "    <tr>\n",
              "      <th>10701</th>\n",
              "      <td>0</td>\n",
              "      <td>2358.600502</td>\n",
              "      <td>24</td>\n",
              "      <td>неоконченное высшее</td>\n",
              "      <td>2</td>\n",
              "      <td>гражданский брак</td>\n",
              "      <td>1</td>\n",
              "      <td>XNA</td>\n",
              "      <td>компаньон</td>\n",
              "      <td>0</td>\n",
              "      <td>203905.157261</td>\n",
              "      <td>покупка недвижимости</td>\n",
              "    </tr>\n",
              "  </tbody>\n",
              "</table>\n",
              "</div>\n",
              "      <button class=\"colab-df-convert\" onclick=\"convertToInteractive('df-0e2c4b98-47d2-4752-96c7-97b8b7102140')\"\n",
              "              title=\"Convert this dataframe to an interactive table.\"\n",
              "              style=\"display:none;\">\n",
              "        \n",
              "  <svg xmlns=\"http://www.w3.org/2000/svg\" height=\"24px\"viewBox=\"0 0 24 24\"\n",
              "       width=\"24px\">\n",
              "    <path d=\"M0 0h24v24H0V0z\" fill=\"none\"/>\n",
              "    <path d=\"M18.56 5.44l.94 2.06.94-2.06 2.06-.94-2.06-.94-.94-2.06-.94 2.06-2.06.94zm-11 1L8.5 8.5l.94-2.06 2.06-.94-2.06-.94L8.5 2.5l-.94 2.06-2.06.94zm10 10l.94 2.06.94-2.06 2.06-.94-2.06-.94-.94-2.06-.94 2.06-2.06.94z\"/><path d=\"M17.41 7.96l-1.37-1.37c-.4-.4-.92-.59-1.43-.59-.52 0-1.04.2-1.43.59L10.3 9.45l-7.72 7.72c-.78.78-.78 2.05 0 2.83L4 21.41c.39.39.9.59 1.41.59.51 0 1.02-.2 1.41-.59l7.78-7.78 2.81-2.81c.8-.78.8-2.07 0-2.86zM5.41 20L4 18.59l7.72-7.72 1.47 1.35L5.41 20z\"/>\n",
              "  </svg>\n",
              "      </button>\n",
              "      \n",
              "  <style>\n",
              "    .colab-df-container {\n",
              "      display:flex;\n",
              "      flex-wrap:wrap;\n",
              "      gap: 12px;\n",
              "    }\n",
              "\n",
              "    .colab-df-convert {\n",
              "      background-color: #E8F0FE;\n",
              "      border: none;\n",
              "      border-radius: 50%;\n",
              "      cursor: pointer;\n",
              "      display: none;\n",
              "      fill: #1967D2;\n",
              "      height: 32px;\n",
              "      padding: 0 0 0 0;\n",
              "      width: 32px;\n",
              "    }\n",
              "\n",
              "    .colab-df-convert:hover {\n",
              "      background-color: #E2EBFA;\n",
              "      box-shadow: 0px 1px 2px rgba(60, 64, 67, 0.3), 0px 1px 3px 1px rgba(60, 64, 67, 0.15);\n",
              "      fill: #174EA6;\n",
              "    }\n",
              "\n",
              "    [theme=dark] .colab-df-convert {\n",
              "      background-color: #3B4455;\n",
              "      fill: #D2E3FC;\n",
              "    }\n",
              "\n",
              "    [theme=dark] .colab-df-convert:hover {\n",
              "      background-color: #434B5C;\n",
              "      box-shadow: 0px 1px 3px 1px rgba(0, 0, 0, 0.15);\n",
              "      filter: drop-shadow(0px 1px 2px rgba(0, 0, 0, 0.3));\n",
              "      fill: #FFFFFF;\n",
              "    }\n",
              "  </style>\n",
              "\n",
              "      <script>\n",
              "        const buttonEl =\n",
              "          document.querySelector('#df-0e2c4b98-47d2-4752-96c7-97b8b7102140 button.colab-df-convert');\n",
              "        buttonEl.style.display =\n",
              "          google.colab.kernel.accessAllowed ? 'block' : 'none';\n",
              "\n",
              "        async function convertToInteractive(key) {\n",
              "          const element = document.querySelector('#df-0e2c4b98-47d2-4752-96c7-97b8b7102140');\n",
              "          const dataTable =\n",
              "            await google.colab.kernel.invokeFunction('convertToInteractive',\n",
              "                                                     [key], {});\n",
              "          if (!dataTable) return;\n",
              "\n",
              "          const docLinkHtml = 'Like what you see? Visit the ' +\n",
              "            '<a target=\"_blank\" href=https://colab.research.google.com/notebooks/data_table.ipynb>data table notebook</a>'\n",
              "            + ' to learn more about interactive tables.';\n",
              "          element.innerHTML = '';\n",
              "          dataTable['output_type'] = 'display_data';\n",
              "          await google.colab.output.renderOutput(dataTable, element);\n",
              "          const docLink = document.createElement('div');\n",
              "          docLink.innerHTML = docLinkHtml;\n",
              "          element.appendChild(docLink);\n",
              "        }\n",
              "      </script>\n",
              "    </div>\n",
              "  </div>\n",
              "  "
            ]
          },
          "metadata": {},
          "execution_count": 98
        }
      ],
      "source": [
        "df[df['gender'] == 'XNA']"
      ]
    },
    {
      "cell_type": "markdown",
      "id": "d35df532",
      "metadata": {
        "id": "d35df532"
      },
      "source": [
        "Всего одная строка, она не повлияет на анализ данных."
      ]
    },
    {
      "cell_type": "markdown",
      "id": "f9224d84",
      "metadata": {
        "id": "f9224d84"
      },
      "source": [
        "### Шаг 2.3. Изменение типов данных."
      ]
    },
    {
      "cell_type": "code",
      "execution_count": 99,
      "id": "8570b680",
      "metadata": {
        "id": "8570b680",
        "outputId": "303566e9-e438-4406-e0f7-96196e0fc8e7",
        "colab": {
          "base_uri": "https://localhost:8080/"
        }
      },
      "outputs": [
        {
          "output_type": "stream",
          "name": "stdout",
          "text": [
            "<class 'pandas.core.frame.DataFrame'>\n",
            "RangeIndex: 21525 entries, 0 to 21524\n",
            "Data columns (total 12 columns):\n",
            " #   Column            Non-Null Count  Dtype  \n",
            "---  ------            --------------  -----  \n",
            " 0   children          21525 non-null  int64  \n",
            " 1   days_employed     21525 non-null  float64\n",
            " 2   dob_years         21525 non-null  int64  \n",
            " 3   education         21525 non-null  object \n",
            " 4   education_id      21525 non-null  int64  \n",
            " 5   family_status     21525 non-null  object \n",
            " 6   family_status_id  21525 non-null  int64  \n",
            " 7   gender            21525 non-null  object \n",
            " 8   income_type       21525 non-null  object \n",
            " 9   debt              21525 non-null  int64  \n",
            " 10  total_income      21525 non-null  int64  \n",
            " 11  purpose           21525 non-null  object \n",
            "dtypes: float64(1), int64(6), object(5)\n",
            "memory usage: 2.0+ MB\n"
          ]
        }
      ],
      "source": [
        "df['total_income'] = df['total_income'].astype('int')\n",
        "df.info()"
      ]
    },
    {
      "cell_type": "markdown",
      "id": "3ee85e50",
      "metadata": {
        "id": "3ee85e50"
      },
      "source": [
        "### Шаг 2.4. Удаление дубликатов."
      ]
    },
    {
      "cell_type": "markdown",
      "id": "d02a694a",
      "metadata": {
        "id": "d02a694a"
      },
      "source": [
        "Проанализируем столбцы, в которых хранятся строковые значения."
      ]
    },
    {
      "cell_type": "code",
      "execution_count": 100,
      "id": "b0effa24",
      "metadata": {
        "id": "b0effa24",
        "outputId": "dacc127e-e142-4b7d-b57b-78867d5eafed",
        "colab": {
          "base_uri": "https://localhost:8080/"
        }
      },
      "outputs": [
        {
          "output_type": "execute_result",
          "data": {
            "text/plain": [
              "array(['высшее', 'среднее', 'Среднее', 'СРЕДНЕЕ', 'ВЫСШЕЕ',\n",
              "       'неоконченное высшее', 'начальное', 'Высшее',\n",
              "       'НЕОКОНЧЕННОЕ ВЫСШЕЕ', 'Неоконченное высшее', 'НАЧАЛЬНОЕ',\n",
              "       'Начальное', 'Ученая степень', 'УЧЕНАЯ СТЕПЕНЬ', 'ученая степень'],\n",
              "      dtype=object)"
            ]
          },
          "metadata": {},
          "execution_count": 100
        }
      ],
      "source": [
        "df['education'].unique()"
      ]
    },
    {
      "cell_type": "markdown",
      "id": "0891ee3f",
      "metadata": {
        "id": "0891ee3f"
      },
      "source": [
        "Приведем значения education к единому регистру."
      ]
    },
    {
      "cell_type": "code",
      "execution_count": 101,
      "id": "1e9bc60d",
      "metadata": {
        "id": "1e9bc60d",
        "outputId": "a15d86cf-24cf-4e5a-8c42-92349c1a5774",
        "colab": {
          "base_uri": "https://localhost:8080/"
        }
      },
      "outputs": [
        {
          "output_type": "execute_result",
          "data": {
            "text/plain": [
              "array(['высшее', 'среднее', 'неоконченное высшее', 'начальное',\n",
              "       'ученая степень'], dtype=object)"
            ]
          },
          "metadata": {},
          "execution_count": 101
        }
      ],
      "source": [
        "df['education'] = df['education'].str.lower()\n",
        "df['education'].unique()"
      ]
    },
    {
      "cell_type": "code",
      "execution_count": 102,
      "id": "79f457b0",
      "metadata": {
        "id": "79f457b0",
        "outputId": "56ea0aec-85ae-4429-af16-6f23c47c0a52",
        "colab": {
          "base_uri": "https://localhost:8080/"
        }
      },
      "outputs": [
        {
          "output_type": "execute_result",
          "data": {
            "text/plain": [
              "array(['женат / замужем', 'гражданский брак', 'вдовец / вдова',\n",
              "       'в разводе', 'Не женат / не замужем'], dtype=object)"
            ]
          },
          "metadata": {},
          "execution_count": 102
        }
      ],
      "source": [
        "df[\"family_status\"].unique()"
      ]
    },
    {
      "cell_type": "markdown",
      "id": "d7196bc2",
      "metadata": {
        "id": "d7196bc2"
      },
      "source": [
        " Приведем значения family_status к единому регистру."
      ]
    },
    {
      "cell_type": "code",
      "execution_count": 103,
      "id": "4ab5e834",
      "metadata": {
        "id": "4ab5e834",
        "outputId": "bccaa504-c5c9-4576-c18f-fa18816c1bc1",
        "colab": {
          "base_uri": "https://localhost:8080/"
        }
      },
      "outputs": [
        {
          "output_type": "execute_result",
          "data": {
            "text/plain": [
              "array(['женат / замужем', 'гражданский брак', 'вдовец / вдова',\n",
              "       'в разводе', 'не женат / не замужем'], dtype=object)"
            ]
          },
          "metadata": {},
          "execution_count": 103
        }
      ],
      "source": [
        "df['family_status'] = df['family_status'].str.lower()\n",
        "df['family_status'].unique()"
      ]
    },
    {
      "cell_type": "code",
      "execution_count": 104,
      "id": "d52d4800",
      "metadata": {
        "id": "d52d4800",
        "outputId": "57e541e4-7a11-4181-bf7f-1392896a8fa2",
        "colab": {
          "base_uri": "https://localhost:8080/"
        }
      },
      "outputs": [
        {
          "output_type": "execute_result",
          "data": {
            "text/plain": [
              "array(['сотрудник', 'пенсионер', 'компаньон', 'госслужащий',\n",
              "       'безработный', 'предприниматель', 'студент', 'в декрете'],\n",
              "      dtype=object)"
            ]
          },
          "metadata": {},
          "execution_count": 104
        }
      ],
      "source": [
        "df['income_type'].unique()"
      ]
    },
    {
      "cell_type": "markdown",
      "id": "733cd27a",
      "metadata": {
        "id": "733cd27a"
      },
      "source": [
        "С income_type все в порядке."
      ]
    },
    {
      "cell_type": "markdown",
      "id": "fbc41d3b",
      "metadata": {
        "id": "fbc41d3b"
      },
      "source": [
        "В dob_years есть значения равные 0, заполним их медианой в соответствии с типом занятости."
      ]
    },
    {
      "cell_type": "code",
      "execution_count": 105,
      "id": "8002a73c",
      "metadata": {
        "scrolled": false,
        "id": "8002a73c",
        "outputId": "4b10535d-c164-44fc-f261-db52529ff648",
        "colab": {
          "base_uri": "https://localhost:8080/"
        }
      },
      "outputs": [
        {
          "output_type": "execute_result",
          "data": {
            "text/plain": [
              "income_type\n",
              "безработный        38.0\n",
              "в декрете          39.0\n",
              "госслужащий        40.0\n",
              "компаньон          39.0\n",
              "пенсионер          60.0\n",
              "предприниматель    42.5\n",
              "сотрудник          39.0\n",
              "студент            22.0\n",
              "Name: dob_years, dtype: float64"
            ]
          },
          "metadata": {},
          "execution_count": 105
        }
      ],
      "source": [
        "income_type_groubpy = df.groupby('income_type')['dob_years'].median()\n",
        "income_type_groubpy"
      ]
    },
    {
      "cell_type": "code",
      "execution_count": 106,
      "id": "d10356f0",
      "metadata": {
        "id": "d10356f0"
      },
      "outputs": [],
      "source": [
        "df.loc[(df['income_type'] == 'безработный ') & (df['dob_years'] == 0), 'dob_years'] = 38\n",
        "df.loc[(df['income_type'] == 'в декрете') & (df['dob_years'] == 0), 'dob_years'] = 39\n",
        "df.loc[(df['income_type'] == 'госслужащий') & (df['dob_years'] == 0), 'dob_years'] = 40\n",
        "df.loc[(df['income_type'] == 'компаньон') & (df['dob_years'] == 0), 'dob_years'] = 39\n",
        "df.loc[(df['income_type'] == 'пенсионер') & (df['dob_years'] == 0), 'dob_years'] = 60\n",
        "df.loc[(df['income_type'] == 'предприниматель') & (df['dob_years'] == 0), 'dob_years'] = 42.5\n",
        "df.loc[(df['income_type'] == 'сотрудник') & (df['dob_years'] == 0), 'dob_years'] = 39\n",
        "df.loc[(df['income_type'] == 'студент') & (df['dob_years'] == 0), 'dob_years'] = 22"
      ]
    },
    {
      "cell_type": "markdown",
      "id": "4c5cfe70",
      "metadata": {
        "id": "4c5cfe70"
      },
      "source": [
        "Теперь найдем общее количество дубликатов."
      ]
    },
    {
      "cell_type": "code",
      "execution_count": 107,
      "id": "e49d242a",
      "metadata": {
        "id": "e49d242a",
        "outputId": "bbca69d2-1184-42d8-f340-5f2bebe6033f",
        "colab": {
          "base_uri": "https://localhost:8080/"
        }
      },
      "outputs": [
        {
          "output_type": "execute_result",
          "data": {
            "text/plain": [
              "71"
            ]
          },
          "metadata": {},
          "execution_count": 107
        }
      ],
      "source": [
        "df.duplicated().sum()"
      ]
    },
    {
      "cell_type": "markdown",
      "id": "5e12fa40",
      "metadata": {
        "id": "5e12fa40"
      },
      "source": [
        "Избавимся от них и восстановим индексы."
      ]
    },
    {
      "cell_type": "code",
      "execution_count": 108,
      "id": "9c0a33b4",
      "metadata": {
        "id": "9c0a33b4"
      },
      "outputs": [],
      "source": [
        "df  = df.drop_duplicates().reset_index(drop = True)"
      ]
    },
    {
      "cell_type": "code",
      "execution_count": 109,
      "id": "f1fc4dae",
      "metadata": {
        "id": "f1fc4dae",
        "outputId": "4ba692ac-f79b-4ab8-b41b-f25d843b5c4b",
        "colab": {
          "base_uri": "https://localhost:8080/"
        }
      },
      "outputs": [
        {
          "output_type": "execute_result",
          "data": {
            "text/plain": [
              "0"
            ]
          },
          "metadata": {},
          "execution_count": 109
        }
      ],
      "source": [
        "df.duplicated().sum()"
      ]
    },
    {
      "cell_type": "markdown",
      "id": "64ff289f",
      "metadata": {
        "id": "64ff289f"
      },
      "source": [
        "Дубликатов больше нет."
      ]
    },
    {
      "cell_type": "markdown",
      "id": "cb6a790d",
      "metadata": {
        "id": "cb6a790d"
      },
      "source": [
        "Выведем информацию о данных функцией describe после предобработки данных."
      ]
    },
    {
      "cell_type": "code",
      "execution_count": 110,
      "id": "2b372c86",
      "metadata": {
        "scrolled": true,
        "id": "2b372c86",
        "outputId": "68933655-491e-4d6f-abad-936df89957af",
        "colab": {
          "base_uri": "https://localhost:8080/",
          "height": 301
        }
      },
      "outputs": [
        {
          "output_type": "execute_result",
          "data": {
            "text/plain": [
              "           children  days_employed     dob_years  education_id  \\\n",
              "count  21454.000000   21454.000000  21454.000000  21454.000000   \n",
              "mean       0.480563   66529.276562     43.474690      0.817097   \n",
              "std        0.756069  138344.970356     12.226883      0.548674   \n",
              "min        0.000000      24.141633     19.000000      0.000000   \n",
              "25%        0.000000     995.382743     33.000000      1.000000   \n",
              "50%        0.000000    2165.619459     42.000000      1.000000   \n",
              "75%        1.000000    5369.619266     53.000000      1.000000   \n",
              "max        5.000000  401755.400475     75.000000      4.000000   \n",
              "\n",
              "       family_status_id          debt  total_income  \n",
              "count      21454.000000  21454.000000  2.145400e+04  \n",
              "mean           0.973898      0.081150  1.653196e+05  \n",
              "std            1.421567      0.273072  9.818730e+04  \n",
              "min            0.000000      0.000000  2.066700e+04  \n",
              "25%            0.000000      0.000000  1.076230e+05  \n",
              "50%            0.000000      0.000000  1.425940e+05  \n",
              "75%            1.000000      0.000000  1.958202e+05  \n",
              "max            4.000000      1.000000  2.265604e+06  "
            ],
            "text/html": [
              "\n",
              "  <div id=\"df-606d3966-7a53-46bd-93a1-f1ec5f2ab08a\">\n",
              "    <div class=\"colab-df-container\">\n",
              "      <div>\n",
              "<style scoped>\n",
              "    .dataframe tbody tr th:only-of-type {\n",
              "        vertical-align: middle;\n",
              "    }\n",
              "\n",
              "    .dataframe tbody tr th {\n",
              "        vertical-align: top;\n",
              "    }\n",
              "\n",
              "    .dataframe thead th {\n",
              "        text-align: right;\n",
              "    }\n",
              "</style>\n",
              "<table border=\"1\" class=\"dataframe\">\n",
              "  <thead>\n",
              "    <tr style=\"text-align: right;\">\n",
              "      <th></th>\n",
              "      <th>children</th>\n",
              "      <th>days_employed</th>\n",
              "      <th>dob_years</th>\n",
              "      <th>education_id</th>\n",
              "      <th>family_status_id</th>\n",
              "      <th>debt</th>\n",
              "      <th>total_income</th>\n",
              "    </tr>\n",
              "  </thead>\n",
              "  <tbody>\n",
              "    <tr>\n",
              "      <th>count</th>\n",
              "      <td>21454.000000</td>\n",
              "      <td>21454.000000</td>\n",
              "      <td>21454.000000</td>\n",
              "      <td>21454.000000</td>\n",
              "      <td>21454.000000</td>\n",
              "      <td>21454.000000</td>\n",
              "      <td>2.145400e+04</td>\n",
              "    </tr>\n",
              "    <tr>\n",
              "      <th>mean</th>\n",
              "      <td>0.480563</td>\n",
              "      <td>66529.276562</td>\n",
              "      <td>43.474690</td>\n",
              "      <td>0.817097</td>\n",
              "      <td>0.973898</td>\n",
              "      <td>0.081150</td>\n",
              "      <td>1.653196e+05</td>\n",
              "    </tr>\n",
              "    <tr>\n",
              "      <th>std</th>\n",
              "      <td>0.756069</td>\n",
              "      <td>138344.970356</td>\n",
              "      <td>12.226883</td>\n",
              "      <td>0.548674</td>\n",
              "      <td>1.421567</td>\n",
              "      <td>0.273072</td>\n",
              "      <td>9.818730e+04</td>\n",
              "    </tr>\n",
              "    <tr>\n",
              "      <th>min</th>\n",
              "      <td>0.000000</td>\n",
              "      <td>24.141633</td>\n",
              "      <td>19.000000</td>\n",
              "      <td>0.000000</td>\n",
              "      <td>0.000000</td>\n",
              "      <td>0.000000</td>\n",
              "      <td>2.066700e+04</td>\n",
              "    </tr>\n",
              "    <tr>\n",
              "      <th>25%</th>\n",
              "      <td>0.000000</td>\n",
              "      <td>995.382743</td>\n",
              "      <td>33.000000</td>\n",
              "      <td>1.000000</td>\n",
              "      <td>0.000000</td>\n",
              "      <td>0.000000</td>\n",
              "      <td>1.076230e+05</td>\n",
              "    </tr>\n",
              "    <tr>\n",
              "      <th>50%</th>\n",
              "      <td>0.000000</td>\n",
              "      <td>2165.619459</td>\n",
              "      <td>42.000000</td>\n",
              "      <td>1.000000</td>\n",
              "      <td>0.000000</td>\n",
              "      <td>0.000000</td>\n",
              "      <td>1.425940e+05</td>\n",
              "    </tr>\n",
              "    <tr>\n",
              "      <th>75%</th>\n",
              "      <td>1.000000</td>\n",
              "      <td>5369.619266</td>\n",
              "      <td>53.000000</td>\n",
              "      <td>1.000000</td>\n",
              "      <td>1.000000</td>\n",
              "      <td>0.000000</td>\n",
              "      <td>1.958202e+05</td>\n",
              "    </tr>\n",
              "    <tr>\n",
              "      <th>max</th>\n",
              "      <td>5.000000</td>\n",
              "      <td>401755.400475</td>\n",
              "      <td>75.000000</td>\n",
              "      <td>4.000000</td>\n",
              "      <td>4.000000</td>\n",
              "      <td>1.000000</td>\n",
              "      <td>2.265604e+06</td>\n",
              "    </tr>\n",
              "  </tbody>\n",
              "</table>\n",
              "</div>\n",
              "      <button class=\"colab-df-convert\" onclick=\"convertToInteractive('df-606d3966-7a53-46bd-93a1-f1ec5f2ab08a')\"\n",
              "              title=\"Convert this dataframe to an interactive table.\"\n",
              "              style=\"display:none;\">\n",
              "        \n",
              "  <svg xmlns=\"http://www.w3.org/2000/svg\" height=\"24px\"viewBox=\"0 0 24 24\"\n",
              "       width=\"24px\">\n",
              "    <path d=\"M0 0h24v24H0V0z\" fill=\"none\"/>\n",
              "    <path d=\"M18.56 5.44l.94 2.06.94-2.06 2.06-.94-2.06-.94-.94-2.06-.94 2.06-2.06.94zm-11 1L8.5 8.5l.94-2.06 2.06-.94-2.06-.94L8.5 2.5l-.94 2.06-2.06.94zm10 10l.94 2.06.94-2.06 2.06-.94-2.06-.94-.94-2.06-.94 2.06-2.06.94z\"/><path d=\"M17.41 7.96l-1.37-1.37c-.4-.4-.92-.59-1.43-.59-.52 0-1.04.2-1.43.59L10.3 9.45l-7.72 7.72c-.78.78-.78 2.05 0 2.83L4 21.41c.39.39.9.59 1.41.59.51 0 1.02-.2 1.41-.59l7.78-7.78 2.81-2.81c.8-.78.8-2.07 0-2.86zM5.41 20L4 18.59l7.72-7.72 1.47 1.35L5.41 20z\"/>\n",
              "  </svg>\n",
              "      </button>\n",
              "      \n",
              "  <style>\n",
              "    .colab-df-container {\n",
              "      display:flex;\n",
              "      flex-wrap:wrap;\n",
              "      gap: 12px;\n",
              "    }\n",
              "\n",
              "    .colab-df-convert {\n",
              "      background-color: #E8F0FE;\n",
              "      border: none;\n",
              "      border-radius: 50%;\n",
              "      cursor: pointer;\n",
              "      display: none;\n",
              "      fill: #1967D2;\n",
              "      height: 32px;\n",
              "      padding: 0 0 0 0;\n",
              "      width: 32px;\n",
              "    }\n",
              "\n",
              "    .colab-df-convert:hover {\n",
              "      background-color: #E2EBFA;\n",
              "      box-shadow: 0px 1px 2px rgba(60, 64, 67, 0.3), 0px 1px 3px 1px rgba(60, 64, 67, 0.15);\n",
              "      fill: #174EA6;\n",
              "    }\n",
              "\n",
              "    [theme=dark] .colab-df-convert {\n",
              "      background-color: #3B4455;\n",
              "      fill: #D2E3FC;\n",
              "    }\n",
              "\n",
              "    [theme=dark] .colab-df-convert:hover {\n",
              "      background-color: #434B5C;\n",
              "      box-shadow: 0px 1px 3px 1px rgba(0, 0, 0, 0.15);\n",
              "      filter: drop-shadow(0px 1px 2px rgba(0, 0, 0, 0.3));\n",
              "      fill: #FFFFFF;\n",
              "    }\n",
              "  </style>\n",
              "\n",
              "      <script>\n",
              "        const buttonEl =\n",
              "          document.querySelector('#df-606d3966-7a53-46bd-93a1-f1ec5f2ab08a button.colab-df-convert');\n",
              "        buttonEl.style.display =\n",
              "          google.colab.kernel.accessAllowed ? 'block' : 'none';\n",
              "\n",
              "        async function convertToInteractive(key) {\n",
              "          const element = document.querySelector('#df-606d3966-7a53-46bd-93a1-f1ec5f2ab08a');\n",
              "          const dataTable =\n",
              "            await google.colab.kernel.invokeFunction('convertToInteractive',\n",
              "                                                     [key], {});\n",
              "          if (!dataTable) return;\n",
              "\n",
              "          const docLinkHtml = 'Like what you see? Visit the ' +\n",
              "            '<a target=\"_blank\" href=https://colab.research.google.com/notebooks/data_table.ipynb>data table notebook</a>'\n",
              "            + ' to learn more about interactive tables.';\n",
              "          element.innerHTML = '';\n",
              "          dataTable['output_type'] = 'display_data';\n",
              "          await google.colab.output.renderOutput(dataTable, element);\n",
              "          const docLink = document.createElement('div');\n",
              "          docLink.innerHTML = docLinkHtml;\n",
              "          element.appendChild(docLink);\n",
              "        }\n",
              "      </script>\n",
              "    </div>\n",
              "  </div>\n",
              "  "
            ]
          },
          "metadata": {},
          "execution_count": 110
        }
      ],
      "source": [
        "df.describe()"
      ]
    },
    {
      "cell_type": "markdown",
      "id": "ff3d7b39",
      "metadata": {
        "id": "ff3d7b39"
      },
      "source": [
        "### Шаг 2.5. Формирование дополнительных датафреймов словарей, декомпозиция исходного датафрейма."
      ]
    },
    {
      "cell_type": "markdown",
      "id": "73eb32ce",
      "metadata": {
        "id": "73eb32ce"
      },
      "source": [
        "Сформирует дополнительные датафреймы."
      ]
    },
    {
      "cell_type": "code",
      "execution_count": 111,
      "id": "12c78fd0",
      "metadata": {
        "id": "12c78fd0",
        "outputId": "3526de87-0f77-4982-fb1d-b1e57e3cb5d7",
        "colab": {
          "base_uri": "https://localhost:8080/",
          "height": 424
        }
      },
      "outputs": [
        {
          "output_type": "execute_result",
          "data": {
            "text/plain": [
              "      education  education_id\n",
              "0        высшее             0\n",
              "1       среднее             1\n",
              "2       среднее             1\n",
              "3       среднее             1\n",
              "4       среднее             1\n",
              "...         ...           ...\n",
              "21449   среднее             1\n",
              "21450   среднее             1\n",
              "21451   среднее             1\n",
              "21452   среднее             1\n",
              "21453   среднее             1\n",
              "\n",
              "[21454 rows x 2 columns]"
            ],
            "text/html": [
              "\n",
              "  <div id=\"df-166289ec-740a-467c-a55a-5170206f8bf0\">\n",
              "    <div class=\"colab-df-container\">\n",
              "      <div>\n",
              "<style scoped>\n",
              "    .dataframe tbody tr th:only-of-type {\n",
              "        vertical-align: middle;\n",
              "    }\n",
              "\n",
              "    .dataframe tbody tr th {\n",
              "        vertical-align: top;\n",
              "    }\n",
              "\n",
              "    .dataframe thead th {\n",
              "        text-align: right;\n",
              "    }\n",
              "</style>\n",
              "<table border=\"1\" class=\"dataframe\">\n",
              "  <thead>\n",
              "    <tr style=\"text-align: right;\">\n",
              "      <th></th>\n",
              "      <th>education</th>\n",
              "      <th>education_id</th>\n",
              "    </tr>\n",
              "  </thead>\n",
              "  <tbody>\n",
              "    <tr>\n",
              "      <th>0</th>\n",
              "      <td>высшее</td>\n",
              "      <td>0</td>\n",
              "    </tr>\n",
              "    <tr>\n",
              "      <th>1</th>\n",
              "      <td>среднее</td>\n",
              "      <td>1</td>\n",
              "    </tr>\n",
              "    <tr>\n",
              "      <th>2</th>\n",
              "      <td>среднее</td>\n",
              "      <td>1</td>\n",
              "    </tr>\n",
              "    <tr>\n",
              "      <th>3</th>\n",
              "      <td>среднее</td>\n",
              "      <td>1</td>\n",
              "    </tr>\n",
              "    <tr>\n",
              "      <th>4</th>\n",
              "      <td>среднее</td>\n",
              "      <td>1</td>\n",
              "    </tr>\n",
              "    <tr>\n",
              "      <th>...</th>\n",
              "      <td>...</td>\n",
              "      <td>...</td>\n",
              "    </tr>\n",
              "    <tr>\n",
              "      <th>21449</th>\n",
              "      <td>среднее</td>\n",
              "      <td>1</td>\n",
              "    </tr>\n",
              "    <tr>\n",
              "      <th>21450</th>\n",
              "      <td>среднее</td>\n",
              "      <td>1</td>\n",
              "    </tr>\n",
              "    <tr>\n",
              "      <th>21451</th>\n",
              "      <td>среднее</td>\n",
              "      <td>1</td>\n",
              "    </tr>\n",
              "    <tr>\n",
              "      <th>21452</th>\n",
              "      <td>среднее</td>\n",
              "      <td>1</td>\n",
              "    </tr>\n",
              "    <tr>\n",
              "      <th>21453</th>\n",
              "      <td>среднее</td>\n",
              "      <td>1</td>\n",
              "    </tr>\n",
              "  </tbody>\n",
              "</table>\n",
              "<p>21454 rows × 2 columns</p>\n",
              "</div>\n",
              "      <button class=\"colab-df-convert\" onclick=\"convertToInteractive('df-166289ec-740a-467c-a55a-5170206f8bf0')\"\n",
              "              title=\"Convert this dataframe to an interactive table.\"\n",
              "              style=\"display:none;\">\n",
              "        \n",
              "  <svg xmlns=\"http://www.w3.org/2000/svg\" height=\"24px\"viewBox=\"0 0 24 24\"\n",
              "       width=\"24px\">\n",
              "    <path d=\"M0 0h24v24H0V0z\" fill=\"none\"/>\n",
              "    <path d=\"M18.56 5.44l.94 2.06.94-2.06 2.06-.94-2.06-.94-.94-2.06-.94 2.06-2.06.94zm-11 1L8.5 8.5l.94-2.06 2.06-.94-2.06-.94L8.5 2.5l-.94 2.06-2.06.94zm10 10l.94 2.06.94-2.06 2.06-.94-2.06-.94-.94-2.06-.94 2.06-2.06.94z\"/><path d=\"M17.41 7.96l-1.37-1.37c-.4-.4-.92-.59-1.43-.59-.52 0-1.04.2-1.43.59L10.3 9.45l-7.72 7.72c-.78.78-.78 2.05 0 2.83L4 21.41c.39.39.9.59 1.41.59.51 0 1.02-.2 1.41-.59l7.78-7.78 2.81-2.81c.8-.78.8-2.07 0-2.86zM5.41 20L4 18.59l7.72-7.72 1.47 1.35L5.41 20z\"/>\n",
              "  </svg>\n",
              "      </button>\n",
              "      \n",
              "  <style>\n",
              "    .colab-df-container {\n",
              "      display:flex;\n",
              "      flex-wrap:wrap;\n",
              "      gap: 12px;\n",
              "    }\n",
              "\n",
              "    .colab-df-convert {\n",
              "      background-color: #E8F0FE;\n",
              "      border: none;\n",
              "      border-radius: 50%;\n",
              "      cursor: pointer;\n",
              "      display: none;\n",
              "      fill: #1967D2;\n",
              "      height: 32px;\n",
              "      padding: 0 0 0 0;\n",
              "      width: 32px;\n",
              "    }\n",
              "\n",
              "    .colab-df-convert:hover {\n",
              "      background-color: #E2EBFA;\n",
              "      box-shadow: 0px 1px 2px rgba(60, 64, 67, 0.3), 0px 1px 3px 1px rgba(60, 64, 67, 0.15);\n",
              "      fill: #174EA6;\n",
              "    }\n",
              "\n",
              "    [theme=dark] .colab-df-convert {\n",
              "      background-color: #3B4455;\n",
              "      fill: #D2E3FC;\n",
              "    }\n",
              "\n",
              "    [theme=dark] .colab-df-convert:hover {\n",
              "      background-color: #434B5C;\n",
              "      box-shadow: 0px 1px 3px 1px rgba(0, 0, 0, 0.15);\n",
              "      filter: drop-shadow(0px 1px 2px rgba(0, 0, 0, 0.3));\n",
              "      fill: #FFFFFF;\n",
              "    }\n",
              "  </style>\n",
              "\n",
              "      <script>\n",
              "        const buttonEl =\n",
              "          document.querySelector('#df-166289ec-740a-467c-a55a-5170206f8bf0 button.colab-df-convert');\n",
              "        buttonEl.style.display =\n",
              "          google.colab.kernel.accessAllowed ? 'block' : 'none';\n",
              "\n",
              "        async function convertToInteractive(key) {\n",
              "          const element = document.querySelector('#df-166289ec-740a-467c-a55a-5170206f8bf0');\n",
              "          const dataTable =\n",
              "            await google.colab.kernel.invokeFunction('convertToInteractive',\n",
              "                                                     [key], {});\n",
              "          if (!dataTable) return;\n",
              "\n",
              "          const docLinkHtml = 'Like what you see? Visit the ' +\n",
              "            '<a target=\"_blank\" href=https://colab.research.google.com/notebooks/data_table.ipynb>data table notebook</a>'\n",
              "            + ' to learn more about interactive tables.';\n",
              "          element.innerHTML = '';\n",
              "          dataTable['output_type'] = 'display_data';\n",
              "          await google.colab.output.renderOutput(dataTable, element);\n",
              "          const docLink = document.createElement('div');\n",
              "          docLink.innerHTML = docLinkHtml;\n",
              "          element.appendChild(docLink);\n",
              "        }\n",
              "      </script>\n",
              "    </div>\n",
              "  </div>\n",
              "  "
            ]
          },
          "metadata": {},
          "execution_count": 111
        }
      ],
      "source": [
        "df_1 = pd.DataFrame(data=df, columns=['education','education_id']) \n",
        "df_1"
      ]
    },
    {
      "cell_type": "code",
      "execution_count": 112,
      "id": "51a49435",
      "metadata": {
        "scrolled": true,
        "id": "51a49435",
        "colab": {
          "base_uri": "https://localhost:8080/",
          "height": 424
        },
        "outputId": "017a0599-8161-411d-dcb6-6da4f39fccf3"
      },
      "outputs": [
        {
          "output_type": "execute_result",
          "data": {
            "text/plain": [
              "          family_status  family_status_id\n",
              "0       женат / замужем                 0\n",
              "1       женат / замужем                 0\n",
              "2       женат / замужем                 0\n",
              "3       женат / замужем                 0\n",
              "4      гражданский брак                 1\n",
              "...                 ...               ...\n",
              "21449  гражданский брак                 1\n",
              "21450   женат / замужем                 0\n",
              "21451  гражданский брак                 1\n",
              "21452   женат / замужем                 0\n",
              "21453   женат / замужем                 0\n",
              "\n",
              "[21454 rows x 2 columns]"
            ],
            "text/html": [
              "\n",
              "  <div id=\"df-9840035e-0c19-41b0-a785-d93f931748e4\">\n",
              "    <div class=\"colab-df-container\">\n",
              "      <div>\n",
              "<style scoped>\n",
              "    .dataframe tbody tr th:only-of-type {\n",
              "        vertical-align: middle;\n",
              "    }\n",
              "\n",
              "    .dataframe tbody tr th {\n",
              "        vertical-align: top;\n",
              "    }\n",
              "\n",
              "    .dataframe thead th {\n",
              "        text-align: right;\n",
              "    }\n",
              "</style>\n",
              "<table border=\"1\" class=\"dataframe\">\n",
              "  <thead>\n",
              "    <tr style=\"text-align: right;\">\n",
              "      <th></th>\n",
              "      <th>family_status</th>\n",
              "      <th>family_status_id</th>\n",
              "    </tr>\n",
              "  </thead>\n",
              "  <tbody>\n",
              "    <tr>\n",
              "      <th>0</th>\n",
              "      <td>женат / замужем</td>\n",
              "      <td>0</td>\n",
              "    </tr>\n",
              "    <tr>\n",
              "      <th>1</th>\n",
              "      <td>женат / замужем</td>\n",
              "      <td>0</td>\n",
              "    </tr>\n",
              "    <tr>\n",
              "      <th>2</th>\n",
              "      <td>женат / замужем</td>\n",
              "      <td>0</td>\n",
              "    </tr>\n",
              "    <tr>\n",
              "      <th>3</th>\n",
              "      <td>женат / замужем</td>\n",
              "      <td>0</td>\n",
              "    </tr>\n",
              "    <tr>\n",
              "      <th>4</th>\n",
              "      <td>гражданский брак</td>\n",
              "      <td>1</td>\n",
              "    </tr>\n",
              "    <tr>\n",
              "      <th>...</th>\n",
              "      <td>...</td>\n",
              "      <td>...</td>\n",
              "    </tr>\n",
              "    <tr>\n",
              "      <th>21449</th>\n",
              "      <td>гражданский брак</td>\n",
              "      <td>1</td>\n",
              "    </tr>\n",
              "    <tr>\n",
              "      <th>21450</th>\n",
              "      <td>женат / замужем</td>\n",
              "      <td>0</td>\n",
              "    </tr>\n",
              "    <tr>\n",
              "      <th>21451</th>\n",
              "      <td>гражданский брак</td>\n",
              "      <td>1</td>\n",
              "    </tr>\n",
              "    <tr>\n",
              "      <th>21452</th>\n",
              "      <td>женат / замужем</td>\n",
              "      <td>0</td>\n",
              "    </tr>\n",
              "    <tr>\n",
              "      <th>21453</th>\n",
              "      <td>женат / замужем</td>\n",
              "      <td>0</td>\n",
              "    </tr>\n",
              "  </tbody>\n",
              "</table>\n",
              "<p>21454 rows × 2 columns</p>\n",
              "</div>\n",
              "      <button class=\"colab-df-convert\" onclick=\"convertToInteractive('df-9840035e-0c19-41b0-a785-d93f931748e4')\"\n",
              "              title=\"Convert this dataframe to an interactive table.\"\n",
              "              style=\"display:none;\">\n",
              "        \n",
              "  <svg xmlns=\"http://www.w3.org/2000/svg\" height=\"24px\"viewBox=\"0 0 24 24\"\n",
              "       width=\"24px\">\n",
              "    <path d=\"M0 0h24v24H0V0z\" fill=\"none\"/>\n",
              "    <path d=\"M18.56 5.44l.94 2.06.94-2.06 2.06-.94-2.06-.94-.94-2.06-.94 2.06-2.06.94zm-11 1L8.5 8.5l.94-2.06 2.06-.94-2.06-.94L8.5 2.5l-.94 2.06-2.06.94zm10 10l.94 2.06.94-2.06 2.06-.94-2.06-.94-.94-2.06-.94 2.06-2.06.94z\"/><path d=\"M17.41 7.96l-1.37-1.37c-.4-.4-.92-.59-1.43-.59-.52 0-1.04.2-1.43.59L10.3 9.45l-7.72 7.72c-.78.78-.78 2.05 0 2.83L4 21.41c.39.39.9.59 1.41.59.51 0 1.02-.2 1.41-.59l7.78-7.78 2.81-2.81c.8-.78.8-2.07 0-2.86zM5.41 20L4 18.59l7.72-7.72 1.47 1.35L5.41 20z\"/>\n",
              "  </svg>\n",
              "      </button>\n",
              "      \n",
              "  <style>\n",
              "    .colab-df-container {\n",
              "      display:flex;\n",
              "      flex-wrap:wrap;\n",
              "      gap: 12px;\n",
              "    }\n",
              "\n",
              "    .colab-df-convert {\n",
              "      background-color: #E8F0FE;\n",
              "      border: none;\n",
              "      border-radius: 50%;\n",
              "      cursor: pointer;\n",
              "      display: none;\n",
              "      fill: #1967D2;\n",
              "      height: 32px;\n",
              "      padding: 0 0 0 0;\n",
              "      width: 32px;\n",
              "    }\n",
              "\n",
              "    .colab-df-convert:hover {\n",
              "      background-color: #E2EBFA;\n",
              "      box-shadow: 0px 1px 2px rgba(60, 64, 67, 0.3), 0px 1px 3px 1px rgba(60, 64, 67, 0.15);\n",
              "      fill: #174EA6;\n",
              "    }\n",
              "\n",
              "    [theme=dark] .colab-df-convert {\n",
              "      background-color: #3B4455;\n",
              "      fill: #D2E3FC;\n",
              "    }\n",
              "\n",
              "    [theme=dark] .colab-df-convert:hover {\n",
              "      background-color: #434B5C;\n",
              "      box-shadow: 0px 1px 3px 1px rgba(0, 0, 0, 0.15);\n",
              "      filter: drop-shadow(0px 1px 2px rgba(0, 0, 0, 0.3));\n",
              "      fill: #FFFFFF;\n",
              "    }\n",
              "  </style>\n",
              "\n",
              "      <script>\n",
              "        const buttonEl =\n",
              "          document.querySelector('#df-9840035e-0c19-41b0-a785-d93f931748e4 button.colab-df-convert');\n",
              "        buttonEl.style.display =\n",
              "          google.colab.kernel.accessAllowed ? 'block' : 'none';\n",
              "\n",
              "        async function convertToInteractive(key) {\n",
              "          const element = document.querySelector('#df-9840035e-0c19-41b0-a785-d93f931748e4');\n",
              "          const dataTable =\n",
              "            await google.colab.kernel.invokeFunction('convertToInteractive',\n",
              "                                                     [key], {});\n",
              "          if (!dataTable) return;\n",
              "\n",
              "          const docLinkHtml = 'Like what you see? Visit the ' +\n",
              "            '<a target=\"_blank\" href=https://colab.research.google.com/notebooks/data_table.ipynb>data table notebook</a>'\n",
              "            + ' to learn more about interactive tables.';\n",
              "          element.innerHTML = '';\n",
              "          dataTable['output_type'] = 'display_data';\n",
              "          await google.colab.output.renderOutput(dataTable, element);\n",
              "          const docLink = document.createElement('div');\n",
              "          docLink.innerHTML = docLinkHtml;\n",
              "          element.appendChild(docLink);\n",
              "        }\n",
              "      </script>\n",
              "    </div>\n",
              "  </div>\n",
              "  "
            ]
          },
          "metadata": {},
          "execution_count": 112
        }
      ],
      "source": [
        "df_2 = pd.DataFrame(data=df, columns=['family_status','family_status_id']) \n",
        "df_2"
      ]
    },
    {
      "cell_type": "markdown",
      "id": "e675be40",
      "metadata": {
        "id": "e675be40"
      },
      "source": [
        "Удалим education и family_status."
      ]
    },
    {
      "cell_type": "code",
      "execution_count": 113,
      "id": "54ba5663",
      "metadata": {
        "id": "54ba5663",
        "colab": {
          "base_uri": "https://localhost:8080/",
          "height": 424
        },
        "outputId": "5bf8d0a8-7946-4bad-ed96-8ed17fb4b73a"
      },
      "outputs": [
        {
          "output_type": "execute_result",
          "data": {
            "text/plain": [
              "       children  days_employed  dob_years  education_id  family_status_id  \\\n",
              "0             1    8437.673028       42.0             0                 0   \n",
              "1             1    4024.803754       36.0             1                 0   \n",
              "2             0    5623.422610       33.0             1                 0   \n",
              "3             3    4124.747207       32.0             1                 0   \n",
              "4             0  340266.072047       53.0             1                 1   \n",
              "...         ...            ...        ...           ...               ...   \n",
              "21449         1    4529.316663       43.0             1                 1   \n",
              "21450         0  343937.404131       67.0             1                 0   \n",
              "21451         1    2113.346888       38.0             1                 1   \n",
              "21452         3    3112.481705       38.0             1                 0   \n",
              "21453         2    1984.507589       40.0             1                 0   \n",
              "\n",
              "      gender income_type  debt  total_income                       purpose  \n",
              "0          F   сотрудник     0        253875                 покупка жилья  \n",
              "1          F   сотрудник     0        112080       приобретение автомобиля  \n",
              "2          M   сотрудник     0        145885                 покупка жилья  \n",
              "3          M   сотрудник     0        267628    дополнительное образование  \n",
              "4          F   пенсионер     0        158616               сыграть свадьбу  \n",
              "...      ...         ...   ...           ...                           ...  \n",
              "21449      F   компаньон     0        224791             операции с жильем  \n",
              "21450      F   пенсионер     0        155999          сделка с автомобилем  \n",
              "21451      M   сотрудник     1         89672                  недвижимость  \n",
              "21452      M   сотрудник     1        244093  на покупку своего автомобиля  \n",
              "21453      F   сотрудник     0         82047         на покупку автомобиля  \n",
              "\n",
              "[21454 rows x 10 columns]"
            ],
            "text/html": [
              "\n",
              "  <div id=\"df-4663f950-8f0b-482a-907c-69997bf86b09\">\n",
              "    <div class=\"colab-df-container\">\n",
              "      <div>\n",
              "<style scoped>\n",
              "    .dataframe tbody tr th:only-of-type {\n",
              "        vertical-align: middle;\n",
              "    }\n",
              "\n",
              "    .dataframe tbody tr th {\n",
              "        vertical-align: top;\n",
              "    }\n",
              "\n",
              "    .dataframe thead th {\n",
              "        text-align: right;\n",
              "    }\n",
              "</style>\n",
              "<table border=\"1\" class=\"dataframe\">\n",
              "  <thead>\n",
              "    <tr style=\"text-align: right;\">\n",
              "      <th></th>\n",
              "      <th>children</th>\n",
              "      <th>days_employed</th>\n",
              "      <th>dob_years</th>\n",
              "      <th>education_id</th>\n",
              "      <th>family_status_id</th>\n",
              "      <th>gender</th>\n",
              "      <th>income_type</th>\n",
              "      <th>debt</th>\n",
              "      <th>total_income</th>\n",
              "      <th>purpose</th>\n",
              "    </tr>\n",
              "  </thead>\n",
              "  <tbody>\n",
              "    <tr>\n",
              "      <th>0</th>\n",
              "      <td>1</td>\n",
              "      <td>8437.673028</td>\n",
              "      <td>42.0</td>\n",
              "      <td>0</td>\n",
              "      <td>0</td>\n",
              "      <td>F</td>\n",
              "      <td>сотрудник</td>\n",
              "      <td>0</td>\n",
              "      <td>253875</td>\n",
              "      <td>покупка жилья</td>\n",
              "    </tr>\n",
              "    <tr>\n",
              "      <th>1</th>\n",
              "      <td>1</td>\n",
              "      <td>4024.803754</td>\n",
              "      <td>36.0</td>\n",
              "      <td>1</td>\n",
              "      <td>0</td>\n",
              "      <td>F</td>\n",
              "      <td>сотрудник</td>\n",
              "      <td>0</td>\n",
              "      <td>112080</td>\n",
              "      <td>приобретение автомобиля</td>\n",
              "    </tr>\n",
              "    <tr>\n",
              "      <th>2</th>\n",
              "      <td>0</td>\n",
              "      <td>5623.422610</td>\n",
              "      <td>33.0</td>\n",
              "      <td>1</td>\n",
              "      <td>0</td>\n",
              "      <td>M</td>\n",
              "      <td>сотрудник</td>\n",
              "      <td>0</td>\n",
              "      <td>145885</td>\n",
              "      <td>покупка жилья</td>\n",
              "    </tr>\n",
              "    <tr>\n",
              "      <th>3</th>\n",
              "      <td>3</td>\n",
              "      <td>4124.747207</td>\n",
              "      <td>32.0</td>\n",
              "      <td>1</td>\n",
              "      <td>0</td>\n",
              "      <td>M</td>\n",
              "      <td>сотрудник</td>\n",
              "      <td>0</td>\n",
              "      <td>267628</td>\n",
              "      <td>дополнительное образование</td>\n",
              "    </tr>\n",
              "    <tr>\n",
              "      <th>4</th>\n",
              "      <td>0</td>\n",
              "      <td>340266.072047</td>\n",
              "      <td>53.0</td>\n",
              "      <td>1</td>\n",
              "      <td>1</td>\n",
              "      <td>F</td>\n",
              "      <td>пенсионер</td>\n",
              "      <td>0</td>\n",
              "      <td>158616</td>\n",
              "      <td>сыграть свадьбу</td>\n",
              "    </tr>\n",
              "    <tr>\n",
              "      <th>...</th>\n",
              "      <td>...</td>\n",
              "      <td>...</td>\n",
              "      <td>...</td>\n",
              "      <td>...</td>\n",
              "      <td>...</td>\n",
              "      <td>...</td>\n",
              "      <td>...</td>\n",
              "      <td>...</td>\n",
              "      <td>...</td>\n",
              "      <td>...</td>\n",
              "    </tr>\n",
              "    <tr>\n",
              "      <th>21449</th>\n",
              "      <td>1</td>\n",
              "      <td>4529.316663</td>\n",
              "      <td>43.0</td>\n",
              "      <td>1</td>\n",
              "      <td>1</td>\n",
              "      <td>F</td>\n",
              "      <td>компаньон</td>\n",
              "      <td>0</td>\n",
              "      <td>224791</td>\n",
              "      <td>операции с жильем</td>\n",
              "    </tr>\n",
              "    <tr>\n",
              "      <th>21450</th>\n",
              "      <td>0</td>\n",
              "      <td>343937.404131</td>\n",
              "      <td>67.0</td>\n",
              "      <td>1</td>\n",
              "      <td>0</td>\n",
              "      <td>F</td>\n",
              "      <td>пенсионер</td>\n",
              "      <td>0</td>\n",
              "      <td>155999</td>\n",
              "      <td>сделка с автомобилем</td>\n",
              "    </tr>\n",
              "    <tr>\n",
              "      <th>21451</th>\n",
              "      <td>1</td>\n",
              "      <td>2113.346888</td>\n",
              "      <td>38.0</td>\n",
              "      <td>1</td>\n",
              "      <td>1</td>\n",
              "      <td>M</td>\n",
              "      <td>сотрудник</td>\n",
              "      <td>1</td>\n",
              "      <td>89672</td>\n",
              "      <td>недвижимость</td>\n",
              "    </tr>\n",
              "    <tr>\n",
              "      <th>21452</th>\n",
              "      <td>3</td>\n",
              "      <td>3112.481705</td>\n",
              "      <td>38.0</td>\n",
              "      <td>1</td>\n",
              "      <td>0</td>\n",
              "      <td>M</td>\n",
              "      <td>сотрудник</td>\n",
              "      <td>1</td>\n",
              "      <td>244093</td>\n",
              "      <td>на покупку своего автомобиля</td>\n",
              "    </tr>\n",
              "    <tr>\n",
              "      <th>21453</th>\n",
              "      <td>2</td>\n",
              "      <td>1984.507589</td>\n",
              "      <td>40.0</td>\n",
              "      <td>1</td>\n",
              "      <td>0</td>\n",
              "      <td>F</td>\n",
              "      <td>сотрудник</td>\n",
              "      <td>0</td>\n",
              "      <td>82047</td>\n",
              "      <td>на покупку автомобиля</td>\n",
              "    </tr>\n",
              "  </tbody>\n",
              "</table>\n",
              "<p>21454 rows × 10 columns</p>\n",
              "</div>\n",
              "      <button class=\"colab-df-convert\" onclick=\"convertToInteractive('df-4663f950-8f0b-482a-907c-69997bf86b09')\"\n",
              "              title=\"Convert this dataframe to an interactive table.\"\n",
              "              style=\"display:none;\">\n",
              "        \n",
              "  <svg xmlns=\"http://www.w3.org/2000/svg\" height=\"24px\"viewBox=\"0 0 24 24\"\n",
              "       width=\"24px\">\n",
              "    <path d=\"M0 0h24v24H0V0z\" fill=\"none\"/>\n",
              "    <path d=\"M18.56 5.44l.94 2.06.94-2.06 2.06-.94-2.06-.94-.94-2.06-.94 2.06-2.06.94zm-11 1L8.5 8.5l.94-2.06 2.06-.94-2.06-.94L8.5 2.5l-.94 2.06-2.06.94zm10 10l.94 2.06.94-2.06 2.06-.94-2.06-.94-.94-2.06-.94 2.06-2.06.94z\"/><path d=\"M17.41 7.96l-1.37-1.37c-.4-.4-.92-.59-1.43-.59-.52 0-1.04.2-1.43.59L10.3 9.45l-7.72 7.72c-.78.78-.78 2.05 0 2.83L4 21.41c.39.39.9.59 1.41.59.51 0 1.02-.2 1.41-.59l7.78-7.78 2.81-2.81c.8-.78.8-2.07 0-2.86zM5.41 20L4 18.59l7.72-7.72 1.47 1.35L5.41 20z\"/>\n",
              "  </svg>\n",
              "      </button>\n",
              "      \n",
              "  <style>\n",
              "    .colab-df-container {\n",
              "      display:flex;\n",
              "      flex-wrap:wrap;\n",
              "      gap: 12px;\n",
              "    }\n",
              "\n",
              "    .colab-df-convert {\n",
              "      background-color: #E8F0FE;\n",
              "      border: none;\n",
              "      border-radius: 50%;\n",
              "      cursor: pointer;\n",
              "      display: none;\n",
              "      fill: #1967D2;\n",
              "      height: 32px;\n",
              "      padding: 0 0 0 0;\n",
              "      width: 32px;\n",
              "    }\n",
              "\n",
              "    .colab-df-convert:hover {\n",
              "      background-color: #E2EBFA;\n",
              "      box-shadow: 0px 1px 2px rgba(60, 64, 67, 0.3), 0px 1px 3px 1px rgba(60, 64, 67, 0.15);\n",
              "      fill: #174EA6;\n",
              "    }\n",
              "\n",
              "    [theme=dark] .colab-df-convert {\n",
              "      background-color: #3B4455;\n",
              "      fill: #D2E3FC;\n",
              "    }\n",
              "\n",
              "    [theme=dark] .colab-df-convert:hover {\n",
              "      background-color: #434B5C;\n",
              "      box-shadow: 0px 1px 3px 1px rgba(0, 0, 0, 0.15);\n",
              "      filter: drop-shadow(0px 1px 2px rgba(0, 0, 0, 0.3));\n",
              "      fill: #FFFFFF;\n",
              "    }\n",
              "  </style>\n",
              "\n",
              "      <script>\n",
              "        const buttonEl =\n",
              "          document.querySelector('#df-4663f950-8f0b-482a-907c-69997bf86b09 button.colab-df-convert');\n",
              "        buttonEl.style.display =\n",
              "          google.colab.kernel.accessAllowed ? 'block' : 'none';\n",
              "\n",
              "        async function convertToInteractive(key) {\n",
              "          const element = document.querySelector('#df-4663f950-8f0b-482a-907c-69997bf86b09');\n",
              "          const dataTable =\n",
              "            await google.colab.kernel.invokeFunction('convertToInteractive',\n",
              "                                                     [key], {});\n",
              "          if (!dataTable) return;\n",
              "\n",
              "          const docLinkHtml = 'Like what you see? Visit the ' +\n",
              "            '<a target=\"_blank\" href=https://colab.research.google.com/notebooks/data_table.ipynb>data table notebook</a>'\n",
              "            + ' to learn more about interactive tables.';\n",
              "          element.innerHTML = '';\n",
              "          dataTable['output_type'] = 'display_data';\n",
              "          await google.colab.output.renderOutput(dataTable, element);\n",
              "          const docLink = document.createElement('div');\n",
              "          docLink.innerHTML = docLinkHtml;\n",
              "          element.appendChild(docLink);\n",
              "        }\n",
              "      </script>\n",
              "    </div>\n",
              "  </div>\n",
              "  "
            ]
          },
          "metadata": {},
          "execution_count": 113
        }
      ],
      "source": [
        "df = df.drop(columns='education')\n",
        "df = df.drop(columns='family_status')\n",
        "\n",
        "df"
      ]
    },
    {
      "cell_type": "markdown",
      "id": "1c19673d",
      "metadata": {
        "id": "1c19673d"
      },
      "source": [
        "### Шаг 2.6. Категоризация дохода."
      ]
    },
    {
      "cell_type": "markdown",
      "id": "8b4e3b1e",
      "metadata": {
        "id": "8b4e3b1e"
      },
      "source": [
        "На основании диапазонов, создим столбец total_income_category с категориями:"
      ]
    },
    {
      "cell_type": "code",
      "execution_count": 114,
      "id": "393ba74f",
      "metadata": {
        "id": "393ba74f",
        "outputId": "c214cbab-50b9-441c-f661-fc8d5b5fda9a",
        "colab": {
          "base_uri": "https://localhost:8080/"
        }
      },
      "outputs": [
        {
          "output_type": "execute_result",
          "data": {
            "text/plain": [
              "array(['E', 'A'], dtype=object)"
            ]
          },
          "metadata": {},
          "execution_count": 114
        }
      ],
      "source": [
        "def total_income_category(row):\n",
        "    income = row['total_income']\n",
        "    if income >= 30000:\n",
        "        return 'E'\n",
        "    elif income >= 30001 and income <= 50000:\n",
        "        return 'D'\n",
        "    elif income >= 200001 and income <= 1000000:\n",
        "        return 'B'\n",
        "    else: \n",
        "        return 'A'\n",
        "\n",
        "df ['total_income_category'] =  df.apply(total_income_category, axis=1)\n",
        "df['total_income_category'].unique()\n"
      ]
    },
    {
      "cell_type": "markdown",
      "id": "d7c60ca8",
      "metadata": {
        "id": "d7c60ca8"
      },
      "source": [
        "### Шаг 2.7. Категоризация целей кредита."
      ]
    },
    {
      "cell_type": "markdown",
      "id": "45681da6",
      "metadata": {
        "id": "45681da6"
      },
      "source": [
        "Создадим функцию, которая на основании данных из столбца purpose сформирует новый столбец purpose_category, в который войдут следующие категории:'операции с автомобилем','операции с недвижимостью','проведение свадьбы','получение образования'."
      ]
    },
    {
      "cell_type": "code",
      "execution_count": 115,
      "id": "7f886304",
      "metadata": {
        "id": "7f886304",
        "outputId": "945bd268-6472-4cb2-c8d7-a320365baf31",
        "colab": {
          "base_uri": "https://localhost:8080/"
        }
      },
      "outputs": [
        {
          "output_type": "execute_result",
          "data": {
            "text/plain": [
              "array(['операции с недвижимостью', 'операции с автомобилем',\n",
              "       'получение образования', 'проведение свадьбы'], dtype=object)"
            ]
          },
          "metadata": {},
          "execution_count": 115
        }
      ],
      "source": [
        "def purpose_category(list):\n",
        "    if 'автомобил' in list:\n",
        "        return 'операции с автомобилем'\n",
        "    if \"жиль\" in list:\n",
        "        return \"операции с недвижимостью\"\n",
        "    if 'недвиж' in list:\n",
        "        return \"операции с недвижимостью\"\n",
        "    if \"свадьб\" in list:\n",
        "        return 'проведение свадьбы'\n",
        "    if \"образ\" in list:\n",
        "        return \"получение образования\"\n",
        "\n",
        "df['purpose_category'] = df['purpose'].apply(purpose_category)\n",
        "df['purpose_category'].unique()"
      ]
    },
    {
      "cell_type": "markdown",
      "id": "fd074aa9",
      "metadata": {
        "id": "fd074aa9"
      },
      "source": [
        "Теперь категории всего 4."
      ]
    },
    {
      "cell_type": "markdown",
      "id": "ee119c26",
      "metadata": {
        "id": "ee119c26"
      },
      "source": [
        "### Ответы на вопросы."
      ]
    },
    {
      "cell_type": "markdown",
      "id": "94bf64dd",
      "metadata": {
        "id": "94bf64dd"
      },
      "source": [
        "##### Вопрос 1: Есть ли зависимость между количеством детей и возвратом кредита в срок?"
      ]
    },
    {
      "cell_type": "markdown",
      "id": "86b80874",
      "metadata": {
        "id": "86b80874"
      },
      "source": [
        "Посмотрим как количество детей влияет на возврат кредита. Для этого создадим датафрейм и добавим в него необходимые столбцы, для расчета конверсии возвратов кредита."
      ]
    },
    {
      "cell_type": "code",
      "execution_count": 116,
      "id": "bf854a7b",
      "metadata": {
        "id": "bf854a7b",
        "outputId": "0b64d042-5443-4243-a9b7-c65ecf0c9cb2",
        "colab": {
          "base_uri": "https://localhost:8080/",
          "height": 269
        }
      },
      "outputs": [
        {
          "output_type": "execute_result",
          "data": {
            "text/plain": [
              "          count_children  children_sum  convers_children\n",
              "children                                                \n",
              "4                     41             4          0.097561\n",
              "2                   2128           202          0.094925\n",
              "1                   4855           445          0.091658\n",
              "3                    330            27          0.081818\n",
              "0                  14091          1063          0.075438\n",
              "5                      9             0          0.000000"
            ],
            "text/html": [
              "\n",
              "  <div id=\"df-29157786-48be-47be-848f-14e46a9c4a73\">\n",
              "    <div class=\"colab-df-container\">\n",
              "      <div>\n",
              "<style scoped>\n",
              "    .dataframe tbody tr th:only-of-type {\n",
              "        vertical-align: middle;\n",
              "    }\n",
              "\n",
              "    .dataframe tbody tr th {\n",
              "        vertical-align: top;\n",
              "    }\n",
              "\n",
              "    .dataframe thead th {\n",
              "        text-align: right;\n",
              "    }\n",
              "</style>\n",
              "<table border=\"1\" class=\"dataframe\">\n",
              "  <thead>\n",
              "    <tr style=\"text-align: right;\">\n",
              "      <th></th>\n",
              "      <th>count_children</th>\n",
              "      <th>children_sum</th>\n",
              "      <th>convers_children</th>\n",
              "    </tr>\n",
              "    <tr>\n",
              "      <th>children</th>\n",
              "      <th></th>\n",
              "      <th></th>\n",
              "      <th></th>\n",
              "    </tr>\n",
              "  </thead>\n",
              "  <tbody>\n",
              "    <tr>\n",
              "      <th>4</th>\n",
              "      <td>41</td>\n",
              "      <td>4</td>\n",
              "      <td>0.097561</td>\n",
              "    </tr>\n",
              "    <tr>\n",
              "      <th>2</th>\n",
              "      <td>2128</td>\n",
              "      <td>202</td>\n",
              "      <td>0.094925</td>\n",
              "    </tr>\n",
              "    <tr>\n",
              "      <th>1</th>\n",
              "      <td>4855</td>\n",
              "      <td>445</td>\n",
              "      <td>0.091658</td>\n",
              "    </tr>\n",
              "    <tr>\n",
              "      <th>3</th>\n",
              "      <td>330</td>\n",
              "      <td>27</td>\n",
              "      <td>0.081818</td>\n",
              "    </tr>\n",
              "    <tr>\n",
              "      <th>0</th>\n",
              "      <td>14091</td>\n",
              "      <td>1063</td>\n",
              "      <td>0.075438</td>\n",
              "    </tr>\n",
              "    <tr>\n",
              "      <th>5</th>\n",
              "      <td>9</td>\n",
              "      <td>0</td>\n",
              "      <td>0.000000</td>\n",
              "    </tr>\n",
              "  </tbody>\n",
              "</table>\n",
              "</div>\n",
              "      <button class=\"colab-df-convert\" onclick=\"convertToInteractive('df-29157786-48be-47be-848f-14e46a9c4a73')\"\n",
              "              title=\"Convert this dataframe to an interactive table.\"\n",
              "              style=\"display:none;\">\n",
              "        \n",
              "  <svg xmlns=\"http://www.w3.org/2000/svg\" height=\"24px\"viewBox=\"0 0 24 24\"\n",
              "       width=\"24px\">\n",
              "    <path d=\"M0 0h24v24H0V0z\" fill=\"none\"/>\n",
              "    <path d=\"M18.56 5.44l.94 2.06.94-2.06 2.06-.94-2.06-.94-.94-2.06-.94 2.06-2.06.94zm-11 1L8.5 8.5l.94-2.06 2.06-.94-2.06-.94L8.5 2.5l-.94 2.06-2.06.94zm10 10l.94 2.06.94-2.06 2.06-.94-2.06-.94-.94-2.06-.94 2.06-2.06.94z\"/><path d=\"M17.41 7.96l-1.37-1.37c-.4-.4-.92-.59-1.43-.59-.52 0-1.04.2-1.43.59L10.3 9.45l-7.72 7.72c-.78.78-.78 2.05 0 2.83L4 21.41c.39.39.9.59 1.41.59.51 0 1.02-.2 1.41-.59l7.78-7.78 2.81-2.81c.8-.78.8-2.07 0-2.86zM5.41 20L4 18.59l7.72-7.72 1.47 1.35L5.41 20z\"/>\n",
              "  </svg>\n",
              "      </button>\n",
              "      \n",
              "  <style>\n",
              "    .colab-df-container {\n",
              "      display:flex;\n",
              "      flex-wrap:wrap;\n",
              "      gap: 12px;\n",
              "    }\n",
              "\n",
              "    .colab-df-convert {\n",
              "      background-color: #E8F0FE;\n",
              "      border: none;\n",
              "      border-radius: 50%;\n",
              "      cursor: pointer;\n",
              "      display: none;\n",
              "      fill: #1967D2;\n",
              "      height: 32px;\n",
              "      padding: 0 0 0 0;\n",
              "      width: 32px;\n",
              "    }\n",
              "\n",
              "    .colab-df-convert:hover {\n",
              "      background-color: #E2EBFA;\n",
              "      box-shadow: 0px 1px 2px rgba(60, 64, 67, 0.3), 0px 1px 3px 1px rgba(60, 64, 67, 0.15);\n",
              "      fill: #174EA6;\n",
              "    }\n",
              "\n",
              "    [theme=dark] .colab-df-convert {\n",
              "      background-color: #3B4455;\n",
              "      fill: #D2E3FC;\n",
              "    }\n",
              "\n",
              "    [theme=dark] .colab-df-convert:hover {\n",
              "      background-color: #434B5C;\n",
              "      box-shadow: 0px 1px 3px 1px rgba(0, 0, 0, 0.15);\n",
              "      filter: drop-shadow(0px 1px 2px rgba(0, 0, 0, 0.3));\n",
              "      fill: #FFFFFF;\n",
              "    }\n",
              "  </style>\n",
              "\n",
              "      <script>\n",
              "        const buttonEl =\n",
              "          document.querySelector('#df-29157786-48be-47be-848f-14e46a9c4a73 button.colab-df-convert');\n",
              "        buttonEl.style.display =\n",
              "          google.colab.kernel.accessAllowed ? 'block' : 'none';\n",
              "\n",
              "        async function convertToInteractive(key) {\n",
              "          const element = document.querySelector('#df-29157786-48be-47be-848f-14e46a9c4a73');\n",
              "          const dataTable =\n",
              "            await google.colab.kernel.invokeFunction('convertToInteractive',\n",
              "                                                     [key], {});\n",
              "          if (!dataTable) return;\n",
              "\n",
              "          const docLinkHtml = 'Like what you see? Visit the ' +\n",
              "            '<a target=\"_blank\" href=https://colab.research.google.com/notebooks/data_table.ipynb>data table notebook</a>'\n",
              "            + ' to learn more about interactive tables.';\n",
              "          element.innerHTML = '';\n",
              "          dataTable['output_type'] = 'display_data';\n",
              "          await google.colab.output.renderOutput(dataTable, element);\n",
              "          const docLink = document.createElement('div');\n",
              "          docLink.innerHTML = docLinkHtml;\n",
              "          element.appendChild(docLink);\n",
              "        }\n",
              "      </script>\n",
              "    </div>\n",
              "  </div>\n",
              "  "
            ]
          },
          "metadata": {},
          "execution_count": 116
        }
      ],
      "source": [
        "df_children = pd.DataFrame()\n",
        "df_children['count_children'] = df.groupby('children')['debt'].count()\n",
        "df_children['children_sum'] = df.groupby('children')['debt'].sum()\n",
        "df_children['convers_children'] = df_children['children_sum'] / df_children['count_children'] \n",
        "df_children.sort_values('convers_children', ascending = False)"
      ]
    },
    {
      "cell_type": "markdown",
      "id": "8691768a",
      "metadata": {
        "id": "8691768a"
      },
      "source": [
        "##### Вывод 1: Получается, что многодетные семьи чаще имеют задолженность по кредиту. Чем больше детей, тем больше просроченных задолженностей. При этом с 3 детьми чаще платят в срок, чем с 1 ребенком. Бездетные, как правило реже просрачивают оплату по кредиту, чем люди с детьми."
      ]
    },
    {
      "cell_type": "markdown",
      "id": "4938f29b",
      "metadata": {
        "id": "4938f29b"
      },
      "source": [
        "##### Вопрос 2: Есть ли зависимость между семейным положением и возвратом кредита в срок?"
      ]
    },
    {
      "cell_type": "markdown",
      "id": "08267e21",
      "metadata": {
        "id": "08267e21"
      },
      "source": [
        "Посмотрим как семейное положение влияет на возврат кредита. Для этого создадим датафрейм и добавим в него необходимые столбцы, для расчета конверсии возвратов кредита."
      ]
    },
    {
      "cell_type": "code",
      "execution_count": 117,
      "id": "463fc8b5",
      "metadata": {
        "id": "463fc8b5",
        "outputId": "91e8e72d-d98a-492e-bb3a-55b72f3e101d",
        "colab": {
          "base_uri": "https://localhost:8080/",
          "height": 238
        }
      },
      "outputs": [
        {
          "output_type": "execute_result",
          "data": {
            "text/plain": [
              "                  family_status_sum  family_status_count  \\\n",
              "family_status_id                                           \n",
              "4                               274                 2810   \n",
              "1                               388                 4151   \n",
              "0                               931                12339   \n",
              "3                                85                 1195   \n",
              "2                                63                  959   \n",
              "\n",
              "                  convers_family_status  \n",
              "family_status_id                         \n",
              "4                              0.097509  \n",
              "1                              0.093471  \n",
              "0                              0.075452  \n",
              "3                              0.071130  \n",
              "2                              0.065693  "
            ],
            "text/html": [
              "\n",
              "  <div id=\"df-023c68af-4309-4d5a-90ac-7c3ad4551b2a\">\n",
              "    <div class=\"colab-df-container\">\n",
              "      <div>\n",
              "<style scoped>\n",
              "    .dataframe tbody tr th:only-of-type {\n",
              "        vertical-align: middle;\n",
              "    }\n",
              "\n",
              "    .dataframe tbody tr th {\n",
              "        vertical-align: top;\n",
              "    }\n",
              "\n",
              "    .dataframe thead th {\n",
              "        text-align: right;\n",
              "    }\n",
              "</style>\n",
              "<table border=\"1\" class=\"dataframe\">\n",
              "  <thead>\n",
              "    <tr style=\"text-align: right;\">\n",
              "      <th></th>\n",
              "      <th>family_status_sum</th>\n",
              "      <th>family_status_count</th>\n",
              "      <th>convers_family_status</th>\n",
              "    </tr>\n",
              "    <tr>\n",
              "      <th>family_status_id</th>\n",
              "      <th></th>\n",
              "      <th></th>\n",
              "      <th></th>\n",
              "    </tr>\n",
              "  </thead>\n",
              "  <tbody>\n",
              "    <tr>\n",
              "      <th>4</th>\n",
              "      <td>274</td>\n",
              "      <td>2810</td>\n",
              "      <td>0.097509</td>\n",
              "    </tr>\n",
              "    <tr>\n",
              "      <th>1</th>\n",
              "      <td>388</td>\n",
              "      <td>4151</td>\n",
              "      <td>0.093471</td>\n",
              "    </tr>\n",
              "    <tr>\n",
              "      <th>0</th>\n",
              "      <td>931</td>\n",
              "      <td>12339</td>\n",
              "      <td>0.075452</td>\n",
              "    </tr>\n",
              "    <tr>\n",
              "      <th>3</th>\n",
              "      <td>85</td>\n",
              "      <td>1195</td>\n",
              "      <td>0.071130</td>\n",
              "    </tr>\n",
              "    <tr>\n",
              "      <th>2</th>\n",
              "      <td>63</td>\n",
              "      <td>959</td>\n",
              "      <td>0.065693</td>\n",
              "    </tr>\n",
              "  </tbody>\n",
              "</table>\n",
              "</div>\n",
              "      <button class=\"colab-df-convert\" onclick=\"convertToInteractive('df-023c68af-4309-4d5a-90ac-7c3ad4551b2a')\"\n",
              "              title=\"Convert this dataframe to an interactive table.\"\n",
              "              style=\"display:none;\">\n",
              "        \n",
              "  <svg xmlns=\"http://www.w3.org/2000/svg\" height=\"24px\"viewBox=\"0 0 24 24\"\n",
              "       width=\"24px\">\n",
              "    <path d=\"M0 0h24v24H0V0z\" fill=\"none\"/>\n",
              "    <path d=\"M18.56 5.44l.94 2.06.94-2.06 2.06-.94-2.06-.94-.94-2.06-.94 2.06-2.06.94zm-11 1L8.5 8.5l.94-2.06 2.06-.94-2.06-.94L8.5 2.5l-.94 2.06-2.06.94zm10 10l.94 2.06.94-2.06 2.06-.94-2.06-.94-.94-2.06-.94 2.06-2.06.94z\"/><path d=\"M17.41 7.96l-1.37-1.37c-.4-.4-.92-.59-1.43-.59-.52 0-1.04.2-1.43.59L10.3 9.45l-7.72 7.72c-.78.78-.78 2.05 0 2.83L4 21.41c.39.39.9.59 1.41.59.51 0 1.02-.2 1.41-.59l7.78-7.78 2.81-2.81c.8-.78.8-2.07 0-2.86zM5.41 20L4 18.59l7.72-7.72 1.47 1.35L5.41 20z\"/>\n",
              "  </svg>\n",
              "      </button>\n",
              "      \n",
              "  <style>\n",
              "    .colab-df-container {\n",
              "      display:flex;\n",
              "      flex-wrap:wrap;\n",
              "      gap: 12px;\n",
              "    }\n",
              "\n",
              "    .colab-df-convert {\n",
              "      background-color: #E8F0FE;\n",
              "      border: none;\n",
              "      border-radius: 50%;\n",
              "      cursor: pointer;\n",
              "      display: none;\n",
              "      fill: #1967D2;\n",
              "      height: 32px;\n",
              "      padding: 0 0 0 0;\n",
              "      width: 32px;\n",
              "    }\n",
              "\n",
              "    .colab-df-convert:hover {\n",
              "      background-color: #E2EBFA;\n",
              "      box-shadow: 0px 1px 2px rgba(60, 64, 67, 0.3), 0px 1px 3px 1px rgba(60, 64, 67, 0.15);\n",
              "      fill: #174EA6;\n",
              "    }\n",
              "\n",
              "    [theme=dark] .colab-df-convert {\n",
              "      background-color: #3B4455;\n",
              "      fill: #D2E3FC;\n",
              "    }\n",
              "\n",
              "    [theme=dark] .colab-df-convert:hover {\n",
              "      background-color: #434B5C;\n",
              "      box-shadow: 0px 1px 3px 1px rgba(0, 0, 0, 0.15);\n",
              "      filter: drop-shadow(0px 1px 2px rgba(0, 0, 0, 0.3));\n",
              "      fill: #FFFFFF;\n",
              "    }\n",
              "  </style>\n",
              "\n",
              "      <script>\n",
              "        const buttonEl =\n",
              "          document.querySelector('#df-023c68af-4309-4d5a-90ac-7c3ad4551b2a button.colab-df-convert');\n",
              "        buttonEl.style.display =\n",
              "          google.colab.kernel.accessAllowed ? 'block' : 'none';\n",
              "\n",
              "        async function convertToInteractive(key) {\n",
              "          const element = document.querySelector('#df-023c68af-4309-4d5a-90ac-7c3ad4551b2a');\n",
              "          const dataTable =\n",
              "            await google.colab.kernel.invokeFunction('convertToInteractive',\n",
              "                                                     [key], {});\n",
              "          if (!dataTable) return;\n",
              "\n",
              "          const docLinkHtml = 'Like what you see? Visit the ' +\n",
              "            '<a target=\"_blank\" href=https://colab.research.google.com/notebooks/data_table.ipynb>data table notebook</a>'\n",
              "            + ' to learn more about interactive tables.';\n",
              "          element.innerHTML = '';\n",
              "          dataTable['output_type'] = 'display_data';\n",
              "          await google.colab.output.renderOutput(dataTable, element);\n",
              "          const docLink = document.createElement('div');\n",
              "          docLink.innerHTML = docLinkHtml;\n",
              "          element.appendChild(docLink);\n",
              "        }\n",
              "      </script>\n",
              "    </div>\n",
              "  </div>\n",
              "  "
            ]
          },
          "metadata": {},
          "execution_count": 117
        }
      ],
      "source": [
        "frame_family_status = pd.DataFrame()\n",
        "frame_family_status['family_status_sum'] = df.groupby('family_status_id')['debt'].sum()\n",
        "frame_family_status['family_status_count'] = df.groupby('family_status_id')['debt'].count()\n",
        "frame_family_status['convers_family_status'] = frame_family_status['family_status_sum'] / frame_family_status['family_status_count'] \n",
        "frame_family_status.sort_values('convers_family_status', ascending = False)"
      ]
    },
    {
      "cell_type": "markdown",
      "id": "e25dc2df",
      "metadata": {
        "id": "e25dc2df"
      },
      "source": [
        "##### Вывод 2: Не состоящие в браке наиболее склонны к задержке выплат, в то же время вдовцы/вдовы меньше всех склонны к задолженностям по кредиту."
      ]
    },
    {
      "cell_type": "markdown",
      "id": "74b6ab94",
      "metadata": {
        "id": "74b6ab94"
      },
      "source": [
        "##### Вопрос 3: Есть ли зависимость между уровнем дохода и возвратом кредита в срок?"
      ]
    },
    {
      "cell_type": "markdown",
      "id": "3a707913",
      "metadata": {
        "id": "3a707913"
      },
      "source": [
        "Ранее мы категоризировали данные по доходам. Посмотрим как уровень доходов влияет на возврат кредита. Для этого создадим датафрейм и добавим в него необходимые столбцы, для расчета конверсии возвратов кредита."
      ]
    },
    {
      "cell_type": "code",
      "execution_count": 118,
      "id": "e59ff40a",
      "metadata": {
        "id": "e59ff40a",
        "outputId": "2ba06a6e-d2e0-405c-9d8f-a0ba9c6f527e",
        "colab": {
          "base_uri": "https://localhost:8080/",
          "height": 144
        }
      },
      "outputs": [
        {
          "output_type": "execute_result",
          "data": {
            "text/plain": [
              "                       total_income_sum  total_income_count  \\\n",
              "total_income_category                                         \n",
              "A                                     2                  22   \n",
              "E                                  1739               21432   \n",
              "\n",
              "                       convers_total_income  \n",
              "total_income_category                        \n",
              "A                                  0.090909  \n",
              "E                                  0.081140  "
            ],
            "text/html": [
              "\n",
              "  <div id=\"df-7930c211-10f2-4fdb-821e-789c5da40d10\">\n",
              "    <div class=\"colab-df-container\">\n",
              "      <div>\n",
              "<style scoped>\n",
              "    .dataframe tbody tr th:only-of-type {\n",
              "        vertical-align: middle;\n",
              "    }\n",
              "\n",
              "    .dataframe tbody tr th {\n",
              "        vertical-align: top;\n",
              "    }\n",
              "\n",
              "    .dataframe thead th {\n",
              "        text-align: right;\n",
              "    }\n",
              "</style>\n",
              "<table border=\"1\" class=\"dataframe\">\n",
              "  <thead>\n",
              "    <tr style=\"text-align: right;\">\n",
              "      <th></th>\n",
              "      <th>total_income_sum</th>\n",
              "      <th>total_income_count</th>\n",
              "      <th>convers_total_income</th>\n",
              "    </tr>\n",
              "    <tr>\n",
              "      <th>total_income_category</th>\n",
              "      <th></th>\n",
              "      <th></th>\n",
              "      <th></th>\n",
              "    </tr>\n",
              "  </thead>\n",
              "  <tbody>\n",
              "    <tr>\n",
              "      <th>A</th>\n",
              "      <td>2</td>\n",
              "      <td>22</td>\n",
              "      <td>0.090909</td>\n",
              "    </tr>\n",
              "    <tr>\n",
              "      <th>E</th>\n",
              "      <td>1739</td>\n",
              "      <td>21432</td>\n",
              "      <td>0.081140</td>\n",
              "    </tr>\n",
              "  </tbody>\n",
              "</table>\n",
              "</div>\n",
              "      <button class=\"colab-df-convert\" onclick=\"convertToInteractive('df-7930c211-10f2-4fdb-821e-789c5da40d10')\"\n",
              "              title=\"Convert this dataframe to an interactive table.\"\n",
              "              style=\"display:none;\">\n",
              "        \n",
              "  <svg xmlns=\"http://www.w3.org/2000/svg\" height=\"24px\"viewBox=\"0 0 24 24\"\n",
              "       width=\"24px\">\n",
              "    <path d=\"M0 0h24v24H0V0z\" fill=\"none\"/>\n",
              "    <path d=\"M18.56 5.44l.94 2.06.94-2.06 2.06-.94-2.06-.94-.94-2.06-.94 2.06-2.06.94zm-11 1L8.5 8.5l.94-2.06 2.06-.94-2.06-.94L8.5 2.5l-.94 2.06-2.06.94zm10 10l.94 2.06.94-2.06 2.06-.94-2.06-.94-.94-2.06-.94 2.06-2.06.94z\"/><path d=\"M17.41 7.96l-1.37-1.37c-.4-.4-.92-.59-1.43-.59-.52 0-1.04.2-1.43.59L10.3 9.45l-7.72 7.72c-.78.78-.78 2.05 0 2.83L4 21.41c.39.39.9.59 1.41.59.51 0 1.02-.2 1.41-.59l7.78-7.78 2.81-2.81c.8-.78.8-2.07 0-2.86zM5.41 20L4 18.59l7.72-7.72 1.47 1.35L5.41 20z\"/>\n",
              "  </svg>\n",
              "      </button>\n",
              "      \n",
              "  <style>\n",
              "    .colab-df-container {\n",
              "      display:flex;\n",
              "      flex-wrap:wrap;\n",
              "      gap: 12px;\n",
              "    }\n",
              "\n",
              "    .colab-df-convert {\n",
              "      background-color: #E8F0FE;\n",
              "      border: none;\n",
              "      border-radius: 50%;\n",
              "      cursor: pointer;\n",
              "      display: none;\n",
              "      fill: #1967D2;\n",
              "      height: 32px;\n",
              "      padding: 0 0 0 0;\n",
              "      width: 32px;\n",
              "    }\n",
              "\n",
              "    .colab-df-convert:hover {\n",
              "      background-color: #E2EBFA;\n",
              "      box-shadow: 0px 1px 2px rgba(60, 64, 67, 0.3), 0px 1px 3px 1px rgba(60, 64, 67, 0.15);\n",
              "      fill: #174EA6;\n",
              "    }\n",
              "\n",
              "    [theme=dark] .colab-df-convert {\n",
              "      background-color: #3B4455;\n",
              "      fill: #D2E3FC;\n",
              "    }\n",
              "\n",
              "    [theme=dark] .colab-df-convert:hover {\n",
              "      background-color: #434B5C;\n",
              "      box-shadow: 0px 1px 3px 1px rgba(0, 0, 0, 0.15);\n",
              "      filter: drop-shadow(0px 1px 2px rgba(0, 0, 0, 0.3));\n",
              "      fill: #FFFFFF;\n",
              "    }\n",
              "  </style>\n",
              "\n",
              "      <script>\n",
              "        const buttonEl =\n",
              "          document.querySelector('#df-7930c211-10f2-4fdb-821e-789c5da40d10 button.colab-df-convert');\n",
              "        buttonEl.style.display =\n",
              "          google.colab.kernel.accessAllowed ? 'block' : 'none';\n",
              "\n",
              "        async function convertToInteractive(key) {\n",
              "          const element = document.querySelector('#df-7930c211-10f2-4fdb-821e-789c5da40d10');\n",
              "          const dataTable =\n",
              "            await google.colab.kernel.invokeFunction('convertToInteractive',\n",
              "                                                     [key], {});\n",
              "          if (!dataTable) return;\n",
              "\n",
              "          const docLinkHtml = 'Like what you see? Visit the ' +\n",
              "            '<a target=\"_blank\" href=https://colab.research.google.com/notebooks/data_table.ipynb>data table notebook</a>'\n",
              "            + ' to learn more about interactive tables.';\n",
              "          element.innerHTML = '';\n",
              "          dataTable['output_type'] = 'display_data';\n",
              "          await google.colab.output.renderOutput(dataTable, element);\n",
              "          const docLink = document.createElement('div');\n",
              "          docLink.innerHTML = docLinkHtml;\n",
              "          element.appendChild(docLink);\n",
              "        }\n",
              "      </script>\n",
              "    </div>\n",
              "  </div>\n",
              "  "
            ]
          },
          "metadata": {},
          "execution_count": 118
        }
      ],
      "source": [
        "debt_total_income = pd.DataFrame()\n",
        "debt_total_income['total_income_sum'] = df.groupby('total_income_category')['debt'].sum()\n",
        "debt_total_income['total_income_count'] = df.groupby('total_income_category')['debt'].count()\n",
        "debt_total_income['convers_total_income'] = debt_total_income['total_income_sum'] / debt_total_income['total_income_count'] \n",
        "debt_total_income.sort_values('convers_total_income', ascending = False)"
      ]
    },
    {
      "cell_type": "markdown",
      "id": "69697567",
      "metadata": {
        "id": "69697567"
      },
      "source": [
        "У тех кто получает среднюю зарплату вероятность просроченных кредитов ниже, чем у людей с высоким доходом. "
      ]
    },
    {
      "cell_type": "markdown",
      "id": "34fdc7d6",
      "metadata": {
        "id": "34fdc7d6"
      },
      "source": [
        "##### Вопрос 4: Как разные цели кредита влияют на его возврат в срок?"
      ]
    },
    {
      "cell_type": "markdown",
      "id": "f3a470f0",
      "metadata": {
        "id": "f3a470f0"
      },
      "source": [
        "Сгруппируем данные и сделаем выводы."
      ]
    },
    {
      "cell_type": "code",
      "execution_count": 119,
      "id": "bb683d00",
      "metadata": {
        "scrolled": true,
        "id": "bb683d00",
        "outputId": "6e06288f-fc23-4a71-88a3-e66d493abeac",
        "colab": {
          "base_uri": "https://localhost:8080/",
          "height": 206
        }
      },
      "outputs": [
        {
          "output_type": "execute_result",
          "data": {
            "text/plain": [
              "                          total_purpose_sum  total_purpose_count  \\\n",
              "purpose_category                                                   \n",
              "операции с автомобилем                  403                 4306   \n",
              "получение образования                   370                 4013   \n",
              "проведение свадьбы                      186                 2324   \n",
              "операции с недвижимостью                782                10811   \n",
              "\n",
              "                          convers_purpose  \n",
              "purpose_category                           \n",
              "операции с автомобилем           0.093590  \n",
              "получение образования            0.092200  \n",
              "проведение свадьбы               0.080034  \n",
              "операции с недвижимостью         0.072334  "
            ],
            "text/html": [
              "\n",
              "  <div id=\"df-9b9e266b-da29-4db6-a648-c6b9aad7cf2b\">\n",
              "    <div class=\"colab-df-container\">\n",
              "      <div>\n",
              "<style scoped>\n",
              "    .dataframe tbody tr th:only-of-type {\n",
              "        vertical-align: middle;\n",
              "    }\n",
              "\n",
              "    .dataframe tbody tr th {\n",
              "        vertical-align: top;\n",
              "    }\n",
              "\n",
              "    .dataframe thead th {\n",
              "        text-align: right;\n",
              "    }\n",
              "</style>\n",
              "<table border=\"1\" class=\"dataframe\">\n",
              "  <thead>\n",
              "    <tr style=\"text-align: right;\">\n",
              "      <th></th>\n",
              "      <th>total_purpose_sum</th>\n",
              "      <th>total_purpose_count</th>\n",
              "      <th>convers_purpose</th>\n",
              "    </tr>\n",
              "    <tr>\n",
              "      <th>purpose_category</th>\n",
              "      <th></th>\n",
              "      <th></th>\n",
              "      <th></th>\n",
              "    </tr>\n",
              "  </thead>\n",
              "  <tbody>\n",
              "    <tr>\n",
              "      <th>операции с автомобилем</th>\n",
              "      <td>403</td>\n",
              "      <td>4306</td>\n",
              "      <td>0.093590</td>\n",
              "    </tr>\n",
              "    <tr>\n",
              "      <th>получение образования</th>\n",
              "      <td>370</td>\n",
              "      <td>4013</td>\n",
              "      <td>0.092200</td>\n",
              "    </tr>\n",
              "    <tr>\n",
              "      <th>проведение свадьбы</th>\n",
              "      <td>186</td>\n",
              "      <td>2324</td>\n",
              "      <td>0.080034</td>\n",
              "    </tr>\n",
              "    <tr>\n",
              "      <th>операции с недвижимостью</th>\n",
              "      <td>782</td>\n",
              "      <td>10811</td>\n",
              "      <td>0.072334</td>\n",
              "    </tr>\n",
              "  </tbody>\n",
              "</table>\n",
              "</div>\n",
              "      <button class=\"colab-df-convert\" onclick=\"convertToInteractive('df-9b9e266b-da29-4db6-a648-c6b9aad7cf2b')\"\n",
              "              title=\"Convert this dataframe to an interactive table.\"\n",
              "              style=\"display:none;\">\n",
              "        \n",
              "  <svg xmlns=\"http://www.w3.org/2000/svg\" height=\"24px\"viewBox=\"0 0 24 24\"\n",
              "       width=\"24px\">\n",
              "    <path d=\"M0 0h24v24H0V0z\" fill=\"none\"/>\n",
              "    <path d=\"M18.56 5.44l.94 2.06.94-2.06 2.06-.94-2.06-.94-.94-2.06-.94 2.06-2.06.94zm-11 1L8.5 8.5l.94-2.06 2.06-.94-2.06-.94L8.5 2.5l-.94 2.06-2.06.94zm10 10l.94 2.06.94-2.06 2.06-.94-2.06-.94-.94-2.06-.94 2.06-2.06.94z\"/><path d=\"M17.41 7.96l-1.37-1.37c-.4-.4-.92-.59-1.43-.59-.52 0-1.04.2-1.43.59L10.3 9.45l-7.72 7.72c-.78.78-.78 2.05 0 2.83L4 21.41c.39.39.9.59 1.41.59.51 0 1.02-.2 1.41-.59l7.78-7.78 2.81-2.81c.8-.78.8-2.07 0-2.86zM5.41 20L4 18.59l7.72-7.72 1.47 1.35L5.41 20z\"/>\n",
              "  </svg>\n",
              "      </button>\n",
              "      \n",
              "  <style>\n",
              "    .colab-df-container {\n",
              "      display:flex;\n",
              "      flex-wrap:wrap;\n",
              "      gap: 12px;\n",
              "    }\n",
              "\n",
              "    .colab-df-convert {\n",
              "      background-color: #E8F0FE;\n",
              "      border: none;\n",
              "      border-radius: 50%;\n",
              "      cursor: pointer;\n",
              "      display: none;\n",
              "      fill: #1967D2;\n",
              "      height: 32px;\n",
              "      padding: 0 0 0 0;\n",
              "      width: 32px;\n",
              "    }\n",
              "\n",
              "    .colab-df-convert:hover {\n",
              "      background-color: #E2EBFA;\n",
              "      box-shadow: 0px 1px 2px rgba(60, 64, 67, 0.3), 0px 1px 3px 1px rgba(60, 64, 67, 0.15);\n",
              "      fill: #174EA6;\n",
              "    }\n",
              "\n",
              "    [theme=dark] .colab-df-convert {\n",
              "      background-color: #3B4455;\n",
              "      fill: #D2E3FC;\n",
              "    }\n",
              "\n",
              "    [theme=dark] .colab-df-convert:hover {\n",
              "      background-color: #434B5C;\n",
              "      box-shadow: 0px 1px 3px 1px rgba(0, 0, 0, 0.15);\n",
              "      filter: drop-shadow(0px 1px 2px rgba(0, 0, 0, 0.3));\n",
              "      fill: #FFFFFF;\n",
              "    }\n",
              "  </style>\n",
              "\n",
              "      <script>\n",
              "        const buttonEl =\n",
              "          document.querySelector('#df-9b9e266b-da29-4db6-a648-c6b9aad7cf2b button.colab-df-convert');\n",
              "        buttonEl.style.display =\n",
              "          google.colab.kernel.accessAllowed ? 'block' : 'none';\n",
              "\n",
              "        async function convertToInteractive(key) {\n",
              "          const element = document.querySelector('#df-9b9e266b-da29-4db6-a648-c6b9aad7cf2b');\n",
              "          const dataTable =\n",
              "            await google.colab.kernel.invokeFunction('convertToInteractive',\n",
              "                                                     [key], {});\n",
              "          if (!dataTable) return;\n",
              "\n",
              "          const docLinkHtml = 'Like what you see? Visit the ' +\n",
              "            '<a target=\"_blank\" href=https://colab.research.google.com/notebooks/data_table.ipynb>data table notebook</a>'\n",
              "            + ' to learn more about interactive tables.';\n",
              "          element.innerHTML = '';\n",
              "          dataTable['output_type'] = 'display_data';\n",
              "          await google.colab.output.renderOutput(dataTable, element);\n",
              "          const docLink = document.createElement('div');\n",
              "          docLink.innerHTML = docLinkHtml;\n",
              "          element.appendChild(docLink);\n",
              "        }\n",
              "      </script>\n",
              "    </div>\n",
              "  </div>\n",
              "  "
            ]
          },
          "metadata": {},
          "execution_count": 119
        }
      ],
      "source": [
        "debt_purpose = pd.DataFrame()\n",
        "debt_purpose['total_purpose_sum'] = df.groupby('purpose_category')['debt'].sum()\n",
        "debt_purpose['total_purpose_count'] = df.groupby('purpose_category')['debt'].count()\n",
        "debt_purpose['convers_purpose'] = debt_purpose['total_purpose_sum'] / debt_purpose['total_purpose_count'] \n",
        "debt_purpose.sort_values('convers_purpose', ascending = False)"
      ]
    },
    {
      "cell_type": "markdown",
      "id": "d0618e03",
      "metadata": {
        "id": "d0618e03"
      },
      "source": [
        "Наибольшая вероятность стать должником у людей, которые получают кредит на операции с автомобилем. Наименьшая вероятность, когда получают кредит на операции с недвижимостью"
      ]
    },
    {
      "cell_type": "markdown",
      "id": "57ca5497",
      "metadata": {
        "id": "57ca5497"
      },
      "source": [
        "## Общий вывод:"
      ]
    },
    {
      "cell_type": "markdown",
      "id": "3cc7f235",
      "metadata": {
        "id": "3cc7f235"
      },
      "source": [
        "Самый безопасный заемщик **вдовец/вдова, без детей, со средней зарплатой, получающий кредит с целью операции с недвижимостью.** "
      ]
    }
  ],
  "metadata": {
    "ExecuteTimeLog": [
      {
        "duration": 498,
        "start_time": "2022-04-17T13:29:06.979Z"
      },
      {
        "duration": 998,
        "start_time": "2022-04-17T13:29:21.721Z"
      },
      {
        "duration": 17,
        "start_time": "2022-04-17T13:29:41.041Z"
      },
      {
        "duration": 18,
        "start_time": "2022-04-17T13:30:31.310Z"
      },
      {
        "duration": 15,
        "start_time": "2022-04-17T13:31:12.169Z"
      },
      {
        "duration": 14,
        "start_time": "2022-04-17T13:31:14.737Z"
      },
      {
        "duration": 150,
        "start_time": "2022-04-17T13:31:30.855Z"
      },
      {
        "duration": 133,
        "start_time": "2022-04-17T13:32:01.504Z"
      },
      {
        "duration": 138,
        "start_time": "2022-04-17T13:32:14.567Z"
      },
      {
        "duration": 58,
        "start_time": "2022-04-17T13:34:27.434Z"
      },
      {
        "duration": 4,
        "start_time": "2022-04-17T13:34:32.991Z"
      },
      {
        "duration": 4,
        "start_time": "2022-04-17T13:34:44.200Z"
      },
      {
        "duration": 4,
        "start_time": "2022-04-17T13:35:01.123Z"
      },
      {
        "duration": 4,
        "start_time": "2022-04-17T13:35:07.615Z"
      },
      {
        "duration": 4,
        "start_time": "2022-04-17T13:35:52.855Z"
      },
      {
        "duration": 5,
        "start_time": "2022-04-17T13:36:01.655Z"
      },
      {
        "duration": 4,
        "start_time": "2022-04-17T13:36:02.859Z"
      },
      {
        "duration": 129,
        "start_time": "2022-04-17T13:37:02.552Z"
      },
      {
        "duration": 4,
        "start_time": "2022-04-17T13:37:36.761Z"
      },
      {
        "duration": 138,
        "start_time": "2022-04-17T13:38:17.171Z"
      },
      {
        "duration": 158,
        "start_time": "2022-04-17T13:39:06.623Z"
      },
      {
        "duration": 127,
        "start_time": "2022-04-17T13:39:35.124Z"
      },
      {
        "duration": 143,
        "start_time": "2022-04-17T13:41:11.997Z"
      },
      {
        "duration": 62,
        "start_time": "2022-04-17T13:43:08.884Z"
      },
      {
        "duration": 57,
        "start_time": "2022-04-17T13:44:50.415Z"
      },
      {
        "duration": 22,
        "start_time": "2022-04-17T13:44:51.307Z"
      },
      {
        "duration": 53,
        "start_time": "2022-04-17T13:44:59.844Z"
      },
      {
        "duration": 25,
        "start_time": "2022-04-17T13:45:11.807Z"
      },
      {
        "duration": 15,
        "start_time": "2022-04-17T13:46:04.919Z"
      },
      {
        "duration": 15,
        "start_time": "2022-04-17T13:51:46.213Z"
      },
      {
        "duration": 6,
        "start_time": "2022-04-17T13:52:12.122Z"
      },
      {
        "duration": 7,
        "start_time": "2022-04-17T13:52:26.752Z"
      },
      {
        "duration": 9,
        "start_time": "2022-04-17T13:53:49.501Z"
      },
      {
        "duration": 7,
        "start_time": "2022-04-17T13:53:54.340Z"
      },
      {
        "duration": 8,
        "start_time": "2022-04-17T13:54:16.856Z"
      },
      {
        "duration": 7,
        "start_time": "2022-04-17T13:54:18.161Z"
      },
      {
        "duration": 7,
        "start_time": "2022-04-17T13:58:58.585Z"
      },
      {
        "duration": 7,
        "start_time": "2022-04-17T13:58:59.385Z"
      },
      {
        "duration": 8,
        "start_time": "2022-04-17T14:00:44.727Z"
      },
      {
        "duration": 5,
        "start_time": "2022-04-17T14:02:32.844Z"
      },
      {
        "duration": 10,
        "start_time": "2022-04-17T14:02:46.766Z"
      },
      {
        "duration": 58,
        "start_time": "2022-04-17T14:03:09.717Z"
      },
      {
        "duration": 11,
        "start_time": "2022-04-17T14:03:11.049Z"
      },
      {
        "duration": 11,
        "start_time": "2022-04-17T14:03:18.237Z"
      },
      {
        "duration": 8,
        "start_time": "2022-04-17T14:04:13.766Z"
      },
      {
        "duration": 6,
        "start_time": "2022-04-17T14:04:22.611Z"
      },
      {
        "duration": 47,
        "start_time": "2022-04-17T14:04:44.529Z"
      },
      {
        "duration": 52,
        "start_time": "2022-04-17T14:04:59.883Z"
      },
      {
        "duration": 17,
        "start_time": "2022-04-17T14:39:13.572Z"
      },
      {
        "duration": 13,
        "start_time": "2022-04-17T14:39:14.825Z"
      },
      {
        "duration": 123,
        "start_time": "2022-04-17T14:42:34.607Z"
      },
      {
        "duration": 6,
        "start_time": "2022-04-17T14:42:40.606Z"
      },
      {
        "duration": 5,
        "start_time": "2022-04-17T14:42:41.911Z"
      },
      {
        "duration": 138,
        "start_time": "2022-04-17T14:45:08.166Z"
      },
      {
        "duration": 54,
        "start_time": "2022-04-17T14:45:20.178Z"
      },
      {
        "duration": 15,
        "start_time": "2022-04-17T14:45:20.974Z"
      },
      {
        "duration": 13,
        "start_time": "2022-04-17T14:45:23.123Z"
      },
      {
        "duration": 185,
        "start_time": "2022-04-17T14:45:24.826Z"
      },
      {
        "duration": 126,
        "start_time": "2022-04-17T14:45:26.978Z"
      },
      {
        "duration": 132,
        "start_time": "2022-04-17T14:45:30.395Z"
      },
      {
        "duration": 124,
        "start_time": "2022-04-17T14:45:41.859Z"
      },
      {
        "duration": 6,
        "start_time": "2022-04-17T14:46:03.631Z"
      },
      {
        "duration": 5,
        "start_time": "2022-04-17T14:46:04.747Z"
      },
      {
        "duration": 9,
        "start_time": "2022-04-17T14:46:11.095Z"
      },
      {
        "duration": 49,
        "start_time": "2022-04-17T14:46:18.822Z"
      },
      {
        "duration": 48,
        "start_time": "2022-04-17T14:46:21.267Z"
      },
      {
        "duration": 12,
        "start_time": "2022-04-17T14:46:21.978Z"
      },
      {
        "duration": 55,
        "start_time": "2022-04-17T14:46:59.548Z"
      },
      {
        "duration": 15,
        "start_time": "2022-04-17T14:47:17.304Z"
      },
      {
        "duration": 13,
        "start_time": "2022-04-17T14:47:41.743Z"
      },
      {
        "duration": 126,
        "start_time": "2022-04-17T14:47:59.021Z"
      },
      {
        "duration": 126,
        "start_time": "2022-04-17T14:48:01.921Z"
      },
      {
        "duration": 151,
        "start_time": "2022-04-17T14:48:03.914Z"
      },
      {
        "duration": 137,
        "start_time": "2022-04-17T14:48:06.405Z"
      },
      {
        "duration": 11,
        "start_time": "2022-04-17T14:48:36.514Z"
      },
      {
        "duration": 6,
        "start_time": "2022-04-17T14:48:55.852Z"
      },
      {
        "duration": 6,
        "start_time": "2022-04-17T14:49:08.210Z"
      },
      {
        "duration": 6,
        "start_time": "2022-04-17T14:49:09.347Z"
      },
      {
        "duration": 5,
        "start_time": "2022-04-17T14:49:54.854Z"
      },
      {
        "duration": 5,
        "start_time": "2022-04-17T14:49:56.082Z"
      },
      {
        "duration": 9,
        "start_time": "2022-04-17T14:49:59.915Z"
      },
      {
        "duration": 5,
        "start_time": "2022-04-17T14:50:06.134Z"
      },
      {
        "duration": 5,
        "start_time": "2022-04-17T14:50:07.414Z"
      },
      {
        "duration": 8,
        "start_time": "2022-04-17T14:50:33.834Z"
      },
      {
        "duration": 49,
        "start_time": "2022-04-17T14:50:43.939Z"
      },
      {
        "duration": 51,
        "start_time": "2022-04-17T14:51:13.764Z"
      },
      {
        "duration": 12,
        "start_time": "2022-04-17T14:51:14.948Z"
      },
      {
        "duration": 8,
        "start_time": "2022-04-17T14:51:41.567Z"
      },
      {
        "duration": 8,
        "start_time": "2022-04-17T14:52:36.172Z"
      },
      {
        "duration": 141,
        "start_time": "2022-04-17T14:52:51.088Z"
      },
      {
        "duration": 7,
        "start_time": "2022-04-17T14:52:54.929Z"
      },
      {
        "duration": 7,
        "start_time": "2022-04-17T14:53:17.209Z"
      },
      {
        "duration": 147,
        "start_time": "2022-04-17T14:53:18.418Z"
      },
      {
        "duration": 7,
        "start_time": "2022-04-17T14:53:50.370Z"
      },
      {
        "duration": 139,
        "start_time": "2022-04-17T14:53:50.931Z"
      },
      {
        "duration": 53,
        "start_time": "2022-04-17T14:53:57.154Z"
      },
      {
        "duration": 139,
        "start_time": "2022-04-17T14:54:06.754Z"
      },
      {
        "duration": 47,
        "start_time": "2022-04-17T14:54:43.023Z"
      },
      {
        "duration": 54,
        "start_time": "2022-04-17T14:54:46.155Z"
      },
      {
        "duration": 222,
        "start_time": "2022-04-17T14:54:49.856Z"
      },
      {
        "duration": 54,
        "start_time": "2022-04-17T14:55:05.585Z"
      },
      {
        "duration": 135,
        "start_time": "2022-04-17T14:55:07.363Z"
      },
      {
        "duration": 45,
        "start_time": "2022-04-17T14:58:44.552Z"
      },
      {
        "duration": 5,
        "start_time": "2022-04-17T14:58:54.919Z"
      },
      {
        "duration": 16,
        "start_time": "2022-04-17T14:59:22.603Z"
      },
      {
        "duration": 33,
        "start_time": "2022-04-17T14:59:38.235Z"
      },
      {
        "duration": 4,
        "start_time": "2022-04-17T15:08:03.363Z"
      },
      {
        "duration": 4,
        "start_time": "2022-04-17T15:11:48.373Z"
      },
      {
        "duration": 5,
        "start_time": "2022-04-17T15:12:25.974Z"
      },
      {
        "duration": 8,
        "start_time": "2022-04-17T15:12:37.980Z"
      },
      {
        "duration": 5,
        "start_time": "2022-04-17T15:12:47.965Z"
      },
      {
        "duration": 9,
        "start_time": "2022-04-17T15:13:32.370Z"
      },
      {
        "duration": 9,
        "start_time": "2022-04-17T15:13:37.865Z"
      },
      {
        "duration": 13,
        "start_time": "2022-04-17T15:15:07.856Z"
      },
      {
        "duration": 32,
        "start_time": "2022-04-17T15:16:19.728Z"
      },
      {
        "duration": 5,
        "start_time": "2022-04-17T15:16:42.946Z"
      },
      {
        "duration": 25,
        "start_time": "2022-04-17T15:16:44.919Z"
      },
      {
        "duration": 9,
        "start_time": "2022-04-17T15:19:05.712Z"
      },
      {
        "duration": 10,
        "start_time": "2022-04-17T15:19:18.996Z"
      },
      {
        "duration": 3,
        "start_time": "2022-04-17T15:25:24.877Z"
      },
      {
        "duration": 13,
        "start_time": "2022-04-17T15:25:31.104Z"
      },
      {
        "duration": 3,
        "start_time": "2022-04-17T15:25:33.962Z"
      },
      {
        "duration": 10,
        "start_time": "2022-04-17T15:25:35.452Z"
      },
      {
        "duration": 3,
        "start_time": "2022-04-17T15:56:09.426Z"
      },
      {
        "duration": 4,
        "start_time": "2022-04-17T15:56:25.347Z"
      },
      {
        "duration": 11,
        "start_time": "2022-04-17T15:56:26.779Z"
      },
      {
        "duration": 3,
        "start_time": "2022-04-17T16:02:15.168Z"
      },
      {
        "duration": 11,
        "start_time": "2022-04-17T16:02:29.477Z"
      },
      {
        "duration": 3,
        "start_time": "2022-04-17T16:06:21.444Z"
      },
      {
        "duration": 3,
        "start_time": "2022-04-17T16:07:41.136Z"
      },
      {
        "duration": 130,
        "start_time": "2022-04-17T16:07:45.955Z"
      },
      {
        "duration": 3,
        "start_time": "2022-04-17T16:07:47.583Z"
      },
      {
        "duration": 126,
        "start_time": "2022-04-17T16:07:48.926Z"
      },
      {
        "duration": 299,
        "start_time": "2022-04-17T16:08:34.299Z"
      },
      {
        "duration": 131,
        "start_time": "2022-04-17T16:08:36.040Z"
      },
      {
        "duration": 132,
        "start_time": "2022-04-17T16:08:38.391Z"
      },
      {
        "duration": 3,
        "start_time": "2022-04-17T16:08:42.095Z"
      },
      {
        "duration": 291,
        "start_time": "2022-04-17T16:08:44.848Z"
      },
      {
        "duration": 293,
        "start_time": "2022-04-17T16:08:55.220Z"
      },
      {
        "duration": 126,
        "start_time": "2022-04-17T16:08:57.369Z"
      },
      {
        "duration": 11,
        "start_time": "2022-04-17T16:09:30.671Z"
      },
      {
        "duration": 5,
        "start_time": "2022-04-17T16:12:28.961Z"
      },
      {
        "duration": 5,
        "start_time": "2022-04-17T16:13:53.447Z"
      },
      {
        "duration": 22,
        "start_time": "2022-04-17T16:14:10.362Z"
      },
      {
        "duration": 16,
        "start_time": "2022-04-17T16:14:18.483Z"
      },
      {
        "duration": 6,
        "start_time": "2022-04-17T16:14:49.566Z"
      },
      {
        "duration": 6,
        "start_time": "2022-04-17T16:15:03.806Z"
      },
      {
        "duration": 19,
        "start_time": "2022-04-17T16:15:17.599Z"
      },
      {
        "duration": 6,
        "start_time": "2022-04-17T16:15:41.375Z"
      },
      {
        "duration": 16,
        "start_time": "2022-04-17T16:17:04.485Z"
      },
      {
        "duration": 20,
        "start_time": "2022-04-17T16:18:05.654Z"
      },
      {
        "duration": 30,
        "start_time": "2022-04-17T16:18:08.682Z"
      },
      {
        "duration": 28,
        "start_time": "2022-04-17T16:18:10.671Z"
      },
      {
        "duration": 5,
        "start_time": "2022-04-17T16:18:47.100Z"
      },
      {
        "duration": 27,
        "start_time": "2022-04-17T16:18:50.160Z"
      },
      {
        "duration": 19,
        "start_time": "2022-04-17T16:21:29.894Z"
      },
      {
        "duration": 8,
        "start_time": "2022-04-17T16:21:38.690Z"
      },
      {
        "duration": 7,
        "start_time": "2022-04-17T16:21:48.771Z"
      },
      {
        "duration": 21,
        "start_time": "2022-04-17T16:21:51.156Z"
      },
      {
        "duration": 8,
        "start_time": "2022-04-17T16:22:48.251Z"
      },
      {
        "duration": 22,
        "start_time": "2022-04-17T16:22:51.556Z"
      },
      {
        "duration": 19,
        "start_time": "2022-04-17T16:23:12.646Z"
      },
      {
        "duration": 18,
        "start_time": "2022-04-17T16:23:13.803Z"
      },
      {
        "duration": 5,
        "start_time": "2022-04-17T16:23:15.702Z"
      },
      {
        "duration": 21,
        "start_time": "2022-04-17T16:23:47.404Z"
      },
      {
        "duration": 5,
        "start_time": "2022-04-17T16:23:57.004Z"
      },
      {
        "duration": 4,
        "start_time": "2022-04-17T16:24:10.464Z"
      },
      {
        "duration": 54,
        "start_time": "2022-04-17T16:24:20.057Z"
      },
      {
        "duration": 15,
        "start_time": "2022-04-17T16:24:20.298Z"
      },
      {
        "duration": 13,
        "start_time": "2022-04-17T16:24:22.075Z"
      },
      {
        "duration": 31,
        "start_time": "2022-04-17T16:24:23.723Z"
      },
      {
        "duration": 127,
        "start_time": "2022-04-17T16:24:25.131Z"
      },
      {
        "duration": 123,
        "start_time": "2022-04-17T16:24:26.746Z"
      },
      {
        "duration": 137,
        "start_time": "2022-04-17T16:24:28.554Z"
      },
      {
        "duration": 129,
        "start_time": "2022-04-17T16:24:30.439Z"
      },
      {
        "duration": 10,
        "start_time": "2022-04-17T16:24:33.711Z"
      },
      {
        "duration": 7,
        "start_time": "2022-04-17T16:24:35.297Z"
      },
      {
        "duration": 6,
        "start_time": "2022-04-17T16:24:36.674Z"
      },
      {
        "duration": 5,
        "start_time": "2022-04-17T16:24:38.126Z"
      },
      {
        "duration": 4,
        "start_time": "2022-04-17T16:24:38.923Z"
      },
      {
        "duration": 14,
        "start_time": "2022-04-17T16:24:40.359Z"
      },
      {
        "duration": 3,
        "start_time": "2022-04-17T16:24:41.394Z"
      },
      {
        "duration": 10,
        "start_time": "2022-04-17T16:24:42.770Z"
      },
      {
        "duration": 3,
        "start_time": "2022-04-17T16:24:47.971Z"
      },
      {
        "duration": 8,
        "start_time": "2022-04-17T16:24:54.563Z"
      },
      {
        "duration": 144,
        "start_time": "2022-04-17T16:24:55.436Z"
      },
      {
        "duration": 14,
        "start_time": "2022-04-17T16:24:57.362Z"
      },
      {
        "duration": 4,
        "start_time": "2022-04-17T16:24:59.042Z"
      },
      {
        "duration": 393,
        "start_time": "2022-04-17T16:25:00.291Z"
      },
      {
        "duration": 156,
        "start_time": "2022-04-17T16:25:01.147Z"
      },
      {
        "duration": 10,
        "start_time": "2022-04-17T16:25:03.075Z"
      },
      {
        "duration": 4,
        "start_time": "2022-04-17T16:25:31.727Z"
      },
      {
        "duration": 4,
        "start_time": "2022-04-17T16:26:06.770Z"
      },
      {
        "duration": 15,
        "start_time": "2022-04-17T16:26:07.708Z"
      },
      {
        "duration": 20,
        "start_time": "2022-04-17T16:26:11.396Z"
      },
      {
        "duration": 3,
        "start_time": "2022-04-17T16:26:12.028Z"
      },
      {
        "duration": 320,
        "start_time": "2022-04-17T16:26:12.982Z"
      },
      {
        "duration": 173,
        "start_time": "2022-04-17T16:26:14.253Z"
      },
      {
        "duration": 11,
        "start_time": "2022-04-17T16:26:15.507Z"
      },
      {
        "duration": 2,
        "start_time": "2022-04-17T16:26:22.395Z"
      },
      {
        "duration": 302,
        "start_time": "2022-04-17T16:26:23.515Z"
      },
      {
        "duration": 142,
        "start_time": "2022-04-17T16:26:24.443Z"
      },
      {
        "duration": 9,
        "start_time": "2022-04-17T16:26:26.540Z"
      },
      {
        "duration": 56,
        "start_time": "2022-04-17T16:27:03.181Z"
      },
      {
        "duration": 14,
        "start_time": "2022-04-17T16:27:04.566Z"
      },
      {
        "duration": 19,
        "start_time": "2022-04-17T16:27:06.411Z"
      },
      {
        "duration": 33,
        "start_time": "2022-04-17T16:27:08.434Z"
      },
      {
        "duration": 133,
        "start_time": "2022-04-17T16:27:10.089Z"
      },
      {
        "duration": 122,
        "start_time": "2022-04-17T16:27:11.646Z"
      },
      {
        "duration": 138,
        "start_time": "2022-04-17T16:27:13.293Z"
      },
      {
        "duration": 139,
        "start_time": "2022-04-17T16:27:14.790Z"
      },
      {
        "duration": 12,
        "start_time": "2022-04-17T16:27:17.989Z"
      },
      {
        "duration": 6,
        "start_time": "2022-04-17T16:27:19.949Z"
      },
      {
        "duration": 6,
        "start_time": "2022-04-17T16:27:21.525Z"
      },
      {
        "duration": 6,
        "start_time": "2022-04-17T16:27:23.081Z"
      },
      {
        "duration": 5,
        "start_time": "2022-04-17T16:27:24.313Z"
      },
      {
        "duration": 15,
        "start_time": "2022-04-17T16:27:25.517Z"
      },
      {
        "duration": 3,
        "start_time": "2022-04-17T16:27:27.049Z"
      },
      {
        "duration": 10,
        "start_time": "2022-04-17T16:27:28.413Z"
      },
      {
        "duration": 3,
        "start_time": "2022-04-17T16:28:39.209Z"
      },
      {
        "duration": 11,
        "start_time": "2022-04-17T16:28:40.110Z"
      },
      {
        "duration": 3,
        "start_time": "2022-04-17T16:28:42.180Z"
      },
      {
        "duration": 14,
        "start_time": "2022-04-17T16:28:48.237Z"
      },
      {
        "duration": 14,
        "start_time": "2022-04-17T16:29:06.346Z"
      },
      {
        "duration": 3,
        "start_time": "2022-04-17T16:29:07.498Z"
      },
      {
        "duration": 11,
        "start_time": "2022-04-17T16:29:09.190Z"
      },
      {
        "duration": 8,
        "start_time": "2022-04-17T16:29:38.883Z"
      },
      {
        "duration": 53,
        "start_time": "2022-04-17T16:29:53.810Z"
      },
      {
        "duration": 11,
        "start_time": "2022-04-17T16:29:55.908Z"
      },
      {
        "duration": 7,
        "start_time": "2022-04-17T16:30:00.164Z"
      },
      {
        "duration": 173,
        "start_time": "2022-04-17T16:30:00.900Z"
      },
      {
        "duration": 16,
        "start_time": "2022-04-17T16:30:03.016Z"
      },
      {
        "duration": 3,
        "start_time": "2022-04-17T16:30:04.308Z"
      },
      {
        "duration": 316,
        "start_time": "2022-04-17T16:30:05.347Z"
      },
      {
        "duration": 149,
        "start_time": "2022-04-17T16:30:07.016Z"
      },
      {
        "duration": 10,
        "start_time": "2022-04-17T16:30:08.455Z"
      },
      {
        "duration": 4,
        "start_time": "2022-04-17T16:30:11.261Z"
      },
      {
        "duration": 5,
        "start_time": "2022-04-17T16:30:11.971Z"
      },
      {
        "duration": 9,
        "start_time": "2022-04-17T16:30:13.883Z"
      },
      {
        "duration": 13,
        "start_time": "2022-04-17T16:30:17.620Z"
      },
      {
        "duration": 17,
        "start_time": "2022-04-17T16:30:21.544Z"
      },
      {
        "duration": 6,
        "start_time": "2022-04-17T16:30:24.492Z"
      },
      {
        "duration": 16,
        "start_time": "2022-04-17T16:30:27.672Z"
      },
      {
        "duration": 7,
        "start_time": "2022-04-17T16:30:30.028Z"
      },
      {
        "duration": 29,
        "start_time": "2022-04-17T16:30:33.548Z"
      },
      {
        "duration": 8,
        "start_time": "2022-04-17T16:30:37.732Z"
      },
      {
        "duration": 5,
        "start_time": "2022-04-17T16:30:39.996Z"
      },
      {
        "duration": 11,
        "start_time": "2022-04-17T16:30:41.660Z"
      },
      {
        "duration": 34,
        "start_time": "2022-04-17T16:30:45.365Z"
      },
      {
        "duration": 5,
        "start_time": "2022-04-17T16:30:48.039Z"
      },
      {
        "duration": 20,
        "start_time": "2022-04-17T16:31:16.875Z"
      },
      {
        "duration": 31,
        "start_time": "2022-04-17T16:31:19.968Z"
      },
      {
        "duration": 18,
        "start_time": "2022-04-17T16:31:29.452Z"
      },
      {
        "duration": 30,
        "start_time": "2022-04-17T16:31:33.973Z"
      },
      {
        "duration": 10,
        "start_time": "2022-04-17T16:32:21.385Z"
      },
      {
        "duration": 11,
        "start_time": "2022-04-17T16:32:25.853Z"
      },
      {
        "duration": 31,
        "start_time": "2022-04-17T16:32:28.477Z"
      },
      {
        "duration": 144,
        "start_time": "2022-04-17T16:33:08.299Z"
      },
      {
        "duration": 13,
        "start_time": "2022-04-17T16:33:25.131Z"
      },
      {
        "duration": 9,
        "start_time": "2022-04-17T16:34:16.678Z"
      },
      {
        "duration": 11,
        "start_time": "2022-04-17T16:34:44.771Z"
      },
      {
        "duration": 3,
        "start_time": "2022-04-17T16:35:34.061Z"
      },
      {
        "duration": 3,
        "start_time": "2022-04-17T16:35:52.264Z"
      },
      {
        "duration": 7,
        "start_time": "2022-04-17T16:35:53.400Z"
      },
      {
        "duration": 13,
        "start_time": "2022-04-17T16:35:54.286Z"
      },
      {
        "duration": 5,
        "start_time": "2022-04-17T16:36:25.773Z"
      },
      {
        "duration": 3,
        "start_time": "2022-04-17T16:36:28.442Z"
      },
      {
        "duration": 11,
        "start_time": "2022-04-17T16:38:47.429Z"
      },
      {
        "duration": 12,
        "start_time": "2022-04-17T16:39:08.277Z"
      },
      {
        "duration": 13,
        "start_time": "2022-04-17T16:40:54.557Z"
      },
      {
        "duration": 17,
        "start_time": "2022-04-17T16:40:59.206Z"
      },
      {
        "duration": 17,
        "start_time": "2022-04-17T16:41:13.503Z"
      },
      {
        "duration": 11,
        "start_time": "2022-04-17T16:42:08.736Z"
      },
      {
        "duration": 11,
        "start_time": "2022-04-17T16:42:10.551Z"
      },
      {
        "duration": 19,
        "start_time": "2022-04-17T16:42:16.649Z"
      },
      {
        "duration": 57,
        "start_time": "2022-04-17T16:44:29.802Z"
      },
      {
        "duration": 16,
        "start_time": "2022-04-17T16:45:26.751Z"
      },
      {
        "duration": 14,
        "start_time": "2022-04-17T16:45:46.987Z"
      },
      {
        "duration": 47,
        "start_time": "2022-04-17T16:45:54.971Z"
      },
      {
        "duration": 142,
        "start_time": "2022-04-17T16:46:03.608Z"
      },
      {
        "duration": 140,
        "start_time": "2022-04-17T16:46:21.198Z"
      },
      {
        "duration": 134,
        "start_time": "2022-04-17T16:46:36.054Z"
      },
      {
        "duration": 143,
        "start_time": "2022-04-17T16:46:52.546Z"
      },
      {
        "duration": 135,
        "start_time": "2022-04-17T16:46:54.620Z"
      },
      {
        "duration": 10,
        "start_time": "2022-04-17T16:47:53.523Z"
      },
      {
        "duration": 6,
        "start_time": "2022-04-17T16:47:59.735Z"
      },
      {
        "duration": 6,
        "start_time": "2022-04-17T16:48:02.429Z"
      },
      {
        "duration": 5,
        "start_time": "2022-04-17T16:48:15.263Z"
      },
      {
        "duration": 5,
        "start_time": "2022-04-17T16:48:16.887Z"
      },
      {
        "duration": 5,
        "start_time": "2022-04-17T16:48:38.939Z"
      },
      {
        "duration": 6,
        "start_time": "2022-04-17T16:48:39.809Z"
      },
      {
        "duration": 9,
        "start_time": "2022-04-17T16:48:40.740Z"
      },
      {
        "duration": 9,
        "start_time": "2022-04-17T16:49:48.556Z"
      },
      {
        "duration": 49,
        "start_time": "2022-04-17T16:50:19.394Z"
      },
      {
        "duration": 76,
        "start_time": "2022-04-17T16:51:09.697Z"
      },
      {
        "duration": 10,
        "start_time": "2022-04-17T16:51:12.487Z"
      },
      {
        "duration": 7,
        "start_time": "2022-04-17T16:51:43.326Z"
      },
      {
        "duration": 152,
        "start_time": "2022-04-17T16:51:45.063Z"
      },
      {
        "duration": 14,
        "start_time": "2022-04-17T16:51:54.003Z"
      },
      {
        "duration": 171,
        "start_time": "2022-04-17T16:52:24.355Z"
      },
      {
        "duration": 4,
        "start_time": "2022-04-17T16:52:46.087Z"
      },
      {
        "duration": 304,
        "start_time": "2022-04-17T16:52:51.684Z"
      },
      {
        "duration": 4,
        "start_time": "2022-04-17T16:52:52.718Z"
      },
      {
        "duration": 282,
        "start_time": "2022-04-17T16:52:53.564Z"
      },
      {
        "duration": 139,
        "start_time": "2022-04-17T16:52:54.520Z"
      },
      {
        "duration": 303,
        "start_time": "2022-04-17T16:53:17.572Z"
      },
      {
        "duration": 11,
        "start_time": "2022-04-17T16:53:24.933Z"
      },
      {
        "duration": 4,
        "start_time": "2022-04-17T16:53:29.301Z"
      },
      {
        "duration": 275,
        "start_time": "2022-04-17T16:53:44.975Z"
      },
      {
        "duration": 14,
        "start_time": "2022-04-17T16:54:51.274Z"
      },
      {
        "duration": 24,
        "start_time": "2022-04-17T16:55:11.043Z"
      },
      {
        "duration": 5,
        "start_time": "2022-04-17T16:55:33.975Z"
      },
      {
        "duration": 16,
        "start_time": "2022-04-17T16:55:36.471Z"
      },
      {
        "duration": 15,
        "start_time": "2022-04-17T16:55:42.347Z"
      },
      {
        "duration": 6,
        "start_time": "2022-04-17T16:55:43.919Z"
      },
      {
        "duration": 17,
        "start_time": "2022-04-17T16:55:48.203Z"
      },
      {
        "duration": 5,
        "start_time": "2022-04-17T16:55:51.815Z"
      },
      {
        "duration": 11,
        "start_time": "2022-04-17T16:56:05.639Z"
      },
      {
        "duration": 30,
        "start_time": "2022-04-17T16:56:08.476Z"
      },
      {
        "duration": 28,
        "start_time": "2022-04-17T16:56:11.251Z"
      },
      {
        "duration": 22,
        "start_time": "2022-04-17T16:56:16.525Z"
      },
      {
        "duration": 17,
        "start_time": "2022-04-17T16:56:18.223Z"
      },
      {
        "duration": 29,
        "start_time": "2022-04-17T16:56:34.976Z"
      },
      {
        "duration": 15,
        "start_time": "2022-04-17T16:56:54.528Z"
      },
      {
        "duration": 11,
        "start_time": "2022-04-17T16:57:14.183Z"
      },
      {
        "duration": 12,
        "start_time": "2022-04-17T16:57:19.502Z"
      },
      {
        "duration": 21,
        "start_time": "2022-04-17T16:57:28.629Z"
      },
      {
        "duration": 14,
        "start_time": "2022-04-17T16:58:10.793Z"
      },
      {
        "duration": 14,
        "start_time": "2022-04-17T16:58:15.341Z"
      },
      {
        "duration": 12,
        "start_time": "2022-04-17T16:58:19.262Z"
      },
      {
        "duration": 14,
        "start_time": "2022-04-17T16:58:22.745Z"
      },
      {
        "duration": 11,
        "start_time": "2022-04-17T16:58:31.156Z"
      },
      {
        "duration": 11,
        "start_time": "2022-04-17T16:58:33.566Z"
      },
      {
        "duration": 13,
        "start_time": "2022-04-17T16:58:35.393Z"
      },
      {
        "duration": 19,
        "start_time": "2022-04-17T16:59:10.061Z"
      },
      {
        "duration": 140,
        "start_time": "2022-04-17T16:59:30.926Z"
      },
      {
        "duration": 33,
        "start_time": "2022-04-17T16:59:36.611Z"
      },
      {
        "duration": 10,
        "start_time": "2022-04-17T16:59:38.691Z"
      },
      {
        "duration": 10,
        "start_time": "2022-04-17T16:59:40.455Z"
      },
      {
        "duration": 12,
        "start_time": "2022-04-17T16:59:42.147Z"
      },
      {
        "duration": 15,
        "start_time": "2022-04-17T17:00:12.343Z"
      },
      {
        "duration": 164,
        "start_time": "2022-04-17T17:00:16.612Z"
      },
      {
        "duration": 11,
        "start_time": "2022-04-17T17:01:14.887Z"
      },
      {
        "duration": 11,
        "start_time": "2022-04-17T17:01:25.823Z"
      },
      {
        "duration": 11,
        "start_time": "2022-04-17T17:01:40.844Z"
      },
      {
        "duration": 51,
        "start_time": "2022-04-17T17:01:51.984Z"
      },
      {
        "duration": 23,
        "start_time": "2022-04-17T17:01:53.041Z"
      },
      {
        "duration": 13,
        "start_time": "2022-04-17T17:01:54.742Z"
      },
      {
        "duration": 31,
        "start_time": "2022-04-17T17:01:56.437Z"
      },
      {
        "duration": 123,
        "start_time": "2022-04-17T17:01:58.041Z"
      },
      {
        "duration": 128,
        "start_time": "2022-04-17T17:01:59.565Z"
      },
      {
        "duration": 138,
        "start_time": "2022-04-17T17:02:01.049Z"
      },
      {
        "duration": 130,
        "start_time": "2022-04-17T17:02:02.753Z"
      },
      {
        "duration": 11,
        "start_time": "2022-04-17T17:02:05.474Z"
      },
      {
        "duration": 6,
        "start_time": "2022-04-17T17:02:07.027Z"
      },
      {
        "duration": 6,
        "start_time": "2022-04-17T17:02:08.666Z"
      },
      {
        "duration": 6,
        "start_time": "2022-04-17T17:02:09.986Z"
      },
      {
        "duration": 5,
        "start_time": "2022-04-17T17:02:10.925Z"
      },
      {
        "duration": 8,
        "start_time": "2022-04-17T17:02:12.361Z"
      },
      {
        "duration": 55,
        "start_time": "2022-04-17T17:02:13.693Z"
      },
      {
        "duration": 12,
        "start_time": "2022-04-17T17:02:14.937Z"
      },
      {
        "duration": 7,
        "start_time": "2022-04-17T17:02:16.397Z"
      },
      {
        "duration": 162,
        "start_time": "2022-04-17T17:02:17.192Z"
      },
      {
        "duration": 16,
        "start_time": "2022-04-17T17:02:18.846Z"
      },
      {
        "duration": 4,
        "start_time": "2022-04-17T17:02:20.217Z"
      },
      {
        "duration": 325,
        "start_time": "2022-04-17T17:02:21.169Z"
      },
      {
        "duration": 153,
        "start_time": "2022-04-17T17:02:22.428Z"
      },
      {
        "duration": 11,
        "start_time": "2022-04-17T17:02:23.986Z"
      },
      {
        "duration": 6,
        "start_time": "2022-04-17T17:02:27.659Z"
      },
      {
        "duration": 151,
        "start_time": "2022-04-17T17:02:28.978Z"
      },
      {
        "duration": 6,
        "start_time": "2022-04-17T17:02:30.937Z"
      },
      {
        "duration": 8,
        "start_time": "2022-04-17T17:02:32.373Z"
      },
      {
        "duration": 13,
        "start_time": "2022-04-17T17:02:34.010Z"
      },
      {
        "duration": 16,
        "start_time": "2022-04-17T17:02:36.588Z"
      },
      {
        "duration": 6,
        "start_time": "2022-04-17T17:02:38.504Z"
      },
      {
        "duration": 16,
        "start_time": "2022-04-17T17:02:40.041Z"
      },
      {
        "duration": 6,
        "start_time": "2022-04-17T17:02:41.589Z"
      },
      {
        "duration": 18,
        "start_time": "2022-04-17T17:02:42.673Z"
      },
      {
        "duration": 5,
        "start_time": "2022-04-17T17:02:43.828Z"
      },
      {
        "duration": 10,
        "start_time": "2022-04-17T17:02:45.445Z"
      },
      {
        "duration": 19,
        "start_time": "2022-04-17T17:02:47.253Z"
      },
      {
        "duration": 23,
        "start_time": "2022-04-17T17:02:48.718Z"
      },
      {
        "duration": 19,
        "start_time": "2022-04-17T17:02:50.090Z"
      },
      {
        "duration": 30,
        "start_time": "2022-04-17T17:02:51.734Z"
      },
      {
        "duration": 11,
        "start_time": "2022-04-17T17:02:54.490Z"
      },
      {
        "duration": 10,
        "start_time": "2022-04-17T17:02:56.566Z"
      },
      {
        "duration": 22,
        "start_time": "2022-04-17T17:02:58.370Z"
      },
      {
        "duration": 144,
        "start_time": "2022-04-17T17:04:30.315Z"
      },
      {
        "duration": 71,
        "start_time": "2022-04-17T17:05:33.968Z"
      },
      {
        "duration": 70,
        "start_time": "2022-04-17T17:05:56.168Z"
      },
      {
        "duration": 141,
        "start_time": "2022-04-17T17:06:16.880Z"
      },
      {
        "duration": 14,
        "start_time": "2022-04-17T17:07:20.032Z"
      },
      {
        "duration": 12,
        "start_time": "2022-04-17T17:08:57.378Z"
      },
      {
        "duration": 3,
        "start_time": "2022-04-17T17:09:02.910Z"
      },
      {
        "duration": 8,
        "start_time": "2022-04-17T17:09:04.143Z"
      },
      {
        "duration": 20,
        "start_time": "2022-04-17T17:09:04.840Z"
      },
      {
        "duration": 13,
        "start_time": "2022-04-17T17:09:35.728Z"
      },
      {
        "duration": 13,
        "start_time": "2022-04-17T17:10:07.624Z"
      },
      {
        "duration": 14,
        "start_time": "2022-04-17T17:10:23.234Z"
      },
      {
        "duration": 12,
        "start_time": "2022-04-17T17:10:40.604Z"
      },
      {
        "duration": 7,
        "start_time": "2022-04-17T17:16:12.360Z"
      },
      {
        "duration": 12,
        "start_time": "2022-04-17T17:16:13.227Z"
      },
      {
        "duration": 12,
        "start_time": "2022-04-17T17:16:30.826Z"
      },
      {
        "duration": 14,
        "start_time": "2022-04-17T17:17:38.614Z"
      },
      {
        "duration": 10,
        "start_time": "2022-04-17T17:22:34.509Z"
      },
      {
        "duration": 16,
        "start_time": "2022-04-17T17:22:56.728Z"
      },
      {
        "duration": 13,
        "start_time": "2022-04-17T17:23:17.977Z"
      },
      {
        "duration": 12,
        "start_time": "2022-04-17T17:23:27.665Z"
      },
      {
        "duration": 14,
        "start_time": "2022-04-17T17:24:31.909Z"
      },
      {
        "duration": 1168,
        "start_time": "2022-04-17T17:25:11.868Z"
      },
      {
        "duration": 14,
        "start_time": "2022-04-17T17:25:19.198Z"
      },
      {
        "duration": 12,
        "start_time": "2022-04-17T17:26:31.383Z"
      },
      {
        "duration": 12,
        "start_time": "2022-04-17T17:28:23.107Z"
      },
      {
        "duration": 17,
        "start_time": "2022-04-17T17:30:04.035Z"
      },
      {
        "duration": 17,
        "start_time": "2022-04-17T17:30:11.741Z"
      },
      {
        "duration": 24,
        "start_time": "2022-04-17T17:30:19.505Z"
      },
      {
        "duration": 17,
        "start_time": "2022-04-17T17:30:30.337Z"
      },
      {
        "duration": 14,
        "start_time": "2022-04-17T17:30:48.101Z"
      },
      {
        "duration": 14,
        "start_time": "2022-04-17T17:30:53.470Z"
      },
      {
        "duration": 13,
        "start_time": "2022-04-17T17:32:22.411Z"
      },
      {
        "duration": 14,
        "start_time": "2022-04-17T17:32:25.983Z"
      },
      {
        "duration": 14,
        "start_time": "2022-04-17T17:32:27.978Z"
      },
      {
        "duration": 15,
        "start_time": "2022-04-17T17:32:29.739Z"
      },
      {
        "duration": 14,
        "start_time": "2022-04-17T17:32:41.550Z"
      },
      {
        "duration": 15,
        "start_time": "2022-04-17T17:35:01.154Z"
      },
      {
        "duration": 137,
        "start_time": "2022-04-17T17:37:47.951Z"
      },
      {
        "duration": 144,
        "start_time": "2022-04-17T17:38:35.797Z"
      },
      {
        "duration": 142,
        "start_time": "2022-04-17T17:38:45.421Z"
      },
      {
        "duration": 20,
        "start_time": "2022-04-17T17:39:05.882Z"
      },
      {
        "duration": 245,
        "start_time": "2022-04-17T17:40:08.475Z"
      },
      {
        "duration": 269,
        "start_time": "2022-04-17T17:40:18.142Z"
      },
      {
        "duration": 243,
        "start_time": "2022-04-17T17:41:35.345Z"
      },
      {
        "duration": 266,
        "start_time": "2022-04-17T17:42:07.670Z"
      },
      {
        "duration": 128,
        "start_time": "2022-04-17T17:42:30.638Z"
      },
      {
        "duration": 132,
        "start_time": "2022-04-17T17:42:37.764Z"
      },
      {
        "duration": 16,
        "start_time": "2022-04-17T17:44:53.310Z"
      },
      {
        "duration": 18,
        "start_time": "2022-04-17T17:45:05.722Z"
      },
      {
        "duration": 17,
        "start_time": "2022-04-17T17:45:37.488Z"
      },
      {
        "duration": 19,
        "start_time": "2022-04-17T17:46:03.080Z"
      },
      {
        "duration": 145,
        "start_time": "2022-04-17T17:47:12.330Z"
      },
      {
        "duration": 138,
        "start_time": "2022-04-17T17:47:22.415Z"
      },
      {
        "duration": 21,
        "start_time": "2022-04-17T17:47:47.246Z"
      },
      {
        "duration": 13,
        "start_time": "2022-04-17T17:49:45.576Z"
      },
      {
        "duration": 984,
        "start_time": "2022-04-17T17:51:07.168Z"
      },
      {
        "duration": 24,
        "start_time": "2022-04-17T17:51:18.203Z"
      },
      {
        "duration": 18,
        "start_time": "2022-04-17T17:51:24.587Z"
      },
      {
        "duration": 15,
        "start_time": "2022-04-17T18:02:31.009Z"
      }
    ],
    "kernelspec": {
      "display_name": "Python 3 (ipykernel)",
      "language": "python",
      "name": "python3"
    },
    "language_info": {
      "codemirror_mode": {
        "name": "ipython",
        "version": 3
      },
      "file_extension": ".py",
      "mimetype": "text/x-python",
      "name": "python",
      "nbconvert_exporter": "python",
      "pygments_lexer": "ipython3",
      "version": "3.9.5"
    },
    "toc": {
      "base_numbering": 1,
      "nav_menu": {},
      "number_sections": true,
      "sideBar": true,
      "skip_h1_title": true,
      "title_cell": "Table of Contents",
      "title_sidebar": "Contents",
      "toc_cell": false,
      "toc_position": {},
      "toc_section_display": true,
      "toc_window_display": false
    },
    "colab": {
      "provenance": []
    }
  },
  "nbformat": 4,
  "nbformat_minor": 5
}