{
  "cells": [
    {
      "cell_type": "markdown",
      "metadata": {
        "id": "mUnRfo5yp6ZR"
      },
      "source": [
        "# **Телеком**\n",
        "\n"
      ]
    },
    {
      "cell_type": "markdown",
      "metadata": {
        "id": "pzO-YwZHpP4K"
      },
      "source": [
        "### Описание проекта\n",
        "\n",
        "Оператор связи «Ниединогоразрыва.ком» хочет научиться прогнозировать отток клиентов. Если выяснится, что пользователь планирует уйти, ему будут предложены промокоды и специальные условия. Команда оператора собрала персональные данные о некоторых клиентах, информацию об их тарифах и договорах.\n",
        "\n",
        "### Описание услуг\n",
        "\n",
        "Оператор предоставляет два основных типа услуг: \n",
        "\n",
        "1. Стационарную телефонную связь. Возможно подключение телефонного аппарата к нескольким линиям одновременно.\n",
        "2. Интернет. Подключение может быть двух типов: через телефонную линию (DSL*,* от англ. *digital subscriber line*, «цифровая абонентская линия») или оптоволоконный кабель (*Fiber optic*).  \n",
        "\n",
        "Также доступны такие услуги:\n",
        "\n",
        "- Интернет-безопасность: антивирус (*DeviceProtection*) и блокировка небезопасных сайтов (*OnlineSecurity*);\n",
        "- Выделенная линия технической поддержки (*TechSupport*);\n",
        "- Облачное хранилище файлов для резервного копирования данных (*OnlineBackup*);\n",
        "- Стриминговое телевидение (*StreamingTV*) и каталог фильмов (*StreamingMovies*).\n",
        "\n",
        "За услуги клиенты могут платить каждый месяц или заключить договор на 1–2 года. Доступны различные способы расчёта и возможность получения электронного чека.\n",
        "\n",
        "### Описание данных\n",
        "\n",
        "Данные состоят из файлов, полученных из разных источников:\n",
        "\n",
        "- `contract.csv` — информация о договоре;\n",
        "- `personal.csv` — персональные данные клиента;\n",
        "- `internet.csv` — информация об интернет-услугах;\n",
        "- `phone.csv` — информация об услугах телефонии.\n",
        "\n",
        "Во всех файлах столбец `customerID` содержит код клиента.\n",
        "\n",
        "Информация о договорах актуальна на 1 февраля 2020.\n",
        "\n",
        "### Цель проекта:\n",
        "\n",
        "Построить модель, со значением метрики качества ROC_AUC не менее 0.85 на тестовой выборке, которая будет прогнозировать, уйдёт клиент от оператора связи в ближайшее время или нет, для того чтобы удержать клиента и вовремя предложить ему промокоды и специальные условия.\n",
        "\n",
        "\n",
        "\n",
        "\n",
        "\n"
      ]
    },
    {
      "cell_type": "markdown",
      "metadata": {
        "id": "LGoKnPdIrHji"
      },
      "source": [
        "### Примерный план работ:\n",
        "\n",
        "1. Загрузка библиотек и знакомство с данными\n",
        "* Загрузить данные и необходимые библиотеки\n",
        "* Проверить данные (типы данных, распределение данных, выбросы, пропуски и дубликаты)\n",
        "* Написать промежуточный вывод\n",
        "\n",
        "2. Предобработка данных  \n",
        "* При необходимости изменить типы данных\n",
        "* Если есть пропуски, выбросы и дубликаты, изучить их и обработать \n",
        "* Провести объединение данных для дальнейшей работы над проектом\n",
        "* Написать промежуточный вывод\n",
        "\n",
        "3. Исследовательский анализ данных\n",
        "* Построить графики распределения данных\n",
        "* Построить матрицу корреляции для количественных признаков\n",
        "* Провести отбор и анализ важных признаков\n",
        "* Проверить баланс целевого класса\n",
        "* Написать промежуточный вывод\n",
        "\n",
        "4. Подготовка данных для моделирования\n",
        "\n",
        "5. Моделирование\n",
        "* Провести борьбу с дисбалансом классов\n",
        "* Разбить выборку на тренировочную и тестовую выборку в соотношении 3:1.\n",
        "* Провести обучение моделей. Поскольку это задача классификации, подойдут такие модели как RandomForest, CatBoost\n",
        "* Проверить результаты на тестовой выборке\n",
        "* Посмотреть feature_importances_\n",
        "* Написать промежуточный вывод\n",
        "\n",
        "\n",
        "6. Выводы и тестирования лучшей модели\n"
      ]
    },
    {
      "cell_type": "markdown",
      "metadata": {
        "id": "FgIlmKA1JUfl"
      },
      "source": [
        "# Загрузка данных"
      ]
    },
    {
      "cell_type": "code",
      "execution_count": null,
      "metadata": {
        "id": "02_hEtX6PA5c",
        "outputId": "a0c7ea8d-9ebe-44b8-d02c-3766ae448d85"
      },
      "outputs": [
        {
          "name": "stdout",
          "output_type": "stream",
          "text": [
            "Collecting phik==0.10.0\n",
            "  Downloading phik-0.10.0-py3-none-any.whl (599 kB)\n",
            "\u001b[K     |████████████████████████████████| 599 kB 1.3 MB/s eta 0:00:01\n",
            "\u001b[?25hRequirement already satisfied: pandas>=0.23.4 in /opt/conda/lib/python3.9/site-packages (from phik==0.10.0) (1.2.4)\n",
            "Requirement already satisfied: joblib>=0.14.1 in /opt/conda/lib/python3.9/site-packages (from phik==0.10.0) (1.1.0)\n",
            "Requirement already satisfied: matplotlib>=2.2.3 in /opt/conda/lib/python3.9/site-packages (from phik==0.10.0) (3.3.4)\n",
            "Requirement already satisfied: scipy>=1.1.0 in /opt/conda/lib/python3.9/site-packages (from phik==0.10.0) (1.9.1)\n",
            "Requirement already satisfied: numpy>=1.15.4 in /opt/conda/lib/python3.9/site-packages (from phik==0.10.0) (1.21.1)\n",
            "Requirement already satisfied: numba>=0.38.1 in /opt/conda/lib/python3.9/site-packages (from phik==0.10.0) (0.56.0)\n",
            "Requirement already satisfied: pyparsing!=2.0.4,!=2.1.2,!=2.1.6,>=2.0.3 in /opt/conda/lib/python3.9/site-packages (from matplotlib>=2.2.3->phik==0.10.0) (2.4.7)\n",
            "Requirement already satisfied: kiwisolver>=1.0.1 in /opt/conda/lib/python3.9/site-packages (from matplotlib>=2.2.3->phik==0.10.0) (1.4.4)\n",
            "Requirement already satisfied: cycler>=0.10 in /opt/conda/lib/python3.9/site-packages (from matplotlib>=2.2.3->phik==0.10.0) (0.11.0)\n",
            "Requirement already satisfied: python-dateutil>=2.1 in /opt/conda/lib/python3.9/site-packages (from matplotlib>=2.2.3->phik==0.10.0) (2.8.1)\n",
            "Requirement already satisfied: pillow>=6.2.0 in /opt/conda/lib/python3.9/site-packages (from matplotlib>=2.2.3->phik==0.10.0) (8.4.0)\n",
            "Requirement already satisfied: setuptools in /opt/conda/lib/python3.9/site-packages (from numba>=0.38.1->phik==0.10.0) (49.6.0.post20210108)\n",
            "Requirement already satisfied: llvmlite<0.40,>=0.39.0dev0 in /opt/conda/lib/python3.9/site-packages (from numba>=0.38.1->phik==0.10.0) (0.39.0)\n",
            "Requirement already satisfied: pytz>=2017.3 in /opt/conda/lib/python3.9/site-packages (from pandas>=0.23.4->phik==0.10.0) (2021.1)\n",
            "Requirement already satisfied: six>=1.5 in /opt/conda/lib/python3.9/site-packages (from python-dateutil>=2.1->matplotlib>=2.2.3->phik==0.10.0) (1.16.0)\n",
            "Installing collected packages: phik\n",
            "Successfully installed phik-0.10.0\n",
            "Note: you may need to restart the kernel to use updated packages.\n"
          ]
        }
      ],
      "source": [
        "pip install phik==0.10.0"
      ]
    },
    {
      "cell_type": "code",
      "execution_count": null,
      "metadata": {
        "id": "u5qk1DLXm2Uz"
      },
      "outputs": [],
      "source": [
        "import pandas as pd\n",
        "import numpy as np\n",
        "import seaborn as sns\n",
        "import matplotlib.pyplot as plt\n",
        "import seaborn as sns\n",
        "from sklearn.preprocessing import OrdinalEncoder\n",
        "from sklearn.preprocessing import StandardScaler\n",
        "from sklearn.model_selection import train_test_split\n",
        "from sklearn.ensemble import RandomForestClassifier\n",
        "from catboost import CatBoostClassifier\n",
        "from sklearn.metrics import roc_auc_score\n",
        "from sklearn.model_selection import GridSearchCV\n",
        "from sklearn.metrics import roc_curve \n",
        "from sklearn.metrics import confusion_matrix\n",
        "from sklearn.dummy import DummyClassifier\n",
        "import phik\n",
        "from phik.report import plot_correlation_matrix\n",
        "from phik import report\n",
        "from sklearn import preprocessing\n",
        "import warnings; warnings.filterwarnings(\"ignore\");"
      ]
    },
    {
      "cell_type": "code",
      "execution_count": null,
      "metadata": {
        "id": "IZe1SKYgPA5h"
      },
      "outputs": [],
      "source": [
        "try:\n",
        "    contract = pd.read_csv('/datasets/final_provider/contract.csv')\n",
        "except:\n",
        "    contract = pd.read_csv('/content/drive/MyDrive/1. Яндекс.Практикум/Проекты/Финальный проект/Данные/contract.csv')"
      ]
    },
    {
      "cell_type": "code",
      "execution_count": null,
      "metadata": {
        "id": "dQ2e6tyJPA5i"
      },
      "outputs": [],
      "source": [
        "try:\n",
        "    personal = pd.read_csv('/datasets/final_provider/personal.csv')\n",
        "except:\n",
        "    personal = pd.read_csv('/content/drive/MyDrive/1. Яндекс.Практикум/Проекты/Финальный проект/Данные/personal.csv')"
      ]
    },
    {
      "cell_type": "code",
      "execution_count": null,
      "metadata": {
        "id": "2KhSBg-dPA5i"
      },
      "outputs": [],
      "source": [
        "try:\n",
        "    phone = pd.read_csv('/datasets/final_provider/phone.csv')\n",
        "except:\n",
        "    phone = pd.read_csv('/content/drive/MyDrive/1. Яндекс.Практикум/Проекты/Финальный проект/Данные/phone.csv')"
      ]
    },
    {
      "cell_type": "code",
      "execution_count": null,
      "metadata": {
        "id": "gh_lwxCzPA5j"
      },
      "outputs": [],
      "source": [
        "try:\n",
        "    internet = pd.read_csv('/datasets/final_provider/internet.csv')\n",
        "except:\n",
        "    internet =pd.read_csv('/content/drive/MyDrive/1. Яндекс.Практикум/Проекты/Финальный проект/Данные/internet.csv')"
      ]
    },
    {
      "cell_type": "markdown",
      "metadata": {
        "id": "xFRPZjN1OdAU"
      },
      "source": [
        "Напишем функцию для ознакомления с данными"
      ]
    },
    {
      "cell_type": "code",
      "execution_count": null,
      "metadata": {
        "id": "lm0EMC9778JU"
      },
      "outputs": [],
      "source": [
        "def view(df):\n",
        "    print('Сводная информация')\n",
        "    print()\n",
        "    df.info()\n",
        "    print()\n",
        "    print('Числовое описание данных')\n",
        "    print(df.describe(include='all'))\n",
        "    print()\n",
        "    print('Наличие пропусков')\n",
        "    print(df.isnull().sum())\n",
        "    print()\n",
        "    print('Наличие дубликатов')\n",
        "    print(df.duplicated().sum())\n",
        "    print()\n",
        "    print('Данные ')\n",
        "    print(display(df))\n",
        "    return"
      ]
    },
    {
      "cell_type": "code",
      "execution_count": null,
      "metadata": {
        "colab": {
          "base_uri": "https://localhost:8080/",
          "height": 1000
        },
        "id": "f55h0v6JnqvK",
        "outputId": "5fb82985-cc57-4b51-853f-9e85d638d6d7",
        "scrolled": true
      },
      "outputs": [
        {
          "name": "stdout",
          "output_type": "stream",
          "text": [
            "Сводная информация\n",
            "\n",
            "<class 'pandas.core.frame.DataFrame'>\n",
            "RangeIndex: 7043 entries, 0 to 7042\n",
            "Data columns (total 8 columns):\n",
            " #   Column            Non-Null Count  Dtype  \n",
            "---  ------            --------------  -----  \n",
            " 0   customerID        7043 non-null   object \n",
            " 1   BeginDate         7043 non-null   object \n",
            " 2   EndDate           7043 non-null   object \n",
            " 3   Type              7043 non-null   object \n",
            " 4   PaperlessBilling  7043 non-null   object \n",
            " 5   PaymentMethod     7043 non-null   object \n",
            " 6   MonthlyCharges    7043 non-null   float64\n",
            " 7   TotalCharges      7043 non-null   object \n",
            "dtypes: float64(1), object(7)\n",
            "memory usage: 440.3+ KB\n",
            "\n",
            "Числовое описание данных\n",
            "        customerID   BeginDate EndDate            Type PaperlessBilling  \\\n",
            "count         7043        7043    7043            7043             7043   \n",
            "unique        7043          77       5               3                2   \n",
            "top     8980-WQFWL  2014-02-01      No  Month-to-month              Yes   \n",
            "freq             1         366    5174            3875             4171   \n",
            "mean           NaN         NaN     NaN             NaN              NaN   \n",
            "std            NaN         NaN     NaN             NaN              NaN   \n",
            "min            NaN         NaN     NaN             NaN              NaN   \n",
            "25%            NaN         NaN     NaN             NaN              NaN   \n",
            "50%            NaN         NaN     NaN             NaN              NaN   \n",
            "75%            NaN         NaN     NaN             NaN              NaN   \n",
            "max            NaN         NaN     NaN             NaN              NaN   \n",
            "\n",
            "           PaymentMethod  MonthlyCharges TotalCharges  \n",
            "count               7043     7043.000000         7043  \n",
            "unique                 4             NaN         6531  \n",
            "top     Electronic check             NaN               \n",
            "freq                2365             NaN           11  \n",
            "mean                 NaN       64.761692          NaN  \n",
            "std                  NaN       30.090047          NaN  \n",
            "min                  NaN       18.250000          NaN  \n",
            "25%                  NaN       35.500000          NaN  \n",
            "50%                  NaN       70.350000          NaN  \n",
            "75%                  NaN       89.850000          NaN  \n",
            "max                  NaN      118.750000          NaN  \n",
            "\n",
            "Наличие пропусков\n",
            "customerID          0\n",
            "BeginDate           0\n",
            "EndDate             0\n",
            "Type                0\n",
            "PaperlessBilling    0\n",
            "PaymentMethod       0\n",
            "MonthlyCharges      0\n",
            "TotalCharges        0\n",
            "dtype: int64\n",
            "\n",
            "Наличие дубликатов\n",
            "0\n",
            "\n",
            "Данные \n"
          ]
        },
        {
          "data": {
            "text/html": [
              "<div>\n",
              "<style scoped>\n",
              "    .dataframe tbody tr th:only-of-type {\n",
              "        vertical-align: middle;\n",
              "    }\n",
              "\n",
              "    .dataframe tbody tr th {\n",
              "        vertical-align: top;\n",
              "    }\n",
              "\n",
              "    .dataframe thead th {\n",
              "        text-align: right;\n",
              "    }\n",
              "</style>\n",
              "<table border=\"1\" class=\"dataframe\">\n",
              "  <thead>\n",
              "    <tr style=\"text-align: right;\">\n",
              "      <th></th>\n",
              "      <th>customerID</th>\n",
              "      <th>BeginDate</th>\n",
              "      <th>EndDate</th>\n",
              "      <th>Type</th>\n",
              "      <th>PaperlessBilling</th>\n",
              "      <th>PaymentMethod</th>\n",
              "      <th>MonthlyCharges</th>\n",
              "      <th>TotalCharges</th>\n",
              "    </tr>\n",
              "  </thead>\n",
              "  <tbody>\n",
              "    <tr>\n",
              "      <th>0</th>\n",
              "      <td>7590-VHVEG</td>\n",
              "      <td>2020-01-01</td>\n",
              "      <td>No</td>\n",
              "      <td>Month-to-month</td>\n",
              "      <td>Yes</td>\n",
              "      <td>Electronic check</td>\n",
              "      <td>29.85</td>\n",
              "      <td>29.85</td>\n",
              "    </tr>\n",
              "    <tr>\n",
              "      <th>1</th>\n",
              "      <td>5575-GNVDE</td>\n",
              "      <td>2017-04-01</td>\n",
              "      <td>No</td>\n",
              "      <td>One year</td>\n",
              "      <td>No</td>\n",
              "      <td>Mailed check</td>\n",
              "      <td>56.95</td>\n",
              "      <td>1889.5</td>\n",
              "    </tr>\n",
              "    <tr>\n",
              "      <th>2</th>\n",
              "      <td>3668-QPYBK</td>\n",
              "      <td>2019-10-01</td>\n",
              "      <td>2019-12-01 00:00:00</td>\n",
              "      <td>Month-to-month</td>\n",
              "      <td>Yes</td>\n",
              "      <td>Mailed check</td>\n",
              "      <td>53.85</td>\n",
              "      <td>108.15</td>\n",
              "    </tr>\n",
              "    <tr>\n",
              "      <th>3</th>\n",
              "      <td>7795-CFOCW</td>\n",
              "      <td>2016-05-01</td>\n",
              "      <td>No</td>\n",
              "      <td>One year</td>\n",
              "      <td>No</td>\n",
              "      <td>Bank transfer (automatic)</td>\n",
              "      <td>42.30</td>\n",
              "      <td>1840.75</td>\n",
              "    </tr>\n",
              "    <tr>\n",
              "      <th>4</th>\n",
              "      <td>9237-HQITU</td>\n",
              "      <td>2019-09-01</td>\n",
              "      <td>2019-11-01 00:00:00</td>\n",
              "      <td>Month-to-month</td>\n",
              "      <td>Yes</td>\n",
              "      <td>Electronic check</td>\n",
              "      <td>70.70</td>\n",
              "      <td>151.65</td>\n",
              "    </tr>\n",
              "    <tr>\n",
              "      <th>...</th>\n",
              "      <td>...</td>\n",
              "      <td>...</td>\n",
              "      <td>...</td>\n",
              "      <td>...</td>\n",
              "      <td>...</td>\n",
              "      <td>...</td>\n",
              "      <td>...</td>\n",
              "      <td>...</td>\n",
              "    </tr>\n",
              "    <tr>\n",
              "      <th>7038</th>\n",
              "      <td>6840-RESVB</td>\n",
              "      <td>2018-02-01</td>\n",
              "      <td>No</td>\n",
              "      <td>One year</td>\n",
              "      <td>Yes</td>\n",
              "      <td>Mailed check</td>\n",
              "      <td>84.80</td>\n",
              "      <td>1990.5</td>\n",
              "    </tr>\n",
              "    <tr>\n",
              "      <th>7039</th>\n",
              "      <td>2234-XADUH</td>\n",
              "      <td>2014-02-01</td>\n",
              "      <td>No</td>\n",
              "      <td>One year</td>\n",
              "      <td>Yes</td>\n",
              "      <td>Credit card (automatic)</td>\n",
              "      <td>103.20</td>\n",
              "      <td>7362.9</td>\n",
              "    </tr>\n",
              "    <tr>\n",
              "      <th>7040</th>\n",
              "      <td>4801-JZAZL</td>\n",
              "      <td>2019-03-01</td>\n",
              "      <td>No</td>\n",
              "      <td>Month-to-month</td>\n",
              "      <td>Yes</td>\n",
              "      <td>Electronic check</td>\n",
              "      <td>29.60</td>\n",
              "      <td>346.45</td>\n",
              "    </tr>\n",
              "    <tr>\n",
              "      <th>7041</th>\n",
              "      <td>8361-LTMKD</td>\n",
              "      <td>2019-07-01</td>\n",
              "      <td>2019-11-01 00:00:00</td>\n",
              "      <td>Month-to-month</td>\n",
              "      <td>Yes</td>\n",
              "      <td>Mailed check</td>\n",
              "      <td>74.40</td>\n",
              "      <td>306.6</td>\n",
              "    </tr>\n",
              "    <tr>\n",
              "      <th>7042</th>\n",
              "      <td>3186-AJIEK</td>\n",
              "      <td>2014-08-01</td>\n",
              "      <td>No</td>\n",
              "      <td>Two year</td>\n",
              "      <td>Yes</td>\n",
              "      <td>Bank transfer (automatic)</td>\n",
              "      <td>105.65</td>\n",
              "      <td>6844.5</td>\n",
              "    </tr>\n",
              "  </tbody>\n",
              "</table>\n",
              "<p>7043 rows × 8 columns</p>\n",
              "</div>"
            ],
            "text/plain": [
              "      customerID   BeginDate              EndDate            Type  \\\n",
              "0     7590-VHVEG  2020-01-01                   No  Month-to-month   \n",
              "1     5575-GNVDE  2017-04-01                   No        One year   \n",
              "2     3668-QPYBK  2019-10-01  2019-12-01 00:00:00  Month-to-month   \n",
              "3     7795-CFOCW  2016-05-01                   No        One year   \n",
              "4     9237-HQITU  2019-09-01  2019-11-01 00:00:00  Month-to-month   \n",
              "...          ...         ...                  ...             ...   \n",
              "7038  6840-RESVB  2018-02-01                   No        One year   \n",
              "7039  2234-XADUH  2014-02-01                   No        One year   \n",
              "7040  4801-JZAZL  2019-03-01                   No  Month-to-month   \n",
              "7041  8361-LTMKD  2019-07-01  2019-11-01 00:00:00  Month-to-month   \n",
              "7042  3186-AJIEK  2014-08-01                   No        Two year   \n",
              "\n",
              "     PaperlessBilling              PaymentMethod  MonthlyCharges TotalCharges  \n",
              "0                 Yes           Electronic check           29.85        29.85  \n",
              "1                  No               Mailed check           56.95       1889.5  \n",
              "2                 Yes               Mailed check           53.85       108.15  \n",
              "3                  No  Bank transfer (automatic)           42.30      1840.75  \n",
              "4                 Yes           Electronic check           70.70       151.65  \n",
              "...               ...                        ...             ...          ...  \n",
              "7038              Yes               Mailed check           84.80       1990.5  \n",
              "7039              Yes    Credit card (automatic)          103.20       7362.9  \n",
              "7040              Yes           Electronic check           29.60       346.45  \n",
              "7041              Yes               Mailed check           74.40        306.6  \n",
              "7042              Yes  Bank transfer (automatic)          105.65       6844.5  \n",
              "\n",
              "[7043 rows x 8 columns]"
            ]
          },
          "metadata": {},
          "output_type": "display_data"
        },
        {
          "name": "stdout",
          "output_type": "stream",
          "text": [
            "None\n"
          ]
        }
      ],
      "source": [
        "view(contract)"
      ]
    },
    {
      "cell_type": "code",
      "execution_count": null,
      "metadata": {
        "colab": {
          "base_uri": "https://localhost:8080/",
          "height": 1000
        },
        "id": "6bYYokc5ocIa",
        "outputId": "0d9f73c9-47ad-4dfc-f232-74c0b778585c",
        "scrolled": true
      },
      "outputs": [
        {
          "name": "stdout",
          "output_type": "stream",
          "text": [
            "Сводная информация\n",
            "\n",
            "<class 'pandas.core.frame.DataFrame'>\n",
            "RangeIndex: 7043 entries, 0 to 7042\n",
            "Data columns (total 5 columns):\n",
            " #   Column         Non-Null Count  Dtype \n",
            "---  ------         --------------  ----- \n",
            " 0   customerID     7043 non-null   object\n",
            " 1   gender         7043 non-null   object\n",
            " 2   SeniorCitizen  7043 non-null   int64 \n",
            " 3   Partner        7043 non-null   object\n",
            " 4   Dependents     7043 non-null   object\n",
            "dtypes: int64(1), object(4)\n",
            "memory usage: 275.2+ KB\n",
            "\n",
            "Числовое описание данных\n",
            "        customerID gender  SeniorCitizen Partner Dependents\n",
            "count         7043   7043    7043.000000    7043       7043\n",
            "unique        7043      2            NaN       2          2\n",
            "top     8980-WQFWL   Male            NaN      No         No\n",
            "freq             1   3555            NaN    3641       4933\n",
            "mean           NaN    NaN       0.162147     NaN        NaN\n",
            "std            NaN    NaN       0.368612     NaN        NaN\n",
            "min            NaN    NaN       0.000000     NaN        NaN\n",
            "25%            NaN    NaN       0.000000     NaN        NaN\n",
            "50%            NaN    NaN       0.000000     NaN        NaN\n",
            "75%            NaN    NaN       0.000000     NaN        NaN\n",
            "max            NaN    NaN       1.000000     NaN        NaN\n",
            "\n",
            "Наличие пропусков\n",
            "customerID       0\n",
            "gender           0\n",
            "SeniorCitizen    0\n",
            "Partner          0\n",
            "Dependents       0\n",
            "dtype: int64\n",
            "\n",
            "Наличие дубликатов\n",
            "0\n",
            "\n",
            "Данные \n"
          ]
        },
        {
          "data": {
            "text/html": [
              "<div>\n",
              "<style scoped>\n",
              "    .dataframe tbody tr th:only-of-type {\n",
              "        vertical-align: middle;\n",
              "    }\n",
              "\n",
              "    .dataframe tbody tr th {\n",
              "        vertical-align: top;\n",
              "    }\n",
              "\n",
              "    .dataframe thead th {\n",
              "        text-align: right;\n",
              "    }\n",
              "</style>\n",
              "<table border=\"1\" class=\"dataframe\">\n",
              "  <thead>\n",
              "    <tr style=\"text-align: right;\">\n",
              "      <th></th>\n",
              "      <th>customerID</th>\n",
              "      <th>gender</th>\n",
              "      <th>SeniorCitizen</th>\n",
              "      <th>Partner</th>\n",
              "      <th>Dependents</th>\n",
              "    </tr>\n",
              "  </thead>\n",
              "  <tbody>\n",
              "    <tr>\n",
              "      <th>0</th>\n",
              "      <td>7590-VHVEG</td>\n",
              "      <td>Female</td>\n",
              "      <td>0</td>\n",
              "      <td>Yes</td>\n",
              "      <td>No</td>\n",
              "    </tr>\n",
              "    <tr>\n",
              "      <th>1</th>\n",
              "      <td>5575-GNVDE</td>\n",
              "      <td>Male</td>\n",
              "      <td>0</td>\n",
              "      <td>No</td>\n",
              "      <td>No</td>\n",
              "    </tr>\n",
              "    <tr>\n",
              "      <th>2</th>\n",
              "      <td>3668-QPYBK</td>\n",
              "      <td>Male</td>\n",
              "      <td>0</td>\n",
              "      <td>No</td>\n",
              "      <td>No</td>\n",
              "    </tr>\n",
              "    <tr>\n",
              "      <th>3</th>\n",
              "      <td>7795-CFOCW</td>\n",
              "      <td>Male</td>\n",
              "      <td>0</td>\n",
              "      <td>No</td>\n",
              "      <td>No</td>\n",
              "    </tr>\n",
              "    <tr>\n",
              "      <th>4</th>\n",
              "      <td>9237-HQITU</td>\n",
              "      <td>Female</td>\n",
              "      <td>0</td>\n",
              "      <td>No</td>\n",
              "      <td>No</td>\n",
              "    </tr>\n",
              "    <tr>\n",
              "      <th>...</th>\n",
              "      <td>...</td>\n",
              "      <td>...</td>\n",
              "      <td>...</td>\n",
              "      <td>...</td>\n",
              "      <td>...</td>\n",
              "    </tr>\n",
              "    <tr>\n",
              "      <th>7038</th>\n",
              "      <td>6840-RESVB</td>\n",
              "      <td>Male</td>\n",
              "      <td>0</td>\n",
              "      <td>Yes</td>\n",
              "      <td>Yes</td>\n",
              "    </tr>\n",
              "    <tr>\n",
              "      <th>7039</th>\n",
              "      <td>2234-XADUH</td>\n",
              "      <td>Female</td>\n",
              "      <td>0</td>\n",
              "      <td>Yes</td>\n",
              "      <td>Yes</td>\n",
              "    </tr>\n",
              "    <tr>\n",
              "      <th>7040</th>\n",
              "      <td>4801-JZAZL</td>\n",
              "      <td>Female</td>\n",
              "      <td>0</td>\n",
              "      <td>Yes</td>\n",
              "      <td>Yes</td>\n",
              "    </tr>\n",
              "    <tr>\n",
              "      <th>7041</th>\n",
              "      <td>8361-LTMKD</td>\n",
              "      <td>Male</td>\n",
              "      <td>1</td>\n",
              "      <td>Yes</td>\n",
              "      <td>No</td>\n",
              "    </tr>\n",
              "    <tr>\n",
              "      <th>7042</th>\n",
              "      <td>3186-AJIEK</td>\n",
              "      <td>Male</td>\n",
              "      <td>0</td>\n",
              "      <td>No</td>\n",
              "      <td>No</td>\n",
              "    </tr>\n",
              "  </tbody>\n",
              "</table>\n",
              "<p>7043 rows × 5 columns</p>\n",
              "</div>"
            ],
            "text/plain": [
              "      customerID  gender  SeniorCitizen Partner Dependents\n",
              "0     7590-VHVEG  Female              0     Yes         No\n",
              "1     5575-GNVDE    Male              0      No         No\n",
              "2     3668-QPYBK    Male              0      No         No\n",
              "3     7795-CFOCW    Male              0      No         No\n",
              "4     9237-HQITU  Female              0      No         No\n",
              "...          ...     ...            ...     ...        ...\n",
              "7038  6840-RESVB    Male              0     Yes        Yes\n",
              "7039  2234-XADUH  Female              0     Yes        Yes\n",
              "7040  4801-JZAZL  Female              0     Yes        Yes\n",
              "7041  8361-LTMKD    Male              1     Yes         No\n",
              "7042  3186-AJIEK    Male              0      No         No\n",
              "\n",
              "[7043 rows x 5 columns]"
            ]
          },
          "metadata": {},
          "output_type": "display_data"
        },
        {
          "name": "stdout",
          "output_type": "stream",
          "text": [
            "None\n"
          ]
        }
      ],
      "source": [
        "view(personal)"
      ]
    },
    {
      "cell_type": "code",
      "execution_count": null,
      "metadata": {
        "colab": {
          "base_uri": "https://localhost:8080/",
          "height": 1000
        },
        "id": "vh1UY1qooeTK",
        "outputId": "7c45125e-8cd8-4f04-8f2c-829a620bb1d1",
        "scrolled": true
      },
      "outputs": [
        {
          "name": "stdout",
          "output_type": "stream",
          "text": [
            "Сводная информация\n",
            "\n",
            "<class 'pandas.core.frame.DataFrame'>\n",
            "RangeIndex: 5517 entries, 0 to 5516\n",
            "Data columns (total 8 columns):\n",
            " #   Column            Non-Null Count  Dtype \n",
            "---  ------            --------------  ----- \n",
            " 0   customerID        5517 non-null   object\n",
            " 1   InternetService   5517 non-null   object\n",
            " 2   OnlineSecurity    5517 non-null   object\n",
            " 3   OnlineBackup      5517 non-null   object\n",
            " 4   DeviceProtection  5517 non-null   object\n",
            " 5   TechSupport       5517 non-null   object\n",
            " 6   StreamingTV       5517 non-null   object\n",
            " 7   StreamingMovies   5517 non-null   object\n",
            "dtypes: object(8)\n",
            "memory usage: 344.9+ KB\n",
            "\n",
            "Числовое описание данных\n",
            "        customerID InternetService OnlineSecurity OnlineBackup  \\\n",
            "count         5517            5517           5517         5517   \n",
            "unique        5517               2              2            2   \n",
            "top     8980-WQFWL     Fiber optic             No           No   \n",
            "freq             1            3096           3498         3088   \n",
            "\n",
            "       DeviceProtection TechSupport StreamingTV StreamingMovies  \n",
            "count              5517        5517        5517            5517  \n",
            "unique                2           2           2               2  \n",
            "top                  No          No          No              No  \n",
            "freq               3095        3473        2810            2785  \n",
            "\n",
            "Наличие пропусков\n",
            "customerID          0\n",
            "InternetService     0\n",
            "OnlineSecurity      0\n",
            "OnlineBackup        0\n",
            "DeviceProtection    0\n",
            "TechSupport         0\n",
            "StreamingTV         0\n",
            "StreamingMovies     0\n",
            "dtype: int64\n",
            "\n",
            "Наличие дубликатов\n",
            "0\n",
            "\n",
            "Данные \n"
          ]
        },
        {
          "data": {
            "text/html": [
              "<div>\n",
              "<style scoped>\n",
              "    .dataframe tbody tr th:only-of-type {\n",
              "        vertical-align: middle;\n",
              "    }\n",
              "\n",
              "    .dataframe tbody tr th {\n",
              "        vertical-align: top;\n",
              "    }\n",
              "\n",
              "    .dataframe thead th {\n",
              "        text-align: right;\n",
              "    }\n",
              "</style>\n",
              "<table border=\"1\" class=\"dataframe\">\n",
              "  <thead>\n",
              "    <tr style=\"text-align: right;\">\n",
              "      <th></th>\n",
              "      <th>customerID</th>\n",
              "      <th>InternetService</th>\n",
              "      <th>OnlineSecurity</th>\n",
              "      <th>OnlineBackup</th>\n",
              "      <th>DeviceProtection</th>\n",
              "      <th>TechSupport</th>\n",
              "      <th>StreamingTV</th>\n",
              "      <th>StreamingMovies</th>\n",
              "    </tr>\n",
              "  </thead>\n",
              "  <tbody>\n",
              "    <tr>\n",
              "      <th>0</th>\n",
              "      <td>7590-VHVEG</td>\n",
              "      <td>DSL</td>\n",
              "      <td>No</td>\n",
              "      <td>Yes</td>\n",
              "      <td>No</td>\n",
              "      <td>No</td>\n",
              "      <td>No</td>\n",
              "      <td>No</td>\n",
              "    </tr>\n",
              "    <tr>\n",
              "      <th>1</th>\n",
              "      <td>5575-GNVDE</td>\n",
              "      <td>DSL</td>\n",
              "      <td>Yes</td>\n",
              "      <td>No</td>\n",
              "      <td>Yes</td>\n",
              "      <td>No</td>\n",
              "      <td>No</td>\n",
              "      <td>No</td>\n",
              "    </tr>\n",
              "    <tr>\n",
              "      <th>2</th>\n",
              "      <td>3668-QPYBK</td>\n",
              "      <td>DSL</td>\n",
              "      <td>Yes</td>\n",
              "      <td>Yes</td>\n",
              "      <td>No</td>\n",
              "      <td>No</td>\n",
              "      <td>No</td>\n",
              "      <td>No</td>\n",
              "    </tr>\n",
              "    <tr>\n",
              "      <th>3</th>\n",
              "      <td>7795-CFOCW</td>\n",
              "      <td>DSL</td>\n",
              "      <td>Yes</td>\n",
              "      <td>No</td>\n",
              "      <td>Yes</td>\n",
              "      <td>Yes</td>\n",
              "      <td>No</td>\n",
              "      <td>No</td>\n",
              "    </tr>\n",
              "    <tr>\n",
              "      <th>4</th>\n",
              "      <td>9237-HQITU</td>\n",
              "      <td>Fiber optic</td>\n",
              "      <td>No</td>\n",
              "      <td>No</td>\n",
              "      <td>No</td>\n",
              "      <td>No</td>\n",
              "      <td>No</td>\n",
              "      <td>No</td>\n",
              "    </tr>\n",
              "    <tr>\n",
              "      <th>...</th>\n",
              "      <td>...</td>\n",
              "      <td>...</td>\n",
              "      <td>...</td>\n",
              "      <td>...</td>\n",
              "      <td>...</td>\n",
              "      <td>...</td>\n",
              "      <td>...</td>\n",
              "      <td>...</td>\n",
              "    </tr>\n",
              "    <tr>\n",
              "      <th>5512</th>\n",
              "      <td>6840-RESVB</td>\n",
              "      <td>DSL</td>\n",
              "      <td>Yes</td>\n",
              "      <td>No</td>\n",
              "      <td>Yes</td>\n",
              "      <td>Yes</td>\n",
              "      <td>Yes</td>\n",
              "      <td>Yes</td>\n",
              "    </tr>\n",
              "    <tr>\n",
              "      <th>5513</th>\n",
              "      <td>2234-XADUH</td>\n",
              "      <td>Fiber optic</td>\n",
              "      <td>No</td>\n",
              "      <td>Yes</td>\n",
              "      <td>Yes</td>\n",
              "      <td>No</td>\n",
              "      <td>Yes</td>\n",
              "      <td>Yes</td>\n",
              "    </tr>\n",
              "    <tr>\n",
              "      <th>5514</th>\n",
              "      <td>4801-JZAZL</td>\n",
              "      <td>DSL</td>\n",
              "      <td>Yes</td>\n",
              "      <td>No</td>\n",
              "      <td>No</td>\n",
              "      <td>No</td>\n",
              "      <td>No</td>\n",
              "      <td>No</td>\n",
              "    </tr>\n",
              "    <tr>\n",
              "      <th>5515</th>\n",
              "      <td>8361-LTMKD</td>\n",
              "      <td>Fiber optic</td>\n",
              "      <td>No</td>\n",
              "      <td>No</td>\n",
              "      <td>No</td>\n",
              "      <td>No</td>\n",
              "      <td>No</td>\n",
              "      <td>No</td>\n",
              "    </tr>\n",
              "    <tr>\n",
              "      <th>5516</th>\n",
              "      <td>3186-AJIEK</td>\n",
              "      <td>Fiber optic</td>\n",
              "      <td>Yes</td>\n",
              "      <td>No</td>\n",
              "      <td>Yes</td>\n",
              "      <td>Yes</td>\n",
              "      <td>Yes</td>\n",
              "      <td>Yes</td>\n",
              "    </tr>\n",
              "  </tbody>\n",
              "</table>\n",
              "<p>5517 rows × 8 columns</p>\n",
              "</div>"
            ],
            "text/plain": [
              "      customerID InternetService OnlineSecurity OnlineBackup DeviceProtection  \\\n",
              "0     7590-VHVEG             DSL             No          Yes               No   \n",
              "1     5575-GNVDE             DSL            Yes           No              Yes   \n",
              "2     3668-QPYBK             DSL            Yes          Yes               No   \n",
              "3     7795-CFOCW             DSL            Yes           No              Yes   \n",
              "4     9237-HQITU     Fiber optic             No           No               No   \n",
              "...          ...             ...            ...          ...              ...   \n",
              "5512  6840-RESVB             DSL            Yes           No              Yes   \n",
              "5513  2234-XADUH     Fiber optic             No          Yes              Yes   \n",
              "5514  4801-JZAZL             DSL            Yes           No               No   \n",
              "5515  8361-LTMKD     Fiber optic             No           No               No   \n",
              "5516  3186-AJIEK     Fiber optic            Yes           No              Yes   \n",
              "\n",
              "     TechSupport StreamingTV StreamingMovies  \n",
              "0             No          No              No  \n",
              "1             No          No              No  \n",
              "2             No          No              No  \n",
              "3            Yes          No              No  \n",
              "4             No          No              No  \n",
              "...          ...         ...             ...  \n",
              "5512         Yes         Yes             Yes  \n",
              "5513          No         Yes             Yes  \n",
              "5514          No          No              No  \n",
              "5515          No          No              No  \n",
              "5516         Yes         Yes             Yes  \n",
              "\n",
              "[5517 rows x 8 columns]"
            ]
          },
          "metadata": {},
          "output_type": "display_data"
        },
        {
          "name": "stdout",
          "output_type": "stream",
          "text": [
            "None\n"
          ]
        }
      ],
      "source": [
        "view(internet)"
      ]
    },
    {
      "cell_type": "code",
      "execution_count": null,
      "metadata": {
        "colab": {
          "base_uri": "https://localhost:8080/",
          "height": 927
        },
        "id": "M_AkRIDJoiyS",
        "outputId": "e73ec332-0925-4efe-85cc-6b136bc94817"
      },
      "outputs": [
        {
          "name": "stdout",
          "output_type": "stream",
          "text": [
            "Сводная информация\n",
            "\n",
            "<class 'pandas.core.frame.DataFrame'>\n",
            "RangeIndex: 6361 entries, 0 to 6360\n",
            "Data columns (total 2 columns):\n",
            " #   Column         Non-Null Count  Dtype \n",
            "---  ------         --------------  ----- \n",
            " 0   customerID     6361 non-null   object\n",
            " 1   MultipleLines  6361 non-null   object\n",
            "dtypes: object(2)\n",
            "memory usage: 99.5+ KB\n",
            "\n",
            "Числовое описание данных\n",
            "        customerID MultipleLines\n",
            "count         6361          6361\n",
            "unique        6361             2\n",
            "top     8980-WQFWL            No\n",
            "freq             1          3390\n",
            "\n",
            "Наличие пропусков\n",
            "customerID       0\n",
            "MultipleLines    0\n",
            "dtype: int64\n",
            "\n",
            "Наличие дубликатов\n",
            "0\n",
            "\n",
            "Данные \n"
          ]
        },
        {
          "data": {
            "text/html": [
              "<div>\n",
              "<style scoped>\n",
              "    .dataframe tbody tr th:only-of-type {\n",
              "        vertical-align: middle;\n",
              "    }\n",
              "\n",
              "    .dataframe tbody tr th {\n",
              "        vertical-align: top;\n",
              "    }\n",
              "\n",
              "    .dataframe thead th {\n",
              "        text-align: right;\n",
              "    }\n",
              "</style>\n",
              "<table border=\"1\" class=\"dataframe\">\n",
              "  <thead>\n",
              "    <tr style=\"text-align: right;\">\n",
              "      <th></th>\n",
              "      <th>customerID</th>\n",
              "      <th>MultipleLines</th>\n",
              "    </tr>\n",
              "  </thead>\n",
              "  <tbody>\n",
              "    <tr>\n",
              "      <th>0</th>\n",
              "      <td>5575-GNVDE</td>\n",
              "      <td>No</td>\n",
              "    </tr>\n",
              "    <tr>\n",
              "      <th>1</th>\n",
              "      <td>3668-QPYBK</td>\n",
              "      <td>No</td>\n",
              "    </tr>\n",
              "    <tr>\n",
              "      <th>2</th>\n",
              "      <td>9237-HQITU</td>\n",
              "      <td>No</td>\n",
              "    </tr>\n",
              "    <tr>\n",
              "      <th>3</th>\n",
              "      <td>9305-CDSKC</td>\n",
              "      <td>Yes</td>\n",
              "    </tr>\n",
              "    <tr>\n",
              "      <th>4</th>\n",
              "      <td>1452-KIOVK</td>\n",
              "      <td>Yes</td>\n",
              "    </tr>\n",
              "    <tr>\n",
              "      <th>...</th>\n",
              "      <td>...</td>\n",
              "      <td>...</td>\n",
              "    </tr>\n",
              "    <tr>\n",
              "      <th>6356</th>\n",
              "      <td>2569-WGERO</td>\n",
              "      <td>No</td>\n",
              "    </tr>\n",
              "    <tr>\n",
              "      <th>6357</th>\n",
              "      <td>6840-RESVB</td>\n",
              "      <td>Yes</td>\n",
              "    </tr>\n",
              "    <tr>\n",
              "      <th>6358</th>\n",
              "      <td>2234-XADUH</td>\n",
              "      <td>Yes</td>\n",
              "    </tr>\n",
              "    <tr>\n",
              "      <th>6359</th>\n",
              "      <td>8361-LTMKD</td>\n",
              "      <td>Yes</td>\n",
              "    </tr>\n",
              "    <tr>\n",
              "      <th>6360</th>\n",
              "      <td>3186-AJIEK</td>\n",
              "      <td>No</td>\n",
              "    </tr>\n",
              "  </tbody>\n",
              "</table>\n",
              "<p>6361 rows × 2 columns</p>\n",
              "</div>"
            ],
            "text/plain": [
              "      customerID MultipleLines\n",
              "0     5575-GNVDE            No\n",
              "1     3668-QPYBK            No\n",
              "2     9237-HQITU            No\n",
              "3     9305-CDSKC           Yes\n",
              "4     1452-KIOVK           Yes\n",
              "...          ...           ...\n",
              "6356  2569-WGERO            No\n",
              "6357  6840-RESVB           Yes\n",
              "6358  2234-XADUH           Yes\n",
              "6359  8361-LTMKD           Yes\n",
              "6360  3186-AJIEK            No\n",
              "\n",
              "[6361 rows x 2 columns]"
            ]
          },
          "metadata": {},
          "output_type": "display_data"
        },
        {
          "name": "stdout",
          "output_type": "stream",
          "text": [
            "None\n"
          ]
        }
      ],
      "source": [
        "view(phone)"
      ]
    },
    {
      "cell_type": "markdown",
      "metadata": {
        "id": "Cg8IYgbnJnQ-"
      },
      "source": [
        "## Промежуточный вывод\n",
        "\n",
        "Данные были загружены, выведена информация о датасетах, описание числовых данных, данные проверены на пропуски и дубликаты.\n",
        "\n",
        "В файле contract (информация о договоре) всего 7043 строк. Данные \n",
        "Файл имеет информацию о датах с неправильным типом данных (begindate и enddate). Столбец totalcharges имеет неверный тип данных.\n",
        "\n",
        "В файле personal (персональные данные клиента) предсталены персональные данные клиентов, всего 7043 строк, как и договоров. \n",
        "\n",
        "В файле internet (информация об интернет-услугах) всего 5517 строк, это означает, что не все клиенты пользуются интернет-услугами\n",
        "\n",
        "В файле phone (информация об услугах телефонии) всего 6360 строк, это означает, не все пользуются многоканальной линией или услуга только телефонии без интернета??? *(дописать позже после уточнения)* \n",
        "\n",
        "Во всех файлах стилистически неверно указаны наименования столбцов. Пропусков и дубликатов нет.\n"
      ]
    },
    {
      "cell_type": "markdown",
      "metadata": {
        "id": "YbSykNGoJcZg"
      },
      "source": [
        "# Предобработка данных"
      ]
    },
    {
      "cell_type": "markdown",
      "metadata": {
        "id": "96XkC2H4On3Q"
      },
      "source": [
        "Переведем наименование столбцов всех файлов к нижнему регистру."
      ]
    },
    {
      "cell_type": "code",
      "execution_count": null,
      "metadata": {
        "id": "VD7Jw6CfBVeo"
      },
      "outputs": [],
      "source": [
        "contract.columns = contract.columns.str.lower()\n",
        "personal.columns = personal.columns.str.lower()\n",
        "internet.columns = internet.columns.str.lower()\n",
        "phone.columns = phone.columns.str.lower()"
      ]
    },
    {
      "cell_type": "markdown",
      "metadata": {
        "id": "ZAomFG5rE2ym"
      },
      "source": [
        "Заменим тип данных в столбце begin_date на правильный (формат даты)."
      ]
    },
    {
      "cell_type": "code",
      "execution_count": null,
      "metadata": {
        "id": "7SOFZfo1Aizr"
      },
      "outputs": [],
      "source": [
        "contract['begindate'] =  contract['begindate'].apply(pd.to_datetime)"
      ]
    },
    {
      "cell_type": "markdown",
      "metadata": {
        "id": "KmchiQbKL2-3"
      },
      "source": [
        "На основании информации о датах в столбце enddate, создадим столбец с целевых признаком, назовем его exited. 0 - вышел, 1 - остался клиентом."
      ]
    },
    {
      "cell_type": "code",
      "execution_count": null,
      "metadata": {
        "id": "tNXRtg2APA5s",
        "outputId": "4c76896b-77cb-4196-b859-c4fed2f6cfe9"
      },
      "outputs": [
        {
          "name": "stdout",
          "output_type": "stream",
          "text": [
            "<class 'pandas.core.frame.DataFrame'>\n",
            "RangeIndex: 7043 entries, 0 to 7042\n",
            "Data columns (total 8 columns):\n",
            " #   Column            Non-Null Count  Dtype         \n",
            "---  ------            --------------  -----         \n",
            " 0   customerid        7043 non-null   object        \n",
            " 1   begindate         7043 non-null   datetime64[ns]\n",
            " 2   enddate           7043 non-null   object        \n",
            " 3   type              7043 non-null   object        \n",
            " 4   paperlessbilling  7043 non-null   object        \n",
            " 5   paymentmethod     7043 non-null   object        \n",
            " 6   monthlycharges    7043 non-null   float64       \n",
            " 7   totalcharges      7043 non-null   object        \n",
            "dtypes: datetime64[ns](1), float64(1), object(6)\n",
            "memory usage: 440.3+ KB\n"
          ]
        }
      ],
      "source": [
        "contract.info()"
      ]
    },
    {
      "cell_type": "code",
      "execution_count": null,
      "metadata": {
        "id": "wPPRRp97LLso"
      },
      "outputs": [],
      "source": [
        "contract.loc[contract['enddate'] == 'No', 'exited'] = 0\n",
        "contract.loc[contract['enddate'] != 'No', 'exited'] = 1"
      ]
    },
    {
      "cell_type": "code",
      "execution_count": null,
      "metadata": {
        "id": "jNLnIdlrPA5t"
      },
      "outputs": [],
      "source": [
        "contract['exited'] = contract['exited'].astype(int)"
      ]
    },
    {
      "cell_type": "markdown",
      "metadata": {
        "id": "0yC7PEbeFFig"
      },
      "source": [
        "А вот заменить тип данных в столбце end_date не получится, поскольку здесь есть текстовые значения 'No', поэтому сначала заменим их на дату выгрузки данных (2020-02-01), а после изменим тип данных."
      ]
    },
    {
      "cell_type": "code",
      "execution_count": null,
      "metadata": {
        "id": "E1W0RllFFEdU"
      },
      "outputs": [],
      "source": [
        "contract['enddate'] = contract['enddate'].replace('No','2020-02-01')"
      ]
    },
    {
      "cell_type": "code",
      "execution_count": null,
      "metadata": {
        "id": "j4BMTilvF6Hc"
      },
      "outputs": [],
      "source": [
        "contract['enddate'] =  contract['enddate'].apply(pd.to_datetime)"
      ]
    },
    {
      "cell_type": "markdown",
      "metadata": {
        "id": "bb0VIaEH-XVP"
      },
      "source": [
        "В датасете contract total_charges тип данных object, а должен быть float,\n",
        "поскольку это числовые данные. Но просто так преобразовать данные не получалось, поэтому поискала что же с ними не так и оказалось, что есть данные вот в таком виде \" \".  \n",
        "\n",
        "Поскольку в дате заключения договора стоит дата 2020-02-01 (дата выгрузки данных), т.е. договор заключен в день выгрузки и данных по total_charges еще нет, клиент еще не оплатил (или информация об оплате еще не прошла). Это всего 11 строк, поэтому удалим эти данные."
      ]
    },
    {
      "cell_type": "code",
      "execution_count": null,
      "metadata": {
        "colab": {
          "base_uri": "https://localhost:8080/",
          "height": 395
        },
        "id": "AZ8A16Ua9xLr",
        "outputId": "e878da93-5d96-4072-e7a9-0350fdbb92bf"
      },
      "outputs": [
        {
          "data": {
            "text/html": [
              "<div>\n",
              "<style scoped>\n",
              "    .dataframe tbody tr th:only-of-type {\n",
              "        vertical-align: middle;\n",
              "    }\n",
              "\n",
              "    .dataframe tbody tr th {\n",
              "        vertical-align: top;\n",
              "    }\n",
              "\n",
              "    .dataframe thead th {\n",
              "        text-align: right;\n",
              "    }\n",
              "</style>\n",
              "<table border=\"1\" class=\"dataframe\">\n",
              "  <thead>\n",
              "    <tr style=\"text-align: right;\">\n",
              "      <th></th>\n",
              "      <th>customerid</th>\n",
              "      <th>begindate</th>\n",
              "      <th>enddate</th>\n",
              "      <th>type</th>\n",
              "      <th>paperlessbilling</th>\n",
              "      <th>paymentmethod</th>\n",
              "      <th>monthlycharges</th>\n",
              "      <th>totalcharges</th>\n",
              "      <th>exited</th>\n",
              "    </tr>\n",
              "  </thead>\n",
              "  <tbody>\n",
              "    <tr>\n",
              "      <th>488</th>\n",
              "      <td>4472-LVYGI</td>\n",
              "      <td>2020-02-01</td>\n",
              "      <td>2020-02-01</td>\n",
              "      <td>Two year</td>\n",
              "      <td>Yes</td>\n",
              "      <td>Bank transfer (automatic)</td>\n",
              "      <td>52.55</td>\n",
              "      <td></td>\n",
              "      <td>0</td>\n",
              "    </tr>\n",
              "    <tr>\n",
              "      <th>753</th>\n",
              "      <td>3115-CZMZD</td>\n",
              "      <td>2020-02-01</td>\n",
              "      <td>2020-02-01</td>\n",
              "      <td>Two year</td>\n",
              "      <td>No</td>\n",
              "      <td>Mailed check</td>\n",
              "      <td>20.25</td>\n",
              "      <td></td>\n",
              "      <td>0</td>\n",
              "    </tr>\n",
              "    <tr>\n",
              "      <th>936</th>\n",
              "      <td>5709-LVOEQ</td>\n",
              "      <td>2020-02-01</td>\n",
              "      <td>2020-02-01</td>\n",
              "      <td>Two year</td>\n",
              "      <td>No</td>\n",
              "      <td>Mailed check</td>\n",
              "      <td>80.85</td>\n",
              "      <td></td>\n",
              "      <td>0</td>\n",
              "    </tr>\n",
              "    <tr>\n",
              "      <th>1082</th>\n",
              "      <td>4367-NUYAO</td>\n",
              "      <td>2020-02-01</td>\n",
              "      <td>2020-02-01</td>\n",
              "      <td>Two year</td>\n",
              "      <td>No</td>\n",
              "      <td>Mailed check</td>\n",
              "      <td>25.75</td>\n",
              "      <td></td>\n",
              "      <td>0</td>\n",
              "    </tr>\n",
              "    <tr>\n",
              "      <th>1340</th>\n",
              "      <td>1371-DWPAZ</td>\n",
              "      <td>2020-02-01</td>\n",
              "      <td>2020-02-01</td>\n",
              "      <td>Two year</td>\n",
              "      <td>No</td>\n",
              "      <td>Credit card (automatic)</td>\n",
              "      <td>56.05</td>\n",
              "      <td></td>\n",
              "      <td>0</td>\n",
              "    </tr>\n",
              "    <tr>\n",
              "      <th>3331</th>\n",
              "      <td>7644-OMVMY</td>\n",
              "      <td>2020-02-01</td>\n",
              "      <td>2020-02-01</td>\n",
              "      <td>Two year</td>\n",
              "      <td>No</td>\n",
              "      <td>Mailed check</td>\n",
              "      <td>19.85</td>\n",
              "      <td></td>\n",
              "      <td>0</td>\n",
              "    </tr>\n",
              "    <tr>\n",
              "      <th>3826</th>\n",
              "      <td>3213-VVOLG</td>\n",
              "      <td>2020-02-01</td>\n",
              "      <td>2020-02-01</td>\n",
              "      <td>Two year</td>\n",
              "      <td>No</td>\n",
              "      <td>Mailed check</td>\n",
              "      <td>25.35</td>\n",
              "      <td></td>\n",
              "      <td>0</td>\n",
              "    </tr>\n",
              "    <tr>\n",
              "      <th>4380</th>\n",
              "      <td>2520-SGTTA</td>\n",
              "      <td>2020-02-01</td>\n",
              "      <td>2020-02-01</td>\n",
              "      <td>Two year</td>\n",
              "      <td>No</td>\n",
              "      <td>Mailed check</td>\n",
              "      <td>20.00</td>\n",
              "      <td></td>\n",
              "      <td>0</td>\n",
              "    </tr>\n",
              "    <tr>\n",
              "      <th>5218</th>\n",
              "      <td>2923-ARZLG</td>\n",
              "      <td>2020-02-01</td>\n",
              "      <td>2020-02-01</td>\n",
              "      <td>One year</td>\n",
              "      <td>Yes</td>\n",
              "      <td>Mailed check</td>\n",
              "      <td>19.70</td>\n",
              "      <td></td>\n",
              "      <td>0</td>\n",
              "    </tr>\n",
              "    <tr>\n",
              "      <th>6670</th>\n",
              "      <td>4075-WKNIU</td>\n",
              "      <td>2020-02-01</td>\n",
              "      <td>2020-02-01</td>\n",
              "      <td>Two year</td>\n",
              "      <td>No</td>\n",
              "      <td>Mailed check</td>\n",
              "      <td>73.35</td>\n",
              "      <td></td>\n",
              "      <td>0</td>\n",
              "    </tr>\n",
              "    <tr>\n",
              "      <th>6754</th>\n",
              "      <td>2775-SEFEE</td>\n",
              "      <td>2020-02-01</td>\n",
              "      <td>2020-02-01</td>\n",
              "      <td>Two year</td>\n",
              "      <td>Yes</td>\n",
              "      <td>Bank transfer (automatic)</td>\n",
              "      <td>61.90</td>\n",
              "      <td></td>\n",
              "      <td>0</td>\n",
              "    </tr>\n",
              "  </tbody>\n",
              "</table>\n",
              "</div>"
            ],
            "text/plain": [
              "      customerid  begindate    enddate      type paperlessbilling  \\\n",
              "488   4472-LVYGI 2020-02-01 2020-02-01  Two year              Yes   \n",
              "753   3115-CZMZD 2020-02-01 2020-02-01  Two year               No   \n",
              "936   5709-LVOEQ 2020-02-01 2020-02-01  Two year               No   \n",
              "1082  4367-NUYAO 2020-02-01 2020-02-01  Two year               No   \n",
              "1340  1371-DWPAZ 2020-02-01 2020-02-01  Two year               No   \n",
              "3331  7644-OMVMY 2020-02-01 2020-02-01  Two year               No   \n",
              "3826  3213-VVOLG 2020-02-01 2020-02-01  Two year               No   \n",
              "4380  2520-SGTTA 2020-02-01 2020-02-01  Two year               No   \n",
              "5218  2923-ARZLG 2020-02-01 2020-02-01  One year              Yes   \n",
              "6670  4075-WKNIU 2020-02-01 2020-02-01  Two year               No   \n",
              "6754  2775-SEFEE 2020-02-01 2020-02-01  Two year              Yes   \n",
              "\n",
              "                  paymentmethod  monthlycharges totalcharges  exited  \n",
              "488   Bank transfer (automatic)           52.55                    0  \n",
              "753                Mailed check           20.25                    0  \n",
              "936                Mailed check           80.85                    0  \n",
              "1082               Mailed check           25.75                    0  \n",
              "1340    Credit card (automatic)           56.05                    0  \n",
              "3331               Mailed check           19.85                    0  \n",
              "3826               Mailed check           25.35                    0  \n",
              "4380               Mailed check           20.00                    0  \n",
              "5218               Mailed check           19.70                    0  \n",
              "6670               Mailed check           73.35                    0  \n",
              "6754  Bank transfer (automatic)           61.90                    0  "
            ]
          },
          "execution_count": 19,
          "metadata": {},
          "output_type": "execute_result"
        }
      ],
      "source": [
        "contract[contract['totalcharges'] == ' ']"
      ]
    },
    {
      "cell_type": "code",
      "execution_count": null,
      "metadata": {
        "id": "QITHy3PKPA5w"
      },
      "outputs": [],
      "source": [
        "contract.loc[contract['totalcharges'] == ' ', 'totalcharges'] = np.nan"
      ]
    },
    {
      "cell_type": "code",
      "execution_count": null,
      "metadata": {
        "id": "-Vocz-IYPA5w"
      },
      "outputs": [],
      "source": [
        "contract['totalcharges'][(contract['type'] == 'Two year') & (contract['begindate'] == '2020-02-01')] = contract['totalcharges'].fillna(contract['monthlycharges']*24)"
      ]
    },
    {
      "cell_type": "code",
      "execution_count": null,
      "metadata": {
        "id": "ZRTRXtRsPA5x"
      },
      "outputs": [],
      "source": [
        "contract['totalcharges'][(contract['type'] == 'One year') & (contract['begindate'] == '2020-02-01')] = contract['totalcharges'].fillna(contract['monthlycharges']*12)"
      ]
    },
    {
      "cell_type": "code",
      "execution_count": null,
      "metadata": {
        "id": "yrrDj2mMPA5x",
        "outputId": "9979ba69-2591-4ad9-c363-294760fc7e36"
      },
      "outputs": [
        {
          "data": {
            "text/html": [
              "<div>\n",
              "<style scoped>\n",
              "    .dataframe tbody tr th:only-of-type {\n",
              "        vertical-align: middle;\n",
              "    }\n",
              "\n",
              "    .dataframe tbody tr th {\n",
              "        vertical-align: top;\n",
              "    }\n",
              "\n",
              "    .dataframe thead th {\n",
              "        text-align: right;\n",
              "    }\n",
              "</style>\n",
              "<table border=\"1\" class=\"dataframe\">\n",
              "  <thead>\n",
              "    <tr style=\"text-align: right;\">\n",
              "      <th></th>\n",
              "      <th>customerid</th>\n",
              "      <th>begindate</th>\n",
              "      <th>enddate</th>\n",
              "      <th>type</th>\n",
              "      <th>paperlessbilling</th>\n",
              "      <th>paymentmethod</th>\n",
              "      <th>monthlycharges</th>\n",
              "      <th>totalcharges</th>\n",
              "      <th>exited</th>\n",
              "    </tr>\n",
              "  </thead>\n",
              "  <tbody>\n",
              "    <tr>\n",
              "      <th>488</th>\n",
              "      <td>4472-LVYGI</td>\n",
              "      <td>2020-02-01</td>\n",
              "      <td>2020-02-01</td>\n",
              "      <td>Two year</td>\n",
              "      <td>Yes</td>\n",
              "      <td>Bank transfer (automatic)</td>\n",
              "      <td>52.55</td>\n",
              "      <td>1261.2</td>\n",
              "      <td>0</td>\n",
              "    </tr>\n",
              "    <tr>\n",
              "      <th>753</th>\n",
              "      <td>3115-CZMZD</td>\n",
              "      <td>2020-02-01</td>\n",
              "      <td>2020-02-01</td>\n",
              "      <td>Two year</td>\n",
              "      <td>No</td>\n",
              "      <td>Mailed check</td>\n",
              "      <td>20.25</td>\n",
              "      <td>486.0</td>\n",
              "      <td>0</td>\n",
              "    </tr>\n",
              "    <tr>\n",
              "      <th>936</th>\n",
              "      <td>5709-LVOEQ</td>\n",
              "      <td>2020-02-01</td>\n",
              "      <td>2020-02-01</td>\n",
              "      <td>Two year</td>\n",
              "      <td>No</td>\n",
              "      <td>Mailed check</td>\n",
              "      <td>80.85</td>\n",
              "      <td>1940.4</td>\n",
              "      <td>0</td>\n",
              "    </tr>\n",
              "    <tr>\n",
              "      <th>1082</th>\n",
              "      <td>4367-NUYAO</td>\n",
              "      <td>2020-02-01</td>\n",
              "      <td>2020-02-01</td>\n",
              "      <td>Two year</td>\n",
              "      <td>No</td>\n",
              "      <td>Mailed check</td>\n",
              "      <td>25.75</td>\n",
              "      <td>618.0</td>\n",
              "      <td>0</td>\n",
              "    </tr>\n",
              "    <tr>\n",
              "      <th>1340</th>\n",
              "      <td>1371-DWPAZ</td>\n",
              "      <td>2020-02-01</td>\n",
              "      <td>2020-02-01</td>\n",
              "      <td>Two year</td>\n",
              "      <td>No</td>\n",
              "      <td>Credit card (automatic)</td>\n",
              "      <td>56.05</td>\n",
              "      <td>1345.2</td>\n",
              "      <td>0</td>\n",
              "    </tr>\n",
              "    <tr>\n",
              "      <th>3331</th>\n",
              "      <td>7644-OMVMY</td>\n",
              "      <td>2020-02-01</td>\n",
              "      <td>2020-02-01</td>\n",
              "      <td>Two year</td>\n",
              "      <td>No</td>\n",
              "      <td>Mailed check</td>\n",
              "      <td>19.85</td>\n",
              "      <td>476.4</td>\n",
              "      <td>0</td>\n",
              "    </tr>\n",
              "    <tr>\n",
              "      <th>3826</th>\n",
              "      <td>3213-VVOLG</td>\n",
              "      <td>2020-02-01</td>\n",
              "      <td>2020-02-01</td>\n",
              "      <td>Two year</td>\n",
              "      <td>No</td>\n",
              "      <td>Mailed check</td>\n",
              "      <td>25.35</td>\n",
              "      <td>608.4</td>\n",
              "      <td>0</td>\n",
              "    </tr>\n",
              "    <tr>\n",
              "      <th>4380</th>\n",
              "      <td>2520-SGTTA</td>\n",
              "      <td>2020-02-01</td>\n",
              "      <td>2020-02-01</td>\n",
              "      <td>Two year</td>\n",
              "      <td>No</td>\n",
              "      <td>Mailed check</td>\n",
              "      <td>20.00</td>\n",
              "      <td>480.0</td>\n",
              "      <td>0</td>\n",
              "    </tr>\n",
              "    <tr>\n",
              "      <th>5218</th>\n",
              "      <td>2923-ARZLG</td>\n",
              "      <td>2020-02-01</td>\n",
              "      <td>2020-02-01</td>\n",
              "      <td>One year</td>\n",
              "      <td>Yes</td>\n",
              "      <td>Mailed check</td>\n",
              "      <td>19.70</td>\n",
              "      <td>236.4</td>\n",
              "      <td>0</td>\n",
              "    </tr>\n",
              "    <tr>\n",
              "      <th>6670</th>\n",
              "      <td>4075-WKNIU</td>\n",
              "      <td>2020-02-01</td>\n",
              "      <td>2020-02-01</td>\n",
              "      <td>Two year</td>\n",
              "      <td>No</td>\n",
              "      <td>Mailed check</td>\n",
              "      <td>73.35</td>\n",
              "      <td>1760.4</td>\n",
              "      <td>0</td>\n",
              "    </tr>\n",
              "    <tr>\n",
              "      <th>6754</th>\n",
              "      <td>2775-SEFEE</td>\n",
              "      <td>2020-02-01</td>\n",
              "      <td>2020-02-01</td>\n",
              "      <td>Two year</td>\n",
              "      <td>Yes</td>\n",
              "      <td>Bank transfer (automatic)</td>\n",
              "      <td>61.90</td>\n",
              "      <td>1485.6</td>\n",
              "      <td>0</td>\n",
              "    </tr>\n",
              "  </tbody>\n",
              "</table>\n",
              "</div>"
            ],
            "text/plain": [
              "      customerid  begindate    enddate      type paperlessbilling  \\\n",
              "488   4472-LVYGI 2020-02-01 2020-02-01  Two year              Yes   \n",
              "753   3115-CZMZD 2020-02-01 2020-02-01  Two year               No   \n",
              "936   5709-LVOEQ 2020-02-01 2020-02-01  Two year               No   \n",
              "1082  4367-NUYAO 2020-02-01 2020-02-01  Two year               No   \n",
              "1340  1371-DWPAZ 2020-02-01 2020-02-01  Two year               No   \n",
              "3331  7644-OMVMY 2020-02-01 2020-02-01  Two year               No   \n",
              "3826  3213-VVOLG 2020-02-01 2020-02-01  Two year               No   \n",
              "4380  2520-SGTTA 2020-02-01 2020-02-01  Two year               No   \n",
              "5218  2923-ARZLG 2020-02-01 2020-02-01  One year              Yes   \n",
              "6670  4075-WKNIU 2020-02-01 2020-02-01  Two year               No   \n",
              "6754  2775-SEFEE 2020-02-01 2020-02-01  Two year              Yes   \n",
              "\n",
              "                  paymentmethod  monthlycharges totalcharges  exited  \n",
              "488   Bank transfer (automatic)           52.55       1261.2       0  \n",
              "753                Mailed check           20.25        486.0       0  \n",
              "936                Mailed check           80.85       1940.4       0  \n",
              "1082               Mailed check           25.75        618.0       0  \n",
              "1340    Credit card (automatic)           56.05       1345.2       0  \n",
              "3331               Mailed check           19.85        476.4       0  \n",
              "3826               Mailed check           25.35        608.4       0  \n",
              "4380               Mailed check           20.00        480.0       0  \n",
              "5218               Mailed check           19.70        236.4       0  \n",
              "6670               Mailed check           73.35       1760.4       0  \n",
              "6754  Bank transfer (automatic)           61.90       1485.6       0  "
            ]
          },
          "execution_count": 23,
          "metadata": {},
          "output_type": "execute_result"
        }
      ],
      "source": [
        "contract[contract['begindate'] == '2020-02-01']"
      ]
    },
    {
      "cell_type": "code",
      "execution_count": null,
      "metadata": {
        "id": "xtH8GGmNCoYP"
      },
      "outputs": [],
      "source": [
        "contract['totalcharges'] = contract['totalcharges'].astype(float)"
      ]
    },
    {
      "cell_type": "code",
      "execution_count": null,
      "metadata": {
        "colab": {
          "base_uri": "https://localhost:8080/"
        },
        "id": "TbTiT5FTEb24",
        "outputId": "d1eb210b-444f-4388-94c0-2fefcc5cb73e"
      },
      "outputs": [
        {
          "data": {
            "text/plain": [
              "count    7043.000000\n",
              "mean     2281.253259\n",
              "std      2265.703526\n",
              "min        18.800000\n",
              "25%       401.900000\n",
              "50%      1396.250000\n",
              "75%      3786.600000\n",
              "max      8684.800000\n",
              "Name: totalcharges, dtype: float64"
            ]
          },
          "execution_count": 25,
          "metadata": {},
          "output_type": "execute_result"
        }
      ],
      "source": [
        "contract['totalcharges'].describe()"
      ]
    },
    {
      "cell_type": "markdown",
      "metadata": {
        "id": "ruROpIlxP_76"
      },
      "source": [
        "Не хватает столбца с количеством дней, сколько клиент пользуется услугами оператора связи, поэтому добавим его и назовем days."
      ]
    },
    {
      "cell_type": "code",
      "execution_count": null,
      "metadata": {
        "id": "g1jtqWQ5PqC3"
      },
      "outputs": [],
      "source": [
        "contract['days'] = (contract['enddate'] - contract['begindate']).dt.days"
      ]
    },
    {
      "cell_type": "markdown",
      "metadata": {
        "id": "PHKPOUPJsCIA"
      },
      "source": [
        "Проверяем внесенные изменения."
      ]
    },
    {
      "cell_type": "code",
      "execution_count": null,
      "metadata": {
        "colab": {
          "base_uri": "https://localhost:8080/"
        },
        "id": "axZ-0hUt_34R",
        "outputId": "8c971807-cfe5-4247-e846-4a40ed3acf7e"
      },
      "outputs": [
        {
          "name": "stdout",
          "output_type": "stream",
          "text": [
            "<class 'pandas.core.frame.DataFrame'>\n",
            "RangeIndex: 7043 entries, 0 to 7042\n",
            "Data columns (total 10 columns):\n",
            " #   Column            Non-Null Count  Dtype         \n",
            "---  ------            --------------  -----         \n",
            " 0   customerid        7043 non-null   object        \n",
            " 1   begindate         7043 non-null   datetime64[ns]\n",
            " 2   enddate           7043 non-null   datetime64[ns]\n",
            " 3   type              7043 non-null   object        \n",
            " 4   paperlessbilling  7043 non-null   object        \n",
            " 5   paymentmethod     7043 non-null   object        \n",
            " 6   monthlycharges    7043 non-null   float64       \n",
            " 7   totalcharges      7043 non-null   float64       \n",
            " 8   exited            7043 non-null   int64         \n",
            " 9   days              7043 non-null   int64         \n",
            "dtypes: datetime64[ns](2), float64(2), int64(2), object(4)\n",
            "memory usage: 550.4+ KB\n"
          ]
        }
      ],
      "source": [
        "contract.info()"
      ]
    },
    {
      "cell_type": "code",
      "execution_count": null,
      "metadata": {
        "colab": {
          "base_uri": "https://localhost:8080/",
          "height": 206
        },
        "id": "cKNrsNO0P7-i",
        "outputId": "6d0764b3-4b51-429e-be80-d8463cff1fcf"
      },
      "outputs": [
        {
          "data": {
            "text/html": [
              "<div>\n",
              "<style scoped>\n",
              "    .dataframe tbody tr th:only-of-type {\n",
              "        vertical-align: middle;\n",
              "    }\n",
              "\n",
              "    .dataframe tbody tr th {\n",
              "        vertical-align: top;\n",
              "    }\n",
              "\n",
              "    .dataframe thead th {\n",
              "        text-align: right;\n",
              "    }\n",
              "</style>\n",
              "<table border=\"1\" class=\"dataframe\">\n",
              "  <thead>\n",
              "    <tr style=\"text-align: right;\">\n",
              "      <th></th>\n",
              "      <th>customerid</th>\n",
              "      <th>begindate</th>\n",
              "      <th>enddate</th>\n",
              "      <th>type</th>\n",
              "      <th>paperlessbilling</th>\n",
              "      <th>paymentmethod</th>\n",
              "      <th>monthlycharges</th>\n",
              "      <th>totalcharges</th>\n",
              "      <th>exited</th>\n",
              "      <th>days</th>\n",
              "    </tr>\n",
              "  </thead>\n",
              "  <tbody>\n",
              "    <tr>\n",
              "      <th>0</th>\n",
              "      <td>7590-VHVEG</td>\n",
              "      <td>2020-01-01</td>\n",
              "      <td>2020-02-01</td>\n",
              "      <td>Month-to-month</td>\n",
              "      <td>Yes</td>\n",
              "      <td>Electronic check</td>\n",
              "      <td>29.85</td>\n",
              "      <td>29.85</td>\n",
              "      <td>0</td>\n",
              "      <td>31</td>\n",
              "    </tr>\n",
              "    <tr>\n",
              "      <th>1</th>\n",
              "      <td>5575-GNVDE</td>\n",
              "      <td>2017-04-01</td>\n",
              "      <td>2020-02-01</td>\n",
              "      <td>One year</td>\n",
              "      <td>No</td>\n",
              "      <td>Mailed check</td>\n",
              "      <td>56.95</td>\n",
              "      <td>1889.50</td>\n",
              "      <td>0</td>\n",
              "      <td>1036</td>\n",
              "    </tr>\n",
              "    <tr>\n",
              "      <th>2</th>\n",
              "      <td>3668-QPYBK</td>\n",
              "      <td>2019-10-01</td>\n",
              "      <td>2019-12-01</td>\n",
              "      <td>Month-to-month</td>\n",
              "      <td>Yes</td>\n",
              "      <td>Mailed check</td>\n",
              "      <td>53.85</td>\n",
              "      <td>108.15</td>\n",
              "      <td>1</td>\n",
              "      <td>61</td>\n",
              "    </tr>\n",
              "    <tr>\n",
              "      <th>3</th>\n",
              "      <td>7795-CFOCW</td>\n",
              "      <td>2016-05-01</td>\n",
              "      <td>2020-02-01</td>\n",
              "      <td>One year</td>\n",
              "      <td>No</td>\n",
              "      <td>Bank transfer (automatic)</td>\n",
              "      <td>42.30</td>\n",
              "      <td>1840.75</td>\n",
              "      <td>0</td>\n",
              "      <td>1371</td>\n",
              "    </tr>\n",
              "    <tr>\n",
              "      <th>4</th>\n",
              "      <td>9237-HQITU</td>\n",
              "      <td>2019-09-01</td>\n",
              "      <td>2019-11-01</td>\n",
              "      <td>Month-to-month</td>\n",
              "      <td>Yes</td>\n",
              "      <td>Electronic check</td>\n",
              "      <td>70.70</td>\n",
              "      <td>151.65</td>\n",
              "      <td>1</td>\n",
              "      <td>61</td>\n",
              "    </tr>\n",
              "  </tbody>\n",
              "</table>\n",
              "</div>"
            ],
            "text/plain": [
              "   customerid  begindate    enddate            type paperlessbilling  \\\n",
              "0  7590-VHVEG 2020-01-01 2020-02-01  Month-to-month              Yes   \n",
              "1  5575-GNVDE 2017-04-01 2020-02-01        One year               No   \n",
              "2  3668-QPYBK 2019-10-01 2019-12-01  Month-to-month              Yes   \n",
              "3  7795-CFOCW 2016-05-01 2020-02-01        One year               No   \n",
              "4  9237-HQITU 2019-09-01 2019-11-01  Month-to-month              Yes   \n",
              "\n",
              "               paymentmethod  monthlycharges  totalcharges  exited  days  \n",
              "0           Electronic check           29.85         29.85       0    31  \n",
              "1               Mailed check           56.95       1889.50       0  1036  \n",
              "2               Mailed check           53.85        108.15       1    61  \n",
              "3  Bank transfer (automatic)           42.30       1840.75       0  1371  \n",
              "4           Electronic check           70.70        151.65       1    61  "
            ]
          },
          "execution_count": 28,
          "metadata": {},
          "output_type": "execute_result"
        }
      ],
      "source": [
        "contract.head()"
      ]
    },
    {
      "cell_type": "markdown",
      "metadata": {
        "id": "v6AlLZLhsK7R"
      },
      "source": [
        "Объединим все файлы в один для дальнейшей работы. *Не получалось объеденить 1 строчкой кода, поэтому сделала 3-мя.*"
      ]
    },
    {
      "cell_type": "code",
      "execution_count": null,
      "metadata": {
        "colab": {
          "base_uri": "https://localhost:8080/"
        },
        "id": "h-WkTrHBG6MV",
        "outputId": "1791d5e2-8eaf-4851-ae00-072cad03b619"
      },
      "outputs": [
        {
          "data": {
            "text/plain": [
              "(7043, 14)"
            ]
          },
          "execution_count": 29,
          "metadata": {},
          "output_type": "execute_result"
        }
      ],
      "source": [
        "contract_personal = contract.merge(personal, how='left', on=['customerid'])\n",
        "contract_personal.shape"
      ]
    },
    {
      "cell_type": "code",
      "execution_count": null,
      "metadata": {
        "colab": {
          "base_uri": "https://localhost:8080/"
        },
        "id": "pgSGPsaCIlr0",
        "outputId": "c68a9531-5d2c-4a21-fe1b-ec6e43025f86"
      },
      "outputs": [
        {
          "data": {
            "text/plain": [
              "(7043, 21)"
            ]
          },
          "execution_count": 30,
          "metadata": {},
          "output_type": "execute_result"
        }
      ],
      "source": [
        "contract_personal_internet = contract_personal.merge(internet, how='left', on=['customerid'])\n",
        "contract_personal_internet.shape"
      ]
    },
    {
      "cell_type": "code",
      "execution_count": null,
      "metadata": {
        "colab": {
          "base_uri": "https://localhost:8080/"
        },
        "id": "YiCBSYfGIwxb",
        "outputId": "a1cc3e3d-6f5d-493b-9bd4-072cf7b7e009"
      },
      "outputs": [
        {
          "data": {
            "text/plain": [
              "(7043, 22)"
            ]
          },
          "execution_count": 31,
          "metadata": {},
          "output_type": "execute_result"
        }
      ],
      "source": [
        "contract_merge = contract_personal_internet.merge(phone, how='left', on=['customerid'])\n",
        "contract_merge.shape"
      ]
    },
    {
      "cell_type": "code",
      "execution_count": null,
      "metadata": {
        "colab": {
          "base_uri": "https://localhost:8080/",
          "height": 439
        },
        "id": "NHJ_d7SuHK9D",
        "outputId": "6fdbcb12-2468-4ce2-e091-6c7f58683c4f"
      },
      "outputs": [
        {
          "data": {
            "text/html": [
              "<div>\n",
              "<style scoped>\n",
              "    .dataframe tbody tr th:only-of-type {\n",
              "        vertical-align: middle;\n",
              "    }\n",
              "\n",
              "    .dataframe tbody tr th {\n",
              "        vertical-align: top;\n",
              "    }\n",
              "\n",
              "    .dataframe thead th {\n",
              "        text-align: right;\n",
              "    }\n",
              "</style>\n",
              "<table border=\"1\" class=\"dataframe\">\n",
              "  <thead>\n",
              "    <tr style=\"text-align: right;\">\n",
              "      <th></th>\n",
              "      <th>customerid</th>\n",
              "      <th>begindate</th>\n",
              "      <th>enddate</th>\n",
              "      <th>type</th>\n",
              "      <th>paperlessbilling</th>\n",
              "      <th>paymentmethod</th>\n",
              "      <th>monthlycharges</th>\n",
              "      <th>totalcharges</th>\n",
              "      <th>exited</th>\n",
              "      <th>days</th>\n",
              "      <th>...</th>\n",
              "      <th>partner</th>\n",
              "      <th>dependents</th>\n",
              "      <th>internetservice</th>\n",
              "      <th>onlinesecurity</th>\n",
              "      <th>onlinebackup</th>\n",
              "      <th>deviceprotection</th>\n",
              "      <th>techsupport</th>\n",
              "      <th>streamingtv</th>\n",
              "      <th>streamingmovies</th>\n",
              "      <th>multiplelines</th>\n",
              "    </tr>\n",
              "  </thead>\n",
              "  <tbody>\n",
              "    <tr>\n",
              "      <th>0</th>\n",
              "      <td>7590-VHVEG</td>\n",
              "      <td>2020-01-01</td>\n",
              "      <td>2020-02-01</td>\n",
              "      <td>Month-to-month</td>\n",
              "      <td>Yes</td>\n",
              "      <td>Electronic check</td>\n",
              "      <td>29.85</td>\n",
              "      <td>29.85</td>\n",
              "      <td>0</td>\n",
              "      <td>31</td>\n",
              "      <td>...</td>\n",
              "      <td>Yes</td>\n",
              "      <td>No</td>\n",
              "      <td>DSL</td>\n",
              "      <td>No</td>\n",
              "      <td>Yes</td>\n",
              "      <td>No</td>\n",
              "      <td>No</td>\n",
              "      <td>No</td>\n",
              "      <td>No</td>\n",
              "      <td>NaN</td>\n",
              "    </tr>\n",
              "    <tr>\n",
              "      <th>1</th>\n",
              "      <td>5575-GNVDE</td>\n",
              "      <td>2017-04-01</td>\n",
              "      <td>2020-02-01</td>\n",
              "      <td>One year</td>\n",
              "      <td>No</td>\n",
              "      <td>Mailed check</td>\n",
              "      <td>56.95</td>\n",
              "      <td>1889.50</td>\n",
              "      <td>0</td>\n",
              "      <td>1036</td>\n",
              "      <td>...</td>\n",
              "      <td>No</td>\n",
              "      <td>No</td>\n",
              "      <td>DSL</td>\n",
              "      <td>Yes</td>\n",
              "      <td>No</td>\n",
              "      <td>Yes</td>\n",
              "      <td>No</td>\n",
              "      <td>No</td>\n",
              "      <td>No</td>\n",
              "      <td>No</td>\n",
              "    </tr>\n",
              "    <tr>\n",
              "      <th>2</th>\n",
              "      <td>3668-QPYBK</td>\n",
              "      <td>2019-10-01</td>\n",
              "      <td>2019-12-01</td>\n",
              "      <td>Month-to-month</td>\n",
              "      <td>Yes</td>\n",
              "      <td>Mailed check</td>\n",
              "      <td>53.85</td>\n",
              "      <td>108.15</td>\n",
              "      <td>1</td>\n",
              "      <td>61</td>\n",
              "      <td>...</td>\n",
              "      <td>No</td>\n",
              "      <td>No</td>\n",
              "      <td>DSL</td>\n",
              "      <td>Yes</td>\n",
              "      <td>Yes</td>\n",
              "      <td>No</td>\n",
              "      <td>No</td>\n",
              "      <td>No</td>\n",
              "      <td>No</td>\n",
              "      <td>No</td>\n",
              "    </tr>\n",
              "    <tr>\n",
              "      <th>3</th>\n",
              "      <td>7795-CFOCW</td>\n",
              "      <td>2016-05-01</td>\n",
              "      <td>2020-02-01</td>\n",
              "      <td>One year</td>\n",
              "      <td>No</td>\n",
              "      <td>Bank transfer (automatic)</td>\n",
              "      <td>42.30</td>\n",
              "      <td>1840.75</td>\n",
              "      <td>0</td>\n",
              "      <td>1371</td>\n",
              "      <td>...</td>\n",
              "      <td>No</td>\n",
              "      <td>No</td>\n",
              "      <td>DSL</td>\n",
              "      <td>Yes</td>\n",
              "      <td>No</td>\n",
              "      <td>Yes</td>\n",
              "      <td>Yes</td>\n",
              "      <td>No</td>\n",
              "      <td>No</td>\n",
              "      <td>NaN</td>\n",
              "    </tr>\n",
              "    <tr>\n",
              "      <th>4</th>\n",
              "      <td>9237-HQITU</td>\n",
              "      <td>2019-09-01</td>\n",
              "      <td>2019-11-01</td>\n",
              "      <td>Month-to-month</td>\n",
              "      <td>Yes</td>\n",
              "      <td>Electronic check</td>\n",
              "      <td>70.70</td>\n",
              "      <td>151.65</td>\n",
              "      <td>1</td>\n",
              "      <td>61</td>\n",
              "      <td>...</td>\n",
              "      <td>No</td>\n",
              "      <td>No</td>\n",
              "      <td>Fiber optic</td>\n",
              "      <td>No</td>\n",
              "      <td>No</td>\n",
              "      <td>No</td>\n",
              "      <td>No</td>\n",
              "      <td>No</td>\n",
              "      <td>No</td>\n",
              "      <td>No</td>\n",
              "    </tr>\n",
              "  </tbody>\n",
              "</table>\n",
              "<p>5 rows × 22 columns</p>\n",
              "</div>"
            ],
            "text/plain": [
              "   customerid  begindate    enddate            type paperlessbilling  \\\n",
              "0  7590-VHVEG 2020-01-01 2020-02-01  Month-to-month              Yes   \n",
              "1  5575-GNVDE 2017-04-01 2020-02-01        One year               No   \n",
              "2  3668-QPYBK 2019-10-01 2019-12-01  Month-to-month              Yes   \n",
              "3  7795-CFOCW 2016-05-01 2020-02-01        One year               No   \n",
              "4  9237-HQITU 2019-09-01 2019-11-01  Month-to-month              Yes   \n",
              "\n",
              "               paymentmethod  monthlycharges  totalcharges  exited  days  ...  \\\n",
              "0           Electronic check           29.85         29.85       0    31  ...   \n",
              "1               Mailed check           56.95       1889.50       0  1036  ...   \n",
              "2               Mailed check           53.85        108.15       1    61  ...   \n",
              "3  Bank transfer (automatic)           42.30       1840.75       0  1371  ...   \n",
              "4           Electronic check           70.70        151.65       1    61  ...   \n",
              "\n",
              "  partner  dependents internetservice onlinesecurity onlinebackup  \\\n",
              "0     Yes          No             DSL             No          Yes   \n",
              "1      No          No             DSL            Yes           No   \n",
              "2      No          No             DSL            Yes          Yes   \n",
              "3      No          No             DSL            Yes           No   \n",
              "4      No          No     Fiber optic             No           No   \n",
              "\n",
              "  deviceprotection techsupport streamingtv streamingmovies multiplelines  \n",
              "0               No          No          No              No           NaN  \n",
              "1              Yes          No          No              No            No  \n",
              "2               No          No          No              No            No  \n",
              "3              Yes         Yes          No              No           NaN  \n",
              "4               No          No          No              No            No  \n",
              "\n",
              "[5 rows x 22 columns]"
            ]
          },
          "execution_count": 32,
          "metadata": {},
          "output_type": "execute_result"
        }
      ],
      "source": [
        "contract_merge.head()"
      ]
    },
    {
      "cell_type": "code",
      "execution_count": null,
      "metadata": {
        "colab": {
          "base_uri": "https://localhost:8080/"
        },
        "id": "Kbx3q4t6vZSo",
        "outputId": "f85ae40b-7447-47e9-dfc8-9059b1ae0088"
      },
      "outputs": [
        {
          "data": {
            "text/plain": [
              "customerid             0\n",
              "begindate              0\n",
              "enddate                0\n",
              "type                   0\n",
              "paperlessbilling       0\n",
              "paymentmethod          0\n",
              "monthlycharges         0\n",
              "totalcharges           0\n",
              "exited                 0\n",
              "days                   0\n",
              "gender                 0\n",
              "seniorcitizen          0\n",
              "partner                0\n",
              "dependents             0\n",
              "internetservice     1526\n",
              "onlinesecurity      1526\n",
              "onlinebackup        1526\n",
              "deviceprotection    1526\n",
              "techsupport         1526\n",
              "streamingtv         1526\n",
              "streamingmovies     1526\n",
              "multiplelines        682\n",
              "dtype: int64"
            ]
          },
          "execution_count": 33,
          "metadata": {},
          "output_type": "execute_result"
        }
      ],
      "source": [
        "contract_merge.isnull().sum()"
      ]
    },
    {
      "cell_type": "code",
      "execution_count": null,
      "metadata": {
        "id": "rX-rWP1vPA54"
      },
      "outputs": [],
      "source": [
        "features_no = ['internetservice', 'onlinesecurity', 'onlinebackup', \n",
        "               'deviceprotection', 'techsupport', 'streamingtv',  \n",
        "               'streamingmovies', 'streamingmovies', 'multiplelines']"
      ]
    },
    {
      "cell_type": "code",
      "execution_count": null,
      "metadata": {
        "id": "BQhL89XPPA54"
      },
      "outputs": [],
      "source": [
        "for i in features_no:\n",
        "    contract_merge[i] = contract_merge[i].fillna('No')"
      ]
    },
    {
      "cell_type": "code",
      "execution_count": null,
      "metadata": {
        "colab": {
          "base_uri": "https://localhost:8080/"
        },
        "id": "WSmtYxXKK3MD",
        "outputId": "191bec5a-59e3-478f-a758-716abcacb4d3"
      },
      "outputs": [
        {
          "name": "stdout",
          "output_type": "stream",
          "text": [
            "<class 'pandas.core.frame.DataFrame'>\n",
            "Int64Index: 7043 entries, 0 to 7042\n",
            "Data columns (total 22 columns):\n",
            " #   Column            Non-Null Count  Dtype         \n",
            "---  ------            --------------  -----         \n",
            " 0   customerid        7043 non-null   object        \n",
            " 1   begindate         7043 non-null   datetime64[ns]\n",
            " 2   enddate           7043 non-null   datetime64[ns]\n",
            " 3   type              7043 non-null   object        \n",
            " 4   paperlessbilling  7043 non-null   object        \n",
            " 5   paymentmethod     7043 non-null   object        \n",
            " 6   monthlycharges    7043 non-null   float64       \n",
            " 7   totalcharges      7043 non-null   float64       \n",
            " 8   exited            7043 non-null   int64         \n",
            " 9   days              7043 non-null   int64         \n",
            " 10  gender            7043 non-null   object        \n",
            " 11  seniorcitizen     7043 non-null   int64         \n",
            " 12  partner           7043 non-null   object        \n",
            " 13  dependents        7043 non-null   object        \n",
            " 14  internetservice   7043 non-null   object        \n",
            " 15  onlinesecurity    7043 non-null   object        \n",
            " 16  onlinebackup      7043 non-null   object        \n",
            " 17  deviceprotection  7043 non-null   object        \n",
            " 18  techsupport       7043 non-null   object        \n",
            " 19  streamingtv       7043 non-null   object        \n",
            " 20  streamingmovies   7043 non-null   object        \n",
            " 21  multiplelines     7043 non-null   object        \n",
            "dtypes: datetime64[ns](2), float64(2), int64(3), object(15)\n",
            "memory usage: 1.2+ MB\n"
          ]
        }
      ],
      "source": [
        "contract_merge.info()"
      ]
    },
    {
      "cell_type": "markdown",
      "metadata": {
        "id": "3_oicSJgJh8U"
      },
      "source": [
        "## Промежуточный вывод\n",
        "\n",
        "Изменен тип данных в столбцах begindate, enddate и totalcharges.   \n",
        "Удалены данные, в которых был не заполнен столбец totalcharges.  \n",
        "Добавлен целевой признак exited и столбец days.\n",
        "\n",
        "\n"
      ]
    },
    {
      "cell_type": "markdown",
      "metadata": {
        "id": "Vw3rbCkFJA-A"
      },
      "source": [
        "# Исследовательский анализ данных"
      ]
    },
    {
      "cell_type": "markdown",
      "metadata": {
        "id": "QGL8ZeeAJtDE"
      },
      "source": [
        "Проверим распределение целевого признака и исследуем дисбаланс классов."
      ]
    },
    {
      "cell_type": "code",
      "execution_count": null,
      "metadata": {
        "colab": {
          "base_uri": "https://localhost:8080/",
          "height": 285
        },
        "id": "aCCsXRT9Ml_f",
        "outputId": "f5798a28-722d-4001-e091-451ce1116711"
      },
      "outputs": [
        {
          "data": {
            "text/plain": [
              "<AxesSubplot:>"
            ]
          },
          "execution_count": 37,
          "metadata": {},
          "output_type": "execute_result"
        },
        {
          "data": {
            "image/png": "[encoded data removed]",
            "text/plain": [
              "<Figure size 432x288 with 1 Axes>"
            ]
          },
          "metadata": {
            "needs_background": "light"
          },
          "output_type": "display_data"
        }
      ],
      "source": [
        "contract_merge['exited'].value_counts().plot(kind='barh')"
      ]
    },
    {
      "cell_type": "code",
      "execution_count": null,
      "metadata": {
        "colab": {
          "base_uri": "https://localhost:8080/"
        },
        "id": "mesYdhGgMxLL",
        "outputId": "cc31cb09-c5ae-4909-8aac-6d52e0e63497"
      },
      "outputs": [
        {
          "data": {
            "text/plain": [
              "0    0.73463\n",
              "1    0.26537\n",
              "Name: exited, dtype: float64"
            ]
          },
          "execution_count": 38,
          "metadata": {},
          "output_type": "execute_result"
        }
      ],
      "source": [
        "contract_merge['exited'].value_counts(normalize = 1)"
      ]
    },
    {
      "cell_type": "markdown",
      "metadata": {
        "id": "xdFBBmH1tKRX"
      },
      "source": [
        "Посмотрим на распределение числовых данных с помощью pairplot."
      ]
    },
    {
      "cell_type": "code",
      "execution_count": null,
      "metadata": {
        "colab": {
          "base_uri": "https://localhost:8080/",
          "height": 742
        },
        "id": "GM0PsLj8JrML",
        "outputId": "41bda8ee-431d-4e33-b827-7cf5e6753f48"
      },
      "outputs": [
        {
          "data": {
            "text/plain": [
              "<seaborn.axisgrid.PairGrid at 0x7f3334ca0880>"
            ]
          },
          "execution_count": 39,
          "metadata": {},
          "output_type": "execute_result"
        },
        {
          "data": {
            "image/png": "[encoded data removed]",
            "text/plain": [
              "<Figure size 762.375x720 with 20 Axes>"
            ]
          },
          "metadata": {
            "needs_background": "light"
          },
          "output_type": "display_data"
        }
      ],
      "source": [
        "sns.pairplot(contract_merge, hue='exited')"
      ]
    },
    {
      "cell_type": "markdown",
      "metadata": {
        "id": "qr-X4ddltVnk"
      },
      "source": [
        "На графике видно, что в основном клиенты уходят в первые дни после заключения договора."
      ]
    },
    {
      "cell_type": "markdown",
      "metadata": {
        "id": "GmrqberKtrTu"
      },
      "source": [
        "Построим тепловую карту корреляции для количественных данных."
      ]
    },
    {
      "cell_type": "code",
      "execution_count": null,
      "metadata": {
        "id": "ZkiiUIbQeMNl"
      },
      "outputs": [],
      "source": [
        "columns_for_cor = ['exited', 'monthlycharges', 'totalcharges', 'exited']"
      ]
    },
    {
      "cell_type": "code",
      "execution_count": null,
      "metadata": {
        "colab": {
          "base_uri": "https://localhost:8080/",
          "height": 397
        },
        "id": "BzEwDERBNWGg",
        "outputId": "e7446923-3aa4-4eb5-d087-68b290e69faa"
      },
      "outputs": [
        {
          "data": {
            "text/plain": [
              "Text(0.5, 1.0, 'Тепловая карта корреляции')"
            ]
          },
          "execution_count": 41,
          "metadata": {},
          "output_type": "execute_result"
        },
        {
          "data": {
            "image/png": "[encoded data removed]",
            "text/plain": [
              "<Figure size 432x288 with 2 Axes>"
            ]
          },
          "metadata": {
            "needs_background": "light"
          },
          "output_type": "display_data"
        }
      ],
      "source": [
        "heatmap = sns.heatmap(contract_merge[columns_for_cor].corr(), vmin=-1, vmax=1, annot=True, cmap='BrBG') \n",
        "heatmap.set_title('Тепловая карта корреляции', fontdict={'fontsize':20}, pad=18)"
      ]
    },
    {
      "cell_type": "code",
      "execution_count": null,
      "metadata": {
        "id": "mfg1fmfCPA6B"
      },
      "outputs": [],
      "source": [
        "features_for_phik = ['begindate', 'enddate', 'type', 'paperlessbilling', 'paymentmethod', 'monthlycharges', \n",
        "                     'totalcharges', 'exited', 'days', 'gender', 'seniorcitizen', \n",
        "                     'partner', 'dependents', 'internetservice',  'onlinesecurity',\n",
        "                     'onlinebackup', 'deviceprotection', 'techsupport', 'streamingtv', \n",
        "                     'streamingmovies', 'multiplelines']"
      ]
    },
    {
      "cell_type": "code",
      "execution_count": null,
      "metadata": {
        "id": "nifUovi5PA6B",
        "outputId": "5db4227a-3858-4c4b-d9a5-631ce9e971de"
      },
      "outputs": [
        {
          "data": {
            "text/html": [
              "<div>\n",
              "<style scoped>\n",
              "    .dataframe tbody tr th:only-of-type {\n",
              "        vertical-align: middle;\n",
              "    }\n",
              "\n",
              "    .dataframe tbody tr th {\n",
              "        vertical-align: top;\n",
              "    }\n",
              "\n",
              "    .dataframe thead th {\n",
              "        text-align: right;\n",
              "    }\n",
              "</style>\n",
              "<table border=\"1\" class=\"dataframe\">\n",
              "  <thead>\n",
              "    <tr style=\"text-align: right;\">\n",
              "      <th></th>\n",
              "      <th>begindate</th>\n",
              "      <th>enddate</th>\n",
              "      <th>type</th>\n",
              "      <th>paperlessbilling</th>\n",
              "      <th>paymentmethod</th>\n",
              "      <th>monthlycharges</th>\n",
              "      <th>totalcharges</th>\n",
              "      <th>exited</th>\n",
              "      <th>days</th>\n",
              "      <th>gender</th>\n",
              "      <th>...</th>\n",
              "      <th>partner</th>\n",
              "      <th>dependents</th>\n",
              "      <th>internetservice</th>\n",
              "      <th>onlinesecurity</th>\n",
              "      <th>onlinebackup</th>\n",
              "      <th>deviceprotection</th>\n",
              "      <th>techsupport</th>\n",
              "      <th>streamingtv</th>\n",
              "      <th>streamingmovies</th>\n",
              "      <th>multiplelines</th>\n",
              "    </tr>\n",
              "  </thead>\n",
              "  <tbody>\n",
              "    <tr>\n",
              "      <th>0</th>\n",
              "      <td>2020-01-01</td>\n",
              "      <td>2020-02-01</td>\n",
              "      <td>Month-to-month</td>\n",
              "      <td>Yes</td>\n",
              "      <td>Electronic check</td>\n",
              "      <td>29.85</td>\n",
              "      <td>29.85</td>\n",
              "      <td>0</td>\n",
              "      <td>31</td>\n",
              "      <td>Female</td>\n",
              "      <td>...</td>\n",
              "      <td>Yes</td>\n",
              "      <td>No</td>\n",
              "      <td>DSL</td>\n",
              "      <td>No</td>\n",
              "      <td>Yes</td>\n",
              "      <td>No</td>\n",
              "      <td>No</td>\n",
              "      <td>No</td>\n",
              "      <td>No</td>\n",
              "      <td>No</td>\n",
              "    </tr>\n",
              "    <tr>\n",
              "      <th>1</th>\n",
              "      <td>2017-04-01</td>\n",
              "      <td>2020-02-01</td>\n",
              "      <td>One year</td>\n",
              "      <td>No</td>\n",
              "      <td>Mailed check</td>\n",
              "      <td>56.95</td>\n",
              "      <td>1889.50</td>\n",
              "      <td>0</td>\n",
              "      <td>1036</td>\n",
              "      <td>Male</td>\n",
              "      <td>...</td>\n",
              "      <td>No</td>\n",
              "      <td>No</td>\n",
              "      <td>DSL</td>\n",
              "      <td>Yes</td>\n",
              "      <td>No</td>\n",
              "      <td>Yes</td>\n",
              "      <td>No</td>\n",
              "      <td>No</td>\n",
              "      <td>No</td>\n",
              "      <td>No</td>\n",
              "    </tr>\n",
              "    <tr>\n",
              "      <th>2</th>\n",
              "      <td>2019-10-01</td>\n",
              "      <td>2019-12-01</td>\n",
              "      <td>Month-to-month</td>\n",
              "      <td>Yes</td>\n",
              "      <td>Mailed check</td>\n",
              "      <td>53.85</td>\n",
              "      <td>108.15</td>\n",
              "      <td>1</td>\n",
              "      <td>61</td>\n",
              "      <td>Male</td>\n",
              "      <td>...</td>\n",
              "      <td>No</td>\n",
              "      <td>No</td>\n",
              "      <td>DSL</td>\n",
              "      <td>Yes</td>\n",
              "      <td>Yes</td>\n",
              "      <td>No</td>\n",
              "      <td>No</td>\n",
              "      <td>No</td>\n",
              "      <td>No</td>\n",
              "      <td>No</td>\n",
              "    </tr>\n",
              "    <tr>\n",
              "      <th>3</th>\n",
              "      <td>2016-05-01</td>\n",
              "      <td>2020-02-01</td>\n",
              "      <td>One year</td>\n",
              "      <td>No</td>\n",
              "      <td>Bank transfer (automatic)</td>\n",
              "      <td>42.30</td>\n",
              "      <td>1840.75</td>\n",
              "      <td>0</td>\n",
              "      <td>1371</td>\n",
              "      <td>Male</td>\n",
              "      <td>...</td>\n",
              "      <td>No</td>\n",
              "      <td>No</td>\n",
              "      <td>DSL</td>\n",
              "      <td>Yes</td>\n",
              "      <td>No</td>\n",
              "      <td>Yes</td>\n",
              "      <td>Yes</td>\n",
              "      <td>No</td>\n",
              "      <td>No</td>\n",
              "      <td>No</td>\n",
              "    </tr>\n",
              "    <tr>\n",
              "      <th>4</th>\n",
              "      <td>2019-09-01</td>\n",
              "      <td>2019-11-01</td>\n",
              "      <td>Month-to-month</td>\n",
              "      <td>Yes</td>\n",
              "      <td>Electronic check</td>\n",
              "      <td>70.70</td>\n",
              "      <td>151.65</td>\n",
              "      <td>1</td>\n",
              "      <td>61</td>\n",
              "      <td>Female</td>\n",
              "      <td>...</td>\n",
              "      <td>No</td>\n",
              "      <td>No</td>\n",
              "      <td>Fiber optic</td>\n",
              "      <td>No</td>\n",
              "      <td>No</td>\n",
              "      <td>No</td>\n",
              "      <td>No</td>\n",
              "      <td>No</td>\n",
              "      <td>No</td>\n",
              "      <td>No</td>\n",
              "    </tr>\n",
              "  </tbody>\n",
              "</table>\n",
              "<p>5 rows × 21 columns</p>\n",
              "</div>"
            ],
            "text/plain": [
              "   begindate    enddate            type paperlessbilling  \\\n",
              "0 2020-01-01 2020-02-01  Month-to-month              Yes   \n",
              "1 2017-04-01 2020-02-01        One year               No   \n",
              "2 2019-10-01 2019-12-01  Month-to-month              Yes   \n",
              "3 2016-05-01 2020-02-01        One year               No   \n",
              "4 2019-09-01 2019-11-01  Month-to-month              Yes   \n",
              "\n",
              "               paymentmethod  monthlycharges  totalcharges  exited  days  \\\n",
              "0           Electronic check           29.85         29.85       0    31   \n",
              "1               Mailed check           56.95       1889.50       0  1036   \n",
              "2               Mailed check           53.85        108.15       1    61   \n",
              "3  Bank transfer (automatic)           42.30       1840.75       0  1371   \n",
              "4           Electronic check           70.70        151.65       1    61   \n",
              "\n",
              "   gender  ...  partner dependents internetservice onlinesecurity  \\\n",
              "0  Female  ...      Yes         No             DSL             No   \n",
              "1    Male  ...       No         No             DSL            Yes   \n",
              "2    Male  ...       No         No             DSL            Yes   \n",
              "3    Male  ...       No         No             DSL            Yes   \n",
              "4  Female  ...       No         No     Fiber optic             No   \n",
              "\n",
              "  onlinebackup deviceprotection techsupport streamingtv streamingmovies  \\\n",
              "0          Yes               No          No          No              No   \n",
              "1           No              Yes          No          No              No   \n",
              "2          Yes               No          No          No              No   \n",
              "3           No              Yes         Yes          No              No   \n",
              "4           No               No          No          No              No   \n",
              "\n",
              "  multiplelines  \n",
              "0            No  \n",
              "1            No  \n",
              "2            No  \n",
              "3            No  \n",
              "4            No  \n",
              "\n",
              "[5 rows x 21 columns]"
            ]
          },
          "execution_count": 43,
          "metadata": {},
          "output_type": "execute_result"
        }
      ],
      "source": [
        "df = contract_merge[features_for_phik]\n",
        "df.head()"
      ]
    },
    {
      "cell_type": "code",
      "execution_count": null,
      "metadata": {
        "id": "GFCMT-zUPA6B",
        "outputId": "f5d23fbf-b516-46b0-c64d-74d4443970de"
      },
      "outputs": [
        {
          "name": "stdout",
          "output_type": "stream",
          "text": [
            "interval columns not set, guessing: ['monthlycharges', 'totalcharges', 'exited', 'days', 'seniorcitizen']\n"
          ]
        }
      ],
      "source": [
        "phik_overview = df.phik_matrix()\n",
        "phik_overview.round(2)"
      ]
    },
    {
      "cell_type": "code",
      "execution_count": null,
      "metadata": {
        "id": "9hG_PmSNPA6C"
      },
      "outputs": [],
      "source": [
        "interval_cols = ['monthlycharges', 'totalcharges', 'exited', 'days', 'seniorcitizen']\n",
        "phik_overview = df.phik_matrix(interval_cols=interval_cols)"
      ]
    },
    {
      "cell_type": "code",
      "execution_count": null,
      "metadata": {
        "id": "CEXxrcipPA6C"
      },
      "outputs": [],
      "source": [
        "plot_correlation_matrix(phik_overview.values, \n",
        "                        x_labels=phik_overview.columns, \n",
        "                        y_labels=phik_overview.index, \n",
        "                        vmin=0, vmax=1, color_map=\"Greens\", \n",
        "                        title=r\"correlation $\\phi_K$\", \n",
        "                        fontsize_factor=1.5, \n",
        "                        figsize=(15, 10))\n",
        "plt.tight_layout()"
      ]
    },
    {
      "cell_type": "markdown",
      "metadata": {
        "id": "pcI-TxWOPA6D"
      },
      "source": [
        "Мы видим, что существует некоторая корреляция между такими переменными, как monthlycharges internetservice, monthlycharges и totalcharges, streamingmovies и streamingtv. Так же видим, что переменная gender практически не имеет корреляции с другими переменными, а totalcharges имеет корреляцию с несколькими переменными, такими как begindate, monthlycharges, multiplelines, streamingmovies, streamingtv, techsupport, deviceprotection, onlinebackup, onlinesecurity и type."
      ]
    },
    {
      "cell_type": "markdown",
      "metadata": {
        "id": "RVkXl1rxt7fT"
      },
      "source": [
        "Проверим распределения признаков в датасете и сразу же сравним признаки для ушедших и оставшихся клиентов. Для этого будем использовать sns.countplot и напишем цикл."
      ]
    },
    {
      "cell_type": "code",
      "execution_count": null,
      "metadata": {
        "id": "Qwh-DZr6PA6D"
      },
      "outputs": [],
      "source": [
        "features_for_countplot = ['type', 'paperlessbilling', 'paymentmethod', \n",
        "              'partner', 'dependents', 'internetservice',  \n",
        "              'onlinesecurity', 'onlinebackup', 'deviceprotection', \n",
        "              'techsupport', 'streamingtv', 'streamingmovies', \n",
        "              'multiplelines', 'gender', 'seniorcitizen']"
      ]
    },
    {
      "cell_type": "code",
      "execution_count": null,
      "metadata": {
        "id": "iqUSIkKWPA6E"
      },
      "outputs": [],
      "source": [
        "for i in features_for_countplot:\n",
        "    sns.countplot(x=i, hue='exited', data=contract_merge)\n",
        "\n",
        "    plt.xlabel(i)\n",
        "    plt.legend(['остался', 'ушёл'])\n",
        "    plt.ylabel('Количество')\n",
        "    plt.title('Распределение данных в столбце '+ i)\n",
        "    plt.show()"
      ]
    },
    {
      "cell_type": "markdown",
      "metadata": {
        "id": "lPygLk5hpaBh"
      },
      "source": [
        "На графиках видно, что больше всего ушедших клиентов:\n",
        "- оплачивали 1 раз в месяц\n",
        "- получали бумажный чек\n",
        "- оплата проходила в электронном виде\n",
        "- нет партнера\n",
        "- нет работы\n",
        "- подключение к интернету по оптоволокну\n",
        "- не была подключена блокировка небезопасный сайтов\n",
        "- не было подключено облачного хранилища\n",
        "- не был подключен антивирус\n",
        "- не была выделена линия технической поддержки"
      ]
    },
    {
      "cell_type": "markdown",
      "metadata": {
        "id": "WE4anHBDu7oV"
      },
      "source": [
        "Построим боксплоты для totalcharges и days. Для этого выделим отдельно названия числовых признаков и напишем функцию."
      ]
    },
    {
      "cell_type": "code",
      "execution_count": null,
      "metadata": {
        "id": "QoFbDxMSPA6F"
      },
      "outputs": [],
      "source": [
        "features_for_boxplot = ['totalcharges','days', 'monthlycharges']"
      ]
    },
    {
      "cell_type": "code",
      "execution_count": null,
      "metadata": {
        "id": "e2serEXnPA6F"
      },
      "outputs": [],
      "source": [
        "for i in features_for_boxplot:\n",
        "    plt.figure(figsize=(6,4))\n",
        "    sns.boxplot(data=contract_merge, x=i, orient='h')\n",
        "    plt.xlabel('Количество')\n",
        "    plt.ylabel(i)\n",
        "    plt.show()"
      ]
    },
    {
      "cell_type": "code",
      "execution_count": null,
      "metadata": {
        "id": "DlHBVwudPA6G"
      },
      "outputs": [],
      "source": [
        "for i in features_for_boxplot:\n",
        "    sns.barplot(x='exited', y=i, data=contract_merge)\n",
        "    plt.xlabel(i)\n",
        "    plt.ylabel('Количество')\n",
        "    plt.title('Распределение данных в столбце '+ i)\n",
        "    plt.show()"
      ]
    },
    {
      "cell_type": "markdown",
      "metadata": {
        "id": "hDz5YelpqJkl"
      },
      "source": [
        "У ушедших клиентов размер ежемесячного платежа был намного выше, чем у оставшихся"
      ]
    },
    {
      "cell_type": "markdown",
      "metadata": {
        "id": "_d8yhKxfsuBp"
      },
      "source": [
        "Для начала работы удалим признаки, которые могут повлиять на переобучение моделей. А именно begindate, enddate и customerid."
      ]
    },
    {
      "cell_type": "code",
      "execution_count": null,
      "metadata": {
        "id": "cvRyZpzKstSP"
      },
      "outputs": [],
      "source": [
        "contract_merge = contract_merge.drop(['begindate', 'enddate', 'customerid'], axis=1)"
      ]
    },
    {
      "cell_type": "markdown",
      "metadata": {
        "id": "yr_f_iQBzISV"
      },
      "source": [
        "## Промежуточный вывод\n",
        "\n",
        "Проведен исследовательский анализ данных,\n",
        "построена матрица корреляяции для числовых признаков.\n",
        "\n",
        "Ушедшие клиенты платили в месяц больше, чем оставшиеся.\n",
        "Многие ушедшие клиенты: \n",
        "- пользовались электронной оплатой\n",
        "- оплачивали услуги 1 раз в месяц\n",
        "- получали бумажный чек\n",
        "- не имеют партнера\n",
        "- не имеют работы\n",
        "- подключение к интернету по оптоволокну\n",
        "- не была подключена блокировка небезопасный сайтов\n",
        "- не было подключено облачного хранилища\n",
        "- не был подключен антивирус\n",
        "- не была выделена линия технической поддержки\n",
        "\n",
        "Удалены признаки begindate и enddate."
      ]
    },
    {
      "cell_type": "markdown",
      "metadata": {
        "id": "J5hYaWH7PA6J"
      },
      "source": [
        "# Подготовка данных для моделирования"
      ]
    },
    {
      "cell_type": "markdown",
      "metadata": {
        "id": "Bx8aT1s1PA6M"
      },
      "source": [
        "Посмотрим долю положительного и отрицательного класса."
      ]
    },
    {
      "cell_type": "code",
      "execution_count": null,
      "metadata": {
        "id": "ZmC0VN2NPA6M"
      },
      "outputs": [],
      "source": [
        "print('Доля объектов положительного класса составляет:', \n",
        "      sum(contract_merge['exited']/len(contract_merge)))"
      ]
    },
    {
      "cell_type": "code",
      "execution_count": null,
      "metadata": {
        "id": "neWqpGp-PA6N"
      },
      "outputs": [],
      "source": [
        "print('Доля объектов отрицательного класса составляет:', \n",
        "      1-sum(contract_merge['exited']/len(contract_merge)))"
      ]
    },
    {
      "cell_type": "markdown",
      "source": [
        "Дисбаланс классов выявлен, для борьбы с дисбалансом будем использовать class_weight='balanced' при обучении моделей"
      ],
      "metadata": {
        "id": "svlJCBUwUv3w"
      }
    },
    {
      "cell_type": "markdown",
      "metadata": {
        "id": "kpyRlM-VPA6O"
      },
      "source": [
        "Разделим данные на обучающую и тестовую выборку в соотношении 3:1, т.е. на тестовую выборку придется 25%. Проверим результат работы функции train_test_split методом shape."
      ]
    },
    {
      "cell_type": "code",
      "execution_count": null,
      "metadata": {
        "id": "6_ilfxaGPA6O"
      },
      "outputs": [],
      "source": [
        "RANDOM_STATE = 180123"
      ]
    },
    {
      "cell_type": "code",
      "execution_count": null,
      "metadata": {
        "id": "3QH5gbJgPA6O"
      },
      "outputs": [],
      "source": [
        "target = contract_merge['exited']\n",
        "features = contract_merge.drop('exited', axis=1)\n",
        "\n",
        "features_train, features_test, target_train, target_test = train_test_split(\n",
        "    features, target, test_size=0.25, random_state=RANDOM_STATE, \n",
        "    stratify=contract_merge.exited)"
      ]
    },
    {
      "cell_type": "markdown",
      "metadata": {
        "id": "G-iytYwIPA6P"
      },
      "source": [
        "Проведем масштабирование признаков с помощью StandardScaler."
      ]
    },
    {
      "cell_type": "code",
      "execution_count": null,
      "metadata": {
        "id": "f6hJ41d5PA6P"
      },
      "outputs": [],
      "source": [
        "numeric = ['monthlycharges', 'totalcharges', 'days']\n",
        "\n",
        "scaler = StandardScaler()\n",
        "scaler.fit(features_train[numeric])\n",
        "\n",
        "\n",
        "features_train[numeric] = scaler.transform(features_train[numeric])\n",
        "features_test[numeric] = scaler.transform(features_test[numeric]) \n",
        "\n",
        "pd.options.mode.chained_assignment = None"
      ]
    },
    {
      "cell_type": "markdown",
      "metadata": {
        "id": "soWyeCfqPA6Q"
      },
      "source": [
        "Проведем порядковое кодирование признаков с помощью OrdinalEncoder()."
      ]
    },
    {
      "cell_type": "code",
      "execution_count": null,
      "metadata": {
        "id": "7EIeVxEvPA6Q"
      },
      "outputs": [],
      "source": [
        "features_encoder = ['type', 'paperlessbilling', 'paymentmethod', \n",
        "                          'gender','partner', 'dependents', 'internetservice', \n",
        "                          'onlinesecurity', 'onlinebackup', 'deviceprotection',\n",
        "                          'techsupport', 'streamingtv', 'streamingmovies', \n",
        "                          'multiplelines']\n",
        "\n",
        "encoder = OrdinalEncoder()\n",
        "\n",
        "features_train[features_encoder] = pd.DataFrame(\n",
        "    encoder.fit_transform(contract_merge[features_encoder]), \n",
        "    columns=features_train[features_encoder].columns)\n",
        "\n",
        "features_test[features_encoder] = pd.DataFrame(\n",
        "    encoder.fit_transform(contract_merge[features_encoder]), \n",
        "    columns=features_test[features_encoder].columns)"
      ]
    },
    {
      "cell_type": "code",
      "execution_count": null,
      "metadata": {
        "id": "4NCzrG8aPA6R"
      },
      "outputs": [],
      "source": [
        "features_train.head()"
      ]
    },
    {
      "cell_type": "code",
      "execution_count": null,
      "metadata": {
        "id": "HsBC-FsrPA6R"
      },
      "outputs": [],
      "source": [
        "features_test.head()"
      ]
    },
    {
      "cell_type": "code",
      "execution_count": null,
      "metadata": {
        "id": "dKwl9dV-PA6S"
      },
      "outputs": [],
      "source": [
        "print(features_train.shape)\n",
        "print(features_test.shape)\n",
        "print(target_train.shape)\n",
        "print(target_test.shape)"
      ]
    },
    {
      "cell_type": "markdown",
      "metadata": {
        "id": "QKIDeXk-PA6T"
      },
      "source": [
        "Перейдем к обучению моделей."
      ]
    },
    {
      "cell_type": "markdown",
      "metadata": {
        "id": "6P-a0nM8vaB3"
      },
      "source": [
        "# Обучение моделей"
      ]
    },
    {
      "cell_type": "markdown",
      "metadata": {
        "id": "PoU7_-2CPA6T"
      },
      "source": [
        "Обучим первую модель RandomForestClassifier.Подберем гиперпараметры модели с помощью GridSearchCV и построим для нее ROC-кривую. "
      ]
    },
    {
      "cell_type": "code",
      "execution_count": null,
      "metadata": {
        "id": "L4SzdxucPA6T"
      },
      "outputs": [],
      "source": [
        "random_forest = RandomForestClassifier(class_weight='balanced', \n",
        "                                       bootstrap=True, random_state=RANDOM_STATE)"
      ]
    },
    {
      "cell_type": "code",
      "execution_count": null,
      "metadata": {
        "id": "jwgs7c8bPA6U"
      },
      "outputs": [],
      "source": [
        "random_forest_params = {'n_estimators': [150],\n",
        "                        'max_depth': [10],\n",
        "                        'min_samples_leaf': range(1,8),\n",
        "                        'min_samples_split': range(2,10,2)}"
      ]
    },
    {
      "cell_type": "code",
      "execution_count": null,
      "metadata": {
        "id": "dfTxoOBPPA6U"
      },
      "outputs": [],
      "source": [
        "random_forest_gscv = GridSearchCV(random_forest, \n",
        "                                  random_forest_params,\n",
        "                                  cv=10,\n",
        "                                  n_jobs=-1,\n",
        "                                  scoring='roc_auc')"
      ]
    },
    {
      "cell_type": "code",
      "execution_count": null,
      "metadata": {
        "id": "ukn19zEuPA6V"
      },
      "outputs": [],
      "source": [
        "%%time\n",
        "random_forest_gscv.fit(features_train, target_train)\n",
        "round(random_forest_gscv.best_score_,2)"
      ]
    },
    {
      "cell_type": "code",
      "execution_count": null,
      "metadata": {
        "id": "tIXEEhF_PA6V"
      },
      "outputs": [],
      "source": [
        "random_forest_gscv.best_params_"
      ]
    },
    {
      "cell_type": "code",
      "execution_count": null,
      "metadata": {
        "id": "0y9jZTvIPA6V"
      },
      "outputs": [],
      "source": [
        "probabilities_random_forest = random_forest_gscv.predict_proba(features_train)\n",
        "probabilities_one_random_forest = probabilities_random_forest[:, 1]\n",
        "fpr, tpr, thresholds = roc_curve(target_train, probabilities_one_random_forest)\n",
        "\n",
        "plt.figure()\n",
        "\n",
        "plt.plot([0, 1], [0, 1], linestyle='--')\n",
        "plt.plot(fpr, tpr)\n",
        "\n",
        "plt.xlim([0.0, 1.0])\n",
        "plt.ylim([0.0, 1.0])\n",
        "\n",
        "plt.xlabel(\"False Positive Rate\")\n",
        "plt.ylabel(\"True Positive Rate\")\n",
        "plt.title(\"ROC-кривая для RandomForestClassifier на обучающей выборке\")\n",
        "\n",
        "plt.show()"
      ]
    },
    {
      "cell_type": "code",
      "execution_count": null,
      "metadata": {
        "id": "HBuTfFqhPA6W"
      },
      "outputs": [],
      "source": [
        "print('Лучший показатель ROC_AUC на RandomForestClassifier',  \n",
        "      round(random_forest_gscv.best_score_, 2))"
      ]
    },
    {
      "cell_type": "markdown",
      "metadata": {
        "id": "OZ8o_4YmPA6W"
      },
      "source": [
        "Перейдем ко второй модели - CatBoostClassifier. Сначала обучим модель без подбора гиперпараметров, отобразим график. А после подберем гиперпараметры и и построим ROC-кривую для CatBoostClassifier."
      ]
    },
    {
      "cell_type": "code",
      "execution_count": null,
      "metadata": {
        "id": "uWKcteENPA6X"
      },
      "outputs": [],
      "source": [
        "cat = CatBoostClassifier(random_state=RANDOM_STATE, loss_function = 'Logloss', custom_loss='AUC')"
      ]
    },
    {
      "cell_type": "code",
      "execution_count": null,
      "metadata": {
        "id": "lrvFrXvRPA6X"
      },
      "outputs": [],
      "source": [
        "%%time\n",
        "cat.fit(features_train, target_train, verbose=False, plot=True)"
      ]
    },
    {
      "cell_type": "code",
      "execution_count": null,
      "metadata": {
        "id": "8mE1uaXhPA6X"
      },
      "outputs": [],
      "source": [
        "prediction_features_catboost = cat.predict(features_train)\n",
        "roc_auc_train = roc_auc_score(target_train, prediction_features_catboost)\n",
        "print(round(roc_auc_train, 2))"
      ]
    },
    {
      "cell_type": "markdown",
      "metadata": {
        "id": "jKjwXXT9PA6Y"
      },
      "source": [
        "Подберем гиперпараметры, чтобы улучшить результаты. Обучим модель с учетом подбора гиперпараметров."
      ]
    },
    {
      "cell_type": "code",
      "execution_count": null,
      "metadata": {
        "id": "_KlePkBDPA6Y"
      },
      "outputs": [],
      "source": [
        "params = {\"iterations\": [600],\n",
        "          \"depth\": [2],\n",
        "         'learning_rate': [0.5, 0.6]}\n",
        "\n",
        "cat_gs = GridSearchCV(cat, params, \n",
        "                      verbose=3, \n",
        "                      cv=10, \n",
        "                      n_jobs = -1, \n",
        "                      scoring = 'roc_auc')"
      ]
    },
    {
      "cell_type": "code",
      "execution_count": null,
      "metadata": {
        "id": "re71Z-XSPA6Y"
      },
      "outputs": [],
      "source": [
        "%%time\n",
        "cat_gs.fit(features_train, target_train)"
      ]
    },
    {
      "cell_type": "code",
      "execution_count": null,
      "metadata": {
        "id": "jT6ANknSPA6Z"
      },
      "outputs": [],
      "source": [
        "print('Лучшие показатель ROC_AUC для CatBoostClassifier', round(cat_gs.best_score_,2))"
      ]
    },
    {
      "cell_type": "code",
      "execution_count": null,
      "metadata": {
        "id": "KlSaSuhbPA6b"
      },
      "outputs": [],
      "source": [
        "print('Лучшие гиперпараметры для CatBoostClassifier', cat_gs.best_params_)"
      ]
    },
    {
      "cell_type": "code",
      "execution_count": null,
      "metadata": {
        "id": "bp464_ECPA6b"
      },
      "outputs": [],
      "source": [
        "probabilities_test = cat_gs.predict_proba(features_train)\n",
        "probabilities_one_valid = probabilities_test[:, 1]\n",
        "fpr, tpr, thresholds = roc_curve(target_train, probabilities_one_valid)\n",
        "\n",
        "plt.figure()\n",
        "\n",
        "plt.plot([0, 1], [0, 1], linestyle='--')\n",
        "plt.plot(fpr, tpr)\n",
        "\n",
        "plt.xlim([0.0, 1.0])\n",
        "plt.ylim([0.0, 1.0])\n",
        "\n",
        "plt.xlabel(\"False Positive Rate\")\n",
        "plt.ylabel(\"True Positive Rate\")\n",
        "plt.title(\"ROC-кривая для CatBoostClassifier на обучающей выборке \")\n",
        "\n",
        "plt.show()"
      ]
    },
    {
      "cell_type": "markdown",
      "metadata": {
        "id": "OjpdIjBZPA6c"
      },
      "source": [
        "Проверим лучшую модель на тестовой выборке. Построим ROC-кривая для тестовой выборки."
      ]
    },
    {
      "cell_type": "code",
      "execution_count": null,
      "metadata": {
        "id": "mT2WaYsWPA6c"
      },
      "outputs": [],
      "source": [
        "probabilities_test = cat_gs.predict_proba(features_test)\n",
        "probabilities_one_valid = probabilities_test[:, 1]\n",
        "fpr, tpr, thresholds = roc_curve(target_test, probabilities_one_valid)\n",
        "\n",
        "plt.figure()\n",
        "\n",
        "plt.plot([0, 1], [0, 1], linestyle='--')\n",
        "plt.plot(fpr, tpr)\n",
        "\n",
        "plt.xlim([0.0, 1.0])\n",
        "plt.ylim([0.0, 1.0])\n",
        "\n",
        "plt.xlabel(\"False Positive Rate\")\n",
        "plt.ylabel(\"True Positive Rate\")\n",
        "plt.title(\"ROC-кривая для CatBoostClassifier на тестовой выборке \")\n",
        "\n",
        "plt.show()"
      ]
    },
    {
      "cell_type": "markdown",
      "metadata": {
        "id": "QZuIJvJBPA6d"
      },
      "source": [
        "Построим матрицу ошибок для лучшей модели."
      ]
    },
    {
      "cell_type": "code",
      "execution_count": null,
      "metadata": {
        "id": "he9xhgChPA6d"
      },
      "outputs": [],
      "source": [
        "predicted_test = cat_gs.predict(features_test) \n",
        "plt.figure(figsize=(8, 6))\n",
        "sns.heatmap(confusion_matrix(target_test, predicted_test),annot=True, fmt='4g')\n",
        "plt.title('Матрица ошибок для CatBoostClassifier')"
      ]
    },
    {
      "cell_type": "markdown",
      "metadata": {
        "id": "uKKEr3CEPA6e"
      },
      "source": [
        "Лучшая модель в большинстве случаев предсказывает правильный ответ. И чаще предсказывает False Negative, чем Fasle Positive. "
      ]
    },
    {
      "cell_type": "markdown",
      "metadata": {
        "id": "EeQX4Sc3PA6e"
      },
      "source": [
        "Проверим какой показатель будет у DummyClassifier"
      ]
    },
    {
      "cell_type": "code",
      "execution_count": null,
      "metadata": {
        "id": "DJgo8bZRPA6e"
      },
      "outputs": [],
      "source": [
        "dummy_clf = DummyClassifier(strategy=\"most_frequent\")\n",
        "dummy_clf.fit(features_train, target_train)"
      ]
    },
    {
      "cell_type": "code",
      "execution_count": null,
      "metadata": {
        "id": "gFMDb66VPA6f"
      },
      "outputs": [],
      "source": [
        "dummy_clf.predict(features_test)\n",
        "dummy_proba = dummy_clf.predict_proba(features_test)\n",
        "probabilities_dummy = dummy_proba[:, 1]\n",
        "roc_auc_dummy = roc_auc_score(target_test, probabilities_dummy)\n",
        "print('ROC_AUC на DummyClassifier', roc_auc_dummy)"
      ]
    },
    {
      "cell_type": "code",
      "execution_count": null,
      "metadata": {
        "id": "Rcy9LFjiPA6f"
      },
      "outputs": [],
      "source": [
        "predictions = cat_gs.predict(features_test)\n",
        "probabilities_test_cat = cat_gs.predict_proba(features_test)\n",
        "probabilities_one_test_cat = probabilities_test_cat[:, 1]\n",
        "auc_roc_cat_test = roc_auc_score(target_test, probabilities_one_test_cat)\n",
        "\n",
        "print('AUC-ROC лучшей модели на тестовой выборке', round(auc_roc_cat_test,2))"
      ]
    },
    {
      "cell_type": "code",
      "execution_count": null,
      "metadata": {
        "id": "7LSASXuJPA6g"
      },
      "outputs": [],
      "source": [
        "cat_test = CatBoostClassifier(random_state=RANDOM_STATE, depth=2, \n",
        "                              iterations=600, verbose=2, loss_function='Logloss', custom_loss='AUC', learning_rate=0.6)\n",
        "\n",
        "cat_test.fit(features_train, target_train, verbose=False)\n",
        "predicted = cat_test.predict_proba(features_test)[:, 1]\n",
        "auc_roc = roc_auc_score(target_test, predicted)\n",
        "print('AUC-ROC лучшей модели на тестовой выборке', round(auc_roc,2))"
      ]
    },
    {
      "cell_type": "code",
      "execution_count": null,
      "metadata": {
        "id": "3D-FUIX6PA6i"
      },
      "outputs": [],
      "source": [
        "cat_test.get_feature_importance(prettified=True)"
      ]
    },
    {
      "cell_type": "markdown",
      "metadata": {
        "id": "b28aQWQaPA6i"
      },
      "source": [
        "# Общий вывод\n",
        "\n",
        "На первом этапе данные были загружены и изучены. На втором этапе проведена предобработка и объединение данных.\n",
        "На третьем этапе проведен исследовательский анализ данных, проанализированны и отобраны важные признаки.\n",
        "На четвертом этапе данным подготовлены для моделирования, проведено прямое кодирование признаков. Выявлен дисбаланс классов и определена тактика работы с ним. На пятом этапе проведено обучение 2-х моделей: RandomForestClassifier и CatBoostClassifier.\n",
        "\n",
        "Лучшая модель CatBoostClassifier, показатель метрики ROC_AUC на тестовой выборке составил 0.92.\n",
        "\n",
        "Самые важные признаки для модели - сколько дней клиент пользуется услугами и размер ежемесячной оплаты."
      ]
    },
    {
      "cell_type": "markdown",
      "metadata": {
        "id": "xRuCamFPPGHP"
      },
      "source": [
        "# Отчет по проекту"
      ]
    },
    {
      "cell_type": "markdown",
      "metadata": {
        "id": "tz10qU__PIxH"
      },
      "source": [
        "**Какие пункты плана были выполнены, а какие — нет. Почему?**   \n",
        "Все запланированные пункты плана были выполнены, а именно:\n",
        "\n",
        "1. Проведена загрузка библиотек и знакомство с данными\n",
        "2. Проведена предобработка данных\n",
        "3. Проведен исследовательский анализ данных\n",
        "4. Проведена подготовка данных для моделирования\n",
        "5. Проведено обучение моделей (моделирование)\n",
        "6. Подготовлены выводы и проведено тестирование лучшей модели\n",
        "\n",
        "\n",
        "**Какие трудности возникли и как вы их преодолели?**  \n",
        "Возникали трудности с кодированием и масштабированием признаков. Для преодоления трудностей, сначала разобралась с замечанием, после вернулась к теории и прочитала ещё раз нужную тему и разобралась. В остальных моментах особых трудностей не возникало.\n",
        "\n",
        "**Какие ключевые шаги в решении задачи вы выделили?**  \n",
        "Выделила важные этапы работы при формирования плана и придерживалась его. Самыми важными шагами в работе считаю:\n",
        "\n",
        "1. Изучение и предобработка данных\n",
        "2. Выделение целевого признака\n",
        "3. Объединение датасетов\n",
        "4. Проведение исследовательского анализа данных\n",
        "5. Подготовка данных к моделированию\n",
        "6. Выбор и обучение моделей\n",
        "7. Проведение тестирования лучшей модели\n",
        "\n",
        "\n",
        "**Какие признаки использовали для обучения модели и какая предобработка этих признаков была выполнена?**  \n",
        "Модели для обучения использовали следующие признаки:\n",
        "'type', 'paperlessbilling', 'paymentmethod', 'gender','partner', 'dependents', 'internetservice', 'onlinesecurity', 'onlinebackup', 'deviceprotection','techsupport', 'streamingtv', 'streamingmovies', 'multiplelines', 'monthlycharges', 'totalcharges', 'days'.\n",
        "\n",
        "Перед обучением проведено порядковое кодирование и масштабирование числовых признаков.\n",
        "\n",
        "Самые важные признаки для модели - сколько дней клиент пользуется услугами и размер ежемесячной оплаты.\n",
        "\n",
        "**Какая ваша итоговая модель, какие у неё гиперпараметы и какое качество?**  \n",
        "Итоговая (лучшая) модель CatBoostClassifier. Гиперпараметры подбирались с помощью GridSearchCV: depth=2, iterations=600, verbose=2, loss_function='Logloss', custom_loss='AUC', learning_rate=0.6.\n",
        "\n",
        "Качество модели оценивалось по метрике ROC_AUC, на тестовой выборке результат составил 0.92."
      ]
    }
  ],
  "metadata": {
    "ExecuteTimeLog": [
      {
        "duration": 1211,
        "start_time": "2023-01-18T10:33:57.084Z"
      },
      {
        "duration": 97,
        "start_time": "2023-01-18T10:33:58.297Z"
      },
      {
        "duration": 0,
        "start_time": "2023-01-18T10:33:58.395Z"
      },
      {
        "duration": 14,
        "start_time": "2023-01-18T10:33:58.877Z"
      },
      {
        "duration": 46,
        "start_time": "2023-01-18T10:34:17.967Z"
      },
      {
        "duration": 52,
        "start_time": "2023-01-18T10:36:28.209Z"
      },
      {
        "duration": 54,
        "start_time": "2023-01-18T10:36:48.848Z"
      },
      {
        "duration": 46,
        "start_time": "2023-01-18T10:36:51.336Z"
      },
      {
        "duration": 46,
        "start_time": "2023-01-18T10:38:02.878Z"
      },
      {
        "duration": 63,
        "start_time": "2023-01-18T10:44:33.536Z"
      },
      {
        "duration": 1642,
        "start_time": "2023-01-18T13:58:47.718Z"
      },
      {
        "duration": 69,
        "start_time": "2023-01-18T13:59:19.240Z"
      },
      {
        "duration": 220,
        "start_time": "2023-01-18T13:59:27.964Z"
      },
      {
        "duration": 37,
        "start_time": "2023-01-18T14:05:21.583Z"
      },
      {
        "duration": 4,
        "start_time": "2023-01-18T14:07:22.126Z"
      },
      {
        "duration": 31,
        "start_time": "2023-01-18T14:07:44.689Z"
      },
      {
        "duration": 94,
        "start_time": "2023-01-18T14:08:38.668Z"
      },
      {
        "duration": 86,
        "start_time": "2023-01-18T14:09:06.604Z"
      },
      {
        "duration": 42,
        "start_time": "2023-01-18T14:09:14.583Z"
      },
      {
        "duration": 38,
        "start_time": "2023-01-18T14:10:01.278Z"
      },
      {
        "duration": 40,
        "start_time": "2023-01-18T14:10:06.603Z"
      },
      {
        "duration": 139,
        "start_time": "2023-01-18T14:11:15.618Z"
      },
      {
        "duration": 20,
        "start_time": "2023-01-18T14:11:25.901Z"
      },
      {
        "duration": 58,
        "start_time": "2023-01-18T14:11:41.279Z"
      },
      {
        "duration": 24,
        "start_time": "2023-01-18T14:11:55.406Z"
      },
      {
        "duration": 80,
        "start_time": "2023-01-18T14:13:01.551Z"
      },
      {
        "duration": 86,
        "start_time": "2023-01-18T14:13:39.478Z"
      },
      {
        "duration": 25,
        "start_time": "2023-01-18T14:18:54.632Z"
      },
      {
        "duration": 3,
        "start_time": "2023-01-18T14:19:28.348Z"
      },
      {
        "duration": 53,
        "start_time": "2023-01-18T14:19:28.353Z"
      },
      {
        "duration": 45,
        "start_time": "2023-01-18T14:19:28.408Z"
      },
      {
        "duration": 41,
        "start_time": "2023-01-18T14:19:28.457Z"
      },
      {
        "duration": 15,
        "start_time": "2023-01-18T14:19:28.502Z"
      },
      {
        "duration": 58,
        "start_time": "2023-01-18T14:19:28.521Z"
      },
      {
        "duration": 29,
        "start_time": "2023-01-18T14:19:28.581Z"
      },
      {
        "duration": 22,
        "start_time": "2023-01-18T14:19:28.612Z"
      },
      {
        "duration": 11,
        "start_time": "2023-01-18T14:19:28.637Z"
      },
      {
        "duration": 77,
        "start_time": "2023-01-18T14:19:28.650Z"
      },
      {
        "duration": 66,
        "start_time": "2023-01-18T14:19:28.729Z"
      },
      {
        "duration": 65,
        "start_time": "2023-01-18T14:19:28.797Z"
      },
      {
        "duration": 61,
        "start_time": "2023-01-18T14:19:28.864Z"
      },
      {
        "duration": 6,
        "start_time": "2023-01-18T14:19:28.928Z"
      },
      {
        "duration": 525,
        "start_time": "2023-01-18T14:19:28.936Z"
      },
      {
        "duration": 9,
        "start_time": "2023-01-18T14:19:29.463Z"
      },
      {
        "duration": 30,
        "start_time": "2023-01-18T14:19:29.474Z"
      },
      {
        "duration": 596,
        "start_time": "2023-01-18T14:19:29.506Z"
      },
      {
        "duration": 26,
        "start_time": "2023-01-18T14:19:30.107Z"
      },
      {
        "duration": 36,
        "start_time": "2023-01-18T14:19:30.135Z"
      },
      {
        "duration": 41,
        "start_time": "2023-01-18T14:19:30.173Z"
      },
      {
        "duration": 27,
        "start_time": "2023-01-18T14:19:30.215Z"
      },
      {
        "duration": 27,
        "start_time": "2023-01-18T14:19:30.244Z"
      },
      {
        "duration": 23,
        "start_time": "2023-01-18T14:19:30.272Z"
      },
      {
        "duration": 37,
        "start_time": "2023-01-18T14:19:30.297Z"
      },
      {
        "duration": 31,
        "start_time": "2023-01-18T14:19:30.336Z"
      },
      {
        "duration": 73,
        "start_time": "2023-01-18T14:19:30.369Z"
      },
      {
        "duration": 28,
        "start_time": "2023-01-18T14:19:30.445Z"
      },
      {
        "duration": 44,
        "start_time": "2023-01-18T14:19:30.476Z"
      },
      {
        "duration": 42,
        "start_time": "2023-01-18T14:19:30.522Z"
      },
      {
        "duration": 30,
        "start_time": "2023-01-18T14:19:30.566Z"
      },
      {
        "duration": 69,
        "start_time": "2023-01-18T14:19:30.601Z"
      },
      {
        "duration": 171,
        "start_time": "2023-01-18T14:19:30.673Z"
      },
      {
        "duration": 8,
        "start_time": "2023-01-18T14:19:30.846Z"
      },
      {
        "duration": 8299,
        "start_time": "2023-01-18T14:19:30.855Z"
      },
      {
        "duration": 3,
        "start_time": "2023-01-18T14:19:39.157Z"
      },
      {
        "duration": 409,
        "start_time": "2023-01-18T14:19:39.163Z"
      },
      {
        "duration": 250,
        "start_time": "2023-01-18T14:19:39.574Z"
      },
      {
        "duration": 216,
        "start_time": "2023-01-18T14:19:39.827Z"
      },
      {
        "duration": 221,
        "start_time": "2023-01-18T14:19:40.045Z"
      },
      {
        "duration": 199,
        "start_time": "2023-01-18T14:19:40.271Z"
      },
      {
        "duration": 202,
        "start_time": "2023-01-18T14:19:40.472Z"
      },
      {
        "duration": 222,
        "start_time": "2023-01-18T14:19:40.684Z"
      },
      {
        "duration": 195,
        "start_time": "2023-01-18T14:19:40.908Z"
      },
      {
        "duration": 182,
        "start_time": "2023-01-18T14:19:41.105Z"
      },
      {
        "duration": 184,
        "start_time": "2023-01-18T14:19:41.289Z"
      },
      {
        "duration": 230,
        "start_time": "2023-01-18T14:19:41.476Z"
      },
      {
        "duration": 187,
        "start_time": "2023-01-18T14:19:41.709Z"
      },
      {
        "duration": 290,
        "start_time": "2023-01-18T14:19:41.903Z"
      },
      {
        "duration": 192,
        "start_time": "2023-01-18T14:19:42.200Z"
      },
      {
        "duration": 161,
        "start_time": "2023-01-18T14:19:42.401Z"
      },
      {
        "duration": 170,
        "start_time": "2023-01-18T14:19:42.564Z"
      },
      {
        "duration": 4,
        "start_time": "2023-01-18T14:19:42.736Z"
      },
      {
        "duration": 122,
        "start_time": "2023-01-18T14:19:42.742Z"
      },
      {
        "duration": 107,
        "start_time": "2023-01-18T14:19:42.866Z"
      },
      {
        "duration": 127,
        "start_time": "2023-01-18T14:19:42.975Z"
      },
      {
        "duration": 228,
        "start_time": "2023-01-18T14:19:43.104Z"
      },
      {
        "duration": 231,
        "start_time": "2023-01-18T14:19:43.334Z"
      },
      {
        "duration": 252,
        "start_time": "2023-01-18T14:19:43.567Z"
      },
      {
        "duration": 5,
        "start_time": "2023-01-18T14:19:43.821Z"
      },
      {
        "duration": 1333,
        "start_time": "2023-01-19T03:11:38.257Z"
      },
      {
        "duration": 207,
        "start_time": "2023-01-19T03:11:41.197Z"
      },
      {
        "duration": 3,
        "start_time": "2023-01-19T03:11:47.457Z"
      },
      {
        "duration": 65,
        "start_time": "2023-01-19T03:11:47.462Z"
      },
      {
        "duration": 110,
        "start_time": "2023-01-19T03:11:47.528Z"
      },
      {
        "duration": 74,
        "start_time": "2023-01-19T03:11:47.639Z"
      },
      {
        "duration": 112,
        "start_time": "2023-01-19T03:11:47.714Z"
      },
      {
        "duration": 15,
        "start_time": "2023-01-19T03:11:47.828Z"
      },
      {
        "duration": 4,
        "start_time": "2023-01-19T03:11:47.845Z"
      },
      {
        "duration": 37,
        "start_time": "2023-01-19T03:11:47.851Z"
      },
      {
        "duration": 28,
        "start_time": "2023-01-19T03:11:47.890Z"
      },
      {
        "duration": 42,
        "start_time": "2023-01-19T03:11:47.919Z"
      },
      {
        "duration": 25,
        "start_time": "2023-01-19T03:11:47.981Z"
      },
      {
        "duration": 4,
        "start_time": "2023-01-19T03:11:48.007Z"
      },
      {
        "duration": 392,
        "start_time": "2023-01-19T03:11:48.012Z"
      },
      {
        "duration": 6,
        "start_time": "2023-01-19T03:11:48.406Z"
      },
      {
        "duration": 9,
        "start_time": "2023-01-19T03:11:48.413Z"
      },
      {
        "duration": 373,
        "start_time": "2023-01-19T03:11:48.424Z"
      },
      {
        "duration": 15,
        "start_time": "2023-01-19T03:11:48.799Z"
      },
      {
        "duration": 5,
        "start_time": "2023-01-19T03:11:48.816Z"
      },
      {
        "duration": 5,
        "start_time": "2023-01-19T03:11:48.822Z"
      },
      {
        "duration": 8,
        "start_time": "2023-01-19T03:11:48.829Z"
      },
      {
        "duration": 6,
        "start_time": "2023-01-19T03:11:48.839Z"
      },
      {
        "duration": 39,
        "start_time": "2023-01-19T03:11:48.847Z"
      },
      {
        "duration": 12,
        "start_time": "2023-01-19T03:11:48.888Z"
      },
      {
        "duration": 12,
        "start_time": "2023-01-19T03:11:48.903Z"
      },
      {
        "duration": 11,
        "start_time": "2023-01-19T03:11:48.916Z"
      },
      {
        "duration": 11,
        "start_time": "2023-01-19T03:11:48.928Z"
      },
      {
        "duration": 52,
        "start_time": "2023-01-19T03:11:48.941Z"
      },
      {
        "duration": 9,
        "start_time": "2023-01-19T03:11:48.994Z"
      },
      {
        "duration": 11,
        "start_time": "2023-01-19T03:11:49.004Z"
      },
      {
        "duration": 21,
        "start_time": "2023-01-19T03:11:49.017Z"
      },
      {
        "duration": 115,
        "start_time": "2023-01-19T03:11:49.040Z"
      },
      {
        "duration": 6,
        "start_time": "2023-01-19T03:11:49.156Z"
      },
      {
        "duration": 6506,
        "start_time": "2023-01-19T03:11:49.163Z"
      },
      {
        "duration": 3,
        "start_time": "2023-01-19T03:11:55.670Z"
      },
      {
        "duration": 327,
        "start_time": "2023-01-19T03:11:55.675Z"
      },
      {
        "duration": 135,
        "start_time": "2023-01-19T03:11:56.004Z"
      },
      {
        "duration": 133,
        "start_time": "2023-01-19T03:11:56.140Z"
      },
      {
        "duration": 196,
        "start_time": "2023-01-19T03:11:56.275Z"
      },
      {
        "duration": 173,
        "start_time": "2023-01-19T03:11:56.473Z"
      },
      {
        "duration": 150,
        "start_time": "2023-01-19T03:11:56.648Z"
      },
      {
        "duration": 152,
        "start_time": "2023-01-19T03:11:56.800Z"
      },
      {
        "duration": 142,
        "start_time": "2023-01-19T03:11:56.953Z"
      },
      {
        "duration": 143,
        "start_time": "2023-01-19T03:11:57.097Z"
      },
      {
        "duration": 128,
        "start_time": "2023-01-19T03:11:57.242Z"
      },
      {
        "duration": 134,
        "start_time": "2023-01-19T03:11:57.372Z"
      },
      {
        "duration": 138,
        "start_time": "2023-01-19T03:11:57.508Z"
      },
      {
        "duration": 239,
        "start_time": "2023-01-19T03:11:57.648Z"
      },
      {
        "duration": 133,
        "start_time": "2023-01-19T03:11:57.889Z"
      },
      {
        "duration": 123,
        "start_time": "2023-01-19T03:11:58.024Z"
      },
      {
        "duration": 120,
        "start_time": "2023-01-19T03:11:58.149Z"
      },
      {
        "duration": 2,
        "start_time": "2023-01-19T03:11:58.271Z"
      },
      {
        "duration": 71,
        "start_time": "2023-01-19T03:11:58.280Z"
      },
      {
        "duration": 85,
        "start_time": "2023-01-19T03:11:58.352Z"
      },
      {
        "duration": 83,
        "start_time": "2023-01-19T03:11:58.438Z"
      },
      {
        "duration": 181,
        "start_time": "2023-01-19T03:11:58.523Z"
      },
      {
        "duration": 169,
        "start_time": "2023-01-19T03:11:58.706Z"
      },
      {
        "duration": 186,
        "start_time": "2023-01-19T03:11:58.881Z"
      },
      {
        "duration": 5,
        "start_time": "2023-01-19T03:11:59.068Z"
      },
      {
        "duration": 4,
        "start_time": "2023-01-19T03:16:34.222Z"
      },
      {
        "duration": 66,
        "start_time": "2023-01-19T03:16:36.721Z"
      },
      {
        "duration": 48,
        "start_time": "2023-01-19T03:16:50.771Z"
      },
      {
        "duration": 47,
        "start_time": "2023-01-19T03:16:51.679Z"
      },
      {
        "duration": 32,
        "start_time": "2023-01-19T03:16:52.415Z"
      },
      {
        "duration": 3,
        "start_time": "2023-01-19T03:20:26.790Z"
      },
      {
        "duration": 9,
        "start_time": "2023-01-19T03:20:36.961Z"
      },
      {
        "duration": 17,
        "start_time": "2023-01-19T03:20:47.340Z"
      },
      {
        "duration": 57,
        "start_time": "2023-01-19T03:20:47.763Z"
      },
      {
        "duration": 25,
        "start_time": "2023-01-19T03:20:47.935Z"
      },
      {
        "duration": 19,
        "start_time": "2023-01-19T03:20:48.098Z"
      },
      {
        "duration": 25,
        "start_time": "2023-01-19T03:20:48.274Z"
      },
      {
        "duration": 4,
        "start_time": "2023-01-19T03:20:48.933Z"
      },
      {
        "duration": 58,
        "start_time": "2023-01-19T03:20:49.230Z"
      },
      {
        "duration": 51,
        "start_time": "2023-01-19T03:20:49.364Z"
      },
      {
        "duration": 53,
        "start_time": "2023-01-19T03:20:49.524Z"
      },
      {
        "duration": 42,
        "start_time": "2023-01-19T03:20:49.723Z"
      },
      {
        "duration": 7,
        "start_time": "2023-01-19T03:20:51.627Z"
      },
      {
        "duration": 398,
        "start_time": "2023-01-19T03:20:53.900Z"
      },
      {
        "duration": 7,
        "start_time": "2023-01-19T03:20:54.376Z"
      },
      {
        "duration": 5,
        "start_time": "2023-01-19T03:20:54.722Z"
      },
      {
        "duration": 470,
        "start_time": "2023-01-19T03:20:56.308Z"
      },
      {
        "duration": 15,
        "start_time": "2023-01-19T03:20:58.982Z"
      },
      {
        "duration": 6,
        "start_time": "2023-01-19T03:21:09.551Z"
      },
      {
        "duration": 98,
        "start_time": "2023-01-19T03:21:14.191Z"
      },
      {
        "duration": 12,
        "start_time": "2023-01-19T03:22:59.040Z"
      },
      {
        "duration": 46,
        "start_time": "2023-01-19T03:23:40.616Z"
      },
      {
        "duration": 46,
        "start_time": "2023-01-19T03:23:57.129Z"
      },
      {
        "duration": 6,
        "start_time": "2023-01-19T03:24:22.278Z"
      },
      {
        "duration": 16,
        "start_time": "2023-01-19T03:24:45.234Z"
      },
      {
        "duration": 7,
        "start_time": "2023-01-19T03:25:10.490Z"
      },
      {
        "duration": 16,
        "start_time": "2023-01-19T03:25:12.918Z"
      },
      {
        "duration": 6,
        "start_time": "2023-01-19T03:26:44.692Z"
      },
      {
        "duration": 14,
        "start_time": "2023-01-19T03:26:48.495Z"
      },
      {
        "duration": 7,
        "start_time": "2023-01-19T03:27:01.065Z"
      },
      {
        "duration": 15,
        "start_time": "2023-01-19T03:27:03.464Z"
      },
      {
        "duration": 4,
        "start_time": "2023-01-19T03:27:20.301Z"
      },
      {
        "duration": 8,
        "start_time": "2023-01-19T03:27:24.221Z"
      },
      {
        "duration": 4,
        "start_time": "2023-01-19T03:27:34.796Z"
      },
      {
        "duration": 4,
        "start_time": "2023-01-19T03:27:36.870Z"
      },
      {
        "duration": 8,
        "start_time": "2023-01-19T03:27:38.222Z"
      },
      {
        "duration": 9,
        "start_time": "2023-01-19T03:27:48.885Z"
      },
      {
        "duration": 10,
        "start_time": "2023-01-19T03:27:54.229Z"
      },
      {
        "duration": 2,
        "start_time": "2023-01-19T03:28:59.718Z"
      },
      {
        "duration": 52,
        "start_time": "2023-01-19T03:28:59.870Z"
      },
      {
        "duration": 21,
        "start_time": "2023-01-19T03:29:00.042Z"
      },
      {
        "duration": 19,
        "start_time": "2023-01-19T03:29:00.826Z"
      },
      {
        "duration": 47,
        "start_time": "2023-01-19T03:29:01.078Z"
      },
      {
        "duration": 4,
        "start_time": "2023-01-19T03:29:03.133Z"
      },
      {
        "duration": 57,
        "start_time": "2023-01-19T03:29:10.143Z"
      },
      {
        "duration": 38,
        "start_time": "2023-01-19T03:29:10.800Z"
      },
      {
        "duration": 44,
        "start_time": "2023-01-19T03:29:11.775Z"
      },
      {
        "duration": 29,
        "start_time": "2023-01-19T03:29:13.193Z"
      },
      {
        "duration": 4,
        "start_time": "2023-01-19T03:29:17.193Z"
      },
      {
        "duration": 379,
        "start_time": "2023-01-19T03:29:19.719Z"
      },
      {
        "duration": 6,
        "start_time": "2023-01-19T03:29:21.014Z"
      },
      {
        "duration": 4,
        "start_time": "2023-01-19T03:29:22.033Z"
      },
      {
        "duration": 372,
        "start_time": "2023-01-19T03:29:23.007Z"
      },
      {
        "duration": 14,
        "start_time": "2023-01-19T03:29:25.479Z"
      },
      {
        "duration": 2,
        "start_time": "2023-01-19T03:32:28.726Z"
      },
      {
        "duration": 9,
        "start_time": "2023-01-19T03:32:34.921Z"
      },
      {
        "duration": 5,
        "start_time": "2023-01-19T03:32:42.320Z"
      },
      {
        "duration": 9,
        "start_time": "2023-01-19T03:32:45.808Z"
      },
      {
        "duration": 5,
        "start_time": "2023-01-19T03:33:08.581Z"
      },
      {
        "duration": 702,
        "start_time": "2023-01-19T03:35:00.783Z"
      },
      {
        "duration": 5,
        "start_time": "2023-01-19T03:35:10.099Z"
      },
      {
        "duration": 7,
        "start_time": "2023-01-19T03:35:17.451Z"
      },
      {
        "duration": 4,
        "start_time": "2023-01-19T03:35:27.375Z"
      },
      {
        "duration": 53,
        "start_time": "2023-01-19T03:35:43.555Z"
      },
      {
        "duration": 5,
        "start_time": "2023-01-19T03:36:05.152Z"
      },
      {
        "duration": 5,
        "start_time": "2023-01-19T03:36:07.504Z"
      },
      {
        "duration": 4,
        "start_time": "2023-01-19T03:36:09.672Z"
      },
      {
        "duration": 5,
        "start_time": "2023-01-19T03:37:05.097Z"
      },
      {
        "duration": 5,
        "start_time": "2023-01-19T03:37:06.577Z"
      },
      {
        "duration": 5,
        "start_time": "2023-01-19T03:37:19.905Z"
      },
      {
        "duration": 5,
        "start_time": "2023-01-19T03:37:20.737Z"
      },
      {
        "duration": 14,
        "start_time": "2023-01-19T03:45:10.881Z"
      },
      {
        "duration": 5,
        "start_time": "2023-01-19T03:45:28.279Z"
      },
      {
        "duration": 5,
        "start_time": "2023-01-19T03:45:29.328Z"
      },
      {
        "duration": 4,
        "start_time": "2023-01-19T03:45:30.500Z"
      },
      {
        "duration": 3,
        "start_time": "2023-01-19T03:45:41.131Z"
      },
      {
        "duration": 50,
        "start_time": "2023-01-19T03:45:41.275Z"
      },
      {
        "duration": 20,
        "start_time": "2023-01-19T03:45:41.411Z"
      },
      {
        "duration": 18,
        "start_time": "2023-01-19T03:45:41.565Z"
      },
      {
        "duration": 24,
        "start_time": "2023-01-19T03:45:41.721Z"
      },
      {
        "duration": 5,
        "start_time": "2023-01-19T03:45:42.561Z"
      },
      {
        "duration": 63,
        "start_time": "2023-01-19T03:45:42.718Z"
      },
      {
        "duration": 40,
        "start_time": "2023-01-19T03:45:42.877Z"
      },
      {
        "duration": 44,
        "start_time": "2023-01-19T03:45:43.045Z"
      },
      {
        "duration": 28,
        "start_time": "2023-01-19T03:45:43.226Z"
      },
      {
        "duration": 4,
        "start_time": "2023-01-19T03:45:45.089Z"
      },
      {
        "duration": 397,
        "start_time": "2023-01-19T03:45:47.656Z"
      },
      {
        "duration": 6,
        "start_time": "2023-01-19T03:45:48.055Z"
      },
      {
        "duration": 4,
        "start_time": "2023-01-19T03:45:49.024Z"
      },
      {
        "duration": 402,
        "start_time": "2023-01-19T03:45:49.258Z"
      },
      {
        "duration": 15,
        "start_time": "2023-01-19T03:45:52.180Z"
      },
      {
        "duration": 2,
        "start_time": "2023-01-19T03:45:55.500Z"
      },
      {
        "duration": 5,
        "start_time": "2023-01-19T03:45:56.069Z"
      },
      {
        "duration": 5,
        "start_time": "2023-01-19T03:45:56.821Z"
      },
      {
        "duration": 710,
        "start_time": "2023-01-19T03:46:00.795Z"
      },
      {
        "duration": 5,
        "start_time": "2023-01-19T03:46:10.845Z"
      },
      {
        "duration": 6,
        "start_time": "2023-01-19T03:46:19.343Z"
      },
      {
        "duration": 15,
        "start_time": "2023-01-19T03:46:23.134Z"
      },
      {
        "duration": 5,
        "start_time": "2023-01-19T03:46:57.653Z"
      },
      {
        "duration": 16,
        "start_time": "2023-01-19T03:47:00.049Z"
      },
      {
        "duration": 3,
        "start_time": "2023-01-19T03:47:17.618Z"
      },
      {
        "duration": 50,
        "start_time": "2023-01-19T03:47:17.728Z"
      },
      {
        "duration": 22,
        "start_time": "2023-01-19T03:47:17.914Z"
      },
      {
        "duration": 19,
        "start_time": "2023-01-19T03:47:18.482Z"
      },
      {
        "duration": 25,
        "start_time": "2023-01-19T03:47:18.676Z"
      },
      {
        "duration": 4,
        "start_time": "2023-01-19T03:47:21.738Z"
      },
      {
        "duration": 54,
        "start_time": "2023-01-19T03:47:23.161Z"
      },
      {
        "duration": 40,
        "start_time": "2023-01-19T03:47:23.669Z"
      },
      {
        "duration": 44,
        "start_time": "2023-01-19T03:47:23.878Z"
      },
      {
        "duration": 27,
        "start_time": "2023-01-19T03:47:24.465Z"
      },
      {
        "duration": 7,
        "start_time": "2023-01-19T03:47:26.315Z"
      },
      {
        "duration": 496,
        "start_time": "2023-01-19T03:47:28.537Z"
      },
      {
        "duration": 6,
        "start_time": "2023-01-19T03:47:29.035Z"
      },
      {
        "duration": 4,
        "start_time": "2023-01-19T03:47:29.321Z"
      },
      {
        "duration": 400,
        "start_time": "2023-01-19T03:47:29.797Z"
      },
      {
        "duration": 15,
        "start_time": "2023-01-19T03:47:31.855Z"
      },
      {
        "duration": 3,
        "start_time": "2023-01-19T03:47:37.118Z"
      },
      {
        "duration": 4,
        "start_time": "2023-01-19T03:47:38.447Z"
      },
      {
        "duration": 4,
        "start_time": "2023-01-19T03:47:41.038Z"
      },
      {
        "duration": 14,
        "start_time": "2023-01-19T03:47:44.170Z"
      },
      {
        "duration": 4,
        "start_time": "2023-01-19T03:49:15.795Z"
      },
      {
        "duration": 20,
        "start_time": "2023-01-19T03:58:28.473Z"
      },
      {
        "duration": 19,
        "start_time": "2023-01-19T03:59:10.012Z"
      },
      {
        "duration": 19,
        "start_time": "2023-01-19T03:59:50.193Z"
      },
      {
        "duration": 7,
        "start_time": "2023-01-19T04:00:23.915Z"
      },
      {
        "duration": 7,
        "start_time": "2023-01-19T04:03:30.613Z"
      },
      {
        "duration": 3,
        "start_time": "2023-01-19T04:03:45.924Z"
      },
      {
        "duration": 3,
        "start_time": "2023-01-19T04:03:54.173Z"
      },
      {
        "duration": 15,
        "start_time": "2023-01-19T04:04:03.112Z"
      },
      {
        "duration": 7,
        "start_time": "2023-01-19T04:04:07.978Z"
      },
      {
        "duration": 14,
        "start_time": "2023-01-19T04:07:51.992Z"
      },
      {
        "duration": 2,
        "start_time": "2023-01-19T04:08:23.420Z"
      },
      {
        "duration": 52,
        "start_time": "2023-01-19T04:08:23.547Z"
      },
      {
        "duration": 22,
        "start_time": "2023-01-19T04:08:23.711Z"
      },
      {
        "duration": 20,
        "start_time": "2023-01-19T04:08:23.851Z"
      },
      {
        "duration": 40,
        "start_time": "2023-01-19T04:08:24.023Z"
      },
      {
        "duration": 3,
        "start_time": "2023-01-19T04:08:27.503Z"
      },
      {
        "duration": 55,
        "start_time": "2023-01-19T04:08:29.321Z"
      },
      {
        "duration": 37,
        "start_time": "2023-01-19T04:08:29.488Z"
      },
      {
        "duration": 43,
        "start_time": "2023-01-19T04:08:29.629Z"
      },
      {
        "duration": 27,
        "start_time": "2023-01-19T04:08:29.780Z"
      },
      {
        "duration": 5,
        "start_time": "2023-01-19T04:08:31.195Z"
      },
      {
        "duration": 379,
        "start_time": "2023-01-19T04:08:33.351Z"
      },
      {
        "duration": 4,
        "start_time": "2023-01-19T04:08:36.075Z"
      },
      {
        "duration": 23,
        "start_time": "2023-01-19T04:08:36.822Z"
      },
      {
        "duration": 6,
        "start_time": "2023-01-19T04:08:37.311Z"
      },
      {
        "duration": 4,
        "start_time": "2023-01-19T04:08:39.256Z"
      },
      {
        "duration": 392,
        "start_time": "2023-01-19T04:08:39.784Z"
      },
      {
        "duration": 16,
        "start_time": "2023-01-19T04:08:43.123Z"
      },
      {
        "duration": 5,
        "start_time": "2023-01-19T04:09:00.563Z"
      },
      {
        "duration": 5,
        "start_time": "2023-01-19T04:09:02.480Z"
      },
      {
        "duration": 7,
        "start_time": "2023-01-19T04:09:47.837Z"
      },
      {
        "duration": 10,
        "start_time": "2023-01-19T04:09:59.484Z"
      },
      {
        "duration": 7,
        "start_time": "2023-01-19T04:10:12.757Z"
      },
      {
        "duration": 67,
        "start_time": "2023-01-19T04:10:37.033Z"
      },
      {
        "duration": 42,
        "start_time": "2023-01-19T04:11:10.619Z"
      },
      {
        "duration": 9,
        "start_time": "2023-01-19T04:11:21.274Z"
      },
      {
        "duration": 8,
        "start_time": "2023-01-19T04:11:38.043Z"
      },
      {
        "duration": 10,
        "start_time": "2023-01-19T04:13:28.115Z"
      },
      {
        "duration": 6,
        "start_time": "2023-01-19T04:13:51.145Z"
      },
      {
        "duration": 15,
        "start_time": "2023-01-19T04:14:01.576Z"
      },
      {
        "duration": 3,
        "start_time": "2023-01-19T04:16:13.549Z"
      },
      {
        "duration": 51,
        "start_time": "2023-01-19T04:16:19.739Z"
      },
      {
        "duration": 756,
        "start_time": "2023-01-19T04:16:29.032Z"
      },
      {
        "duration": 3,
        "start_time": "2023-01-19T04:16:35.958Z"
      },
      {
        "duration": 59,
        "start_time": "2023-01-19T04:16:35.963Z"
      },
      {
        "duration": 22,
        "start_time": "2023-01-19T04:16:36.024Z"
      },
      {
        "duration": 24,
        "start_time": "2023-01-19T04:16:36.049Z"
      },
      {
        "duration": 24,
        "start_time": "2023-01-19T04:16:36.075Z"
      },
      {
        "duration": 4,
        "start_time": "2023-01-19T04:16:36.101Z"
      },
      {
        "duration": 64,
        "start_time": "2023-01-19T04:16:36.107Z"
      },
      {
        "duration": 53,
        "start_time": "2023-01-19T04:16:36.173Z"
      },
      {
        "duration": 61,
        "start_time": "2023-01-19T04:16:36.229Z"
      },
      {
        "duration": 43,
        "start_time": "2023-01-19T04:16:36.292Z"
      },
      {
        "duration": 13,
        "start_time": "2023-01-19T04:16:36.336Z"
      },
      {
        "duration": 453,
        "start_time": "2023-01-19T04:16:36.351Z"
      },
      {
        "duration": 5,
        "start_time": "2023-01-19T04:16:36.806Z"
      },
      {
        "duration": 5,
        "start_time": "2023-01-19T04:16:36.813Z"
      },
      {
        "duration": 384,
        "start_time": "2023-01-19T04:16:36.819Z"
      },
      {
        "duration": 15,
        "start_time": "2023-01-19T04:16:37.205Z"
      },
      {
        "duration": 10,
        "start_time": "2023-01-19T04:16:37.222Z"
      },
      {
        "duration": 7,
        "start_time": "2023-01-19T04:16:37.233Z"
      },
      {
        "duration": 14,
        "start_time": "2023-01-19T04:16:37.242Z"
      },
      {
        "duration": 18,
        "start_time": "2023-01-19T04:16:37.258Z"
      },
      {
        "duration": 9,
        "start_time": "2023-01-19T04:16:37.277Z"
      },
      {
        "duration": 16,
        "start_time": "2023-01-19T04:16:37.288Z"
      },
      {
        "duration": 6,
        "start_time": "2023-01-19T04:16:37.305Z"
      },
      {
        "duration": 8,
        "start_time": "2023-01-19T04:16:37.315Z"
      },
      {
        "duration": 4,
        "start_time": "2023-01-19T04:16:37.325Z"
      },
      {
        "duration": 21,
        "start_time": "2023-01-19T04:16:37.331Z"
      },
      {
        "duration": 34,
        "start_time": "2023-01-19T04:16:37.353Z"
      },
      {
        "duration": 15,
        "start_time": "2023-01-19T04:16:37.389Z"
      },
      {
        "duration": 13,
        "start_time": "2023-01-19T04:16:37.405Z"
      },
      {
        "duration": 14,
        "start_time": "2023-01-19T04:16:37.420Z"
      },
      {
        "duration": 60,
        "start_time": "2023-01-19T04:16:37.436Z"
      },
      {
        "duration": 12,
        "start_time": "2023-01-19T04:16:37.497Z"
      },
      {
        "duration": 11,
        "start_time": "2023-01-19T04:16:37.511Z"
      },
      {
        "duration": 17,
        "start_time": "2023-01-19T04:16:37.524Z"
      },
      {
        "duration": 123,
        "start_time": "2023-01-19T04:16:37.543Z"
      },
      {
        "duration": 14,
        "start_time": "2023-01-19T04:16:37.668Z"
      },
      {
        "duration": 6473,
        "start_time": "2023-01-19T04:16:37.684Z"
      },
      {
        "duration": 3,
        "start_time": "2023-01-19T04:16:44.159Z"
      },
      {
        "duration": 362,
        "start_time": "2023-01-19T04:16:44.163Z"
      },
      {
        "duration": 136,
        "start_time": "2023-01-19T04:16:44.527Z"
      },
      {
        "duration": 146,
        "start_time": "2023-01-19T04:16:44.665Z"
      },
      {
        "duration": 163,
        "start_time": "2023-01-19T04:16:44.813Z"
      },
      {
        "duration": 138,
        "start_time": "2023-01-19T04:16:44.978Z"
      },
      {
        "duration": 143,
        "start_time": "2023-01-19T04:16:45.118Z"
      },
      {
        "duration": 160,
        "start_time": "2023-01-19T04:16:45.263Z"
      },
      {
        "duration": 145,
        "start_time": "2023-01-19T04:16:45.425Z"
      },
      {
        "duration": 151,
        "start_time": "2023-01-19T04:16:45.572Z"
      },
      {
        "duration": 138,
        "start_time": "2023-01-19T04:16:45.724Z"
      },
      {
        "duration": 176,
        "start_time": "2023-01-19T04:16:45.864Z"
      },
      {
        "duration": 299,
        "start_time": "2023-01-19T04:16:46.042Z"
      },
      {
        "duration": 196,
        "start_time": "2023-01-19T04:16:46.343Z"
      },
      {
        "duration": 163,
        "start_time": "2023-01-19T04:16:46.541Z"
      },
      {
        "duration": 145,
        "start_time": "2023-01-19T04:16:46.706Z"
      },
      {
        "duration": 146,
        "start_time": "2023-01-19T04:16:46.853Z"
      },
      {
        "duration": 3,
        "start_time": "2023-01-19T04:16:47.001Z"
      },
      {
        "duration": 130,
        "start_time": "2023-01-19T04:16:47.006Z"
      },
      {
        "duration": 93,
        "start_time": "2023-01-19T04:16:47.138Z"
      },
      {
        "duration": 105,
        "start_time": "2023-01-19T04:16:47.232Z"
      },
      {
        "duration": 186,
        "start_time": "2023-01-19T04:16:47.339Z"
      },
      {
        "duration": 196,
        "start_time": "2023-01-19T04:16:47.527Z"
      },
      {
        "duration": 193,
        "start_time": "2023-01-19T04:16:47.725Z"
      },
      {
        "duration": 5,
        "start_time": "2023-01-19T04:16:47.920Z"
      },
      {
        "duration": 4,
        "start_time": "2023-01-19T04:17:38.855Z"
      },
      {
        "duration": 62,
        "start_time": "2023-01-19T04:17:38.861Z"
      },
      {
        "duration": 22,
        "start_time": "2023-01-19T04:17:38.925Z"
      },
      {
        "duration": 18,
        "start_time": "2023-01-19T04:17:38.949Z"
      },
      {
        "duration": 24,
        "start_time": "2023-01-19T04:17:38.969Z"
      },
      {
        "duration": 5,
        "start_time": "2023-01-19T04:17:38.995Z"
      },
      {
        "duration": 66,
        "start_time": "2023-01-19T04:17:39.001Z"
      },
      {
        "duration": 50,
        "start_time": "2023-01-19T04:17:39.068Z"
      },
      {
        "duration": 65,
        "start_time": "2023-01-19T04:17:39.121Z"
      },
      {
        "duration": 31,
        "start_time": "2023-01-19T04:17:39.188Z"
      },
      {
        "duration": 4,
        "start_time": "2023-01-19T04:17:39.222Z"
      },
      {
        "duration": 413,
        "start_time": "2023-01-19T04:17:39.228Z"
      },
      {
        "duration": 6,
        "start_time": "2023-01-19T04:17:39.642Z"
      },
      {
        "duration": 5,
        "start_time": "2023-01-19T04:17:39.650Z"
      },
      {
        "duration": 399,
        "start_time": "2023-01-19T04:17:39.657Z"
      },
      {
        "duration": 24,
        "start_time": "2023-01-19T04:17:40.058Z"
      },
      {
        "duration": 4,
        "start_time": "2023-01-19T04:17:40.084Z"
      },
      {
        "duration": 9,
        "start_time": "2023-01-19T04:17:40.090Z"
      },
      {
        "duration": 12,
        "start_time": "2023-01-19T04:17:40.101Z"
      },
      {
        "duration": 14,
        "start_time": "2023-01-19T04:17:40.115Z"
      },
      {
        "duration": 10,
        "start_time": "2023-01-19T04:17:40.130Z"
      },
      {
        "duration": 19,
        "start_time": "2023-01-19T04:17:40.141Z"
      },
      {
        "duration": 6,
        "start_time": "2023-01-19T04:17:40.162Z"
      },
      {
        "duration": 12,
        "start_time": "2023-01-19T04:17:40.181Z"
      },
      {
        "duration": 12,
        "start_time": "2023-01-19T04:17:40.194Z"
      },
      {
        "duration": 13,
        "start_time": "2023-01-19T04:17:40.207Z"
      },
      {
        "duration": 11,
        "start_time": "2023-01-19T04:17:40.221Z"
      },
      {
        "duration": 14,
        "start_time": "2023-01-19T04:17:40.234Z"
      },
      {
        "duration": 52,
        "start_time": "2023-01-19T04:17:40.250Z"
      },
      {
        "duration": 13,
        "start_time": "2023-01-19T04:17:40.304Z"
      },
      {
        "duration": 12,
        "start_time": "2023-01-19T04:17:40.318Z"
      },
      {
        "duration": 15,
        "start_time": "2023-01-19T04:17:40.331Z"
      },
      {
        "duration": 115,
        "start_time": "2023-01-19T04:17:40.348Z"
      },
      {
        "duration": 18,
        "start_time": "2023-01-19T04:17:40.464Z"
      },
      {
        "duration": 6513,
        "start_time": "2023-01-19T04:17:40.483Z"
      },
      {
        "duration": 3,
        "start_time": "2023-01-19T04:17:46.997Z"
      },
      {
        "duration": 320,
        "start_time": "2023-01-19T04:17:47.002Z"
      },
      {
        "duration": 136,
        "start_time": "2023-01-19T04:17:47.324Z"
      },
      {
        "duration": 138,
        "start_time": "2023-01-19T04:17:47.462Z"
      },
      {
        "duration": 159,
        "start_time": "2023-01-19T04:17:47.602Z"
      },
      {
        "duration": 136,
        "start_time": "2023-01-19T04:17:47.763Z"
      },
      {
        "duration": 138,
        "start_time": "2023-01-19T04:17:47.901Z"
      },
      {
        "duration": 161,
        "start_time": "2023-01-19T04:17:48.041Z"
      },
      {
        "duration": 143,
        "start_time": "2023-01-19T04:17:48.204Z"
      },
      {
        "duration": 146,
        "start_time": "2023-01-19T04:17:48.348Z"
      },
      {
        "duration": 135,
        "start_time": "2023-01-19T04:17:48.497Z"
      },
      {
        "duration": 149,
        "start_time": "2023-01-19T04:17:48.634Z"
      },
      {
        "duration": 135,
        "start_time": "2023-01-19T04:17:48.784Z"
      },
      {
        "duration": 136,
        "start_time": "2023-01-19T04:17:48.921Z"
      },
      {
        "duration": 147,
        "start_time": "2023-01-19T04:17:49.058Z"
      },
      {
        "duration": 147,
        "start_time": "2023-01-19T04:17:49.206Z"
      },
      {
        "duration": 130,
        "start_time": "2023-01-19T04:17:49.355Z"
      },
      {
        "duration": 3,
        "start_time": "2023-01-19T04:17:49.487Z"
      },
      {
        "duration": 246,
        "start_time": "2023-01-19T04:17:49.491Z"
      },
      {
        "duration": 83,
        "start_time": "2023-01-19T04:17:49.738Z"
      },
      {
        "duration": 88,
        "start_time": "2023-01-19T04:17:49.822Z"
      },
      {
        "duration": 179,
        "start_time": "2023-01-19T04:17:49.912Z"
      },
      {
        "duration": 177,
        "start_time": "2023-01-19T04:17:50.093Z"
      },
      {
        "duration": 170,
        "start_time": "2023-01-19T04:17:50.272Z"
      },
      {
        "duration": 5,
        "start_time": "2023-01-19T04:17:50.443Z"
      },
      {
        "duration": 3,
        "start_time": "2023-01-19T04:23:26.567Z"
      },
      {
        "duration": 3,
        "start_time": "2023-01-19T04:24:25.911Z"
      },
      {
        "duration": 49,
        "start_time": "2023-01-19T04:24:26.054Z"
      },
      {
        "duration": 29,
        "start_time": "2023-01-19T04:24:26.211Z"
      },
      {
        "duration": 21,
        "start_time": "2023-01-19T04:24:26.356Z"
      },
      {
        "duration": 25,
        "start_time": "2023-01-19T04:24:26.501Z"
      },
      {
        "duration": 4,
        "start_time": "2023-01-19T04:24:27.091Z"
      },
      {
        "duration": 53,
        "start_time": "2023-01-19T04:24:27.255Z"
      },
      {
        "duration": 39,
        "start_time": "2023-01-19T04:24:27.425Z"
      },
      {
        "duration": 42,
        "start_time": "2023-01-19T04:24:27.575Z"
      },
      {
        "duration": 26,
        "start_time": "2023-01-19T04:24:27.729Z"
      },
      {
        "duration": 5,
        "start_time": "2023-01-19T04:24:28.643Z"
      },
      {
        "duration": 369,
        "start_time": "2023-01-19T04:24:29.111Z"
      },
      {
        "duration": 7,
        "start_time": "2023-01-19T04:24:29.997Z"
      },
      {
        "duration": 4,
        "start_time": "2023-01-19T04:24:30.702Z"
      },
      {
        "duration": 388,
        "start_time": "2023-01-19T04:24:30.708Z"
      },
      {
        "duration": 16,
        "start_time": "2023-01-19T04:24:34.568Z"
      },
      {
        "duration": 4,
        "start_time": "2023-01-19T04:24:34.743Z"
      },
      {
        "duration": 8,
        "start_time": "2023-01-19T04:24:34.947Z"
      },
      {
        "duration": 8,
        "start_time": "2023-01-19T04:24:35.363Z"
      },
      {
        "duration": 14,
        "start_time": "2023-01-19T04:24:35.539Z"
      },
      {
        "duration": 5,
        "start_time": "2023-01-19T04:24:37.590Z"
      },
      {
        "duration": 8,
        "start_time": "2023-01-19T04:24:37.748Z"
      },
      {
        "duration": 5,
        "start_time": "2023-01-19T04:24:38.115Z"
      },
      {
        "duration": 15,
        "start_time": "2023-01-19T04:24:39.910Z"
      },
      {
        "duration": 12,
        "start_time": "2023-01-19T04:24:40.360Z"
      },
      {
        "duration": 12,
        "start_time": "2023-01-19T04:24:42.576Z"
      },
      {
        "duration": 13,
        "start_time": "2023-01-19T04:24:44.671Z"
      },
      {
        "duration": 13,
        "start_time": "2023-01-19T04:24:45.180Z"
      },
      {
        "duration": 24,
        "start_time": "2023-01-19T04:24:47.475Z"
      },
      {
        "duration": 11,
        "start_time": "2023-01-19T04:24:51.459Z"
      },
      {
        "duration": 3,
        "start_time": "2023-01-19T04:24:55.613Z"
      },
      {
        "duration": 39,
        "start_time": "2023-01-19T04:24:59.597Z"
      },
      {
        "duration": 50,
        "start_time": "2023-01-19T04:25:47.039Z"
      },
      {
        "duration": 64,
        "start_time": "2023-01-19T04:26:26.148Z"
      },
      {
        "duration": 762,
        "start_time": "2023-01-19T04:26:31.821Z"
      },
      {
        "duration": 731,
        "start_time": "2023-01-19T04:26:46.287Z"
      },
      {
        "duration": 831,
        "start_time": "2023-01-19T04:27:50.788Z"
      },
      {
        "duration": 792,
        "start_time": "2023-01-19T04:29:59.772Z"
      },
      {
        "duration": 2,
        "start_time": "2023-01-19T04:30:09.962Z"
      },
      {
        "duration": 779,
        "start_time": "2023-01-19T04:30:13.431Z"
      },
      {
        "duration": 788,
        "start_time": "2023-01-19T04:34:06.708Z"
      },
      {
        "duration": 3,
        "start_time": "2023-01-19T04:34:37.927Z"
      },
      {
        "duration": 50,
        "start_time": "2023-01-19T04:34:38.099Z"
      },
      {
        "duration": 21,
        "start_time": "2023-01-19T04:34:38.233Z"
      },
      {
        "duration": 18,
        "start_time": "2023-01-19T04:34:38.401Z"
      },
      {
        "duration": 24,
        "start_time": "2023-01-19T04:34:38.573Z"
      },
      {
        "duration": 4,
        "start_time": "2023-01-19T04:34:39.219Z"
      },
      {
        "duration": 54,
        "start_time": "2023-01-19T04:34:39.369Z"
      },
      {
        "duration": 47,
        "start_time": "2023-01-19T04:34:39.539Z"
      },
      {
        "duration": 48,
        "start_time": "2023-01-19T04:34:39.705Z"
      },
      {
        "duration": 26,
        "start_time": "2023-01-19T04:34:39.875Z"
      },
      {
        "duration": 5,
        "start_time": "2023-01-19T04:34:41.268Z"
      },
      {
        "duration": 405,
        "start_time": "2023-01-19T04:34:43.656Z"
      },
      {
        "duration": 5,
        "start_time": "2023-01-19T04:34:44.063Z"
      },
      {
        "duration": 4,
        "start_time": "2023-01-19T04:34:44.274Z"
      },
      {
        "duration": 373,
        "start_time": "2023-01-19T04:34:44.435Z"
      },
      {
        "duration": 14,
        "start_time": "2023-01-19T04:34:44.810Z"
      },
      {
        "duration": 5,
        "start_time": "2023-01-19T04:34:46.986Z"
      },
      {
        "duration": 9,
        "start_time": "2023-01-19T04:34:47.160Z"
      },
      {
        "duration": 9,
        "start_time": "2023-01-19T04:34:47.322Z"
      },
      {
        "duration": 14,
        "start_time": "2023-01-19T04:34:47.482Z"
      },
      {
        "duration": 4,
        "start_time": "2023-01-19T04:34:49.700Z"
      },
      {
        "duration": 9,
        "start_time": "2023-01-19T04:34:50.522Z"
      },
      {
        "duration": 6,
        "start_time": "2023-01-19T04:34:51.098Z"
      },
      {
        "duration": 11,
        "start_time": "2023-01-19T04:34:51.410Z"
      },
      {
        "duration": 15,
        "start_time": "2023-01-19T04:34:51.569Z"
      },
      {
        "duration": 13,
        "start_time": "2023-01-19T04:34:53.418Z"
      },
      {
        "duration": 15,
        "start_time": "2023-01-19T04:34:53.601Z"
      },
      {
        "duration": 12,
        "start_time": "2023-01-19T04:34:55.338Z"
      },
      {
        "duration": 23,
        "start_time": "2023-01-19T04:34:57.193Z"
      },
      {
        "duration": 10,
        "start_time": "2023-01-19T04:34:57.792Z"
      },
      {
        "duration": 3,
        "start_time": "2023-01-19T04:35:00.713Z"
      },
      {
        "duration": 727,
        "start_time": "2023-01-19T04:35:03.781Z"
      },
      {
        "duration": 9,
        "start_time": "2023-01-19T04:37:10.783Z"
      },
      {
        "duration": 10,
        "start_time": "2023-01-19T04:37:21.612Z"
      },
      {
        "duration": 14,
        "start_time": "2023-01-19T04:38:15.245Z"
      },
      {
        "duration": 3,
        "start_time": "2023-01-19T04:44:43.829Z"
      },
      {
        "duration": 52,
        "start_time": "2023-01-19T04:44:43.833Z"
      },
      {
        "duration": 20,
        "start_time": "2023-01-19T04:44:43.887Z"
      },
      {
        "duration": 18,
        "start_time": "2023-01-19T04:44:43.908Z"
      },
      {
        "duration": 24,
        "start_time": "2023-01-19T04:44:43.928Z"
      },
      {
        "duration": 4,
        "start_time": "2023-01-19T04:44:43.953Z"
      },
      {
        "duration": 62,
        "start_time": "2023-01-19T04:44:43.958Z"
      },
      {
        "duration": 42,
        "start_time": "2023-01-19T04:44:44.022Z"
      },
      {
        "duration": 60,
        "start_time": "2023-01-19T04:44:44.065Z"
      },
      {
        "duration": 27,
        "start_time": "2023-01-19T04:44:44.126Z"
      },
      {
        "duration": 5,
        "start_time": "2023-01-19T04:44:44.181Z"
      },
      {
        "duration": 375,
        "start_time": "2023-01-19T04:44:44.188Z"
      },
      {
        "duration": 6,
        "start_time": "2023-01-19T04:44:44.565Z"
      },
      {
        "duration": 9,
        "start_time": "2023-01-19T04:44:44.572Z"
      },
      {
        "duration": 386,
        "start_time": "2023-01-19T04:44:44.583Z"
      },
      {
        "duration": 15,
        "start_time": "2023-01-19T04:44:44.971Z"
      },
      {
        "duration": 4,
        "start_time": "2023-01-19T04:44:44.987Z"
      },
      {
        "duration": 8,
        "start_time": "2023-01-19T04:44:44.992Z"
      },
      {
        "duration": 6,
        "start_time": "2023-01-19T04:44:45.002Z"
      },
      {
        "duration": 13,
        "start_time": "2023-01-19T04:44:45.009Z"
      },
      {
        "duration": 22,
        "start_time": "2023-01-19T04:44:45.023Z"
      },
      {
        "duration": 17,
        "start_time": "2023-01-19T04:44:45.046Z"
      },
      {
        "duration": 4,
        "start_time": "2023-01-19T04:44:45.065Z"
      },
      {
        "duration": 12,
        "start_time": "2023-01-19T04:44:45.081Z"
      },
      {
        "duration": 11,
        "start_time": "2023-01-19T04:44:45.094Z"
      },
      {
        "duration": 14,
        "start_time": "2023-01-19T04:44:45.106Z"
      },
      {
        "duration": 11,
        "start_time": "2023-01-19T04:44:45.121Z"
      },
      {
        "duration": 10,
        "start_time": "2023-01-19T04:44:45.133Z"
      },
      {
        "duration": 52,
        "start_time": "2023-01-19T04:44:45.146Z"
      },
      {
        "duration": 12,
        "start_time": "2023-01-19T04:44:45.199Z"
      },
      {
        "duration": 3,
        "start_time": "2023-01-19T04:44:45.212Z"
      },
      {
        "duration": 11,
        "start_time": "2023-01-19T04:44:45.216Z"
      },
      {
        "duration": 10,
        "start_time": "2023-01-19T04:44:45.228Z"
      },
      {
        "duration": 18,
        "start_time": "2023-01-19T04:44:45.239Z"
      },
      {
        "duration": 104,
        "start_time": "2023-01-19T04:44:45.258Z"
      },
      {
        "duration": 6,
        "start_time": "2023-01-19T04:44:45.364Z"
      },
      {
        "duration": 6621,
        "start_time": "2023-01-19T04:44:45.382Z"
      },
      {
        "duration": 3,
        "start_time": "2023-01-19T04:44:52.006Z"
      },
      {
        "duration": 323,
        "start_time": "2023-01-19T04:44:52.010Z"
      },
      {
        "duration": 142,
        "start_time": "2023-01-19T04:44:52.335Z"
      },
      {
        "duration": 146,
        "start_time": "2023-01-19T04:44:52.479Z"
      },
      {
        "duration": 163,
        "start_time": "2023-01-19T04:44:52.627Z"
      },
      {
        "duration": 126,
        "start_time": "2023-01-19T04:44:52.792Z"
      },
      {
        "duration": 138,
        "start_time": "2023-01-19T04:44:52.920Z"
      },
      {
        "duration": 155,
        "start_time": "2023-01-19T04:44:53.060Z"
      },
      {
        "duration": 148,
        "start_time": "2023-01-19T04:44:53.217Z"
      },
      {
        "duration": 136,
        "start_time": "2023-01-19T04:44:53.366Z"
      },
      {
        "duration": 147,
        "start_time": "2023-01-19T04:44:53.504Z"
      },
      {
        "duration": 152,
        "start_time": "2023-01-19T04:44:53.653Z"
      },
      {
        "duration": 146,
        "start_time": "2023-01-19T04:44:53.807Z"
      },
      {
        "duration": 140,
        "start_time": "2023-01-19T04:44:53.954Z"
      },
      {
        "duration": 143,
        "start_time": "2023-01-19T04:44:54.095Z"
      },
      {
        "duration": 134,
        "start_time": "2023-01-19T04:44:54.239Z"
      },
      {
        "duration": 124,
        "start_time": "2023-01-19T04:44:54.375Z"
      },
      {
        "duration": 3,
        "start_time": "2023-01-19T04:44:54.501Z"
      },
      {
        "duration": 90,
        "start_time": "2023-01-19T04:44:54.505Z"
      },
      {
        "duration": 101,
        "start_time": "2023-01-19T04:44:54.597Z"
      },
      {
        "duration": 96,
        "start_time": "2023-01-19T04:44:54.699Z"
      },
      {
        "duration": 165,
        "start_time": "2023-01-19T04:44:54.797Z"
      },
      {
        "duration": 180,
        "start_time": "2023-01-19T04:44:54.964Z"
      },
      {
        "duration": 175,
        "start_time": "2023-01-19T04:44:55.146Z"
      },
      {
        "duration": 5,
        "start_time": "2023-01-19T04:44:55.323Z"
      },
      {
        "duration": 9,
        "start_time": "2023-01-19T05:14:02.608Z"
      },
      {
        "duration": 2,
        "start_time": "2023-01-19T05:14:05.580Z"
      },
      {
        "duration": 131,
        "start_time": "2023-01-19T05:14:06.974Z"
      },
      {
        "duration": 125,
        "start_time": "2023-01-19T05:14:20.094Z"
      },
      {
        "duration": 3,
        "start_time": "2023-01-19T05:14:40.641Z"
      },
      {
        "duration": 267,
        "start_time": "2023-01-19T05:14:41.211Z"
      },
      {
        "duration": 2,
        "start_time": "2023-01-19T05:17:34.512Z"
      },
      {
        "duration": 2115,
        "start_time": "2023-01-19T05:17:36.380Z"
      },
      {
        "duration": 3,
        "start_time": "2023-01-19T05:19:06.031Z"
      },
      {
        "duration": 1892,
        "start_time": "2023-01-19T05:19:06.631Z"
      },
      {
        "duration": 2,
        "start_time": "2023-01-19T05:21:14.688Z"
      },
      {
        "duration": 100,
        "start_time": "2023-01-19T05:21:15.175Z"
      },
      {
        "duration": 310,
        "start_time": "2023-01-19T05:21:41.346Z"
      },
      {
        "duration": 3,
        "start_time": "2023-01-19T05:22:11.672Z"
      },
      {
        "duration": 129,
        "start_time": "2023-01-19T05:22:12.079Z"
      },
      {
        "duration": 3,
        "start_time": "2023-01-19T05:23:37.931Z"
      },
      {
        "duration": 117,
        "start_time": "2023-01-19T05:23:39.527Z"
      },
      {
        "duration": 122,
        "start_time": "2023-01-19T05:25:14.928Z"
      },
      {
        "duration": 144,
        "start_time": "2023-01-19T05:26:48.533Z"
      },
      {
        "duration": 93,
        "start_time": "2023-01-19T05:26:55.208Z"
      },
      {
        "duration": 208,
        "start_time": "2023-01-19T05:27:27.989Z"
      },
      {
        "duration": 392,
        "start_time": "2023-01-19T05:27:54.675Z"
      },
      {
        "duration": 8,
        "start_time": "2023-01-19T05:28:09.079Z"
      },
      {
        "duration": 135,
        "start_time": "2023-01-19T05:28:28.275Z"
      },
      {
        "duration": 382,
        "start_time": "2023-01-19T05:28:45.276Z"
      },
      {
        "duration": 15,
        "start_time": "2023-01-19T05:30:05.606Z"
      },
      {
        "duration": 116,
        "start_time": "2023-01-19T05:30:45.539Z"
      },
      {
        "duration": 49,
        "start_time": "2023-01-19T05:31:43.672Z"
      },
      {
        "duration": 15,
        "start_time": "2023-01-19T05:31:54.115Z"
      },
      {
        "duration": 3,
        "start_time": "2023-01-19T05:32:15.080Z"
      },
      {
        "duration": 15,
        "start_time": "2023-01-19T05:32:15.468Z"
      },
      {
        "duration": 2,
        "start_time": "2023-01-19T05:33:28.578Z"
      },
      {
        "duration": 2,
        "start_time": "2023-01-19T05:33:36.001Z"
      },
      {
        "duration": 19,
        "start_time": "2023-01-19T05:33:38.336Z"
      },
      {
        "duration": 13,
        "start_time": "2023-01-19T05:33:54.333Z"
      },
      {
        "duration": 102,
        "start_time": "2023-01-19T05:34:20.275Z"
      },
      {
        "duration": 113,
        "start_time": "2023-01-19T05:35:02.776Z"
      },
      {
        "duration": 105,
        "start_time": "2023-01-19T05:36:43.210Z"
      },
      {
        "duration": 411,
        "start_time": "2023-01-19T05:38:58.621Z"
      },
      {
        "duration": 58,
        "start_time": "2023-01-19T05:43:43.922Z"
      },
      {
        "duration": 543,
        "start_time": "2023-01-19T05:43:50.587Z"
      },
      {
        "duration": 291,
        "start_time": "2023-01-19T05:44:23.967Z"
      },
      {
        "duration": 296,
        "start_time": "2023-01-19T05:44:49.885Z"
      },
      {
        "duration": 287,
        "start_time": "2023-01-19T05:45:04.334Z"
      },
      {
        "duration": 241,
        "start_time": "2023-01-19T05:45:12.210Z"
      },
      {
        "duration": 267,
        "start_time": "2023-01-19T05:45:20.491Z"
      },
      {
        "duration": 255,
        "start_time": "2023-01-19T05:46:04.787Z"
      },
      {
        "duration": 240,
        "start_time": "2023-01-19T05:46:18.691Z"
      },
      {
        "duration": 246,
        "start_time": "2023-01-19T05:46:47.194Z"
      },
      {
        "duration": 1212,
        "start_time": "2023-01-19T05:49:28.644Z"
      },
      {
        "duration": 51,
        "start_time": "2023-01-19T05:49:29.858Z"
      },
      {
        "duration": 21,
        "start_time": "2023-01-19T05:49:29.911Z"
      },
      {
        "duration": 19,
        "start_time": "2023-01-19T05:49:29.934Z"
      },
      {
        "duration": 23,
        "start_time": "2023-01-19T05:49:29.955Z"
      },
      {
        "duration": 4,
        "start_time": "2023-01-19T05:49:29.980Z"
      },
      {
        "duration": 71,
        "start_time": "2023-01-19T05:49:29.986Z"
      },
      {
        "duration": 55,
        "start_time": "2023-01-19T05:49:30.059Z"
      },
      {
        "duration": 44,
        "start_time": "2023-01-19T05:49:30.116Z"
      },
      {
        "duration": 30,
        "start_time": "2023-01-19T05:49:30.182Z"
      },
      {
        "duration": 4,
        "start_time": "2023-01-19T05:49:30.214Z"
      },
      {
        "duration": 457,
        "start_time": "2023-01-19T05:49:30.219Z"
      },
      {
        "duration": 9,
        "start_time": "2023-01-19T05:49:30.677Z"
      },
      {
        "duration": 35,
        "start_time": "2023-01-19T05:49:30.688Z"
      },
      {
        "duration": 417,
        "start_time": "2023-01-19T05:49:30.724Z"
      },
      {
        "duration": 14,
        "start_time": "2023-01-19T05:49:31.143Z"
      },
      {
        "duration": 31,
        "start_time": "2023-01-19T05:49:31.159Z"
      },
      {
        "duration": 62,
        "start_time": "2023-01-19T05:49:31.192Z"
      },
      {
        "duration": 34,
        "start_time": "2023-01-19T05:49:31.256Z"
      },
      {
        "duration": 30,
        "start_time": "2023-01-19T05:49:31.292Z"
      },
      {
        "duration": 30,
        "start_time": "2023-01-19T05:49:31.323Z"
      },
      {
        "duration": 42,
        "start_time": "2023-01-19T05:49:31.355Z"
      },
      {
        "duration": 12,
        "start_time": "2023-01-19T05:49:31.399Z"
      },
      {
        "duration": 23,
        "start_time": "2023-01-19T05:49:31.412Z"
      },
      {
        "duration": 19,
        "start_time": "2023-01-19T05:49:31.437Z"
      },
      {
        "duration": 25,
        "start_time": "2023-01-19T05:49:31.458Z"
      },
      {
        "duration": 26,
        "start_time": "2023-01-19T05:49:31.485Z"
      },
      {
        "duration": 30,
        "start_time": "2023-01-19T05:49:31.514Z"
      },
      {
        "duration": 36,
        "start_time": "2023-01-19T05:49:31.546Z"
      },
      {
        "duration": 34,
        "start_time": "2023-01-19T05:49:31.584Z"
      },
      {
        "duration": 14,
        "start_time": "2023-01-19T05:49:31.620Z"
      },
      {
        "duration": 25,
        "start_time": "2023-01-19T05:49:31.636Z"
      },
      {
        "duration": 11,
        "start_time": "2023-01-19T05:49:31.662Z"
      },
      {
        "duration": 39,
        "start_time": "2023-01-19T05:49:31.675Z"
      },
      {
        "duration": 117,
        "start_time": "2023-01-19T05:49:31.715Z"
      },
      {
        "duration": 7,
        "start_time": "2023-01-19T05:49:31.833Z"
      },
      {
        "duration": 6995,
        "start_time": "2023-01-19T05:49:31.842Z"
      },
      {
        "duration": 3,
        "start_time": "2023-01-19T05:49:38.838Z"
      },
      {
        "duration": 374,
        "start_time": "2023-01-19T05:49:38.843Z"
      },
      {
        "duration": 4,
        "start_time": "2023-01-19T05:49:39.219Z"
      },
      {
        "duration": 2247,
        "start_time": "2023-01-19T05:49:39.228Z"
      },
      {
        "duration": 5,
        "start_time": "2023-01-19T05:49:41.477Z"
      },
      {
        "duration": 284,
        "start_time": "2023-01-19T05:49:41.484Z"
      },
      {
        "duration": 115,
        "start_time": "2023-01-19T05:49:41.769Z"
      },
      {
        "duration": 0,
        "start_time": "2023-01-19T05:49:41.886Z"
      },
      {
        "duration": 0,
        "start_time": "2023-01-19T05:49:41.888Z"
      },
      {
        "duration": 0,
        "start_time": "2023-01-19T05:49:41.890Z"
      },
      {
        "duration": 12,
        "start_time": "2023-01-19T05:50:00.908Z"
      },
      {
        "duration": 12,
        "start_time": "2023-01-19T05:50:07.182Z"
      },
      {
        "duration": 493,
        "start_time": "2023-01-19T05:50:32.347Z"
      },
      {
        "duration": 187,
        "start_time": "2023-01-19T05:50:39.588Z"
      },
      {
        "duration": 4,
        "start_time": "2023-01-19T05:50:58.740Z"
      },
      {
        "duration": 1053,
        "start_time": "2023-01-19T05:51:43.639Z"
      },
      {
        "duration": 49,
        "start_time": "2023-01-19T05:51:44.694Z"
      },
      {
        "duration": 21,
        "start_time": "2023-01-19T05:51:44.745Z"
      },
      {
        "duration": 18,
        "start_time": "2023-01-19T05:51:44.768Z"
      },
      {
        "duration": 22,
        "start_time": "2023-01-19T05:51:44.788Z"
      },
      {
        "duration": 4,
        "start_time": "2023-01-19T05:51:44.811Z"
      },
      {
        "duration": 65,
        "start_time": "2023-01-19T05:51:44.816Z"
      },
      {
        "duration": 43,
        "start_time": "2023-01-19T05:51:44.883Z"
      },
      {
        "duration": 71,
        "start_time": "2023-01-19T05:51:44.928Z"
      },
      {
        "duration": 29,
        "start_time": "2023-01-19T05:51:45.002Z"
      },
      {
        "duration": 9,
        "start_time": "2023-01-19T05:51:45.033Z"
      },
      {
        "duration": 410,
        "start_time": "2023-01-19T05:51:45.044Z"
      },
      {
        "duration": 6,
        "start_time": "2023-01-19T05:51:45.456Z"
      },
      {
        "duration": 17,
        "start_time": "2023-01-19T05:51:45.464Z"
      },
      {
        "duration": 394,
        "start_time": "2023-01-19T05:51:45.482Z"
      },
      {
        "duration": 17,
        "start_time": "2023-01-19T05:51:45.878Z"
      },
      {
        "duration": 4,
        "start_time": "2023-01-19T05:51:45.896Z"
      },
      {
        "duration": 20,
        "start_time": "2023-01-19T05:51:45.902Z"
      },
      {
        "duration": 9,
        "start_time": "2023-01-19T05:51:45.924Z"
      },
      {
        "duration": 15,
        "start_time": "2023-01-19T05:51:45.935Z"
      },
      {
        "duration": 5,
        "start_time": "2023-01-19T05:51:45.951Z"
      },
      {
        "duration": 13,
        "start_time": "2023-01-19T05:51:45.957Z"
      },
      {
        "duration": 4,
        "start_time": "2023-01-19T05:51:45.980Z"
      },
      {
        "duration": 12,
        "start_time": "2023-01-19T05:51:45.986Z"
      },
      {
        "duration": 12,
        "start_time": "2023-01-19T05:51:45.999Z"
      },
      {
        "duration": 13,
        "start_time": "2023-01-19T05:51:46.012Z"
      },
      {
        "duration": 11,
        "start_time": "2023-01-19T05:51:46.027Z"
      },
      {
        "duration": 41,
        "start_time": "2023-01-19T05:51:46.041Z"
      },
      {
        "duration": 22,
        "start_time": "2023-01-19T05:51:46.084Z"
      },
      {
        "duration": 10,
        "start_time": "2023-01-19T05:51:46.107Z"
      },
      {
        "duration": 2,
        "start_time": "2023-01-19T05:51:46.119Z"
      },
      {
        "duration": 10,
        "start_time": "2023-01-19T05:51:46.123Z"
      },
      {
        "duration": 3,
        "start_time": "2023-01-19T05:51:46.134Z"
      },
      {
        "duration": 20,
        "start_time": "2023-01-19T05:51:46.138Z"
      },
      {
        "duration": 133,
        "start_time": "2023-01-19T05:51:46.182Z"
      },
      {
        "duration": 8,
        "start_time": "2023-01-19T05:51:46.317Z"
      },
      {
        "duration": 6858,
        "start_time": "2023-01-19T05:51:46.327Z"
      },
      {
        "duration": 3,
        "start_time": "2023-01-19T05:51:53.187Z"
      },
      {
        "duration": 344,
        "start_time": "2023-01-19T05:51:53.192Z"
      },
      {
        "duration": 4,
        "start_time": "2023-01-19T05:51:53.538Z"
      },
      {
        "duration": 2009,
        "start_time": "2023-01-19T05:51:53.544Z"
      },
      {
        "duration": 2,
        "start_time": "2023-01-19T05:51:55.555Z"
      },
      {
        "duration": 262,
        "start_time": "2023-01-19T05:51:55.559Z"
      },
      {
        "duration": 528,
        "start_time": "2023-01-19T05:51:55.823Z"
      },
      {
        "duration": 7,
        "start_time": "2023-01-19T05:51:56.353Z"
      },
      {
        "duration": 449,
        "start_time": "2023-01-19T06:13:15.506Z"
      },
      {
        "duration": 101,
        "start_time": "2023-01-19T06:14:24.797Z"
      },
      {
        "duration": 914,
        "start_time": "2023-01-19T06:14:29.504Z"
      },
      {
        "duration": 15,
        "start_time": "2023-01-19T06:15:43.616Z"
      },
      {
        "duration": 1078,
        "start_time": "2023-01-19T06:15:52.040Z"
      },
      {
        "duration": 51,
        "start_time": "2023-01-19T06:15:53.120Z"
      },
      {
        "duration": 21,
        "start_time": "2023-01-19T06:15:53.173Z"
      },
      {
        "duration": 19,
        "start_time": "2023-01-19T06:15:53.195Z"
      },
      {
        "duration": 23,
        "start_time": "2023-01-19T06:15:53.216Z"
      },
      {
        "duration": 4,
        "start_time": "2023-01-19T06:15:53.241Z"
      },
      {
        "duration": 69,
        "start_time": "2023-01-19T06:15:53.246Z"
      },
      {
        "duration": 42,
        "start_time": "2023-01-19T06:15:53.317Z"
      },
      {
        "duration": 65,
        "start_time": "2023-01-19T06:15:53.361Z"
      },
      {
        "duration": 29,
        "start_time": "2023-01-19T06:15:53.428Z"
      },
      {
        "duration": 23,
        "start_time": "2023-01-19T06:15:53.459Z"
      },
      {
        "duration": 444,
        "start_time": "2023-01-19T06:15:53.484Z"
      },
      {
        "duration": 6,
        "start_time": "2023-01-19T06:15:53.930Z"
      },
      {
        "duration": 5,
        "start_time": "2023-01-19T06:15:53.939Z"
      },
      {
        "duration": 418,
        "start_time": "2023-01-19T06:15:53.945Z"
      },
      {
        "duration": 17,
        "start_time": "2023-01-19T06:15:54.365Z"
      },
      {
        "duration": 5,
        "start_time": "2023-01-19T06:15:54.384Z"
      },
      {
        "duration": 12,
        "start_time": "2023-01-19T06:15:54.391Z"
      },
      {
        "duration": 10,
        "start_time": "2023-01-19T06:15:54.405Z"
      },
      {
        "duration": 17,
        "start_time": "2023-01-19T06:15:54.417Z"
      },
      {
        "duration": 5,
        "start_time": "2023-01-19T06:15:54.436Z"
      },
      {
        "duration": 10,
        "start_time": "2023-01-19T06:15:54.443Z"
      },
      {
        "duration": 30,
        "start_time": "2023-01-19T06:15:54.454Z"
      },
      {
        "duration": 16,
        "start_time": "2023-01-19T06:15:54.486Z"
      },
      {
        "duration": 14,
        "start_time": "2023-01-19T06:15:54.503Z"
      },
      {
        "duration": 15,
        "start_time": "2023-01-19T06:15:54.519Z"
      },
      {
        "duration": 28,
        "start_time": "2023-01-19T06:15:54.536Z"
      },
      {
        "duration": 27,
        "start_time": "2023-01-19T06:15:54.566Z"
      },
      {
        "duration": 25,
        "start_time": "2023-01-19T06:15:54.595Z"
      },
      {
        "duration": 12,
        "start_time": "2023-01-19T06:15:54.622Z"
      },
      {
        "duration": 2,
        "start_time": "2023-01-19T06:15:54.636Z"
      },
      {
        "duration": 46,
        "start_time": "2023-01-19T06:15:54.642Z"
      },
      {
        "duration": 2,
        "start_time": "2023-01-19T06:15:54.690Z"
      },
      {
        "duration": 22,
        "start_time": "2023-01-19T06:15:54.694Z"
      },
      {
        "duration": 143,
        "start_time": "2023-01-19T06:15:54.718Z"
      },
      {
        "duration": 8,
        "start_time": "2023-01-19T06:15:54.865Z"
      },
      {
        "duration": 7158,
        "start_time": "2023-01-19T06:15:54.875Z"
      },
      {
        "duration": 2,
        "start_time": "2023-01-19T06:16:02.035Z"
      },
      {
        "duration": 378,
        "start_time": "2023-01-19T06:16:02.039Z"
      },
      {
        "duration": 3,
        "start_time": "2023-01-19T06:16:02.419Z"
      },
      {
        "duration": 2199,
        "start_time": "2023-01-19T06:16:02.426Z"
      },
      {
        "duration": 3,
        "start_time": "2023-01-19T06:16:04.627Z"
      },
      {
        "duration": 274,
        "start_time": "2023-01-19T06:16:04.632Z"
      },
      {
        "duration": 561,
        "start_time": "2023-01-19T06:16:04.908Z"
      },
      {
        "duration": 10,
        "start_time": "2023-01-19T06:16:05.471Z"
      },
      {
        "duration": 56,
        "start_time": "2023-01-19T06:16:05.483Z"
      },
      {
        "duration": 860,
        "start_time": "2023-01-19T06:16:05.541Z"
      },
      {
        "duration": 0,
        "start_time": "2023-01-19T06:16:06.403Z"
      },
      {
        "duration": 7,
        "start_time": "2023-01-19T06:16:15.853Z"
      },
      {
        "duration": 5,
        "start_time": "2023-01-19T06:16:24.477Z"
      },
      {
        "duration": 8,
        "start_time": "2023-01-19T06:16:35.158Z"
      },
      {
        "duration": 716,
        "start_time": "2023-01-19T06:16:51.753Z"
      },
      {
        "duration": 9,
        "start_time": "2023-01-19T06:17:01.906Z"
      },
      {
        "duration": 8,
        "start_time": "2023-01-19T06:17:24.939Z"
      },
      {
        "duration": 7,
        "start_time": "2023-01-19T06:17:42.379Z"
      },
      {
        "duration": 5,
        "start_time": "2023-01-19T06:19:02.747Z"
      },
      {
        "duration": 6,
        "start_time": "2023-01-19T06:19:20.636Z"
      },
      {
        "duration": 1124,
        "start_time": "2023-01-19T06:19:37.746Z"
      },
      {
        "duration": 52,
        "start_time": "2023-01-19T06:19:38.872Z"
      },
      {
        "duration": 22,
        "start_time": "2023-01-19T06:19:38.925Z"
      },
      {
        "duration": 19,
        "start_time": "2023-01-19T06:19:38.949Z"
      },
      {
        "duration": 24,
        "start_time": "2023-01-19T06:19:38.969Z"
      },
      {
        "duration": 4,
        "start_time": "2023-01-19T06:19:38.994Z"
      },
      {
        "duration": 67,
        "start_time": "2023-01-19T06:19:39.000Z"
      },
      {
        "duration": 53,
        "start_time": "2023-01-19T06:19:39.068Z"
      },
      {
        "duration": 64,
        "start_time": "2023-01-19T06:19:39.123Z"
      },
      {
        "duration": 29,
        "start_time": "2023-01-19T06:19:39.191Z"
      },
      {
        "duration": 4,
        "start_time": "2023-01-19T06:19:39.222Z"
      },
      {
        "duration": 436,
        "start_time": "2023-01-19T06:19:39.228Z"
      },
      {
        "duration": 6,
        "start_time": "2023-01-19T06:19:39.666Z"
      },
      {
        "duration": 8,
        "start_time": "2023-01-19T06:19:39.674Z"
      },
      {
        "duration": 392,
        "start_time": "2023-01-19T06:19:39.684Z"
      },
      {
        "duration": 16,
        "start_time": "2023-01-19T06:19:40.078Z"
      },
      {
        "duration": 7,
        "start_time": "2023-01-19T06:19:40.096Z"
      },
      {
        "duration": 10,
        "start_time": "2023-01-19T06:19:40.104Z"
      },
      {
        "duration": 7,
        "start_time": "2023-01-19T06:19:40.115Z"
      },
      {
        "duration": 13,
        "start_time": "2023-01-19T06:19:40.123Z"
      },
      {
        "duration": 4,
        "start_time": "2023-01-19T06:19:40.137Z"
      },
      {
        "duration": 10,
        "start_time": "2023-01-19T06:19:40.142Z"
      },
      {
        "duration": 30,
        "start_time": "2023-01-19T06:19:40.153Z"
      },
      {
        "duration": 12,
        "start_time": "2023-01-19T06:19:40.185Z"
      },
      {
        "duration": 13,
        "start_time": "2023-01-19T06:19:40.198Z"
      },
      {
        "duration": 13,
        "start_time": "2023-01-19T06:19:40.212Z"
      },
      {
        "duration": 11,
        "start_time": "2023-01-19T06:19:40.227Z"
      },
      {
        "duration": 11,
        "start_time": "2023-01-19T06:19:40.241Z"
      },
      {
        "duration": 22,
        "start_time": "2023-01-19T06:19:40.281Z"
      },
      {
        "duration": 18,
        "start_time": "2023-01-19T06:19:40.304Z"
      },
      {
        "duration": 9,
        "start_time": "2023-01-19T06:19:40.324Z"
      },
      {
        "duration": 13,
        "start_time": "2023-01-19T06:19:40.335Z"
      },
      {
        "duration": 2,
        "start_time": "2023-01-19T06:19:40.350Z"
      },
      {
        "duration": 31,
        "start_time": "2023-01-19T06:19:40.353Z"
      },
      {
        "duration": 110,
        "start_time": "2023-01-19T06:19:40.385Z"
      },
      {
        "duration": 6,
        "start_time": "2023-01-19T06:19:40.497Z"
      },
      {
        "duration": 6608,
        "start_time": "2023-01-19T06:19:40.505Z"
      },
      {
        "duration": 3,
        "start_time": "2023-01-19T06:19:47.115Z"
      },
      {
        "duration": 322,
        "start_time": "2023-01-19T06:19:47.119Z"
      },
      {
        "duration": 3,
        "start_time": "2023-01-19T06:19:47.442Z"
      },
      {
        "duration": 2064,
        "start_time": "2023-01-19T06:19:47.446Z"
      },
      {
        "duration": 3,
        "start_time": "2023-01-19T06:19:49.512Z"
      },
      {
        "duration": 272,
        "start_time": "2023-01-19T06:19:49.517Z"
      },
      {
        "duration": 518,
        "start_time": "2023-01-19T06:19:49.791Z"
      },
      {
        "duration": 5,
        "start_time": "2023-01-19T06:19:50.311Z"
      },
      {
        "duration": 9,
        "start_time": "2023-01-19T06:19:50.317Z"
      },
      {
        "duration": 954,
        "start_time": "2023-01-19T06:19:50.327Z"
      },
      {
        "duration": 0,
        "start_time": "2023-01-19T06:19:51.283Z"
      },
      {
        "duration": 0,
        "start_time": "2023-01-19T06:19:51.284Z"
      },
      {
        "duration": 0,
        "start_time": "2023-01-19T06:19:51.285Z"
      },
      {
        "duration": 7,
        "start_time": "2023-01-19T06:20:01.563Z"
      },
      {
        "duration": 5,
        "start_time": "2023-01-19T06:20:13.120Z"
      },
      {
        "duration": 5,
        "start_time": "2023-01-19T06:20:13.591Z"
      },
      {
        "duration": 2244,
        "start_time": "2023-01-19T07:01:02.569Z"
      },
      {
        "duration": 2356,
        "start_time": "2023-01-19T07:01:14.148Z"
      },
      {
        "duration": 600,
        "start_time": "2023-01-19T07:01:28.571Z"
      },
      {
        "duration": 533,
        "start_time": "2023-01-19T07:01:33.329Z"
      },
      {
        "duration": 351,
        "start_time": "2023-01-19T07:04:57.637Z"
      },
      {
        "duration": 2,
        "start_time": "2023-01-19T07:05:07.689Z"
      },
      {
        "duration": 35,
        "start_time": "2023-01-19T07:05:30.795Z"
      },
      {
        "duration": 35,
        "start_time": "2023-01-19T07:05:41.226Z"
      },
      {
        "duration": 69,
        "start_time": "2023-01-19T07:05:58.675Z"
      },
      {
        "duration": 6,
        "start_time": "2023-01-19T07:06:57.057Z"
      },
      {
        "duration": 124,
        "start_time": "2023-01-19T07:09:42.602Z"
      },
      {
        "duration": 7,
        "start_time": "2023-01-19T07:09:50.234Z"
      },
      {
        "duration": 7,
        "start_time": "2023-01-19T07:16:20.769Z"
      },
      {
        "duration": 4,
        "start_time": "2023-01-19T07:16:52.522Z"
      },
      {
        "duration": 4,
        "start_time": "2023-01-19T07:17:27.498Z"
      },
      {
        "duration": 22,
        "start_time": "2023-01-19T07:22:00.366Z"
      },
      {
        "duration": 25,
        "start_time": "2023-01-19T07:28:09.378Z"
      },
      {
        "duration": 23,
        "start_time": "2023-01-19T07:28:12.822Z"
      },
      {
        "duration": 3,
        "start_time": "2023-01-19T07:28:15.330Z"
      },
      {
        "duration": 3359,
        "start_time": "2023-01-19T07:28:17.435Z"
      },
      {
        "duration": 12,
        "start_time": "2023-01-19T07:29:13.744Z"
      },
      {
        "duration": 3,
        "start_time": "2023-01-19T07:29:35.606Z"
      },
      {
        "duration": 8,
        "start_time": "2023-01-19T07:29:37.109Z"
      },
      {
        "duration": 9,
        "start_time": "2023-01-19T07:29:37.596Z"
      },
      {
        "duration": 3,
        "start_time": "2023-01-19T07:29:38.187Z"
      },
      {
        "duration": 3234,
        "start_time": "2023-01-19T07:29:38.831Z"
      },
      {
        "duration": 404,
        "start_time": "2023-01-19T07:29:42.068Z"
      },
      {
        "duration": 4,
        "start_time": "2023-01-19T07:31:09.722Z"
      },
      {
        "duration": 456,
        "start_time": "2023-01-19T07:31:10.413Z"
      },
      {
        "duration": 3,
        "start_time": "2023-01-19T07:36:56.825Z"
      },
      {
        "duration": 9,
        "start_time": "2023-01-19T07:40:50.400Z"
      },
      {
        "duration": 4,
        "start_time": "2023-01-19T07:41:20.063Z"
      },
      {
        "duration": 3,
        "start_time": "2023-01-19T07:41:30.421Z"
      },
      {
        "duration": 3,
        "start_time": "2023-01-19T07:41:32.298Z"
      },
      {
        "duration": 3139,
        "start_time": "2023-01-19T07:41:32.965Z"
      },
      {
        "duration": 14,
        "start_time": "2023-01-19T07:41:51.735Z"
      },
      {
        "duration": 49,
        "start_time": "2023-01-19T07:43:07.542Z"
      },
      {
        "duration": 4,
        "start_time": "2023-01-19T07:43:14.606Z"
      },
      {
        "duration": 6309,
        "start_time": "2023-01-19T07:43:46.683Z"
      },
      {
        "duration": 4,
        "start_time": "2023-01-19T07:44:13.134Z"
      },
      {
        "duration": 4,
        "start_time": "2023-01-19T07:44:37.331Z"
      },
      {
        "duration": 7247,
        "start_time": "2023-01-19T07:44:38.174Z"
      },
      {
        "duration": 4,
        "start_time": "2023-01-19T07:44:45.423Z"
      },
      {
        "duration": 3,
        "start_time": "2023-01-19T07:51:51.367Z"
      },
      {
        "duration": 913,
        "start_time": "2023-01-19T07:51:54.170Z"
      },
      {
        "duration": 2,
        "start_time": "2023-01-19T07:53:43.060Z"
      },
      {
        "duration": 10,
        "start_time": "2023-01-19T07:56:31.464Z"
      },
      {
        "duration": 12,
        "start_time": "2023-01-19T07:57:10.676Z"
      },
      {
        "duration": 7,
        "start_time": "2023-01-19T07:57:12.316Z"
      },
      {
        "duration": 4,
        "start_time": "2023-01-19T07:57:12.847Z"
      },
      {
        "duration": 13,
        "start_time": "2023-01-19T07:57:18.867Z"
      },
      {
        "duration": 11,
        "start_time": "2023-01-19T07:57:26.749Z"
      },
      {
        "duration": 3,
        "start_time": "2023-01-19T07:57:40.236Z"
      },
      {
        "duration": 9,
        "start_time": "2023-01-19T07:57:43.126Z"
      },
      {
        "duration": 125,
        "start_time": "2023-01-19T07:58:02.186Z"
      },
      {
        "duration": 1144,
        "start_time": "2023-01-19T07:58:20.365Z"
      },
      {
        "duration": 53,
        "start_time": "2023-01-19T07:58:21.511Z"
      },
      {
        "duration": 23,
        "start_time": "2023-01-19T07:58:21.565Z"
      },
      {
        "duration": 19,
        "start_time": "2023-01-19T07:58:21.590Z"
      },
      {
        "duration": 22,
        "start_time": "2023-01-19T07:58:21.611Z"
      },
      {
        "duration": 4,
        "start_time": "2023-01-19T07:58:21.635Z"
      },
      {
        "duration": 63,
        "start_time": "2023-01-19T07:58:21.640Z"
      },
      {
        "duration": 38,
        "start_time": "2023-01-19T07:58:21.704Z"
      },
      {
        "duration": 57,
        "start_time": "2023-01-19T07:58:21.744Z"
      },
      {
        "duration": 27,
        "start_time": "2023-01-19T07:58:21.802Z"
      },
      {
        "duration": 4,
        "start_time": "2023-01-19T07:58:21.830Z"
      },
      {
        "duration": 440,
        "start_time": "2023-01-19T07:58:21.836Z"
      },
      {
        "duration": 8,
        "start_time": "2023-01-19T07:58:22.277Z"
      },
      {
        "duration": 3,
        "start_time": "2023-01-19T07:58:22.288Z"
      },
      {
        "duration": 415,
        "start_time": "2023-01-19T07:58:22.293Z"
      },
      {
        "duration": 15,
        "start_time": "2023-01-19T07:58:22.710Z"
      },
      {
        "duration": 4,
        "start_time": "2023-01-19T07:58:22.727Z"
      },
      {
        "duration": 10,
        "start_time": "2023-01-19T07:58:22.732Z"
      },
      {
        "duration": 15,
        "start_time": "2023-01-19T07:58:22.743Z"
      },
      {
        "duration": 28,
        "start_time": "2023-01-19T07:58:22.759Z"
      },
      {
        "duration": 6,
        "start_time": "2023-01-19T07:58:22.788Z"
      },
      {
        "duration": 19,
        "start_time": "2023-01-19T07:58:22.795Z"
      },
      {
        "duration": 9,
        "start_time": "2023-01-19T07:58:22.815Z"
      },
      {
        "duration": 12,
        "start_time": "2023-01-19T07:58:22.826Z"
      },
      {
        "duration": 14,
        "start_time": "2023-01-19T07:58:22.840Z"
      },
      {
        "duration": 30,
        "start_time": "2023-01-19T07:58:22.856Z"
      },
      {
        "duration": 13,
        "start_time": "2023-01-19T07:58:22.887Z"
      },
      {
        "duration": 20,
        "start_time": "2023-01-19T07:58:22.901Z"
      },
      {
        "duration": 35,
        "start_time": "2023-01-19T07:58:22.922Z"
      },
      {
        "duration": 14,
        "start_time": "2023-01-19T07:58:22.958Z"
      },
      {
        "duration": 8,
        "start_time": "2023-01-19T07:58:22.973Z"
      },
      {
        "duration": 35,
        "start_time": "2023-01-19T07:58:22.982Z"
      },
      {
        "duration": 22,
        "start_time": "2023-01-19T07:58:23.018Z"
      },
      {
        "duration": 37,
        "start_time": "2023-01-19T07:58:23.041Z"
      },
      {
        "duration": 110,
        "start_time": "2023-01-19T07:58:23.080Z"
      },
      {
        "duration": 6,
        "start_time": "2023-01-19T07:58:23.192Z"
      },
      {
        "duration": 7013,
        "start_time": "2023-01-19T07:58:23.200Z"
      },
      {
        "duration": 2,
        "start_time": "2023-01-19T07:58:30.215Z"
      },
      {
        "duration": 372,
        "start_time": "2023-01-19T07:58:30.219Z"
      },
      {
        "duration": 3,
        "start_time": "2023-01-19T07:58:30.593Z"
      },
      {
        "duration": 2350,
        "start_time": "2023-01-19T07:58:30.600Z"
      },
      {
        "duration": 2,
        "start_time": "2023-01-19T07:58:32.952Z"
      },
      {
        "duration": 279,
        "start_time": "2023-01-19T07:58:32.956Z"
      },
      {
        "duration": 535,
        "start_time": "2023-01-19T07:58:33.237Z"
      },
      {
        "duration": 9,
        "start_time": "2023-01-19T07:58:33.774Z"
      },
      {
        "duration": 103,
        "start_time": "2023-01-19T07:58:33.785Z"
      },
      {
        "duration": 0,
        "start_time": "2023-01-19T07:58:33.890Z"
      },
      {
        "duration": 0,
        "start_time": "2023-01-19T07:58:33.891Z"
      },
      {
        "duration": 0,
        "start_time": "2023-01-19T07:58:33.892Z"
      },
      {
        "duration": 0,
        "start_time": "2023-01-19T07:58:33.894Z"
      },
      {
        "duration": 0,
        "start_time": "2023-01-19T07:58:33.894Z"
      },
      {
        "duration": 0,
        "start_time": "2023-01-19T07:58:33.896Z"
      },
      {
        "duration": 0,
        "start_time": "2023-01-19T07:58:33.897Z"
      },
      {
        "duration": 0,
        "start_time": "2023-01-19T07:58:33.898Z"
      },
      {
        "duration": 0,
        "start_time": "2023-01-19T07:58:33.898Z"
      },
      {
        "duration": 0,
        "start_time": "2023-01-19T07:58:33.900Z"
      },
      {
        "duration": 0,
        "start_time": "2023-01-19T07:58:33.901Z"
      },
      {
        "duration": 1,
        "start_time": "2023-01-19T07:58:33.902Z"
      },
      {
        "duration": 263,
        "start_time": "2023-01-19T07:59:26.910Z"
      },
      {
        "duration": 1444,
        "start_time": "2023-01-19T07:59:40.700Z"
      },
      {
        "duration": 53,
        "start_time": "2023-01-19T07:59:42.146Z"
      },
      {
        "duration": 22,
        "start_time": "2023-01-19T07:59:42.201Z"
      },
      {
        "duration": 19,
        "start_time": "2023-01-19T07:59:42.225Z"
      },
      {
        "duration": 23,
        "start_time": "2023-01-19T07:59:42.246Z"
      },
      {
        "duration": 8,
        "start_time": "2023-01-19T07:59:42.271Z"
      },
      {
        "duration": 83,
        "start_time": "2023-01-19T07:59:42.280Z"
      },
      {
        "duration": 48,
        "start_time": "2023-01-19T07:59:42.364Z"
      },
      {
        "duration": 49,
        "start_time": "2023-01-19T07:59:42.414Z"
      },
      {
        "duration": 35,
        "start_time": "2023-01-19T07:59:42.482Z"
      },
      {
        "duration": 5,
        "start_time": "2023-01-19T07:59:42.520Z"
      },
      {
        "duration": 473,
        "start_time": "2023-01-19T07:59:42.527Z"
      },
      {
        "duration": 6,
        "start_time": "2023-01-19T07:59:43.001Z"
      },
      {
        "duration": 8,
        "start_time": "2023-01-19T07:59:43.009Z"
      },
      {
        "duration": 447,
        "start_time": "2023-01-19T07:59:43.018Z"
      },
      {
        "duration": 21,
        "start_time": "2023-01-19T07:59:43.467Z"
      },
      {
        "duration": 7,
        "start_time": "2023-01-19T07:59:43.490Z"
      },
      {
        "duration": 22,
        "start_time": "2023-01-19T07:59:43.499Z"
      },
      {
        "duration": 13,
        "start_time": "2023-01-19T07:59:43.523Z"
      },
      {
        "duration": 44,
        "start_time": "2023-01-19T07:59:43.538Z"
      },
      {
        "duration": 17,
        "start_time": "2023-01-19T07:59:43.584Z"
      },
      {
        "duration": 19,
        "start_time": "2023-01-19T07:59:43.602Z"
      },
      {
        "duration": 6,
        "start_time": "2023-01-19T07:59:43.623Z"
      },
      {
        "duration": 14,
        "start_time": "2023-01-19T07:59:43.630Z"
      },
      {
        "duration": 32,
        "start_time": "2023-01-19T07:59:43.646Z"
      },
      {
        "duration": 40,
        "start_time": "2023-01-19T07:59:43.680Z"
      },
      {
        "duration": 21,
        "start_time": "2023-01-19T07:59:43.722Z"
      },
      {
        "duration": 15,
        "start_time": "2023-01-19T07:59:43.746Z"
      },
      {
        "duration": 27,
        "start_time": "2023-01-19T07:59:43.762Z"
      },
      {
        "duration": 12,
        "start_time": "2023-01-19T07:59:43.791Z"
      },
      {
        "duration": 7,
        "start_time": "2023-01-19T07:59:43.805Z"
      },
      {
        "duration": 12,
        "start_time": "2023-01-19T07:59:43.814Z"
      },
      {
        "duration": 5,
        "start_time": "2023-01-19T07:59:43.828Z"
      },
      {
        "duration": 39,
        "start_time": "2023-01-19T07:59:43.835Z"
      },
      {
        "duration": 122,
        "start_time": "2023-01-19T07:59:43.875Z"
      },
      {
        "duration": 6,
        "start_time": "2023-01-19T07:59:43.999Z"
      },
      {
        "duration": 7226,
        "start_time": "2023-01-19T07:59:44.007Z"
      },
      {
        "duration": 3,
        "start_time": "2023-01-19T07:59:51.234Z"
      },
      {
        "duration": 405,
        "start_time": "2023-01-19T07:59:51.239Z"
      },
      {
        "duration": 3,
        "start_time": "2023-01-19T07:59:51.647Z"
      },
      {
        "duration": 2318,
        "start_time": "2023-01-19T07:59:51.652Z"
      },
      {
        "duration": 3,
        "start_time": "2023-01-19T07:59:53.972Z"
      },
      {
        "duration": 292,
        "start_time": "2023-01-19T07:59:53.982Z"
      },
      {
        "duration": 560,
        "start_time": "2023-01-19T07:59:54.281Z"
      },
      {
        "duration": 5,
        "start_time": "2023-01-19T07:59:54.843Z"
      },
      {
        "duration": 50,
        "start_time": "2023-01-19T07:59:54.850Z"
      },
      {
        "duration": 6,
        "start_time": "2023-01-19T07:59:54.902Z"
      },
      {
        "duration": 13,
        "start_time": "2023-01-19T07:59:54.910Z"
      },
      {
        "duration": 17,
        "start_time": "2023-01-19T07:59:54.925Z"
      },
      {
        "duration": 125,
        "start_time": "2023-01-19T07:59:54.944Z"
      },
      {
        "duration": 0,
        "start_time": "2023-01-19T07:59:55.080Z"
      },
      {
        "duration": 0,
        "start_time": "2023-01-19T07:59:55.082Z"
      },
      {
        "duration": 0,
        "start_time": "2023-01-19T07:59:55.083Z"
      },
      {
        "duration": 0,
        "start_time": "2023-01-19T07:59:55.085Z"
      },
      {
        "duration": 0,
        "start_time": "2023-01-19T07:59:55.086Z"
      },
      {
        "duration": 0,
        "start_time": "2023-01-19T07:59:55.088Z"
      },
      {
        "duration": 0,
        "start_time": "2023-01-19T07:59:55.090Z"
      },
      {
        "duration": 4,
        "start_time": "2023-01-19T08:00:19.065Z"
      },
      {
        "duration": 2,
        "start_time": "2023-01-19T08:00:19.981Z"
      },
      {
        "duration": 3,
        "start_time": "2023-01-19T08:00:20.249Z"
      },
      {
        "duration": 3902,
        "start_time": "2023-01-19T08:00:20.399Z"
      },
      {
        "duration": 4,
        "start_time": "2023-01-19T08:00:24.303Z"
      },
      {
        "duration": 9025,
        "start_time": "2023-01-19T08:00:24.308Z"
      },
      {
        "duration": 4,
        "start_time": "2023-01-19T08:00:33.336Z"
      },
      {
        "duration": 134,
        "start_time": "2023-01-19T08:00:33.342Z"
      },
      {
        "duration": 14,
        "start_time": "2023-01-19T08:01:14.666Z"
      },
      {
        "duration": 10,
        "start_time": "2023-01-19T08:01:37.167Z"
      },
      {
        "duration": 3,
        "start_time": "2023-01-19T08:01:38.372Z"
      },
      {
        "duration": 3,
        "start_time": "2023-01-19T08:01:39.497Z"
      },
      {
        "duration": 2,
        "start_time": "2023-01-19T08:01:39.676Z"
      },
      {
        "duration": 3351,
        "start_time": "2023-01-19T08:01:39.867Z"
      },
      {
        "duration": 4,
        "start_time": "2023-01-19T08:01:43.220Z"
      },
      {
        "duration": 8908,
        "start_time": "2023-01-19T08:01:43.225Z"
      },
      {
        "duration": 3,
        "start_time": "2023-01-19T08:01:52.135Z"
      },
      {
        "duration": 132,
        "start_time": "2023-01-19T08:01:52.140Z"
      },
      {
        "duration": 32,
        "start_time": "2023-01-19T08:44:46.706Z"
      },
      {
        "duration": 3,
        "start_time": "2023-01-19T08:45:36.286Z"
      },
      {
        "duration": 2,
        "start_time": "2023-01-19T08:48:28.510Z"
      },
      {
        "duration": 3,
        "start_time": "2023-01-19T08:49:27.516Z"
      },
      {
        "duration": 4674,
        "start_time": "2023-01-19T08:49:39.011Z"
      },
      {
        "duration": 3,
        "start_time": "2023-01-19T08:51:09.904Z"
      },
      {
        "duration": 5,
        "start_time": "2023-01-19T08:51:11.968Z"
      },
      {
        "duration": 4449,
        "start_time": "2023-01-19T08:51:13.428Z"
      },
      {
        "duration": 16,
        "start_time": "2023-01-19T08:51:48.842Z"
      },
      {
        "duration": 10,
        "start_time": "2023-01-19T08:51:59.411Z"
      },
      {
        "duration": 3,
        "start_time": "2023-01-19T08:53:05.838Z"
      },
      {
        "duration": 12,
        "start_time": "2023-01-19T08:53:06.685Z"
      },
      {
        "duration": 3,
        "start_time": "2023-01-19T08:54:51.386Z"
      },
      {
        "duration": 10,
        "start_time": "2023-01-19T08:54:52.302Z"
      },
      {
        "duration": 3,
        "start_time": "2023-01-19T08:55:37.367Z"
      },
      {
        "duration": 3,
        "start_time": "2023-01-19T08:55:39.686Z"
      },
      {
        "duration": 3,
        "start_time": "2023-01-19T08:55:40.368Z"
      },
      {
        "duration": 1519,
        "start_time": "2023-01-19T08:58:11.744Z"
      },
      {
        "duration": 54,
        "start_time": "2023-01-19T08:58:13.265Z"
      },
      {
        "duration": 23,
        "start_time": "2023-01-19T08:58:13.321Z"
      },
      {
        "duration": 19,
        "start_time": "2023-01-19T08:58:13.346Z"
      },
      {
        "duration": 24,
        "start_time": "2023-01-19T08:58:13.367Z"
      },
      {
        "duration": 4,
        "start_time": "2023-01-19T08:58:13.392Z"
      },
      {
        "duration": 69,
        "start_time": "2023-01-19T08:58:13.398Z"
      },
      {
        "duration": 45,
        "start_time": "2023-01-19T08:58:13.480Z"
      },
      {
        "duration": 90,
        "start_time": "2023-01-19T08:58:13.527Z"
      },
      {
        "duration": 33,
        "start_time": "2023-01-19T08:58:13.619Z"
      },
      {
        "duration": 32,
        "start_time": "2023-01-19T08:58:13.653Z"
      },
      {
        "duration": 443,
        "start_time": "2023-01-19T08:58:13.687Z"
      },
      {
        "duration": 6,
        "start_time": "2023-01-19T08:58:14.132Z"
      },
      {
        "duration": 17,
        "start_time": "2023-01-19T08:58:14.140Z"
      },
      {
        "duration": 434,
        "start_time": "2023-01-19T08:58:14.159Z"
      },
      {
        "duration": 16,
        "start_time": "2023-01-19T08:58:14.595Z"
      },
      {
        "duration": 5,
        "start_time": "2023-01-19T08:58:14.612Z"
      },
      {
        "duration": 14,
        "start_time": "2023-01-19T08:58:14.618Z"
      },
      {
        "duration": 10,
        "start_time": "2023-01-19T08:58:14.634Z"
      },
      {
        "duration": 48,
        "start_time": "2023-01-19T08:58:14.646Z"
      },
      {
        "duration": 8,
        "start_time": "2023-01-19T08:58:14.696Z"
      },
      {
        "duration": 20,
        "start_time": "2023-01-19T08:58:14.706Z"
      },
      {
        "duration": 5,
        "start_time": "2023-01-19T08:58:14.728Z"
      },
      {
        "duration": 16,
        "start_time": "2023-01-19T08:58:14.734Z"
      },
      {
        "duration": 29,
        "start_time": "2023-01-19T08:58:14.752Z"
      },
      {
        "duration": 19,
        "start_time": "2023-01-19T08:58:14.783Z"
      },
      {
        "duration": 18,
        "start_time": "2023-01-19T08:58:14.805Z"
      },
      {
        "duration": 14,
        "start_time": "2023-01-19T08:58:14.828Z"
      },
      {
        "duration": 56,
        "start_time": "2023-01-19T08:58:14.844Z"
      },
      {
        "duration": 13,
        "start_time": "2023-01-19T08:58:14.902Z"
      },
      {
        "duration": 3,
        "start_time": "2023-01-19T08:58:14.917Z"
      },
      {
        "duration": 12,
        "start_time": "2023-01-19T08:58:14.922Z"
      },
      {
        "duration": 2,
        "start_time": "2023-01-19T08:58:14.936Z"
      },
      {
        "duration": 42,
        "start_time": "2023-01-19T08:58:14.940Z"
      },
      {
        "duration": 130,
        "start_time": "2023-01-19T08:58:14.984Z"
      },
      {
        "duration": 7,
        "start_time": "2023-01-19T08:58:15.115Z"
      },
      {
        "duration": 7494,
        "start_time": "2023-01-19T08:58:15.123Z"
      },
      {
        "duration": 4,
        "start_time": "2023-01-19T08:58:22.618Z"
      },
      {
        "duration": 367,
        "start_time": "2023-01-19T08:58:22.623Z"
      },
      {
        "duration": 4,
        "start_time": "2023-01-19T08:58:22.993Z"
      },
      {
        "duration": 2300,
        "start_time": "2023-01-19T08:58:22.999Z"
      },
      {
        "duration": 3,
        "start_time": "2023-01-19T08:58:25.300Z"
      },
      {
        "duration": 292,
        "start_time": "2023-01-19T08:58:25.304Z"
      },
      {
        "duration": 546,
        "start_time": "2023-01-19T08:58:25.598Z"
      },
      {
        "duration": 5,
        "start_time": "2023-01-19T08:58:26.146Z"
      },
      {
        "duration": 7,
        "start_time": "2023-01-19T08:58:26.152Z"
      },
      {
        "duration": 53,
        "start_time": "2023-01-19T08:58:26.163Z"
      },
      {
        "duration": 5,
        "start_time": "2023-01-19T08:58:26.218Z"
      },
      {
        "duration": 8,
        "start_time": "2023-01-19T08:58:26.225Z"
      },
      {
        "duration": 21,
        "start_time": "2023-01-19T08:58:26.235Z"
      },
      {
        "duration": 12,
        "start_time": "2023-01-19T08:58:26.258Z"
      },
      {
        "duration": 3,
        "start_time": "2023-01-19T08:58:26.282Z"
      },
      {
        "duration": 15,
        "start_time": "2023-01-19T08:58:26.287Z"
      },
      {
        "duration": 17,
        "start_time": "2023-01-19T08:58:26.304Z"
      },
      {
        "duration": 16,
        "start_time": "2023-01-19T08:58:26.323Z"
      },
      {
        "duration": 1631,
        "start_time": "2023-01-19T09:06:04.912Z"
      },
      {
        "duration": 64,
        "start_time": "2023-01-19T09:06:06.546Z"
      },
      {
        "duration": 25,
        "start_time": "2023-01-19T09:06:06.612Z"
      },
      {
        "duration": 22,
        "start_time": "2023-01-19T09:06:06.640Z"
      },
      {
        "duration": 27,
        "start_time": "2023-01-19T09:06:06.666Z"
      },
      {
        "duration": 6,
        "start_time": "2023-01-19T09:06:06.695Z"
      },
      {
        "duration": 93,
        "start_time": "2023-01-19T09:06:06.703Z"
      },
      {
        "duration": 47,
        "start_time": "2023-01-19T09:06:06.799Z"
      },
      {
        "duration": 78,
        "start_time": "2023-01-19T09:06:06.848Z"
      },
      {
        "duration": 30,
        "start_time": "2023-01-19T09:06:06.929Z"
      },
      {
        "duration": 5,
        "start_time": "2023-01-19T09:06:06.982Z"
      },
      {
        "duration": 454,
        "start_time": "2023-01-19T09:06:06.988Z"
      },
      {
        "duration": 7,
        "start_time": "2023-01-19T09:06:07.444Z"
      },
      {
        "duration": 7,
        "start_time": "2023-01-19T09:06:07.453Z"
      },
      {
        "duration": 439,
        "start_time": "2023-01-19T09:06:07.461Z"
      },
      {
        "duration": 16,
        "start_time": "2023-01-19T09:06:07.902Z"
      },
      {
        "duration": 8,
        "start_time": "2023-01-19T09:06:07.919Z"
      },
      {
        "duration": 11,
        "start_time": "2023-01-19T09:06:07.928Z"
      },
      {
        "duration": 8,
        "start_time": "2023-01-19T09:06:07.941Z"
      },
      {
        "duration": 38,
        "start_time": "2023-01-19T09:06:07.950Z"
      },
      {
        "duration": 8,
        "start_time": "2023-01-19T09:06:07.989Z"
      },
      {
        "duration": 13,
        "start_time": "2023-01-19T09:06:07.999Z"
      },
      {
        "duration": 5,
        "start_time": "2023-01-19T09:06:08.014Z"
      },
      {
        "duration": 13,
        "start_time": "2023-01-19T09:06:08.021Z"
      },
      {
        "duration": 46,
        "start_time": "2023-01-19T09:06:08.036Z"
      },
      {
        "duration": 14,
        "start_time": "2023-01-19T09:06:08.084Z"
      },
      {
        "duration": 14,
        "start_time": "2023-01-19T09:06:08.100Z"
      },
      {
        "duration": 13,
        "start_time": "2023-01-19T09:06:08.117Z"
      },
      {
        "duration": 62,
        "start_time": "2023-01-19T09:06:08.131Z"
      },
      {
        "duration": 27,
        "start_time": "2023-01-19T09:06:08.194Z"
      },
      {
        "duration": 5,
        "start_time": "2023-01-19T09:06:08.223Z"
      },
      {
        "duration": 39,
        "start_time": "2023-01-19T09:06:08.230Z"
      },
      {
        "duration": 3,
        "start_time": "2023-01-19T09:06:08.271Z"
      },
      {
        "duration": 24,
        "start_time": "2023-01-19T09:06:08.276Z"
      },
      {
        "duration": 128,
        "start_time": "2023-01-19T09:06:08.302Z"
      },
      {
        "duration": 6,
        "start_time": "2023-01-19T09:06:08.432Z"
      },
      {
        "duration": 7029,
        "start_time": "2023-01-19T09:06:08.440Z"
      },
      {
        "duration": 3,
        "start_time": "2023-01-19T09:06:15.470Z"
      },
      {
        "duration": 353,
        "start_time": "2023-01-19T09:06:15.475Z"
      },
      {
        "duration": 3,
        "start_time": "2023-01-19T09:06:15.830Z"
      },
      {
        "duration": 2262,
        "start_time": "2023-01-19T09:06:15.834Z"
      },
      {
        "duration": 3,
        "start_time": "2023-01-19T09:06:18.098Z"
      },
      {
        "duration": 280,
        "start_time": "2023-01-19T09:06:18.103Z"
      },
      {
        "duration": 543,
        "start_time": "2023-01-19T09:06:18.385Z"
      },
      {
        "duration": 5,
        "start_time": "2023-01-19T09:06:18.930Z"
      },
      {
        "duration": 51,
        "start_time": "2023-01-19T09:06:18.937Z"
      },
      {
        "duration": 5,
        "start_time": "2023-01-19T09:06:18.990Z"
      },
      {
        "duration": 12,
        "start_time": "2023-01-19T09:06:18.998Z"
      },
      {
        "duration": 11,
        "start_time": "2023-01-19T09:06:19.013Z"
      },
      {
        "duration": 5,
        "start_time": "2023-01-19T09:06:19.025Z"
      },
      {
        "duration": 5,
        "start_time": "2023-01-19T09:06:19.031Z"
      },
      {
        "duration": 4,
        "start_time": "2023-01-19T09:06:19.038Z"
      },
      {
        "duration": 7,
        "start_time": "2023-01-19T09:06:19.044Z"
      },
      {
        "duration": 1457,
        "start_time": "2023-01-19T09:08:58.822Z"
      },
      {
        "duration": 51,
        "start_time": "2023-01-19T09:09:00.281Z"
      },
      {
        "duration": 22,
        "start_time": "2023-01-19T09:09:00.334Z"
      },
      {
        "duration": 18,
        "start_time": "2023-01-19T09:09:00.358Z"
      },
      {
        "duration": 31,
        "start_time": "2023-01-19T09:09:00.378Z"
      },
      {
        "duration": 7,
        "start_time": "2023-01-19T09:09:00.411Z"
      },
      {
        "duration": 100,
        "start_time": "2023-01-19T09:09:00.420Z"
      },
      {
        "duration": 45,
        "start_time": "2023-01-19T09:09:00.522Z"
      },
      {
        "duration": 49,
        "start_time": "2023-01-19T09:09:00.582Z"
      },
      {
        "duration": 58,
        "start_time": "2023-01-19T09:09:00.634Z"
      },
      {
        "duration": 6,
        "start_time": "2023-01-19T09:09:00.694Z"
      },
      {
        "duration": 442,
        "start_time": "2023-01-19T09:09:00.701Z"
      },
      {
        "duration": 5,
        "start_time": "2023-01-19T09:09:01.145Z"
      },
      {
        "duration": 19,
        "start_time": "2023-01-19T09:09:01.152Z"
      },
      {
        "duration": 417,
        "start_time": "2023-01-19T09:09:01.173Z"
      },
      {
        "duration": 16,
        "start_time": "2023-01-19T09:09:01.592Z"
      },
      {
        "duration": 28,
        "start_time": "2023-01-19T09:09:01.609Z"
      },
      {
        "duration": 30,
        "start_time": "2023-01-19T09:09:01.638Z"
      },
      {
        "duration": 26,
        "start_time": "2023-01-19T09:09:01.670Z"
      },
      {
        "duration": 49,
        "start_time": "2023-01-19T09:09:01.698Z"
      },
      {
        "duration": 27,
        "start_time": "2023-01-19T09:09:01.748Z"
      },
      {
        "duration": 29,
        "start_time": "2023-01-19T09:09:01.777Z"
      },
      {
        "duration": 19,
        "start_time": "2023-01-19T09:09:01.807Z"
      },
      {
        "duration": 53,
        "start_time": "2023-01-19T09:09:01.828Z"
      },
      {
        "duration": 31,
        "start_time": "2023-01-19T09:09:01.883Z"
      },
      {
        "duration": 26,
        "start_time": "2023-01-19T09:09:01.915Z"
      },
      {
        "duration": 43,
        "start_time": "2023-01-19T09:09:01.942Z"
      },
      {
        "duration": 34,
        "start_time": "2023-01-19T09:09:01.989Z"
      },
      {
        "duration": 55,
        "start_time": "2023-01-19T09:09:02.025Z"
      },
      {
        "duration": 60,
        "start_time": "2023-01-19T09:09:02.081Z"
      },
      {
        "duration": 7,
        "start_time": "2023-01-19T09:09:02.143Z"
      },
      {
        "duration": 14,
        "start_time": "2023-01-19T09:09:02.152Z"
      },
      {
        "duration": 7,
        "start_time": "2023-01-19T09:09:02.168Z"
      },
      {
        "duration": 44,
        "start_time": "2023-01-19T09:09:02.177Z"
      },
      {
        "duration": 134,
        "start_time": "2023-01-19T09:09:02.223Z"
      },
      {
        "duration": 7,
        "start_time": "2023-01-19T09:09:02.358Z"
      },
      {
        "duration": 6910,
        "start_time": "2023-01-19T09:09:02.367Z"
      },
      {
        "duration": 3,
        "start_time": "2023-01-19T09:09:09.279Z"
      },
      {
        "duration": 387,
        "start_time": "2023-01-19T09:09:09.284Z"
      },
      {
        "duration": 8,
        "start_time": "2023-01-19T09:09:09.673Z"
      },
      {
        "duration": 2325,
        "start_time": "2023-01-19T09:09:09.684Z"
      },
      {
        "duration": 3,
        "start_time": "2023-01-19T09:09:12.011Z"
      },
      {
        "duration": 287,
        "start_time": "2023-01-19T09:09:12.016Z"
      },
      {
        "duration": 578,
        "start_time": "2023-01-19T09:09:12.305Z"
      },
      {
        "duration": 5,
        "start_time": "2023-01-19T09:09:12.885Z"
      },
      {
        "duration": 40,
        "start_time": "2023-01-19T09:09:12.892Z"
      },
      {
        "duration": 5,
        "start_time": "2023-01-19T09:09:12.934Z"
      },
      {
        "duration": 7,
        "start_time": "2023-01-19T09:09:12.941Z"
      },
      {
        "duration": 33,
        "start_time": "2023-01-19T09:09:12.950Z"
      },
      {
        "duration": 4,
        "start_time": "2023-01-19T09:09:12.985Z"
      },
      {
        "duration": 11,
        "start_time": "2023-01-19T09:09:12.991Z"
      },
      {
        "duration": 12,
        "start_time": "2023-01-19T09:09:13.004Z"
      },
      {
        "duration": 7,
        "start_time": "2023-01-19T09:09:13.017Z"
      },
      {
        "duration": 1394,
        "start_time": "2023-01-19T09:12:18.008Z"
      },
      {
        "duration": 51,
        "start_time": "2023-01-19T09:12:19.405Z"
      },
      {
        "duration": 22,
        "start_time": "2023-01-19T09:12:19.458Z"
      },
      {
        "duration": 20,
        "start_time": "2023-01-19T09:12:19.483Z"
      },
      {
        "duration": 26,
        "start_time": "2023-01-19T09:12:19.505Z"
      },
      {
        "duration": 4,
        "start_time": "2023-01-19T09:12:19.533Z"
      },
      {
        "duration": 70,
        "start_time": "2023-01-19T09:12:19.540Z"
      },
      {
        "duration": 41,
        "start_time": "2023-01-19T09:12:19.611Z"
      },
      {
        "duration": 73,
        "start_time": "2023-01-19T09:12:19.653Z"
      },
      {
        "duration": 29,
        "start_time": "2023-01-19T09:12:19.728Z"
      },
      {
        "duration": 23,
        "start_time": "2023-01-19T09:12:19.759Z"
      },
      {
        "duration": 426,
        "start_time": "2023-01-19T09:12:19.784Z"
      },
      {
        "duration": 6,
        "start_time": "2023-01-19T09:12:20.212Z"
      },
      {
        "duration": 24,
        "start_time": "2023-01-19T09:12:20.220Z"
      },
      {
        "duration": 473,
        "start_time": "2023-01-19T09:12:20.246Z"
      },
      {
        "duration": 18,
        "start_time": "2023-01-19T09:12:20.721Z"
      },
      {
        "duration": 7,
        "start_time": "2023-01-19T09:12:20.741Z"
      },
      {
        "duration": 11,
        "start_time": "2023-01-19T09:12:20.749Z"
      },
      {
        "duration": 25,
        "start_time": "2023-01-19T09:12:20.762Z"
      },
      {
        "duration": 25,
        "start_time": "2023-01-19T09:12:20.788Z"
      },
      {
        "duration": 7,
        "start_time": "2023-01-19T09:12:20.814Z"
      },
      {
        "duration": 11,
        "start_time": "2023-01-19T09:12:20.823Z"
      },
      {
        "duration": 7,
        "start_time": "2023-01-19T09:12:20.836Z"
      },
      {
        "duration": 24,
        "start_time": "2023-01-19T09:12:20.845Z"
      },
      {
        "duration": 27,
        "start_time": "2023-01-19T09:12:20.870Z"
      },
      {
        "duration": 39,
        "start_time": "2023-01-19T09:12:20.899Z"
      },
      {
        "duration": 20,
        "start_time": "2023-01-19T09:12:20.940Z"
      },
      {
        "duration": 15,
        "start_time": "2023-01-19T09:12:20.963Z"
      },
      {
        "duration": 27,
        "start_time": "2023-01-19T09:12:20.979Z"
      },
      {
        "duration": 12,
        "start_time": "2023-01-19T09:12:21.008Z"
      },
      {
        "duration": 10,
        "start_time": "2023-01-19T09:12:21.022Z"
      },
      {
        "duration": 15,
        "start_time": "2023-01-19T09:12:21.034Z"
      },
      {
        "duration": 5,
        "start_time": "2023-01-19T09:12:21.050Z"
      },
      {
        "duration": 30,
        "start_time": "2023-01-19T09:12:21.056Z"
      },
      {
        "duration": 126,
        "start_time": "2023-01-19T09:12:21.088Z"
      },
      {
        "duration": 7,
        "start_time": "2023-01-19T09:12:21.215Z"
      },
      {
        "duration": 6994,
        "start_time": "2023-01-19T09:12:21.223Z"
      },
      {
        "duration": 3,
        "start_time": "2023-01-19T09:12:28.218Z"
      },
      {
        "duration": 337,
        "start_time": "2023-01-19T09:12:28.222Z"
      },
      {
        "duration": 4,
        "start_time": "2023-01-19T09:12:28.561Z"
      },
      {
        "duration": 2211,
        "start_time": "2023-01-19T09:12:28.567Z"
      },
      {
        "duration": 3,
        "start_time": "2023-01-19T09:12:30.780Z"
      },
      {
        "duration": 288,
        "start_time": "2023-01-19T09:12:30.785Z"
      },
      {
        "duration": 531,
        "start_time": "2023-01-19T09:12:31.075Z"
      },
      {
        "duration": 5,
        "start_time": "2023-01-19T09:12:31.607Z"
      },
      {
        "duration": 58,
        "start_time": "2023-01-19T09:12:31.614Z"
      },
      {
        "duration": 22,
        "start_time": "2023-01-19T09:12:31.673Z"
      },
      {
        "duration": 21,
        "start_time": "2023-01-19T09:12:31.697Z"
      },
      {
        "duration": 18,
        "start_time": "2023-01-19T09:12:31.720Z"
      },
      {
        "duration": 19,
        "start_time": "2023-01-19T09:12:31.740Z"
      },
      {
        "duration": 28,
        "start_time": "2023-01-19T09:12:31.760Z"
      },
      {
        "duration": 15,
        "start_time": "2023-01-19T09:12:31.790Z"
      },
      {
        "duration": 29,
        "start_time": "2023-01-19T09:12:31.807Z"
      },
      {
        "duration": 2159,
        "start_time": "2023-01-19T09:12:31.837Z"
      },
      {
        "duration": 155,
        "start_time": "2023-01-19T09:12:33.997Z"
      },
      {
        "duration": 3,
        "start_time": "2023-01-19T09:12:34.153Z"
      },
      {
        "duration": 3489,
        "start_time": "2023-01-19T09:12:34.157Z"
      },
      {
        "duration": 3,
        "start_time": "2023-01-19T09:12:37.648Z"
      },
      {
        "duration": 7958,
        "start_time": "2023-01-19T09:12:37.652Z"
      },
      {
        "duration": 5,
        "start_time": "2023-01-19T09:12:45.611Z"
      },
      {
        "duration": 137,
        "start_time": "2023-01-19T09:12:45.618Z"
      },
      {
        "duration": 112,
        "start_time": "2023-01-19T09:12:45.757Z"
      },
      {
        "duration": 0,
        "start_time": "2023-01-19T09:12:45.871Z"
      },
      {
        "duration": 11,
        "start_time": "2023-01-19T09:13:00.846Z"
      },
      {
        "duration": 16,
        "start_time": "2023-01-19T09:13:14.416Z"
      },
      {
        "duration": 8,
        "start_time": "2023-01-19T09:13:32.389Z"
      },
      {
        "duration": 255,
        "start_time": "2023-01-19T09:13:34.628Z"
      },
      {
        "duration": 308,
        "start_time": "2023-01-19T09:14:37.775Z"
      },
      {
        "duration": 5,
        "start_time": "2023-01-19T09:15:16.200Z"
      },
      {
        "duration": 4,
        "start_time": "2023-01-19T09:15:41.634Z"
      },
      {
        "duration": 10163,
        "start_time": "2023-01-19T09:15:42.882Z"
      },
      {
        "duration": 4,
        "start_time": "2023-01-19T09:15:53.047Z"
      },
      {
        "duration": 7,
        "start_time": "2023-01-19T09:15:53.053Z"
      },
      {
        "duration": 4,
        "start_time": "2023-01-19T09:16:16.866Z"
      },
      {
        "duration": 3,
        "start_time": "2023-01-19T09:18:13.718Z"
      },
      {
        "duration": 3,
        "start_time": "2023-01-19T09:18:14.818Z"
      },
      {
        "duration": 52297,
        "start_time": "2023-01-19T09:18:15.784Z"
      },
      {
        "duration": 2,
        "start_time": "2023-01-19T09:20:17.020Z"
      },
      {
        "duration": 2,
        "start_time": "2023-01-19T09:21:18.902Z"
      },
      {
        "duration": 11,
        "start_time": "2023-01-19T09:21:19.388Z"
      },
      {
        "duration": 3,
        "start_time": "2023-01-19T09:21:30.482Z"
      },
      {
        "duration": 11,
        "start_time": "2023-01-19T09:21:31.220Z"
      },
      {
        "duration": 7,
        "start_time": "2023-01-19T09:21:48.688Z"
      },
      {
        "duration": 182,
        "start_time": "2023-01-19T09:22:56.505Z"
      },
      {
        "duration": 3,
        "start_time": "2023-01-19T09:22:59.286Z"
      },
      {
        "duration": 6,
        "start_time": "2023-01-19T09:27:23.341Z"
      },
      {
        "duration": 946,
        "start_time": "2023-01-19T09:27:34.612Z"
      },
      {
        "duration": 1306,
        "start_time": "2023-01-19T09:28:30.174Z"
      },
      {
        "duration": 7,
        "start_time": "2023-01-19T09:29:54.779Z"
      },
      {
        "duration": 15,
        "start_time": "2023-01-19T09:30:05.297Z"
      },
      {
        "duration": 13,
        "start_time": "2023-01-19T09:30:18.993Z"
      },
      {
        "duration": 5,
        "start_time": "2023-01-19T09:30:58.732Z"
      },
      {
        "duration": 18034,
        "start_time": "2023-01-19T09:31:00.165Z"
      },
      {
        "duration": 5,
        "start_time": "2023-01-19T09:31:18.202Z"
      },
      {
        "duration": 12,
        "start_time": "2023-01-19T09:31:18.210Z"
      },
      {
        "duration": 214,
        "start_time": "2023-01-19T09:31:18.225Z"
      },
      {
        "duration": 15,
        "start_time": "2023-01-19T09:31:18.445Z"
      },
      {
        "duration": 5,
        "start_time": "2023-01-19T09:31:49.348Z"
      },
      {
        "duration": 14648,
        "start_time": "2023-01-19T09:31:49.982Z"
      },
      {
        "duration": 8,
        "start_time": "2023-01-19T09:32:04.632Z"
      },
      {
        "duration": 4,
        "start_time": "2023-01-19T09:33:03.515Z"
      },
      {
        "duration": 38278,
        "start_time": "2023-01-19T09:33:04.768Z"
      },
      {
        "duration": 5,
        "start_time": "2023-01-19T09:33:43.048Z"
      },
      {
        "duration": 11,
        "start_time": "2023-01-19T09:34:15.807Z"
      },
      {
        "duration": 44,
        "start_time": "2023-01-19T09:34:17.984Z"
      },
      {
        "duration": 10,
        "start_time": "2023-01-19T09:35:27.525Z"
      },
      {
        "duration": 1484,
        "start_time": "2023-01-19T09:35:40.567Z"
      },
      {
        "duration": 53,
        "start_time": "2023-01-19T09:35:42.053Z"
      },
      {
        "duration": 22,
        "start_time": "2023-01-19T09:35:42.108Z"
      },
      {
        "duration": 25,
        "start_time": "2023-01-19T09:35:42.132Z"
      },
      {
        "duration": 23,
        "start_time": "2023-01-19T09:35:42.158Z"
      },
      {
        "duration": 6,
        "start_time": "2023-01-19T09:35:42.183Z"
      },
      {
        "duration": 86,
        "start_time": "2023-01-19T09:35:42.190Z"
      },
      {
        "duration": 43,
        "start_time": "2023-01-19T09:35:42.278Z"
      },
      {
        "duration": 60,
        "start_time": "2023-01-19T09:35:42.323Z"
      },
      {
        "duration": 28,
        "start_time": "2023-01-19T09:35:42.386Z"
      },
      {
        "duration": 5,
        "start_time": "2023-01-19T09:35:42.415Z"
      },
      {
        "duration": 435,
        "start_time": "2023-01-19T09:35:42.421Z"
      },
      {
        "duration": 7,
        "start_time": "2023-01-19T09:35:42.858Z"
      },
      {
        "duration": 16,
        "start_time": "2023-01-19T09:35:42.866Z"
      },
      {
        "duration": 425,
        "start_time": "2023-01-19T09:35:42.883Z"
      },
      {
        "duration": 16,
        "start_time": "2023-01-19T09:35:43.310Z"
      },
      {
        "duration": 5,
        "start_time": "2023-01-19T09:35:43.327Z"
      },
      {
        "duration": 10,
        "start_time": "2023-01-19T09:35:43.333Z"
      },
      {
        "duration": 8,
        "start_time": "2023-01-19T09:35:43.344Z"
      },
      {
        "duration": 41,
        "start_time": "2023-01-19T09:35:43.353Z"
      },
      {
        "duration": 5,
        "start_time": "2023-01-19T09:35:43.395Z"
      },
      {
        "duration": 12,
        "start_time": "2023-01-19T09:35:43.402Z"
      },
      {
        "duration": 5,
        "start_time": "2023-01-19T09:35:43.417Z"
      },
      {
        "duration": 13,
        "start_time": "2023-01-19T09:35:43.424Z"
      },
      {
        "duration": 14,
        "start_time": "2023-01-19T09:35:43.439Z"
      },
      {
        "duration": 17,
        "start_time": "2023-01-19T09:35:43.482Z"
      },
      {
        "duration": 14,
        "start_time": "2023-01-19T09:35:43.501Z"
      },
      {
        "duration": 13,
        "start_time": "2023-01-19T09:35:43.519Z"
      },
      {
        "duration": 49,
        "start_time": "2023-01-19T09:35:43.534Z"
      },
      {
        "duration": 12,
        "start_time": "2023-01-19T09:35:43.585Z"
      },
      {
        "duration": 3,
        "start_time": "2023-01-19T09:35:43.599Z"
      },
      {
        "duration": 24,
        "start_time": "2023-01-19T09:35:43.604Z"
      },
      {
        "duration": 3,
        "start_time": "2023-01-19T09:35:43.630Z"
      },
      {
        "duration": 21,
        "start_time": "2023-01-19T09:35:43.634Z"
      },
      {
        "duration": 131,
        "start_time": "2023-01-19T09:35:43.657Z"
      },
      {
        "duration": 8,
        "start_time": "2023-01-19T09:35:43.790Z"
      },
      {
        "duration": 7177,
        "start_time": "2023-01-19T09:35:43.800Z"
      },
      {
        "duration": 3,
        "start_time": "2023-01-19T09:35:50.979Z"
      },
      {
        "duration": 375,
        "start_time": "2023-01-19T09:35:50.984Z"
      },
      {
        "duration": 3,
        "start_time": "2023-01-19T09:35:51.361Z"
      },
      {
        "duration": 2274,
        "start_time": "2023-01-19T09:35:51.367Z"
      },
      {
        "duration": 3,
        "start_time": "2023-01-19T09:35:53.643Z"
      },
      {
        "duration": 294,
        "start_time": "2023-01-19T09:35:53.648Z"
      },
      {
        "duration": 555,
        "start_time": "2023-01-19T09:35:53.944Z"
      },
      {
        "duration": 4,
        "start_time": "2023-01-19T09:35:54.501Z"
      },
      {
        "duration": 43,
        "start_time": "2023-01-19T09:35:54.507Z"
      },
      {
        "duration": 5,
        "start_time": "2023-01-19T09:35:54.551Z"
      },
      {
        "duration": 9,
        "start_time": "2023-01-19T09:35:54.557Z"
      },
      {
        "duration": 10,
        "start_time": "2023-01-19T09:35:54.582Z"
      },
      {
        "duration": 12,
        "start_time": "2023-01-19T09:35:54.594Z"
      },
      {
        "duration": 6,
        "start_time": "2023-01-19T09:35:54.608Z"
      },
      {
        "duration": 5,
        "start_time": "2023-01-19T09:35:54.616Z"
      },
      {
        "duration": 7,
        "start_time": "2023-01-19T09:35:54.624Z"
      },
      {
        "duration": 51867,
        "start_time": "2023-01-19T09:35:54.633Z"
      },
      {
        "duration": 5,
        "start_time": "2023-01-19T09:36:46.502Z"
      },
      {
        "duration": 333,
        "start_time": "2023-01-19T09:36:46.509Z"
      },
      {
        "duration": 3,
        "start_time": "2023-01-19T09:36:46.844Z"
      },
      {
        "duration": 3349,
        "start_time": "2023-01-19T09:36:46.848Z"
      },
      {
        "duration": 3,
        "start_time": "2023-01-19T09:36:50.199Z"
      },
      {
        "duration": 35296,
        "start_time": "2023-01-19T09:36:50.203Z"
      },
      {
        "duration": 4,
        "start_time": "2023-01-19T09:37:25.500Z"
      },
      {
        "duration": 29,
        "start_time": "2023-01-19T09:37:25.505Z"
      },
      {
        "duration": 135,
        "start_time": "2023-01-19T09:37:25.536Z"
      },
      {
        "duration": 3,
        "start_time": "2023-01-19T09:37:25.673Z"
      },
      {
        "duration": 304,
        "start_time": "2023-01-19T09:37:25.677Z"
      },
      {
        "duration": 3,
        "start_time": "2023-01-19T09:37:25.983Z"
      },
      {
        "duration": 27,
        "start_time": "2023-01-19T09:37:25.988Z"
      },
      {
        "duration": 25,
        "start_time": "2023-01-19T09:37:26.017Z"
      },
      {
        "duration": 129,
        "start_time": "2023-01-19T09:37:26.043Z"
      },
      {
        "duration": 0,
        "start_time": "2023-01-19T09:37:26.174Z"
      },
      {
        "duration": 0,
        "start_time": "2023-01-19T09:37:26.176Z"
      },
      {
        "duration": 9,
        "start_time": "2023-01-19T09:37:40.599Z"
      },
      {
        "duration": 43,
        "start_time": "2023-01-19T09:37:51.099Z"
      },
      {
        "duration": 949,
        "start_time": "2023-01-19T09:37:57.188Z"
      },
      {
        "duration": 40,
        "start_time": "2023-01-19T09:38:19.736Z"
      },
      {
        "duration": 1495,
        "start_time": "2023-01-19T09:38:39.329Z"
      },
      {
        "duration": 1422,
        "start_time": "2023-01-19T09:38:52.537Z"
      },
      {
        "duration": 51,
        "start_time": "2023-01-19T09:38:53.961Z"
      },
      {
        "duration": 22,
        "start_time": "2023-01-19T09:38:54.014Z"
      },
      {
        "duration": 27,
        "start_time": "2023-01-19T09:38:54.038Z"
      },
      {
        "duration": 45,
        "start_time": "2023-01-19T09:38:54.067Z"
      },
      {
        "duration": 4,
        "start_time": "2023-01-19T09:38:54.114Z"
      },
      {
        "duration": 115,
        "start_time": "2023-01-19T09:38:54.119Z"
      },
      {
        "duration": 52,
        "start_time": "2023-01-19T09:38:54.235Z"
      },
      {
        "duration": 53,
        "start_time": "2023-01-19T09:38:54.289Z"
      },
      {
        "duration": 61,
        "start_time": "2023-01-19T09:38:54.346Z"
      },
      {
        "duration": 5,
        "start_time": "2023-01-19T09:38:54.409Z"
      },
      {
        "duration": 451,
        "start_time": "2023-01-19T09:38:54.417Z"
      },
      {
        "duration": 12,
        "start_time": "2023-01-19T09:38:54.870Z"
      },
      {
        "duration": 15,
        "start_time": "2023-01-19T09:38:54.883Z"
      },
      {
        "duration": 437,
        "start_time": "2023-01-19T09:38:54.900Z"
      },
      {
        "duration": 16,
        "start_time": "2023-01-19T09:38:55.338Z"
      },
      {
        "duration": 9,
        "start_time": "2023-01-19T09:38:55.356Z"
      },
      {
        "duration": 20,
        "start_time": "2023-01-19T09:38:55.366Z"
      },
      {
        "duration": 11,
        "start_time": "2023-01-19T09:38:55.388Z"
      },
      {
        "duration": 18,
        "start_time": "2023-01-19T09:38:55.400Z"
      },
      {
        "duration": 9,
        "start_time": "2023-01-19T09:38:55.420Z"
      },
      {
        "duration": 13,
        "start_time": "2023-01-19T09:38:55.430Z"
      },
      {
        "duration": 5,
        "start_time": "2023-01-19T09:38:55.445Z"
      },
      {
        "duration": 33,
        "start_time": "2023-01-19T09:38:55.451Z"
      },
      {
        "duration": 15,
        "start_time": "2023-01-19T09:38:55.486Z"
      },
      {
        "duration": 18,
        "start_time": "2023-01-19T09:38:55.502Z"
      },
      {
        "duration": 13,
        "start_time": "2023-01-19T09:38:55.522Z"
      },
      {
        "duration": 13,
        "start_time": "2023-01-19T09:38:55.539Z"
      },
      {
        "duration": 24,
        "start_time": "2023-01-19T09:38:55.581Z"
      },
      {
        "duration": 11,
        "start_time": "2023-01-19T09:38:55.606Z"
      },
      {
        "duration": 8,
        "start_time": "2023-01-19T09:38:55.618Z"
      },
      {
        "duration": 14,
        "start_time": "2023-01-19T09:38:55.627Z"
      },
      {
        "duration": 3,
        "start_time": "2023-01-19T09:38:55.643Z"
      },
      {
        "duration": 43,
        "start_time": "2023-01-19T09:38:55.648Z"
      },
      {
        "duration": 122,
        "start_time": "2023-01-19T09:38:55.693Z"
      },
      {
        "duration": 7,
        "start_time": "2023-01-19T09:38:55.817Z"
      },
      {
        "duration": 7092,
        "start_time": "2023-01-19T09:38:55.825Z"
      },
      {
        "duration": 3,
        "start_time": "2023-01-19T09:39:02.919Z"
      },
      {
        "duration": 387,
        "start_time": "2023-01-19T09:39:02.923Z"
      },
      {
        "duration": 3,
        "start_time": "2023-01-19T09:39:03.311Z"
      },
      {
        "duration": 2241,
        "start_time": "2023-01-19T09:39:03.316Z"
      },
      {
        "duration": 8,
        "start_time": "2023-01-19T09:39:05.559Z"
      },
      {
        "duration": 268,
        "start_time": "2023-01-19T09:39:05.569Z"
      },
      {
        "duration": 591,
        "start_time": "2023-01-19T09:39:05.839Z"
      },
      {
        "duration": 6,
        "start_time": "2023-01-19T09:39:06.432Z"
      },
      {
        "duration": 68,
        "start_time": "2023-01-19T09:39:06.440Z"
      },
      {
        "duration": 6,
        "start_time": "2023-01-19T09:39:06.510Z"
      },
      {
        "duration": 21,
        "start_time": "2023-01-19T09:39:06.519Z"
      },
      {
        "duration": 23,
        "start_time": "2023-01-19T09:39:06.542Z"
      },
      {
        "duration": 5,
        "start_time": "2023-01-19T09:39:06.567Z"
      },
      {
        "duration": 20,
        "start_time": "2023-01-19T09:39:06.574Z"
      },
      {
        "duration": 11,
        "start_time": "2023-01-19T09:39:06.596Z"
      },
      {
        "duration": 15,
        "start_time": "2023-01-19T09:39:06.609Z"
      },
      {
        "duration": 49766,
        "start_time": "2023-01-19T09:39:06.626Z"
      },
      {
        "duration": 5,
        "start_time": "2023-01-19T09:39:56.394Z"
      },
      {
        "duration": 325,
        "start_time": "2023-01-19T09:39:56.401Z"
      },
      {
        "duration": 2,
        "start_time": "2023-01-19T09:39:56.728Z"
      },
      {
        "duration": 3358,
        "start_time": "2023-01-19T09:39:56.732Z"
      },
      {
        "duration": 3,
        "start_time": "2023-01-19T09:40:00.092Z"
      },
      {
        "duration": 37583,
        "start_time": "2023-01-19T09:40:00.097Z"
      },
      {
        "duration": 3,
        "start_time": "2023-01-19T09:40:37.682Z"
      },
      {
        "duration": 24,
        "start_time": "2023-01-19T09:40:37.687Z"
      },
      {
        "duration": 145,
        "start_time": "2023-01-19T09:40:37.713Z"
      },
      {
        "duration": 3,
        "start_time": "2023-01-19T09:40:37.860Z"
      },
      {
        "duration": 308,
        "start_time": "2023-01-19T09:40:37.865Z"
      },
      {
        "duration": 9,
        "start_time": "2023-01-19T09:40:38.174Z"
      },
      {
        "duration": 10,
        "start_time": "2023-01-19T09:40:38.184Z"
      },
      {
        "duration": 7,
        "start_time": "2023-01-19T09:40:38.195Z"
      },
      {
        "duration": 15,
        "start_time": "2023-01-19T09:40:38.204Z"
      },
      {
        "duration": 50,
        "start_time": "2023-01-19T09:40:38.221Z"
      },
      {
        "duration": 1096,
        "start_time": "2023-01-19T09:40:38.280Z"
      },
      {
        "duration": 1790,
        "start_time": "2023-01-20T02:58:17.503Z"
      },
      {
        "duration": 178,
        "start_time": "2023-01-20T02:58:19.295Z"
      },
      {
        "duration": 131,
        "start_time": "2023-01-20T02:58:19.475Z"
      },
      {
        "duration": 83,
        "start_time": "2023-01-20T02:58:19.608Z"
      },
      {
        "duration": 101,
        "start_time": "2023-01-20T02:58:19.693Z"
      },
      {
        "duration": 5,
        "start_time": "2023-01-20T02:58:19.797Z"
      },
      {
        "duration": 92,
        "start_time": "2023-01-20T02:58:19.804Z"
      },
      {
        "duration": 40,
        "start_time": "2023-01-20T02:58:19.897Z"
      },
      {
        "duration": 58,
        "start_time": "2023-01-20T02:58:19.955Z"
      },
      {
        "duration": 52,
        "start_time": "2023-01-20T02:58:20.014Z"
      },
      {
        "duration": 10,
        "start_time": "2023-01-20T02:58:20.071Z"
      },
      {
        "duration": 542,
        "start_time": "2023-01-20T02:58:20.083Z"
      },
      {
        "duration": 7,
        "start_time": "2023-01-20T02:58:20.627Z"
      },
      {
        "duration": 5,
        "start_time": "2023-01-20T02:58:20.637Z"
      },
      {
        "duration": 498,
        "start_time": "2023-01-20T02:58:20.644Z"
      },
      {
        "duration": 19,
        "start_time": "2023-01-20T02:58:21.144Z"
      },
      {
        "duration": 21,
        "start_time": "2023-01-20T02:58:21.165Z"
      },
      {
        "duration": 10,
        "start_time": "2023-01-20T02:58:21.187Z"
      },
      {
        "duration": 8,
        "start_time": "2023-01-20T02:58:21.199Z"
      },
      {
        "duration": 14,
        "start_time": "2023-01-20T02:58:21.208Z"
      },
      {
        "duration": 4,
        "start_time": "2023-01-20T02:58:21.224Z"
      },
      {
        "duration": 9,
        "start_time": "2023-01-20T02:58:21.229Z"
      },
      {
        "duration": 11,
        "start_time": "2023-01-20T02:58:21.240Z"
      },
      {
        "duration": 13,
        "start_time": "2023-01-20T02:58:21.253Z"
      },
      {
        "duration": 26,
        "start_time": "2023-01-20T02:58:21.267Z"
      },
      {
        "duration": 12,
        "start_time": "2023-01-20T02:58:21.295Z"
      },
      {
        "duration": 11,
        "start_time": "2023-01-20T02:58:21.309Z"
      },
      {
        "duration": 11,
        "start_time": "2023-01-20T02:58:21.321Z"
      },
      {
        "duration": 39,
        "start_time": "2023-01-20T02:58:21.334Z"
      },
      {
        "duration": 24,
        "start_time": "2023-01-20T02:58:21.374Z"
      },
      {
        "duration": 4,
        "start_time": "2023-01-20T02:58:21.400Z"
      },
      {
        "duration": 16,
        "start_time": "2023-01-20T02:58:21.405Z"
      },
      {
        "duration": 4,
        "start_time": "2023-01-20T02:58:21.422Z"
      },
      {
        "duration": 15,
        "start_time": "2023-01-20T02:58:21.428Z"
      },
      {
        "duration": 134,
        "start_time": "2023-01-20T02:58:21.448Z"
      },
      {
        "duration": 7,
        "start_time": "2023-01-20T02:58:21.583Z"
      },
      {
        "duration": 8387,
        "start_time": "2023-01-20T02:58:21.592Z"
      },
      {
        "duration": 3,
        "start_time": "2023-01-20T02:58:29.981Z"
      },
      {
        "duration": 336,
        "start_time": "2023-01-20T02:58:29.985Z"
      },
      {
        "duration": 3,
        "start_time": "2023-01-20T02:58:30.323Z"
      },
      {
        "duration": 2323,
        "start_time": "2023-01-20T02:58:30.330Z"
      },
      {
        "duration": 5,
        "start_time": "2023-01-20T02:58:32.655Z"
      },
      {
        "duration": 308,
        "start_time": "2023-01-20T02:58:32.662Z"
      },
      {
        "duration": 617,
        "start_time": "2023-01-20T02:58:32.975Z"
      },
      {
        "duration": 5,
        "start_time": "2023-01-20T02:58:33.594Z"
      },
      {
        "duration": 54,
        "start_time": "2023-01-20T02:58:33.600Z"
      },
      {
        "duration": 11,
        "start_time": "2023-01-20T02:58:33.655Z"
      },
      {
        "duration": 22,
        "start_time": "2023-01-20T02:58:33.668Z"
      },
      {
        "duration": 11,
        "start_time": "2023-01-20T02:58:33.691Z"
      },
      {
        "duration": 6,
        "start_time": "2023-01-20T02:58:33.704Z"
      },
      {
        "duration": 4,
        "start_time": "2023-01-20T02:58:33.711Z"
      },
      {
        "duration": 5,
        "start_time": "2023-01-20T02:58:33.717Z"
      },
      {
        "duration": 6,
        "start_time": "2023-01-20T02:58:33.723Z"
      },
      {
        "duration": 53529,
        "start_time": "2023-01-20T02:58:33.731Z"
      },
      {
        "duration": 8,
        "start_time": "2023-01-20T02:59:27.266Z"
      },
      {
        "duration": 311,
        "start_time": "2023-01-20T02:59:27.276Z"
      },
      {
        "duration": 3,
        "start_time": "2023-01-20T02:59:27.589Z"
      },
      {
        "duration": 4052,
        "start_time": "2023-01-20T02:59:27.594Z"
      },
      {
        "duration": 10,
        "start_time": "2023-01-20T02:59:31.647Z"
      },
      {
        "duration": 42441,
        "start_time": "2023-01-20T02:59:31.658Z"
      },
      {
        "duration": 3,
        "start_time": "2023-01-20T03:00:14.101Z"
      },
      {
        "duration": 10,
        "start_time": "2023-01-20T03:00:14.105Z"
      },
      {
        "duration": 135,
        "start_time": "2023-01-20T03:00:14.117Z"
      },
      {
        "duration": 4,
        "start_time": "2023-01-20T03:00:14.254Z"
      },
      {
        "duration": 312,
        "start_time": "2023-01-20T03:00:14.260Z"
      },
      {
        "duration": 4,
        "start_time": "2023-01-20T03:00:14.574Z"
      },
      {
        "duration": 21,
        "start_time": "2023-01-20T03:00:14.583Z"
      },
      {
        "duration": 10,
        "start_time": "2023-01-20T03:00:14.605Z"
      },
      {
        "duration": 14,
        "start_time": "2023-01-20T03:00:14.616Z"
      },
      {
        "duration": 63,
        "start_time": "2023-01-20T03:00:14.631Z"
      },
      {
        "duration": 1143,
        "start_time": "2023-01-20T03:00:14.696Z"
      },
      {
        "duration": 288,
        "start_time": "2023-01-20T03:00:26.945Z"
      },
      {
        "duration": 144,
        "start_time": "2023-01-20T03:01:33.417Z"
      },
      {
        "duration": 144,
        "start_time": "2023-01-20T03:01:43.963Z"
      },
      {
        "duration": 55,
        "start_time": "2023-01-20T03:04:00.887Z"
      },
      {
        "duration": 3,
        "start_time": "2023-01-20T03:04:14.979Z"
      },
      {
        "duration": 4005,
        "start_time": "2023-01-20T03:04:15.538Z"
      },
      {
        "duration": 3,
        "start_time": "2023-01-20T03:04:24.902Z"
      },
      {
        "duration": 42115,
        "start_time": "2023-01-20T03:04:26.527Z"
      },
      {
        "duration": 9,
        "start_time": "2023-01-20T03:05:08.645Z"
      },
      {
        "duration": 1089,
        "start_time": "2023-01-20T03:06:40.805Z"
      },
      {
        "duration": 1086,
        "start_time": "2023-01-20T03:06:48.347Z"
      },
      {
        "duration": 252,
        "start_time": "2023-01-20T03:09:00.478Z"
      },
      {
        "duration": 321,
        "start_time": "2023-01-20T03:09:08.809Z"
      },
      {
        "duration": 300,
        "start_time": "2023-01-20T03:09:18.493Z"
      },
      {
        "duration": 326,
        "start_time": "2023-01-20T03:10:34.975Z"
      },
      {
        "duration": 283,
        "start_time": "2023-01-20T03:10:40.004Z"
      },
      {
        "duration": 447,
        "start_time": "2023-01-20T03:10:50.341Z"
      },
      {
        "duration": 344,
        "start_time": "2023-01-20T03:10:56.247Z"
      },
      {
        "duration": 302,
        "start_time": "2023-01-20T03:11:36.764Z"
      },
      {
        "duration": 305,
        "start_time": "2023-01-20T03:12:00.710Z"
      },
      {
        "duration": 18,
        "start_time": "2023-01-20T03:14:06.199Z"
      },
      {
        "duration": 8,
        "start_time": "2023-01-20T03:14:15.577Z"
      },
      {
        "duration": 9,
        "start_time": "2023-01-20T03:15:09.138Z"
      },
      {
        "duration": 1150,
        "start_time": "2023-01-20T03:15:22.380Z"
      },
      {
        "duration": 16,
        "start_time": "2023-01-20T03:19:05.252Z"
      },
      {
        "duration": 45,
        "start_time": "2023-01-20T03:19:20.797Z"
      },
      {
        "duration": 4,
        "start_time": "2023-01-20T03:19:26.902Z"
      },
      {
        "duration": 4,
        "start_time": "2023-01-20T03:19:33.534Z"
      },
      {
        "duration": 6,
        "start_time": "2023-01-20T03:19:46.477Z"
      },
      {
        "duration": 4,
        "start_time": "2023-01-20T03:19:52.005Z"
      },
      {
        "duration": 8,
        "start_time": "2023-01-20T03:19:58.846Z"
      },
      {
        "duration": 5715,
        "start_time": "2023-01-20T03:20:26.290Z"
      },
      {
        "duration": 5217,
        "start_time": "2023-01-20T03:21:00.570Z"
      },
      {
        "duration": 4864,
        "start_time": "2023-01-20T03:21:25.169Z"
      },
      {
        "duration": 4392,
        "start_time": "2023-01-20T03:21:44.833Z"
      },
      {
        "duration": 4,
        "start_time": "2023-01-20T03:21:50.877Z"
      },
      {
        "duration": 4065,
        "start_time": "2023-01-20T03:24:11.885Z"
      },
      {
        "duration": 4302,
        "start_time": "2023-01-20T03:24:27.606Z"
      },
      {
        "duration": 16,
        "start_time": "2023-01-20T03:24:56.131Z"
      },
      {
        "duration": 8,
        "start_time": "2023-01-20T03:25:29.607Z"
      },
      {
        "duration": 5,
        "start_time": "2023-01-20T03:26:12.720Z"
      },
      {
        "duration": 48686,
        "start_time": "2023-01-20T03:26:13.919Z"
      },
      {
        "duration": 5,
        "start_time": "2023-01-20T03:27:02.607Z"
      },
      {
        "duration": 5,
        "start_time": "2023-01-20T03:27:12.973Z"
      },
      {
        "duration": 5,
        "start_time": "2023-01-20T03:27:17.369Z"
      },
      {
        "duration": 46323,
        "start_time": "2023-01-20T03:27:18.706Z"
      },
      {
        "duration": 5,
        "start_time": "2023-01-20T03:28:05.030Z"
      },
      {
        "duration": 4,
        "start_time": "2023-01-20T03:28:48.440Z"
      },
      {
        "duration": 9,
        "start_time": "2023-01-20T03:28:59.745Z"
      },
      {
        "duration": 49686,
        "start_time": "2023-01-20T03:29:00.421Z"
      },
      {
        "duration": 7,
        "start_time": "2023-01-20T03:29:50.109Z"
      },
      {
        "duration": 4,
        "start_time": "2023-01-20T03:30:13.088Z"
      },
      {
        "duration": 4,
        "start_time": "2023-01-20T03:30:20.979Z"
      },
      {
        "duration": 59322,
        "start_time": "2023-01-20T03:30:21.517Z"
      },
      {
        "duration": 5,
        "start_time": "2023-01-20T03:31:20.841Z"
      },
      {
        "duration": 33,
        "start_time": "2023-01-20T03:31:20.850Z"
      },
      {
        "duration": 29,
        "start_time": "2023-01-20T03:43:05.826Z"
      },
      {
        "duration": 14,
        "start_time": "2023-01-20T03:46:35.040Z"
      },
      {
        "duration": 9,
        "start_time": "2023-01-20T03:46:40.675Z"
      },
      {
        "duration": 9,
        "start_time": "2023-01-20T03:46:44.484Z"
      },
      {
        "duration": 9,
        "start_time": "2023-01-20T03:47:34.872Z"
      },
      {
        "duration": 10,
        "start_time": "2023-01-20T03:47:40.616Z"
      },
      {
        "duration": 9,
        "start_time": "2023-01-20T03:47:47.537Z"
      },
      {
        "duration": 13,
        "start_time": "2023-01-20T03:48:55.665Z"
      },
      {
        "duration": 12,
        "start_time": "2023-01-20T03:50:21.488Z"
      },
      {
        "duration": 10,
        "start_time": "2023-01-20T03:50:23.544Z"
      },
      {
        "duration": 1182,
        "start_time": "2023-01-20T03:50:37.677Z"
      },
      {
        "duration": 1847,
        "start_time": "2023-01-20T03:51:10.491Z"
      },
      {
        "duration": 1713,
        "start_time": "2023-01-20T03:51:29.496Z"
      },
      {
        "duration": 5,
        "start_time": "2023-01-20T03:57:10.677Z"
      },
      {
        "duration": 95,
        "start_time": "2023-01-20T03:57:11.973Z"
      },
      {
        "duration": 4,
        "start_time": "2023-01-20T03:57:51.712Z"
      },
      {
        "duration": 32819,
        "start_time": "2023-01-20T03:57:52.985Z"
      },
      {
        "duration": 4326,
        "start_time": "2023-01-20T03:58:25.806Z"
      },
      {
        "duration": 3,
        "start_time": "2023-01-20T03:58:30.134Z"
      },
      {
        "duration": 7,
        "start_time": "2023-01-20T03:58:46.465Z"
      },
      {
        "duration": 5283,
        "start_time": "2023-01-20T03:58:47.122Z"
      },
      {
        "duration": 3,
        "start_time": "2023-01-20T04:00:15.134Z"
      },
      {
        "duration": 4489,
        "start_time": "2023-01-20T04:00:15.796Z"
      },
      {
        "duration": 4,
        "start_time": "2023-01-20T04:01:51.601Z"
      },
      {
        "duration": 4717,
        "start_time": "2023-01-20T04:01:52.385Z"
      },
      {
        "duration": 1558,
        "start_time": "2023-01-20T04:08:05.740Z"
      },
      {
        "duration": 1449,
        "start_time": "2023-01-20T04:10:04.182Z"
      },
      {
        "duration": 72,
        "start_time": "2023-01-20T04:10:05.633Z"
      },
      {
        "duration": 23,
        "start_time": "2023-01-20T04:10:05.707Z"
      },
      {
        "duration": 23,
        "start_time": "2023-01-20T04:10:05.732Z"
      },
      {
        "duration": 31,
        "start_time": "2023-01-20T04:10:05.762Z"
      },
      {
        "duration": 5,
        "start_time": "2023-01-20T04:10:05.795Z"
      },
      {
        "duration": 83,
        "start_time": "2023-01-20T04:10:05.801Z"
      },
      {
        "duration": 54,
        "start_time": "2023-01-20T04:10:05.886Z"
      },
      {
        "duration": 61,
        "start_time": "2023-01-20T04:10:05.949Z"
      },
      {
        "duration": 46,
        "start_time": "2023-01-20T04:10:06.013Z"
      },
      {
        "duration": 8,
        "start_time": "2023-01-20T04:10:06.060Z"
      },
      {
        "duration": 616,
        "start_time": "2023-01-20T04:10:06.070Z"
      },
      {
        "duration": 6,
        "start_time": "2023-01-20T04:10:06.688Z"
      },
      {
        "duration": 7,
        "start_time": "2023-01-20T04:10:06.695Z"
      },
      {
        "duration": 444,
        "start_time": "2023-01-20T04:10:06.703Z"
      },
      {
        "duration": 20,
        "start_time": "2023-01-20T04:10:07.152Z"
      },
      {
        "duration": 13,
        "start_time": "2023-01-20T04:10:07.176Z"
      },
      {
        "duration": 9,
        "start_time": "2023-01-20T04:10:07.190Z"
      },
      {
        "duration": 9,
        "start_time": "2023-01-20T04:10:07.200Z"
      },
      {
        "duration": 14,
        "start_time": "2023-01-20T04:10:07.210Z"
      },
      {
        "duration": 7,
        "start_time": "2023-01-20T04:10:07.225Z"
      },
      {
        "duration": 18,
        "start_time": "2023-01-20T04:10:07.233Z"
      },
      {
        "duration": 5,
        "start_time": "2023-01-20T04:10:07.252Z"
      },
      {
        "duration": 35,
        "start_time": "2023-01-20T04:10:07.259Z"
      },
      {
        "duration": 11,
        "start_time": "2023-01-20T04:10:07.296Z"
      },
      {
        "duration": 14,
        "start_time": "2023-01-20T04:10:07.309Z"
      },
      {
        "duration": 12,
        "start_time": "2023-01-20T04:10:07.324Z"
      },
      {
        "duration": 32,
        "start_time": "2023-01-20T04:10:07.348Z"
      },
      {
        "duration": 34,
        "start_time": "2023-01-20T04:10:07.383Z"
      },
      {
        "duration": 21,
        "start_time": "2023-01-20T04:10:07.419Z"
      },
      {
        "duration": 5,
        "start_time": "2023-01-20T04:10:07.441Z"
      },
      {
        "duration": 48,
        "start_time": "2023-01-20T04:10:07.447Z"
      },
      {
        "duration": 4,
        "start_time": "2023-01-20T04:10:07.497Z"
      },
      {
        "duration": 21,
        "start_time": "2023-01-20T04:10:07.503Z"
      },
      {
        "duration": 159,
        "start_time": "2023-01-20T04:10:07.525Z"
      },
      {
        "duration": 7,
        "start_time": "2023-01-20T04:10:07.687Z"
      },
      {
        "duration": 7598,
        "start_time": "2023-01-20T04:10:07.695Z"
      },
      {
        "duration": 3,
        "start_time": "2023-01-20T04:10:15.295Z"
      },
      {
        "duration": 377,
        "start_time": "2023-01-20T04:10:15.300Z"
      },
      {
        "duration": 4,
        "start_time": "2023-01-20T04:10:15.679Z"
      },
      {
        "duration": 2424,
        "start_time": "2023-01-20T04:10:15.686Z"
      },
      {
        "duration": 4,
        "start_time": "2023-01-20T04:10:18.111Z"
      },
      {
        "duration": 297,
        "start_time": "2023-01-20T04:10:18.116Z"
      },
      {
        "duration": 620,
        "start_time": "2023-01-20T04:10:18.414Z"
      },
      {
        "duration": 21,
        "start_time": "2023-01-20T04:10:19.036Z"
      },
      {
        "duration": 90,
        "start_time": "2023-01-20T04:10:19.059Z"
      },
      {
        "duration": 10,
        "start_time": "2023-01-20T04:10:19.151Z"
      },
      {
        "duration": 26,
        "start_time": "2023-01-20T04:10:19.164Z"
      },
      {
        "duration": 23,
        "start_time": "2023-01-20T04:10:19.191Z"
      },
      {
        "duration": 6,
        "start_time": "2023-01-20T04:10:19.215Z"
      },
      {
        "duration": 15,
        "start_time": "2023-01-20T04:10:19.223Z"
      },
      {
        "duration": 9,
        "start_time": "2023-01-20T04:10:19.239Z"
      },
      {
        "duration": 35,
        "start_time": "2023-01-20T04:10:19.253Z"
      },
      {
        "duration": 184701,
        "start_time": "2023-01-20T04:10:19.290Z"
      },
      {
        "duration": 4,
        "start_time": "2023-01-20T04:13:23.993Z"
      },
      {
        "duration": 277,
        "start_time": "2023-01-20T04:13:23.998Z"
      },
      {
        "duration": 4,
        "start_time": "2023-01-20T04:13:24.279Z"
      },
      {
        "duration": 8,
        "start_time": "2023-01-20T04:13:24.284Z"
      },
      {
        "duration": 3879,
        "start_time": "2023-01-20T04:13:24.293Z"
      },
      {
        "duration": 130,
        "start_time": "2023-01-20T04:13:28.174Z"
      },
      {
        "duration": 0,
        "start_time": "2023-01-20T04:13:28.306Z"
      },
      {
        "duration": 0,
        "start_time": "2023-01-20T04:13:28.307Z"
      },
      {
        "duration": 0,
        "start_time": "2023-01-20T04:13:28.308Z"
      },
      {
        "duration": 0,
        "start_time": "2023-01-20T04:13:28.309Z"
      },
      {
        "duration": 0,
        "start_time": "2023-01-20T04:13:28.310Z"
      },
      {
        "duration": 0,
        "start_time": "2023-01-20T04:13:28.311Z"
      },
      {
        "duration": 0,
        "start_time": "2023-01-20T04:13:28.313Z"
      },
      {
        "duration": 0,
        "start_time": "2023-01-20T04:13:28.314Z"
      },
      {
        "duration": 0,
        "start_time": "2023-01-20T04:13:28.315Z"
      },
      {
        "duration": 0,
        "start_time": "2023-01-20T04:13:28.316Z"
      },
      {
        "duration": 0,
        "start_time": "2023-01-20T04:13:28.317Z"
      },
      {
        "duration": 0,
        "start_time": "2023-01-20T04:13:28.318Z"
      },
      {
        "duration": 15,
        "start_time": "2023-01-20T04:18:29.926Z"
      },
      {
        "duration": 4,
        "start_time": "2023-01-20T04:18:34.416Z"
      },
      {
        "duration": 1675,
        "start_time": "2023-01-20T04:18:49.876Z"
      },
      {
        "duration": 60,
        "start_time": "2023-01-20T04:18:51.553Z"
      },
      {
        "duration": 21,
        "start_time": "2023-01-20T04:18:51.615Z"
      },
      {
        "duration": 43,
        "start_time": "2023-01-20T04:18:51.638Z"
      },
      {
        "duration": 23,
        "start_time": "2023-01-20T04:18:51.683Z"
      },
      {
        "duration": 4,
        "start_time": "2023-01-20T04:18:51.707Z"
      },
      {
        "duration": 78,
        "start_time": "2023-01-20T04:18:51.712Z"
      },
      {
        "duration": 50,
        "start_time": "2023-01-20T04:18:51.791Z"
      },
      {
        "duration": 65,
        "start_time": "2023-01-20T04:18:51.843Z"
      },
      {
        "duration": 50,
        "start_time": "2023-01-20T04:18:51.909Z"
      },
      {
        "duration": 6,
        "start_time": "2023-01-20T04:18:51.961Z"
      },
      {
        "duration": 477,
        "start_time": "2023-01-20T04:18:51.968Z"
      },
      {
        "duration": 12,
        "start_time": "2023-01-20T04:18:52.446Z"
      },
      {
        "duration": 25,
        "start_time": "2023-01-20T04:18:52.462Z"
      },
      {
        "duration": 445,
        "start_time": "2023-01-20T04:18:52.489Z"
      },
      {
        "duration": 20,
        "start_time": "2023-01-20T04:18:52.936Z"
      },
      {
        "duration": 6,
        "start_time": "2023-01-20T04:18:52.958Z"
      },
      {
        "duration": 24,
        "start_time": "2023-01-20T04:18:52.966Z"
      },
      {
        "duration": 7,
        "start_time": "2023-01-20T04:18:52.991Z"
      },
      {
        "duration": 16,
        "start_time": "2023-01-20T04:18:53.000Z"
      },
      {
        "duration": 6,
        "start_time": "2023-01-20T04:18:53.018Z"
      },
      {
        "duration": 11,
        "start_time": "2023-01-20T04:18:53.026Z"
      },
      {
        "duration": 6,
        "start_time": "2023-01-20T04:18:53.039Z"
      },
      {
        "duration": 38,
        "start_time": "2023-01-20T04:18:53.050Z"
      },
      {
        "duration": 11,
        "start_time": "2023-01-20T04:18:53.089Z"
      },
      {
        "duration": 14,
        "start_time": "2023-01-20T04:18:53.102Z"
      },
      {
        "duration": 12,
        "start_time": "2023-01-20T04:18:53.118Z"
      },
      {
        "duration": 21,
        "start_time": "2023-01-20T04:18:53.132Z"
      },
      {
        "duration": 39,
        "start_time": "2023-01-20T04:18:53.155Z"
      },
      {
        "duration": 13,
        "start_time": "2023-01-20T04:18:53.196Z"
      },
      {
        "duration": 3,
        "start_time": "2023-01-20T04:18:53.211Z"
      },
      {
        "duration": 11,
        "start_time": "2023-01-20T04:18:53.216Z"
      },
      {
        "duration": 3,
        "start_time": "2023-01-20T04:18:53.228Z"
      },
      {
        "duration": 44,
        "start_time": "2023-01-20T04:18:53.232Z"
      },
      {
        "duration": 127,
        "start_time": "2023-01-20T04:18:53.278Z"
      },
      {
        "duration": 8,
        "start_time": "2023-01-20T04:18:53.409Z"
      },
      {
        "duration": 7736,
        "start_time": "2023-01-20T04:18:53.419Z"
      },
      {
        "duration": 3,
        "start_time": "2023-01-20T04:19:01.158Z"
      },
      {
        "duration": 454,
        "start_time": "2023-01-20T04:19:01.163Z"
      },
      {
        "duration": 3,
        "start_time": "2023-01-20T04:19:01.619Z"
      },
      {
        "duration": 2593,
        "start_time": "2023-01-20T04:19:01.626Z"
      },
      {
        "duration": 4,
        "start_time": "2023-01-20T04:19:04.221Z"
      },
      {
        "duration": 286,
        "start_time": "2023-01-20T04:19:04.226Z"
      },
      {
        "duration": 600,
        "start_time": "2023-01-20T04:19:04.513Z"
      },
      {
        "duration": 6,
        "start_time": "2023-01-20T04:19:05.114Z"
      },
      {
        "duration": 67,
        "start_time": "2023-01-20T04:19:05.122Z"
      },
      {
        "duration": 4,
        "start_time": "2023-01-20T04:19:05.191Z"
      },
      {
        "duration": 6,
        "start_time": "2023-01-20T04:19:05.196Z"
      },
      {
        "duration": 11,
        "start_time": "2023-01-20T04:19:05.203Z"
      },
      {
        "duration": 3,
        "start_time": "2023-01-20T04:19:05.216Z"
      },
      {
        "duration": 5,
        "start_time": "2023-01-20T04:19:05.220Z"
      },
      {
        "duration": 24,
        "start_time": "2023-01-20T04:19:05.227Z"
      },
      {
        "duration": 32,
        "start_time": "2023-01-20T04:19:05.253Z"
      },
      {
        "duration": 193631,
        "start_time": "2023-01-20T04:19:05.287Z"
      },
      {
        "duration": 3,
        "start_time": "2023-01-20T04:22:18.920Z"
      },
      {
        "duration": 285,
        "start_time": "2023-01-20T04:22:18.924Z"
      },
      {
        "duration": 3,
        "start_time": "2023-01-20T04:22:19.211Z"
      },
      {
        "duration": 14,
        "start_time": "2023-01-20T04:22:19.215Z"
      },
      {
        "duration": 4269,
        "start_time": "2023-01-20T04:22:19.230Z"
      },
      {
        "duration": 19,
        "start_time": "2023-01-20T04:22:23.501Z"
      },
      {
        "duration": 3,
        "start_time": "2023-01-20T04:22:23.522Z"
      },
      {
        "duration": 34270,
        "start_time": "2023-01-20T04:22:23.527Z"
      },
      {
        "duration": 4,
        "start_time": "2023-01-20T04:22:57.799Z"
      },
      {
        "duration": 6,
        "start_time": "2023-01-20T04:22:57.806Z"
      },
      {
        "duration": 144,
        "start_time": "2023-01-20T04:22:57.813Z"
      },
      {
        "duration": 148,
        "start_time": "2023-01-20T04:22:57.959Z"
      },
      {
        "duration": 44,
        "start_time": "2023-01-20T04:22:58.109Z"
      },
      {
        "duration": 0,
        "start_time": "2023-01-20T04:22:58.155Z"
      },
      {
        "duration": 0,
        "start_time": "2023-01-20T04:22:58.156Z"
      },
      {
        "duration": 0,
        "start_time": "2023-01-20T04:22:58.157Z"
      },
      {
        "duration": 0,
        "start_time": "2023-01-20T04:22:58.158Z"
      },
      {
        "duration": 0,
        "start_time": "2023-01-20T04:22:58.159Z"
      },
      {
        "duration": 325,
        "start_time": "2023-01-20T04:23:36.502Z"
      },
      {
        "duration": 335,
        "start_time": "2023-01-20T04:23:47.016Z"
      },
      {
        "duration": 7,
        "start_time": "2023-01-20T04:23:50.631Z"
      },
      {
        "duration": 7,
        "start_time": "2023-01-20T04:23:50.803Z"
      },
      {
        "duration": 13,
        "start_time": "2023-01-20T04:23:51.976Z"
      },
      {
        "duration": 1683,
        "start_time": "2023-01-20T04:23:52.198Z"
      },
      {
        "duration": 89,
        "start_time": "2023-01-21T03:09:49.201Z"
      },
      {
        "duration": 47,
        "start_time": "2023-01-21T03:10:24.126Z"
      },
      {
        "duration": 54,
        "start_time": "2023-01-21T03:13:17.404Z"
      },
      {
        "duration": 61,
        "start_time": "2023-01-21T03:14:05.120Z"
      },
      {
        "duration": 45,
        "start_time": "2023-01-21T03:14:48.733Z"
      },
      {
        "duration": 47,
        "start_time": "2023-01-21T03:18:18.835Z"
      },
      {
        "duration": 49,
        "start_time": "2023-01-21T03:19:14.797Z"
      },
      {
        "duration": 1758,
        "start_time": "2023-01-21T14:48:22.789Z"
      },
      {
        "duration": 133,
        "start_time": "2023-01-21T14:48:24.550Z"
      },
      {
        "duration": 112,
        "start_time": "2023-01-21T14:48:24.684Z"
      },
      {
        "duration": 65,
        "start_time": "2023-01-21T14:48:24.798Z"
      },
      {
        "duration": 79,
        "start_time": "2023-01-21T14:48:24.865Z"
      },
      {
        "duration": 5,
        "start_time": "2023-01-21T14:48:24.946Z"
      },
      {
        "duration": 73,
        "start_time": "2023-01-21T14:48:24.953Z"
      },
      {
        "duration": 47,
        "start_time": "2023-01-21T14:48:25.037Z"
      },
      {
        "duration": 73,
        "start_time": "2023-01-21T14:48:25.086Z"
      },
      {
        "duration": 32,
        "start_time": "2023-01-21T14:48:25.162Z"
      },
      {
        "duration": 5,
        "start_time": "2023-01-21T14:48:25.196Z"
      },
      {
        "duration": 512,
        "start_time": "2023-01-21T14:48:25.203Z"
      },
      {
        "duration": 7,
        "start_time": "2023-01-21T14:48:25.717Z"
      },
      {
        "duration": 14,
        "start_time": "2023-01-21T14:48:25.726Z"
      },
      {
        "duration": 468,
        "start_time": "2023-01-21T14:48:25.742Z"
      },
      {
        "duration": 30,
        "start_time": "2023-01-21T14:48:26.212Z"
      },
      {
        "duration": 6,
        "start_time": "2023-01-21T14:48:26.244Z"
      },
      {
        "duration": 16,
        "start_time": "2023-01-21T14:48:26.252Z"
      },
      {
        "duration": 11,
        "start_time": "2023-01-21T14:48:26.270Z"
      },
      {
        "duration": 17,
        "start_time": "2023-01-21T14:48:26.283Z"
      },
      {
        "duration": 8,
        "start_time": "2023-01-21T14:48:26.302Z"
      },
      {
        "duration": 29,
        "start_time": "2023-01-21T14:48:26.312Z"
      },
      {
        "duration": 6,
        "start_time": "2023-01-21T14:48:26.343Z"
      },
      {
        "duration": 22,
        "start_time": "2023-01-21T14:48:26.351Z"
      },
      {
        "duration": 19,
        "start_time": "2023-01-21T14:48:26.376Z"
      },
      {
        "duration": 45,
        "start_time": "2023-01-21T14:48:26.397Z"
      },
      {
        "duration": 20,
        "start_time": "2023-01-21T14:48:26.444Z"
      },
      {
        "duration": 18,
        "start_time": "2023-01-21T14:48:26.470Z"
      },
      {
        "duration": 67,
        "start_time": "2023-01-21T14:48:26.491Z"
      },
      {
        "duration": 18,
        "start_time": "2023-01-21T14:48:26.561Z"
      },
      {
        "duration": 3,
        "start_time": "2023-01-21T14:48:26.582Z"
      },
      {
        "duration": 16,
        "start_time": "2023-01-21T14:48:26.587Z"
      },
      {
        "duration": 3,
        "start_time": "2023-01-21T14:48:26.606Z"
      },
      {
        "duration": 49,
        "start_time": "2023-01-21T14:48:26.611Z"
      },
      {
        "duration": 184,
        "start_time": "2023-01-21T14:48:26.662Z"
      },
      {
        "duration": 9,
        "start_time": "2023-01-21T14:48:26.849Z"
      },
      {
        "duration": 7723,
        "start_time": "2023-01-21T14:48:26.860Z"
      },
      {
        "duration": 5,
        "start_time": "2023-01-21T14:48:34.587Z"
      },
      {
        "duration": 513,
        "start_time": "2023-01-21T14:48:34.594Z"
      },
      {
        "duration": 7,
        "start_time": "2023-01-21T14:48:35.109Z"
      },
      {
        "duration": 2660,
        "start_time": "2023-01-21T14:48:35.119Z"
      },
      {
        "duration": 4,
        "start_time": "2023-01-21T14:48:37.781Z"
      },
      {
        "duration": 306,
        "start_time": "2023-01-21T14:48:37.788Z"
      },
      {
        "duration": 674,
        "start_time": "2023-01-21T14:48:38.096Z"
      },
      {
        "duration": 7,
        "start_time": "2023-01-21T14:48:38.772Z"
      },
      {
        "duration": 82,
        "start_time": "2023-01-21T14:48:38.781Z"
      },
      {
        "duration": 6,
        "start_time": "2023-01-21T14:48:38.865Z"
      },
      {
        "duration": 10,
        "start_time": "2023-01-21T14:48:38.873Z"
      },
      {
        "duration": 16,
        "start_time": "2023-01-21T14:48:38.885Z"
      },
      {
        "duration": 5,
        "start_time": "2023-01-21T14:48:38.904Z"
      },
      {
        "duration": 10,
        "start_time": "2023-01-21T14:48:38.911Z"
      },
      {
        "duration": 3,
        "start_time": "2023-01-21T14:48:38.937Z"
      },
      {
        "duration": 13,
        "start_time": "2023-01-21T14:48:38.943Z"
      },
      {
        "duration": 181124,
        "start_time": "2023-01-21T14:48:38.957Z"
      },
      {
        "duration": 5,
        "start_time": "2023-01-21T14:51:40.083Z"
      },
      {
        "duration": 279,
        "start_time": "2023-01-21T14:51:40.090Z"
      },
      {
        "duration": 4,
        "start_time": "2023-01-21T14:51:40.371Z"
      },
      {
        "duration": 12,
        "start_time": "2023-01-21T14:51:40.376Z"
      },
      {
        "duration": 3853,
        "start_time": "2023-01-21T14:51:40.390Z"
      },
      {
        "duration": 16,
        "start_time": "2023-01-21T14:51:44.245Z"
      },
      {
        "duration": 3,
        "start_time": "2023-01-21T14:51:44.263Z"
      },
      {
        "duration": 29713,
        "start_time": "2023-01-21T14:51:44.268Z"
      },
      {
        "duration": 4,
        "start_time": "2023-01-21T14:52:13.983Z"
      },
      {
        "duration": 21,
        "start_time": "2023-01-21T14:52:13.990Z"
      },
      {
        "duration": 137,
        "start_time": "2023-01-21T14:52:14.013Z"
      },
      {
        "duration": 141,
        "start_time": "2023-01-21T14:52:14.151Z"
      },
      {
        "duration": 316,
        "start_time": "2023-01-21T14:52:14.294Z"
      },
      {
        "duration": 6,
        "start_time": "2023-01-21T14:52:14.613Z"
      },
      {
        "duration": 21,
        "start_time": "2023-01-21T14:52:14.637Z"
      },
      {
        "duration": 13,
        "start_time": "2023-01-21T14:52:14.660Z"
      },
      {
        "duration": 1496,
        "start_time": "2023-01-21T14:52:14.675Z"
      },
      {
        "duration": 3,
        "start_time": "2023-01-21T14:52:56.552Z"
      },
      {
        "duration": 13,
        "start_time": "2023-01-21T14:53:03.910Z"
      },
      {
        "duration": 1644,
        "start_time": "2023-01-21T14:54:48.174Z"
      },
      {
        "duration": 13,
        "start_time": "2023-01-21T14:54:52.759Z"
      },
      {
        "duration": 15,
        "start_time": "2023-01-21T15:01:01.180Z"
      },
      {
        "duration": 4,
        "start_time": "2023-01-21T15:01:18.917Z"
      },
      {
        "duration": 13,
        "start_time": "2023-01-21T15:01:45.807Z"
      },
      {
        "duration": 1454,
        "start_time": "2023-01-21T15:01:46.630Z"
      },
      {
        "duration": 179842,
        "start_time": "2023-01-21T15:02:11.018Z"
      },
      {
        "duration": 3,
        "start_time": "2023-01-21T15:06:05.760Z"
      },
      {
        "duration": 1577,
        "start_time": "2023-01-21T15:07:32.759Z"
      },
      {
        "duration": 54,
        "start_time": "2023-01-21T15:07:34.338Z"
      },
      {
        "duration": 26,
        "start_time": "2023-01-21T15:07:34.394Z"
      },
      {
        "duration": 33,
        "start_time": "2023-01-21T15:07:34.422Z"
      },
      {
        "duration": 33,
        "start_time": "2023-01-21T15:07:34.458Z"
      },
      {
        "duration": 5,
        "start_time": "2023-01-21T15:07:34.493Z"
      },
      {
        "duration": 80,
        "start_time": "2023-01-21T15:07:34.500Z"
      },
      {
        "duration": 56,
        "start_time": "2023-01-21T15:07:34.582Z"
      },
      {
        "duration": 51,
        "start_time": "2023-01-21T15:07:34.640Z"
      },
      {
        "duration": 60,
        "start_time": "2023-01-21T15:07:34.693Z"
      },
      {
        "duration": 5,
        "start_time": "2023-01-21T15:07:34.755Z"
      },
      {
        "duration": 447,
        "start_time": "2023-01-21T15:07:34.763Z"
      },
      {
        "duration": 7,
        "start_time": "2023-01-21T15:07:35.211Z"
      },
      {
        "duration": 24,
        "start_time": "2023-01-21T15:07:35.221Z"
      },
      {
        "duration": 440,
        "start_time": "2023-01-21T15:07:35.247Z"
      },
      {
        "duration": 16,
        "start_time": "2023-01-21T15:07:35.689Z"
      },
      {
        "duration": 15,
        "start_time": "2023-01-21T15:07:35.707Z"
      },
      {
        "duration": 41,
        "start_time": "2023-01-21T15:07:35.723Z"
      },
      {
        "duration": 28,
        "start_time": "2023-01-21T15:07:35.767Z"
      },
      {
        "duration": 38,
        "start_time": "2023-01-21T15:07:35.797Z"
      },
      {
        "duration": 32,
        "start_time": "2023-01-21T15:07:35.836Z"
      },
      {
        "duration": 25,
        "start_time": "2023-01-21T15:07:35.870Z"
      },
      {
        "duration": 25,
        "start_time": "2023-01-21T15:07:35.897Z"
      },
      {
        "duration": 20,
        "start_time": "2023-01-21T15:07:35.924Z"
      },
      {
        "duration": 34,
        "start_time": "2023-01-21T15:07:35.946Z"
      },
      {
        "duration": 31,
        "start_time": "2023-01-21T15:07:35.982Z"
      },
      {
        "duration": 28,
        "start_time": "2023-01-21T15:07:36.015Z"
      },
      {
        "duration": 26,
        "start_time": "2023-01-21T15:07:36.045Z"
      },
      {
        "duration": 37,
        "start_time": "2023-01-21T15:07:36.073Z"
      },
      {
        "duration": 38,
        "start_time": "2023-01-21T15:07:36.112Z"
      },
      {
        "duration": 15,
        "start_time": "2023-01-21T15:07:36.153Z"
      },
      {
        "duration": 37,
        "start_time": "2023-01-21T15:07:36.170Z"
      },
      {
        "duration": 24,
        "start_time": "2023-01-21T15:07:36.209Z"
      },
      {
        "duration": 131,
        "start_time": "2023-01-21T15:07:36.235Z"
      },
      {
        "duration": 6,
        "start_time": "2023-01-21T15:07:36.368Z"
      },
      {
        "duration": 7327,
        "start_time": "2023-01-21T15:07:36.376Z"
      },
      {
        "duration": 3,
        "start_time": "2023-01-21T15:07:43.705Z"
      },
      {
        "duration": 379,
        "start_time": "2023-01-21T15:07:43.710Z"
      },
      {
        "duration": 3,
        "start_time": "2023-01-21T15:07:44.091Z"
      },
      {
        "duration": 2312,
        "start_time": "2023-01-21T15:07:44.096Z"
      },
      {
        "duration": 3,
        "start_time": "2023-01-21T15:07:46.413Z"
      },
      {
        "duration": 308,
        "start_time": "2023-01-21T15:07:46.418Z"
      },
      {
        "duration": 599,
        "start_time": "2023-01-21T15:07:46.728Z"
      },
      {
        "duration": 8,
        "start_time": "2023-01-21T15:07:47.328Z"
      },
      {
        "duration": 16,
        "start_time": "2023-01-21T15:07:47.338Z"
      },
      {
        "duration": 15,
        "start_time": "2023-01-21T15:07:47.355Z"
      },
      {
        "duration": 11,
        "start_time": "2023-01-21T15:07:47.371Z"
      },
      {
        "duration": 6,
        "start_time": "2023-01-21T15:07:47.384Z"
      },
      {
        "duration": 124,
        "start_time": "2023-01-21T15:07:47.391Z"
      },
      {
        "duration": 0,
        "start_time": "2023-01-21T15:07:47.517Z"
      },
      {
        "duration": 0,
        "start_time": "2023-01-21T15:07:47.518Z"
      },
      {
        "duration": 0,
        "start_time": "2023-01-21T15:07:47.519Z"
      },
      {
        "duration": 0,
        "start_time": "2023-01-21T15:07:47.521Z"
      },
      {
        "duration": 0,
        "start_time": "2023-01-21T15:07:47.522Z"
      },
      {
        "duration": 0,
        "start_time": "2023-01-21T15:07:47.536Z"
      },
      {
        "duration": 0,
        "start_time": "2023-01-21T15:07:47.537Z"
      },
      {
        "duration": 0,
        "start_time": "2023-01-21T15:07:47.538Z"
      },
      {
        "duration": 0,
        "start_time": "2023-01-21T15:07:47.539Z"
      },
      {
        "duration": 0,
        "start_time": "2023-01-21T15:07:47.540Z"
      },
      {
        "duration": 0,
        "start_time": "2023-01-21T15:07:47.541Z"
      },
      {
        "duration": 0,
        "start_time": "2023-01-21T15:07:47.543Z"
      },
      {
        "duration": 0,
        "start_time": "2023-01-21T15:07:47.544Z"
      },
      {
        "duration": 0,
        "start_time": "2023-01-21T15:07:47.545Z"
      },
      {
        "duration": 0,
        "start_time": "2023-01-21T15:07:47.546Z"
      },
      {
        "duration": 0,
        "start_time": "2023-01-21T15:07:47.547Z"
      },
      {
        "duration": 0,
        "start_time": "2023-01-21T15:07:47.548Z"
      },
      {
        "duration": 0,
        "start_time": "2023-01-21T15:07:47.550Z"
      },
      {
        "duration": 0,
        "start_time": "2023-01-21T15:07:47.551Z"
      },
      {
        "duration": 0,
        "start_time": "2023-01-21T15:07:47.552Z"
      },
      {
        "duration": 0,
        "start_time": "2023-01-21T15:07:47.553Z"
      },
      {
        "duration": 0,
        "start_time": "2023-01-21T15:07:47.554Z"
      },
      {
        "duration": 15,
        "start_time": "2023-01-21T15:08:11.396Z"
      },
      {
        "duration": 13,
        "start_time": "2023-01-21T15:08:18.139Z"
      },
      {
        "duration": 4,
        "start_time": "2023-01-21T15:08:20.891Z"
      },
      {
        "duration": 1523,
        "start_time": "2023-01-21T15:09:34.486Z"
      },
      {
        "duration": 51,
        "start_time": "2023-01-21T15:09:36.011Z"
      },
      {
        "duration": 23,
        "start_time": "2023-01-21T15:09:36.064Z"
      },
      {
        "duration": 19,
        "start_time": "2023-01-21T15:09:36.089Z"
      },
      {
        "duration": 30,
        "start_time": "2023-01-21T15:09:36.110Z"
      },
      {
        "duration": 7,
        "start_time": "2023-01-21T15:09:36.141Z"
      },
      {
        "duration": 81,
        "start_time": "2023-01-21T15:09:36.150Z"
      },
      {
        "duration": 43,
        "start_time": "2023-01-21T15:09:36.233Z"
      },
      {
        "duration": 73,
        "start_time": "2023-01-21T15:09:36.278Z"
      },
      {
        "duration": 31,
        "start_time": "2023-01-21T15:09:36.352Z"
      },
      {
        "duration": 13,
        "start_time": "2023-01-21T15:09:36.384Z"
      },
      {
        "duration": 486,
        "start_time": "2023-01-21T15:09:36.399Z"
      },
      {
        "duration": 7,
        "start_time": "2023-01-21T15:09:36.886Z"
      },
      {
        "duration": 12,
        "start_time": "2023-01-21T15:09:36.898Z"
      },
      {
        "duration": 441,
        "start_time": "2023-01-21T15:09:36.911Z"
      },
      {
        "duration": 19,
        "start_time": "2023-01-21T15:09:37.354Z"
      },
      {
        "duration": 8,
        "start_time": "2023-01-21T15:09:37.375Z"
      },
      {
        "duration": 34,
        "start_time": "2023-01-21T15:09:37.385Z"
      },
      {
        "duration": 16,
        "start_time": "2023-01-21T15:09:37.420Z"
      },
      {
        "duration": 27,
        "start_time": "2023-01-21T15:09:37.438Z"
      },
      {
        "duration": 29,
        "start_time": "2023-01-21T15:09:37.467Z"
      },
      {
        "duration": 29,
        "start_time": "2023-01-21T15:09:37.498Z"
      },
      {
        "duration": 17,
        "start_time": "2023-01-21T15:09:37.528Z"
      },
      {
        "duration": 31,
        "start_time": "2023-01-21T15:09:37.547Z"
      },
      {
        "duration": 24,
        "start_time": "2023-01-21T15:09:37.580Z"
      },
      {
        "duration": 33,
        "start_time": "2023-01-21T15:09:37.606Z"
      },
      {
        "duration": 34,
        "start_time": "2023-01-21T15:09:37.642Z"
      },
      {
        "duration": 14,
        "start_time": "2023-01-21T15:09:37.678Z"
      },
      {
        "duration": 39,
        "start_time": "2023-01-21T15:09:37.694Z"
      },
      {
        "duration": 23,
        "start_time": "2023-01-21T15:09:37.735Z"
      },
      {
        "duration": 33,
        "start_time": "2023-01-21T15:09:37.760Z"
      },
      {
        "duration": 35,
        "start_time": "2023-01-21T15:09:37.796Z"
      },
      {
        "duration": 20,
        "start_time": "2023-01-21T15:09:37.832Z"
      },
      {
        "duration": 128,
        "start_time": "2023-01-21T15:09:37.854Z"
      },
      {
        "duration": 7,
        "start_time": "2023-01-21T15:09:37.984Z"
      },
      {
        "duration": 7160,
        "start_time": "2023-01-21T15:09:37.992Z"
      },
      {
        "duration": 3,
        "start_time": "2023-01-21T15:09:45.154Z"
      },
      {
        "duration": 354,
        "start_time": "2023-01-21T15:09:45.159Z"
      },
      {
        "duration": 3,
        "start_time": "2023-01-21T15:09:45.514Z"
      },
      {
        "duration": 2287,
        "start_time": "2023-01-21T15:09:45.519Z"
      },
      {
        "duration": 3,
        "start_time": "2023-01-21T15:09:47.810Z"
      },
      {
        "duration": 310,
        "start_time": "2023-01-21T15:09:47.815Z"
      },
      {
        "duration": 638,
        "start_time": "2023-01-21T15:09:48.127Z"
      },
      {
        "duration": 5,
        "start_time": "2023-01-21T15:09:48.767Z"
      },
      {
        "duration": 14,
        "start_time": "2023-01-21T15:09:48.774Z"
      },
      {
        "duration": 29,
        "start_time": "2023-01-21T15:09:48.790Z"
      },
      {
        "duration": 28,
        "start_time": "2023-01-21T15:09:48.821Z"
      },
      {
        "duration": 26,
        "start_time": "2023-01-21T15:09:48.851Z"
      },
      {
        "duration": 33,
        "start_time": "2023-01-21T15:09:48.880Z"
      },
      {
        "duration": 12,
        "start_time": "2023-01-21T15:09:48.915Z"
      },
      {
        "duration": 27,
        "start_time": "2023-01-21T15:09:48.929Z"
      },
      {
        "duration": 24,
        "start_time": "2023-01-21T15:09:48.958Z"
      },
      {
        "duration": 42,
        "start_time": "2023-01-21T15:09:48.983Z"
      },
      {
        "duration": 1309,
        "start_time": "2023-01-21T15:09:49.027Z"
      },
      {
        "duration": 4,
        "start_time": "2023-01-21T15:09:50.337Z"
      },
      {
        "duration": 37,
        "start_time": "2023-01-21T15:09:50.343Z"
      },
      {
        "duration": 0,
        "start_time": "2023-01-21T15:09:50.382Z"
      },
      {
        "duration": 0,
        "start_time": "2023-01-21T15:09:50.384Z"
      },
      {
        "duration": 0,
        "start_time": "2023-01-21T15:09:50.386Z"
      },
      {
        "duration": 0,
        "start_time": "2023-01-21T15:09:50.387Z"
      },
      {
        "duration": 0,
        "start_time": "2023-01-21T15:09:50.389Z"
      },
      {
        "duration": 0,
        "start_time": "2023-01-21T15:09:50.390Z"
      },
      {
        "duration": 0,
        "start_time": "2023-01-21T15:09:50.392Z"
      },
      {
        "duration": 0,
        "start_time": "2023-01-21T15:09:50.393Z"
      },
      {
        "duration": 0,
        "start_time": "2023-01-21T15:09:50.395Z"
      },
      {
        "duration": 0,
        "start_time": "2023-01-21T15:09:50.396Z"
      },
      {
        "duration": 0,
        "start_time": "2023-01-21T15:09:50.397Z"
      },
      {
        "duration": 0,
        "start_time": "2023-01-21T15:09:50.398Z"
      },
      {
        "duration": 0,
        "start_time": "2023-01-21T15:09:50.400Z"
      },
      {
        "duration": 0,
        "start_time": "2023-01-21T15:09:50.401Z"
      },
      {
        "duration": 0,
        "start_time": "2023-01-21T15:09:50.402Z"
      },
      {
        "duration": 3,
        "start_time": "2023-01-21T15:10:30.314Z"
      },
      {
        "duration": 10,
        "start_time": "2023-01-21T15:14:23.404Z"
      },
      {
        "duration": 3383,
        "start_time": "2023-01-21T15:14:44.067Z"
      },
      {
        "duration": 1058,
        "start_time": "2023-01-21T15:14:49.321Z"
      },
      {
        "duration": 3,
        "start_time": "2023-01-21T15:16:27.514Z"
      },
      {
        "duration": 17,
        "start_time": "2023-01-21T15:17:07.948Z"
      },
      {
        "duration": 21,
        "start_time": "2023-01-21T15:17:44.220Z"
      },
      {
        "duration": 12605,
        "start_time": "2023-01-21T15:17:56.047Z"
      },
      {
        "duration": 2382,
        "start_time": "2023-01-21T15:18:42.214Z"
      },
      {
        "duration": 2266,
        "start_time": "2023-01-21T15:18:56.136Z"
      },
      {
        "duration": 2328,
        "start_time": "2023-01-21T15:23:03.836Z"
      },
      {
        "duration": 1857,
        "start_time": "2023-01-21T15:23:06.167Z"
      },
      {
        "duration": 54,
        "start_time": "2023-01-21T15:23:08.025Z"
      },
      {
        "duration": 22,
        "start_time": "2023-01-21T15:23:08.081Z"
      },
      {
        "duration": 18,
        "start_time": "2023-01-21T15:23:08.105Z"
      },
      {
        "duration": 35,
        "start_time": "2023-01-21T15:23:08.125Z"
      },
      {
        "duration": 6,
        "start_time": "2023-01-21T15:23:08.162Z"
      },
      {
        "duration": 102,
        "start_time": "2023-01-21T15:23:08.169Z"
      },
      {
        "duration": 73,
        "start_time": "2023-01-21T15:23:08.273Z"
      },
      {
        "duration": 63,
        "start_time": "2023-01-21T15:23:08.349Z"
      },
      {
        "duration": 58,
        "start_time": "2023-01-21T15:23:08.414Z"
      },
      {
        "duration": 6,
        "start_time": "2023-01-21T15:23:08.474Z"
      },
      {
        "duration": 463,
        "start_time": "2023-01-21T15:23:08.483Z"
      },
      {
        "duration": 7,
        "start_time": "2023-01-21T15:23:08.948Z"
      },
      {
        "duration": 6,
        "start_time": "2023-01-21T15:23:08.957Z"
      },
      {
        "duration": 465,
        "start_time": "2023-01-21T15:23:08.964Z"
      },
      {
        "duration": 23,
        "start_time": "2023-01-21T15:23:09.431Z"
      },
      {
        "duration": 5,
        "start_time": "2023-01-21T15:23:09.456Z"
      },
      {
        "duration": 18,
        "start_time": "2023-01-21T15:23:09.463Z"
      },
      {
        "duration": 7,
        "start_time": "2023-01-21T15:23:09.483Z"
      },
      {
        "duration": 18,
        "start_time": "2023-01-21T15:23:09.492Z"
      },
      {
        "duration": 7,
        "start_time": "2023-01-21T15:23:09.512Z"
      },
      {
        "duration": 9,
        "start_time": "2023-01-21T15:23:09.537Z"
      },
      {
        "duration": 5,
        "start_time": "2023-01-21T15:23:09.548Z"
      },
      {
        "duration": 14,
        "start_time": "2023-01-21T15:23:09.554Z"
      },
      {
        "duration": 17,
        "start_time": "2023-01-21T15:23:09.570Z"
      },
      {
        "duration": 15,
        "start_time": "2023-01-21T15:23:09.589Z"
      },
      {
        "duration": 38,
        "start_time": "2023-01-21T15:23:09.608Z"
      },
      {
        "duration": 21,
        "start_time": "2023-01-21T15:23:09.648Z"
      },
      {
        "duration": 31,
        "start_time": "2023-01-21T15:23:09.671Z"
      },
      {
        "duration": 17,
        "start_time": "2023-01-21T15:23:09.704Z"
      },
      {
        "duration": 13,
        "start_time": "2023-01-21T15:23:09.723Z"
      },
      {
        "duration": 21,
        "start_time": "2023-01-21T15:23:09.737Z"
      },
      {
        "duration": 17,
        "start_time": "2023-01-21T15:23:09.760Z"
      },
      {
        "duration": 117,
        "start_time": "2023-01-21T15:23:09.779Z"
      },
      {
        "duration": 18,
        "start_time": "2023-01-21T15:23:09.898Z"
      },
      {
        "duration": 7081,
        "start_time": "2023-01-21T15:23:09.918Z"
      },
      {
        "duration": 3,
        "start_time": "2023-01-21T15:23:17.001Z"
      },
      {
        "duration": 396,
        "start_time": "2023-01-21T15:23:17.006Z"
      },
      {
        "duration": 4,
        "start_time": "2023-01-21T15:23:17.404Z"
      },
      {
        "duration": 29,
        "start_time": "2023-01-21T15:23:17.411Z"
      },
      {
        "duration": 12311,
        "start_time": "2023-01-21T15:23:17.442Z"
      },
      {
        "duration": 2558,
        "start_time": "2023-01-21T15:23:29.754Z"
      },
      {
        "duration": 3,
        "start_time": "2023-01-21T15:23:32.314Z"
      },
      {
        "duration": 2307,
        "start_time": "2023-01-21T15:23:32.318Z"
      },
      {
        "duration": 9,
        "start_time": "2023-01-21T15:23:34.627Z"
      },
      {
        "duration": 271,
        "start_time": "2023-01-21T15:23:34.638Z"
      },
      {
        "duration": 555,
        "start_time": "2023-01-21T15:23:34.911Z"
      },
      {
        "duration": 4,
        "start_time": "2023-01-21T15:23:35.468Z"
      },
      {
        "duration": 40,
        "start_time": "2023-01-21T15:23:35.474Z"
      },
      {
        "duration": 4,
        "start_time": "2023-01-21T15:23:35.516Z"
      },
      {
        "duration": 5,
        "start_time": "2023-01-21T15:23:35.536Z"
      },
      {
        "duration": 7,
        "start_time": "2023-01-21T15:23:35.543Z"
      },
      {
        "duration": 13,
        "start_time": "2023-01-21T15:23:35.551Z"
      },
      {
        "duration": 4,
        "start_time": "2023-01-21T15:23:35.566Z"
      },
      {
        "duration": 5,
        "start_time": "2023-01-21T15:23:35.571Z"
      },
      {
        "duration": 12,
        "start_time": "2023-01-21T15:23:35.578Z"
      },
      {
        "duration": 6,
        "start_time": "2023-01-21T15:23:35.592Z"
      },
      {
        "duration": 1337,
        "start_time": "2023-01-21T15:23:35.600Z"
      },
      {
        "duration": 4,
        "start_time": "2023-01-21T15:23:36.939Z"
      },
      {
        "duration": 19,
        "start_time": "2023-01-21T15:23:36.944Z"
      },
      {
        "duration": 0,
        "start_time": "2023-01-21T15:23:36.964Z"
      },
      {
        "duration": 0,
        "start_time": "2023-01-21T15:23:36.966Z"
      },
      {
        "duration": 0,
        "start_time": "2023-01-21T15:23:36.967Z"
      },
      {
        "duration": 0,
        "start_time": "2023-01-21T15:23:36.968Z"
      },
      {
        "duration": 0,
        "start_time": "2023-01-21T15:23:36.969Z"
      },
      {
        "duration": 0,
        "start_time": "2023-01-21T15:23:36.970Z"
      },
      {
        "duration": 0,
        "start_time": "2023-01-21T15:23:36.971Z"
      },
      {
        "duration": 0,
        "start_time": "2023-01-21T15:23:36.972Z"
      },
      {
        "duration": 0,
        "start_time": "2023-01-21T15:23:36.973Z"
      },
      {
        "duration": 0,
        "start_time": "2023-01-21T15:23:36.974Z"
      },
      {
        "duration": 0,
        "start_time": "2023-01-21T15:23:36.975Z"
      },
      {
        "duration": 0,
        "start_time": "2023-01-21T15:23:36.977Z"
      },
      {
        "duration": 0,
        "start_time": "2023-01-21T15:23:36.978Z"
      },
      {
        "duration": 0,
        "start_time": "2023-01-21T15:23:36.979Z"
      },
      {
        "duration": 0,
        "start_time": "2023-01-21T15:23:36.980Z"
      },
      {
        "duration": 23,
        "start_time": "2023-01-21T15:26:01.246Z"
      },
      {
        "duration": 15,
        "start_time": "2023-01-21T15:26:09.712Z"
      },
      {
        "duration": 41,
        "start_time": "2023-01-21T15:26:38.888Z"
      },
      {
        "duration": 2231,
        "start_time": "2023-01-21T15:27:00.043Z"
      },
      {
        "duration": 1887,
        "start_time": "2023-01-21T15:27:02.276Z"
      },
      {
        "duration": 56,
        "start_time": "2023-01-21T15:27:04.165Z"
      },
      {
        "duration": 22,
        "start_time": "2023-01-21T15:27:04.224Z"
      },
      {
        "duration": 20,
        "start_time": "2023-01-21T15:27:04.247Z"
      },
      {
        "duration": 24,
        "start_time": "2023-01-21T15:27:04.269Z"
      },
      {
        "duration": 4,
        "start_time": "2023-01-21T15:27:04.295Z"
      },
      {
        "duration": 76,
        "start_time": "2023-01-21T15:27:04.301Z"
      },
      {
        "duration": 104,
        "start_time": "2023-01-21T15:27:04.379Z"
      },
      {
        "duration": 117,
        "start_time": "2023-01-21T15:27:04.536Z"
      },
      {
        "duration": 36,
        "start_time": "2023-01-21T15:27:04.655Z"
      },
      {
        "duration": 53,
        "start_time": "2023-01-21T15:27:04.693Z"
      },
      {
        "duration": 457,
        "start_time": "2023-01-21T15:27:04.748Z"
      },
      {
        "duration": 7,
        "start_time": "2023-01-21T15:27:05.207Z"
      },
      {
        "duration": 10,
        "start_time": "2023-01-21T15:27:05.216Z"
      },
      {
        "duration": 445,
        "start_time": "2023-01-21T15:27:05.228Z"
      },
      {
        "duration": 17,
        "start_time": "2023-01-21T15:27:05.674Z"
      },
      {
        "duration": 5,
        "start_time": "2023-01-21T15:27:05.693Z"
      },
      {
        "duration": 10,
        "start_time": "2023-01-21T15:27:05.700Z"
      },
      {
        "duration": 24,
        "start_time": "2023-01-21T15:27:05.712Z"
      },
      {
        "duration": 16,
        "start_time": "2023-01-21T15:27:05.738Z"
      },
      {
        "duration": 6,
        "start_time": "2023-01-21T15:27:05.756Z"
      },
      {
        "duration": 18,
        "start_time": "2023-01-21T15:27:05.763Z"
      },
      {
        "duration": 11,
        "start_time": "2023-01-21T15:27:05.783Z"
      },
      {
        "duration": 17,
        "start_time": "2023-01-21T15:27:05.796Z"
      },
      {
        "duration": 31,
        "start_time": "2023-01-21T15:27:05.815Z"
      },
      {
        "duration": 21,
        "start_time": "2023-01-21T15:27:05.847Z"
      },
      {
        "duration": 14,
        "start_time": "2023-01-21T15:27:05.873Z"
      },
      {
        "duration": 20,
        "start_time": "2023-01-21T15:27:05.889Z"
      },
      {
        "duration": 44,
        "start_time": "2023-01-21T15:27:05.911Z"
      },
      {
        "duration": 11,
        "start_time": "2023-01-21T15:27:05.957Z"
      },
      {
        "duration": 6,
        "start_time": "2023-01-21T15:27:05.969Z"
      },
      {
        "duration": 17,
        "start_time": "2023-01-21T15:27:05.977Z"
      },
      {
        "duration": 17,
        "start_time": "2023-01-21T15:27:05.996Z"
      },
      {
        "duration": 140,
        "start_time": "2023-01-21T15:27:06.015Z"
      },
      {
        "duration": 8,
        "start_time": "2023-01-21T15:27:06.157Z"
      },
      {
        "duration": 7379,
        "start_time": "2023-01-21T15:27:06.168Z"
      },
      {
        "duration": 3,
        "start_time": "2023-01-21T15:27:13.549Z"
      },
      {
        "duration": 363,
        "start_time": "2023-01-21T15:27:13.553Z"
      },
      {
        "duration": 3,
        "start_time": "2023-01-21T15:27:13.918Z"
      },
      {
        "duration": 26,
        "start_time": "2023-01-21T15:27:13.923Z"
      },
      {
        "duration": 12826,
        "start_time": "2023-01-21T15:27:13.951Z"
      },
      {
        "duration": 2662,
        "start_time": "2023-01-21T15:27:26.780Z"
      },
      {
        "duration": 4,
        "start_time": "2023-01-21T15:27:29.443Z"
      },
      {
        "duration": 2372,
        "start_time": "2023-01-21T15:27:29.448Z"
      },
      {
        "duration": 3,
        "start_time": "2023-01-21T15:27:31.822Z"
      },
      {
        "duration": 294,
        "start_time": "2023-01-21T15:27:31.827Z"
      },
      {
        "duration": 537,
        "start_time": "2023-01-21T15:27:32.122Z"
      },
      {
        "duration": 5,
        "start_time": "2023-01-21T15:27:32.661Z"
      },
      {
        "duration": 46,
        "start_time": "2023-01-21T15:27:32.668Z"
      },
      {
        "duration": 5,
        "start_time": "2023-01-21T15:27:32.717Z"
      },
      {
        "duration": 14,
        "start_time": "2023-01-21T15:27:32.736Z"
      },
      {
        "duration": 11,
        "start_time": "2023-01-21T15:27:32.752Z"
      },
      {
        "duration": 40,
        "start_time": "2023-01-21T15:27:32.765Z"
      },
      {
        "duration": 13,
        "start_time": "2023-01-21T15:27:32.807Z"
      },
      {
        "duration": 56,
        "start_time": "2023-01-21T15:27:32.822Z"
      },
      {
        "duration": 17,
        "start_time": "2023-01-21T15:27:32.880Z"
      },
      {
        "duration": 31,
        "start_time": "2023-01-21T15:27:32.899Z"
      },
      {
        "duration": 17,
        "start_time": "2023-01-21T15:27:32.932Z"
      },
      {
        "duration": 1368,
        "start_time": "2023-01-21T15:27:32.951Z"
      },
      {
        "duration": 5,
        "start_time": "2023-01-21T15:27:34.320Z"
      },
      {
        "duration": 70,
        "start_time": "2023-01-21T15:27:34.326Z"
      },
      {
        "duration": 0,
        "start_time": "2023-01-21T15:27:34.397Z"
      },
      {
        "duration": 0,
        "start_time": "2023-01-21T15:27:34.399Z"
      },
      {
        "duration": 0,
        "start_time": "2023-01-21T15:27:34.400Z"
      },
      {
        "duration": 0,
        "start_time": "2023-01-21T15:27:34.402Z"
      },
      {
        "duration": 0,
        "start_time": "2023-01-21T15:27:34.403Z"
      },
      {
        "duration": 0,
        "start_time": "2023-01-21T15:27:34.404Z"
      },
      {
        "duration": 0,
        "start_time": "2023-01-21T15:27:34.405Z"
      },
      {
        "duration": 0,
        "start_time": "2023-01-21T15:27:34.407Z"
      },
      {
        "duration": 0,
        "start_time": "2023-01-21T15:27:34.408Z"
      },
      {
        "duration": 0,
        "start_time": "2023-01-21T15:27:34.409Z"
      },
      {
        "duration": 0,
        "start_time": "2023-01-21T15:27:34.411Z"
      },
      {
        "duration": 0,
        "start_time": "2023-01-21T15:27:34.413Z"
      },
      {
        "duration": 0,
        "start_time": "2023-01-21T15:27:34.414Z"
      },
      {
        "duration": 0,
        "start_time": "2023-01-21T15:27:34.416Z"
      },
      {
        "duration": 0,
        "start_time": "2023-01-21T15:27:34.417Z"
      },
      {
        "duration": 32,
        "start_time": "2023-01-21T15:29:40.786Z"
      },
      {
        "duration": 2141,
        "start_time": "2023-01-21T15:30:11.086Z"
      },
      {
        "duration": 1805,
        "start_time": "2023-01-21T15:30:13.230Z"
      },
      {
        "duration": 54,
        "start_time": "2023-01-21T15:30:15.036Z"
      },
      {
        "duration": 22,
        "start_time": "2023-01-21T15:30:15.092Z"
      },
      {
        "duration": 19,
        "start_time": "2023-01-21T15:30:15.116Z"
      },
      {
        "duration": 24,
        "start_time": "2023-01-21T15:30:15.137Z"
      },
      {
        "duration": 4,
        "start_time": "2023-01-21T15:30:15.163Z"
      },
      {
        "duration": 76,
        "start_time": "2023-01-21T15:30:15.168Z"
      },
      {
        "duration": 43,
        "start_time": "2023-01-21T15:30:15.246Z"
      },
      {
        "duration": 59,
        "start_time": "2023-01-21T15:30:15.291Z"
      },
      {
        "duration": 31,
        "start_time": "2023-01-21T15:30:15.351Z"
      },
      {
        "duration": 4,
        "start_time": "2023-01-21T15:30:15.384Z"
      },
      {
        "duration": 604,
        "start_time": "2023-01-21T15:30:15.390Z"
      },
      {
        "duration": 7,
        "start_time": "2023-01-21T15:30:15.996Z"
      },
      {
        "duration": 11,
        "start_time": "2023-01-21T15:30:16.005Z"
      },
      {
        "duration": 442,
        "start_time": "2023-01-21T15:30:16.018Z"
      },
      {
        "duration": 16,
        "start_time": "2023-01-21T15:30:16.462Z"
      },
      {
        "duration": 5,
        "start_time": "2023-01-21T15:30:16.479Z"
      },
      {
        "duration": 11,
        "start_time": "2023-01-21T15:30:16.485Z"
      },
      {
        "duration": 8,
        "start_time": "2023-01-21T15:30:16.497Z"
      },
      {
        "duration": 39,
        "start_time": "2023-01-21T15:30:16.507Z"
      },
      {
        "duration": 5,
        "start_time": "2023-01-21T15:30:16.548Z"
      },
      {
        "duration": 10,
        "start_time": "2023-01-21T15:30:16.555Z"
      },
      {
        "duration": 5,
        "start_time": "2023-01-21T15:30:16.566Z"
      },
      {
        "duration": 14,
        "start_time": "2023-01-21T15:30:16.572Z"
      },
      {
        "duration": 12,
        "start_time": "2023-01-21T15:30:16.587Z"
      },
      {
        "duration": 46,
        "start_time": "2023-01-21T15:30:16.601Z"
      },
      {
        "duration": 12,
        "start_time": "2023-01-21T15:30:16.652Z"
      },
      {
        "duration": 13,
        "start_time": "2023-01-21T15:30:16.666Z"
      },
      {
        "duration": 25,
        "start_time": "2023-01-21T15:30:16.681Z"
      },
      {
        "duration": 12,
        "start_time": "2023-01-21T15:30:16.737Z"
      },
      {
        "duration": 3,
        "start_time": "2023-01-21T15:30:16.751Z"
      },
      {
        "duration": 19,
        "start_time": "2023-01-21T15:30:16.755Z"
      },
      {
        "duration": 25,
        "start_time": "2023-01-21T15:30:16.775Z"
      },
      {
        "duration": 124,
        "start_time": "2023-01-21T15:30:16.802Z"
      },
      {
        "duration": 8,
        "start_time": "2023-01-21T15:30:16.936Z"
      },
      {
        "duration": 8030,
        "start_time": "2023-01-21T15:30:16.945Z"
      },
      {
        "duration": 3,
        "start_time": "2023-01-21T15:30:24.978Z"
      },
      {
        "duration": 377,
        "start_time": "2023-01-21T15:30:24.983Z"
      },
      {
        "duration": 3,
        "start_time": "2023-01-21T15:30:25.362Z"
      },
      {
        "duration": 20,
        "start_time": "2023-01-21T15:30:25.368Z"
      },
      {
        "duration": 167,
        "start_time": "2023-01-21T15:30:25.390Z"
      },
      {
        "duration": 0,
        "start_time": "2023-01-21T15:30:25.559Z"
      },
      {
        "duration": 0,
        "start_time": "2023-01-21T15:30:25.560Z"
      },
      {
        "duration": 0,
        "start_time": "2023-01-21T15:30:25.562Z"
      },
      {
        "duration": 0,
        "start_time": "2023-01-21T15:30:25.564Z"
      },
      {
        "duration": 0,
        "start_time": "2023-01-21T15:30:25.565Z"
      },
      {
        "duration": 0,
        "start_time": "2023-01-21T15:30:25.566Z"
      },
      {
        "duration": 0,
        "start_time": "2023-01-21T15:30:25.568Z"
      },
      {
        "duration": 0,
        "start_time": "2023-01-21T15:30:25.569Z"
      },
      {
        "duration": 0,
        "start_time": "2023-01-21T15:30:25.571Z"
      },
      {
        "duration": 0,
        "start_time": "2023-01-21T15:30:25.572Z"
      },
      {
        "duration": 0,
        "start_time": "2023-01-21T15:30:25.573Z"
      },
      {
        "duration": 0,
        "start_time": "2023-01-21T15:30:25.575Z"
      },
      {
        "duration": 0,
        "start_time": "2023-01-21T15:30:25.576Z"
      },
      {
        "duration": 0,
        "start_time": "2023-01-21T15:30:25.577Z"
      },
      {
        "duration": 0,
        "start_time": "2023-01-21T15:30:25.579Z"
      },
      {
        "duration": 0,
        "start_time": "2023-01-21T15:30:25.581Z"
      },
      {
        "duration": 0,
        "start_time": "2023-01-21T15:30:25.583Z"
      },
      {
        "duration": 0,
        "start_time": "2023-01-21T15:30:25.585Z"
      },
      {
        "duration": 0,
        "start_time": "2023-01-21T15:30:25.636Z"
      },
      {
        "duration": 0,
        "start_time": "2023-01-21T15:30:25.638Z"
      },
      {
        "duration": 0,
        "start_time": "2023-01-21T15:30:25.639Z"
      },
      {
        "duration": 0,
        "start_time": "2023-01-21T15:30:25.641Z"
      },
      {
        "duration": 0,
        "start_time": "2023-01-21T15:30:25.643Z"
      },
      {
        "duration": 0,
        "start_time": "2023-01-21T15:30:25.644Z"
      },
      {
        "duration": 0,
        "start_time": "2023-01-21T15:30:25.646Z"
      },
      {
        "duration": 0,
        "start_time": "2023-01-21T15:30:25.647Z"
      },
      {
        "duration": 0,
        "start_time": "2023-01-21T15:30:25.649Z"
      },
      {
        "duration": 0,
        "start_time": "2023-01-21T15:30:25.650Z"
      },
      {
        "duration": 0,
        "start_time": "2023-01-21T15:30:25.652Z"
      },
      {
        "duration": 0,
        "start_time": "2023-01-21T15:30:25.653Z"
      },
      {
        "duration": 0,
        "start_time": "2023-01-21T15:30:25.655Z"
      },
      {
        "duration": 0,
        "start_time": "2023-01-21T15:30:25.656Z"
      },
      {
        "duration": 0,
        "start_time": "2023-01-21T15:30:25.658Z"
      },
      {
        "duration": 0,
        "start_time": "2023-01-21T15:30:25.660Z"
      },
      {
        "duration": 0,
        "start_time": "2023-01-21T15:30:25.661Z"
      },
      {
        "duration": 0,
        "start_time": "2023-01-21T15:30:25.662Z"
      },
      {
        "duration": 3201,
        "start_time": "2023-01-23T04:55:13.653Z"
      },
      {
        "duration": 2082,
        "start_time": "2023-01-23T04:55:16.856Z"
      },
      {
        "duration": 167,
        "start_time": "2023-01-23T04:55:18.941Z"
      },
      {
        "duration": 127,
        "start_time": "2023-01-23T04:55:19.111Z"
      },
      {
        "duration": 79,
        "start_time": "2023-01-23T04:55:19.240Z"
      },
      {
        "duration": 96,
        "start_time": "2023-01-23T04:55:19.325Z"
      },
      {
        "duration": 5,
        "start_time": "2023-01-23T04:55:19.426Z"
      },
      {
        "duration": 93,
        "start_time": "2023-01-23T04:55:19.433Z"
      },
      {
        "duration": 50,
        "start_time": "2023-01-23T04:55:19.528Z"
      },
      {
        "duration": 63,
        "start_time": "2023-01-23T04:55:19.595Z"
      },
      {
        "duration": 51,
        "start_time": "2023-01-23T04:55:19.660Z"
      },
      {
        "duration": 11,
        "start_time": "2023-01-23T04:55:19.712Z"
      },
      {
        "duration": 519,
        "start_time": "2023-01-23T04:55:19.724Z"
      },
      {
        "duration": 6,
        "start_time": "2023-01-23T04:55:20.244Z"
      },
      {
        "duration": 8,
        "start_time": "2023-01-23T04:55:20.252Z"
      },
      {
        "duration": 579,
        "start_time": "2023-01-23T04:55:20.261Z"
      },
      {
        "duration": 19,
        "start_time": "2023-01-23T04:55:20.842Z"
      },
      {
        "duration": 32,
        "start_time": "2023-01-23T04:55:20.863Z"
      },
      {
        "duration": 47,
        "start_time": "2023-01-23T04:55:20.897Z"
      },
      {
        "duration": 19,
        "start_time": "2023-01-23T04:55:20.946Z"
      },
      {
        "duration": 32,
        "start_time": "2023-01-23T04:55:20.967Z"
      },
      {
        "duration": 36,
        "start_time": "2023-01-23T04:55:21.004Z"
      },
      {
        "duration": 94,
        "start_time": "2023-01-23T04:55:21.042Z"
      },
      {
        "duration": 10,
        "start_time": "2023-01-23T04:55:21.137Z"
      },
      {
        "duration": 96,
        "start_time": "2023-01-23T04:55:21.149Z"
      },
      {
        "duration": 17,
        "start_time": "2023-01-23T04:55:21.247Z"
      },
      {
        "duration": 41,
        "start_time": "2023-01-23T04:55:21.266Z"
      },
      {
        "duration": 60,
        "start_time": "2023-01-23T04:55:21.313Z"
      },
      {
        "duration": 75,
        "start_time": "2023-01-23T04:55:21.375Z"
      },
      {
        "duration": 102,
        "start_time": "2023-01-23T04:55:21.452Z"
      },
      {
        "duration": 72,
        "start_time": "2023-01-23T04:55:21.555Z"
      },
      {
        "duration": 29,
        "start_time": "2023-01-23T04:55:21.629Z"
      },
      {
        "duration": 17,
        "start_time": "2023-01-23T04:55:21.660Z"
      },
      {
        "duration": 21,
        "start_time": "2023-01-23T04:55:21.679Z"
      },
      {
        "duration": 170,
        "start_time": "2023-01-23T04:55:21.702Z"
      },
      {
        "duration": 6,
        "start_time": "2023-01-23T04:55:21.876Z"
      },
      {
        "duration": 8082,
        "start_time": "2023-01-23T04:55:21.883Z"
      },
      {
        "duration": 3,
        "start_time": "2023-01-23T04:55:29.967Z"
      },
      {
        "duration": 389,
        "start_time": "2023-01-23T04:55:29.972Z"
      },
      {
        "duration": 3,
        "start_time": "2023-01-23T04:55:30.363Z"
      },
      {
        "duration": 39,
        "start_time": "2023-01-23T04:55:30.368Z"
      },
      {
        "duration": 223,
        "start_time": "2023-01-23T04:55:30.408Z"
      },
      {
        "duration": 0,
        "start_time": "2023-01-23T04:55:30.633Z"
      },
      {
        "duration": 0,
        "start_time": "2023-01-23T04:55:30.634Z"
      },
      {
        "duration": 0,
        "start_time": "2023-01-23T04:55:30.636Z"
      },
      {
        "duration": 0,
        "start_time": "2023-01-23T04:55:30.637Z"
      },
      {
        "duration": 0,
        "start_time": "2023-01-23T04:55:30.639Z"
      },
      {
        "duration": 0,
        "start_time": "2023-01-23T04:55:30.642Z"
      },
      {
        "duration": 0,
        "start_time": "2023-01-23T04:55:30.644Z"
      },
      {
        "duration": 0,
        "start_time": "2023-01-23T04:55:30.646Z"
      },
      {
        "duration": 0,
        "start_time": "2023-01-23T04:55:30.648Z"
      },
      {
        "duration": 0,
        "start_time": "2023-01-23T04:55:30.649Z"
      },
      {
        "duration": 0,
        "start_time": "2023-01-23T04:55:30.652Z"
      },
      {
        "duration": 0,
        "start_time": "2023-01-23T04:55:30.653Z"
      },
      {
        "duration": 0,
        "start_time": "2023-01-23T04:55:30.656Z"
      },
      {
        "duration": 0,
        "start_time": "2023-01-23T04:55:30.657Z"
      },
      {
        "duration": 0,
        "start_time": "2023-01-23T04:55:30.658Z"
      },
      {
        "duration": 0,
        "start_time": "2023-01-23T04:55:30.692Z"
      },
      {
        "duration": 0,
        "start_time": "2023-01-23T04:55:30.695Z"
      },
      {
        "duration": 0,
        "start_time": "2023-01-23T04:55:30.699Z"
      },
      {
        "duration": 0,
        "start_time": "2023-01-23T04:55:30.700Z"
      },
      {
        "duration": 0,
        "start_time": "2023-01-23T04:55:30.701Z"
      },
      {
        "duration": 0,
        "start_time": "2023-01-23T04:55:30.702Z"
      },
      {
        "duration": 0,
        "start_time": "2023-01-23T04:55:30.702Z"
      },
      {
        "duration": 0,
        "start_time": "2023-01-23T04:55:30.703Z"
      },
      {
        "duration": 0,
        "start_time": "2023-01-23T04:55:30.704Z"
      },
      {
        "duration": 0,
        "start_time": "2023-01-23T04:55:30.707Z"
      },
      {
        "duration": 0,
        "start_time": "2023-01-23T04:55:30.708Z"
      },
      {
        "duration": 0,
        "start_time": "2023-01-23T04:55:30.709Z"
      },
      {
        "duration": 0,
        "start_time": "2023-01-23T04:55:30.711Z"
      },
      {
        "duration": 0,
        "start_time": "2023-01-23T04:55:30.712Z"
      },
      {
        "duration": 0,
        "start_time": "2023-01-23T04:55:30.713Z"
      },
      {
        "duration": 0,
        "start_time": "2023-01-23T04:55:30.714Z"
      },
      {
        "duration": 0,
        "start_time": "2023-01-23T04:55:30.715Z"
      },
      {
        "duration": 0,
        "start_time": "2023-01-23T04:55:30.716Z"
      },
      {
        "duration": 0,
        "start_time": "2023-01-23T04:55:30.717Z"
      },
      {
        "duration": 0,
        "start_time": "2023-01-23T04:55:30.719Z"
      },
      {
        "duration": 0,
        "start_time": "2023-01-23T04:55:30.720Z"
      },
      {
        "duration": 34,
        "start_time": "2023-01-23T04:56:12.326Z"
      },
      {
        "duration": 1745,
        "start_time": "2023-01-23T04:57:06.940Z"
      },
      {
        "duration": 12590,
        "start_time": "2023-01-23T04:57:22.046Z"
      },
      {
        "duration": 2797,
        "start_time": "2023-01-23T04:57:48.530Z"
      },
      {
        "duration": 11220,
        "start_time": "2023-01-23T05:02:16.468Z"
      },
      {
        "duration": 14,
        "start_time": "2023-01-23T05:03:58.275Z"
      },
      {
        "duration": 10945,
        "start_time": "2023-01-23T05:04:03.870Z"
      },
      {
        "duration": 3,
        "start_time": "2023-01-23T05:04:46.824Z"
      },
      {
        "duration": 18,
        "start_time": "2023-01-23T05:04:47.359Z"
      },
      {
        "duration": 2537,
        "start_time": "2023-01-23T05:04:50.333Z"
      },
      {
        "duration": 3440,
        "start_time": "2023-01-23T05:04:53.224Z"
      },
      {
        "duration": 22647,
        "start_time": "2023-01-23T05:05:10.623Z"
      },
      {
        "duration": 2,
        "start_time": "2023-01-23T05:05:53.152Z"
      },
      {
        "duration": 7,
        "start_time": "2023-01-23T05:13:27.531Z"
      },
      {
        "duration": 2513,
        "start_time": "2023-01-23T05:13:28.036Z"
      },
      {
        "duration": 34,
        "start_time": "2023-01-23T05:15:22.186Z"
      },
      {
        "duration": 7,
        "start_time": "2023-01-23T05:17:04.625Z"
      },
      {
        "duration": 42,
        "start_time": "2023-01-23T05:17:05.378Z"
      },
      {
        "duration": 13383,
        "start_time": "2023-01-23T05:17:06.559Z"
      },
      {
        "duration": 4010,
        "start_time": "2023-01-23T05:17:19.945Z"
      },
      {
        "duration": 7,
        "start_time": "2023-01-23T05:17:42.989Z"
      },
      {
        "duration": 27,
        "start_time": "2023-01-23T05:17:43.530Z"
      },
      {
        "duration": 3367,
        "start_time": "2023-01-23T05:17:44.264Z"
      },
      {
        "duration": 4228,
        "start_time": "2023-01-23T05:17:47.634Z"
      },
      {
        "duration": 4,
        "start_time": "2023-01-23T05:18:23.016Z"
      },
      {
        "duration": 48,
        "start_time": "2023-01-23T05:18:23.689Z"
      },
      {
        "duration": 4158,
        "start_time": "2023-01-23T05:18:24.269Z"
      },
      {
        "duration": 4684,
        "start_time": "2023-01-23T05:18:28.433Z"
      },
      {
        "duration": 2260,
        "start_time": "2023-01-23T05:20:11.548Z"
      },
      {
        "duration": 1926,
        "start_time": "2023-01-23T05:20:13.810Z"
      },
      {
        "duration": 51,
        "start_time": "2023-01-23T05:20:15.738Z"
      },
      {
        "duration": 24,
        "start_time": "2023-01-23T05:20:15.794Z"
      },
      {
        "duration": 18,
        "start_time": "2023-01-23T05:20:15.820Z"
      },
      {
        "duration": 24,
        "start_time": "2023-01-23T05:20:15.839Z"
      },
      {
        "duration": 5,
        "start_time": "2023-01-23T05:20:15.864Z"
      },
      {
        "duration": 88,
        "start_time": "2023-01-23T05:20:15.870Z"
      },
      {
        "duration": 79,
        "start_time": "2023-01-23T05:20:15.960Z"
      },
      {
        "duration": 84,
        "start_time": "2023-01-23T05:20:16.043Z"
      },
      {
        "duration": 38,
        "start_time": "2023-01-23T05:20:16.130Z"
      },
      {
        "duration": 33,
        "start_time": "2023-01-23T05:20:16.171Z"
      },
      {
        "duration": 561,
        "start_time": "2023-01-23T05:20:16.208Z"
      },
      {
        "duration": 6,
        "start_time": "2023-01-23T05:20:16.771Z"
      },
      {
        "duration": 20,
        "start_time": "2023-01-23T05:20:16.778Z"
      },
      {
        "duration": 515,
        "start_time": "2023-01-23T05:20:16.809Z"
      },
      {
        "duration": 16,
        "start_time": "2023-01-23T05:20:17.328Z"
      },
      {
        "duration": 7,
        "start_time": "2023-01-23T05:20:17.345Z"
      },
      {
        "duration": 9,
        "start_time": "2023-01-23T05:20:17.353Z"
      },
      {
        "duration": 10,
        "start_time": "2023-01-23T05:20:17.363Z"
      },
      {
        "duration": 43,
        "start_time": "2023-01-23T05:20:17.374Z"
      },
      {
        "duration": 14,
        "start_time": "2023-01-23T05:20:17.418Z"
      },
      {
        "duration": 15,
        "start_time": "2023-01-23T05:20:17.433Z"
      },
      {
        "duration": 6,
        "start_time": "2023-01-23T05:20:17.449Z"
      },
      {
        "duration": 19,
        "start_time": "2023-01-23T05:20:17.456Z"
      },
      {
        "duration": 25,
        "start_time": "2023-01-23T05:20:17.477Z"
      },
      {
        "duration": 31,
        "start_time": "2023-01-23T05:20:17.504Z"
      },
      {
        "duration": 11,
        "start_time": "2023-01-23T05:20:17.539Z"
      },
      {
        "duration": 11,
        "start_time": "2023-01-23T05:20:17.552Z"
      },
      {
        "duration": 21,
        "start_time": "2023-01-23T05:20:17.565Z"
      },
      {
        "duration": 41,
        "start_time": "2023-01-23T05:20:17.587Z"
      },
      {
        "duration": 7,
        "start_time": "2023-01-23T05:20:17.629Z"
      },
      {
        "duration": 42,
        "start_time": "2023-01-23T05:20:17.637Z"
      },
      {
        "duration": 37,
        "start_time": "2023-01-23T05:20:17.681Z"
      },
      {
        "duration": 132,
        "start_time": "2023-01-23T05:20:17.722Z"
      },
      {
        "duration": 6,
        "start_time": "2023-01-23T05:20:17.856Z"
      },
      {
        "duration": 7822,
        "start_time": "2023-01-23T05:20:17.863Z"
      },
      {
        "duration": 4,
        "start_time": "2023-01-23T05:20:25.687Z"
      },
      {
        "duration": 433,
        "start_time": "2023-01-23T05:20:25.698Z"
      },
      {
        "duration": 24,
        "start_time": "2023-01-23T05:20:26.133Z"
      },
      {
        "duration": 4,
        "start_time": "2023-01-23T05:20:26.159Z"
      },
      {
        "duration": 44,
        "start_time": "2023-01-23T05:20:26.165Z"
      },
      {
        "duration": 15173,
        "start_time": "2023-01-23T05:20:26.211Z"
      },
      {
        "duration": 4532,
        "start_time": "2023-01-23T05:20:41.387Z"
      },
      {
        "duration": 2,
        "start_time": "2023-01-23T05:20:45.921Z"
      },
      {
        "duration": 20,
        "start_time": "2023-01-23T05:20:45.927Z"
      },
      {
        "duration": 2590,
        "start_time": "2023-01-23T05:20:45.949Z"
      },
      {
        "duration": 3,
        "start_time": "2023-01-23T05:20:48.541Z"
      },
      {
        "duration": 329,
        "start_time": "2023-01-23T05:20:48.546Z"
      },
      {
        "duration": 695,
        "start_time": "2023-01-23T05:20:48.877Z"
      },
      {
        "duration": 6,
        "start_time": "2023-01-23T05:20:49.574Z"
      },
      {
        "duration": 53,
        "start_time": "2023-01-23T05:20:49.582Z"
      },
      {
        "duration": 6,
        "start_time": "2023-01-23T05:20:49.637Z"
      },
      {
        "duration": 13,
        "start_time": "2023-01-23T05:20:49.645Z"
      },
      {
        "duration": 18,
        "start_time": "2023-01-23T05:20:49.660Z"
      },
      {
        "duration": 13,
        "start_time": "2023-01-23T05:20:49.680Z"
      },
      {
        "duration": 33,
        "start_time": "2023-01-23T05:20:49.695Z"
      },
      {
        "duration": 19,
        "start_time": "2023-01-23T05:20:49.730Z"
      },
      {
        "duration": 3,
        "start_time": "2023-01-23T05:20:49.750Z"
      },
      {
        "duration": 8,
        "start_time": "2023-01-23T05:20:49.754Z"
      },
      {
        "duration": 8,
        "start_time": "2023-01-23T05:20:49.763Z"
      },
      {
        "duration": 1537,
        "start_time": "2023-01-23T05:20:49.773Z"
      },
      {
        "duration": 4,
        "start_time": "2023-01-23T05:20:51.313Z"
      },
      {
        "duration": 28,
        "start_time": "2023-01-23T05:20:51.319Z"
      },
      {
        "duration": 0,
        "start_time": "2023-01-23T05:20:51.349Z"
      },
      {
        "duration": 0,
        "start_time": "2023-01-23T05:20:51.351Z"
      },
      {
        "duration": 0,
        "start_time": "2023-01-23T05:20:51.352Z"
      },
      {
        "duration": 0,
        "start_time": "2023-01-23T05:20:51.353Z"
      },
      {
        "duration": 0,
        "start_time": "2023-01-23T05:20:51.354Z"
      },
      {
        "duration": 0,
        "start_time": "2023-01-23T05:20:51.355Z"
      },
      {
        "duration": 0,
        "start_time": "2023-01-23T05:20:51.357Z"
      },
      {
        "duration": 0,
        "start_time": "2023-01-23T05:20:51.358Z"
      },
      {
        "duration": 0,
        "start_time": "2023-01-23T05:20:51.359Z"
      },
      {
        "duration": 0,
        "start_time": "2023-01-23T05:20:51.361Z"
      },
      {
        "duration": 0,
        "start_time": "2023-01-23T05:20:51.362Z"
      },
      {
        "duration": 0,
        "start_time": "2023-01-23T05:20:51.364Z"
      },
      {
        "duration": 0,
        "start_time": "2023-01-23T05:20:51.366Z"
      },
      {
        "duration": 0,
        "start_time": "2023-01-23T05:20:51.396Z"
      },
      {
        "duration": 0,
        "start_time": "2023-01-23T05:20:51.399Z"
      },
      {
        "duration": 4126,
        "start_time": "2023-01-23T05:21:45.021Z"
      },
      {
        "duration": 4418,
        "start_time": "2023-01-23T05:21:53.970Z"
      },
      {
        "duration": 54221,
        "start_time": "2023-01-23T05:22:16.112Z"
      },
      {
        "duration": 19,
        "start_time": "2023-01-23T05:29:48.053Z"
      },
      {
        "duration": 16,
        "start_time": "2023-01-23T05:34:00.051Z"
      },
      {
        "duration": 5,
        "start_time": "2023-01-23T05:34:05.610Z"
      },
      {
        "duration": 19,
        "start_time": "2023-01-23T05:34:22.978Z"
      },
      {
        "duration": 17,
        "start_time": "2023-01-23T05:38:39.481Z"
      },
      {
        "duration": 24,
        "start_time": "2023-01-23T05:39:44.217Z"
      },
      {
        "duration": 11,
        "start_time": "2023-01-23T05:39:53.715Z"
      },
      {
        "duration": 5,
        "start_time": "2023-01-23T05:39:58.022Z"
      },
      {
        "duration": 18,
        "start_time": "2023-01-23T05:40:00.016Z"
      },
      {
        "duration": 5,
        "start_time": "2023-01-23T05:40:09.321Z"
      },
      {
        "duration": 22,
        "start_time": "2023-01-23T05:40:09.874Z"
      },
      {
        "duration": 28,
        "start_time": "2023-01-23T05:40:19.684Z"
      },
      {
        "duration": 2489,
        "start_time": "2023-01-23T05:40:49.012Z"
      },
      {
        "duration": 2001,
        "start_time": "2023-01-23T05:40:51.504Z"
      },
      {
        "duration": 50,
        "start_time": "2023-01-23T05:40:53.516Z"
      },
      {
        "duration": 20,
        "start_time": "2023-01-23T05:40:53.569Z"
      },
      {
        "duration": 32,
        "start_time": "2023-01-23T05:40:53.592Z"
      },
      {
        "duration": 28,
        "start_time": "2023-01-23T05:40:53.626Z"
      },
      {
        "duration": 5,
        "start_time": "2023-01-23T05:40:53.655Z"
      },
      {
        "duration": 81,
        "start_time": "2023-01-23T05:40:53.661Z"
      },
      {
        "duration": 81,
        "start_time": "2023-01-23T05:40:53.744Z"
      },
      {
        "duration": 77,
        "start_time": "2023-01-23T05:40:53.828Z"
      },
      {
        "duration": 39,
        "start_time": "2023-01-23T05:40:53.908Z"
      },
      {
        "duration": 6,
        "start_time": "2023-01-23T05:40:56.132Z"
      },
      {
        "duration": 480,
        "start_time": "2023-01-23T05:40:56.890Z"
      },
      {
        "duration": 14,
        "start_time": "2023-01-23T05:40:59.969Z"
      },
      {
        "duration": 8,
        "start_time": "2023-01-23T05:41:01.218Z"
      },
      {
        "duration": 4,
        "start_time": "2023-01-23T05:41:01.748Z"
      },
      {
        "duration": 133,
        "start_time": "2023-01-23T05:41:02.451Z"
      },
      {
        "duration": 23,
        "start_time": "2023-01-23T05:41:10.308Z"
      },
      {
        "duration": 5,
        "start_time": "2023-01-23T05:41:20.418Z"
      },
      {
        "duration": 531,
        "start_time": "2023-01-23T05:41:20.636Z"
      },
      {
        "duration": 51,
        "start_time": "2023-01-23T05:41:21.169Z"
      },
      {
        "duration": 7,
        "start_time": "2023-01-23T05:41:21.358Z"
      },
      {
        "duration": 14,
        "start_time": "2023-01-23T05:41:21.739Z"
      },
      {
        "duration": 13,
        "start_time": "2023-01-23T05:41:22.160Z"
      },
      {
        "duration": 21,
        "start_time": "2023-01-23T05:41:22.336Z"
      },
      {
        "duration": 7,
        "start_time": "2023-01-23T05:41:24.913Z"
      },
      {
        "duration": 12,
        "start_time": "2023-01-23T05:41:25.515Z"
      },
      {
        "duration": 6,
        "start_time": "2023-01-23T05:41:26.828Z"
      },
      {
        "duration": 18,
        "start_time": "2023-01-23T05:41:29.123Z"
      },
      {
        "duration": 14,
        "start_time": "2023-01-23T05:41:29.328Z"
      },
      {
        "duration": 21,
        "start_time": "2023-01-23T05:41:32.389Z"
      },
      {
        "duration": 23,
        "start_time": "2023-01-23T05:41:32.780Z"
      },
      {
        "duration": 15,
        "start_time": "2023-01-23T05:41:35.223Z"
      },
      {
        "duration": 41,
        "start_time": "2023-01-23T05:41:35.965Z"
      },
      {
        "duration": 15,
        "start_time": "2023-01-23T05:41:36.402Z"
      },
      {
        "duration": 3,
        "start_time": "2023-01-23T05:41:36.587Z"
      },
      {
        "duration": 16,
        "start_time": "2023-01-23T05:41:36.754Z"
      },
      {
        "duration": 26,
        "start_time": "2023-01-23T05:41:37.491Z"
      },
      {
        "duration": 125,
        "start_time": "2023-01-23T05:41:39.105Z"
      },
      {
        "duration": 6,
        "start_time": "2023-01-23T05:41:39.471Z"
      },
      {
        "duration": 8131,
        "start_time": "2023-01-23T05:41:40.382Z"
      },
      {
        "duration": 4,
        "start_time": "2023-01-23T05:41:48.516Z"
      },
      {
        "duration": 1281,
        "start_time": "2023-01-23T05:41:48.522Z"
      },
      {
        "duration": 7,
        "start_time": "2023-01-23T05:41:53.419Z"
      },
      {
        "duration": 31,
        "start_time": "2023-01-23T05:41:53.929Z"
      },
      {
        "duration": 15047,
        "start_time": "2023-01-23T05:41:54.645Z"
      },
      {
        "duration": 4031,
        "start_time": "2023-01-23T05:42:09.695Z"
      },
      {
        "duration": 4744,
        "start_time": "2023-01-23T05:42:13.728Z"
      },
      {
        "duration": 4,
        "start_time": "2023-01-23T05:42:54.213Z"
      },
      {
        "duration": 2632,
        "start_time": "2023-01-23T05:42:54.850Z"
      },
      {
        "duration": 9,
        "start_time": "2023-01-23T05:42:57.485Z"
      },
      {
        "duration": 284,
        "start_time": "2023-01-23T05:42:57.585Z"
      },
      {
        "duration": 598,
        "start_time": "2023-01-23T05:42:59.669Z"
      },
      {
        "duration": 6,
        "start_time": "2023-01-23T05:43:03.035Z"
      },
      {
        "duration": 2,
        "start_time": "2023-01-23T05:43:13.672Z"
      },
      {
        "duration": 9,
        "start_time": "2023-01-23T05:43:32.920Z"
      },
      {
        "duration": 5,
        "start_time": "2023-01-23T05:43:33.553Z"
      },
      {
        "duration": 19,
        "start_time": "2023-01-23T05:43:38.526Z"
      },
      {
        "duration": 4,
        "start_time": "2023-01-23T05:43:42.013Z"
      },
      {
        "duration": 12,
        "start_time": "2023-01-23T05:43:47.122Z"
      },
      {
        "duration": 15,
        "start_time": "2023-01-23T05:43:55.821Z"
      },
      {
        "duration": 6,
        "start_time": "2023-01-23T05:44:26.492Z"
      },
      {
        "duration": 25,
        "start_time": "2023-01-23T05:44:29.034Z"
      },
      {
        "duration": 17,
        "start_time": "2023-01-23T05:45:08.529Z"
      },
      {
        "duration": 17,
        "start_time": "2023-01-23T05:45:24.213Z"
      },
      {
        "duration": 28,
        "start_time": "2023-01-23T05:45:41.021Z"
      },
      {
        "duration": 27,
        "start_time": "2023-01-23T05:46:20.627Z"
      },
      {
        "duration": 25,
        "start_time": "2023-01-23T05:46:21.519Z"
      },
      {
        "duration": 24,
        "start_time": "2023-01-23T05:46:22.460Z"
      },
      {
        "duration": 4,
        "start_time": "2023-01-23T05:46:29.836Z"
      },
      {
        "duration": 67,
        "start_time": "2023-01-23T05:46:43.782Z"
      },
      {
        "duration": 73,
        "start_time": "2023-01-23T05:46:58.748Z"
      },
      {
        "duration": 15,
        "start_time": "2023-01-23T05:47:44.375Z"
      },
      {
        "duration": 79,
        "start_time": "2023-01-23T05:48:26.083Z"
      },
      {
        "duration": 123,
        "start_time": "2023-01-23T05:55:20.724Z"
      },
      {
        "duration": 62,
        "start_time": "2023-01-23T05:56:07.073Z"
      },
      {
        "duration": 58,
        "start_time": "2023-01-23T05:56:17.809Z"
      },
      {
        "duration": 7,
        "start_time": "2023-01-23T05:57:14.228Z"
      },
      {
        "duration": 31,
        "start_time": "2023-01-23T05:57:14.816Z"
      },
      {
        "duration": 13,
        "start_time": "2023-01-23T05:57:16.672Z"
      },
      {
        "duration": 53,
        "start_time": "2023-01-23T05:57:17.465Z"
      },
      {
        "duration": 40,
        "start_time": "2023-01-23T05:57:18.817Z"
      },
      {
        "duration": 29,
        "start_time": "2023-01-23T05:57:23.348Z"
      },
      {
        "duration": 28,
        "start_time": "2023-01-23T05:57:25.606Z"
      },
      {
        "duration": 24,
        "start_time": "2023-01-23T05:57:37.960Z"
      },
      {
        "duration": 55,
        "start_time": "2023-01-23T05:58:03.430Z"
      },
      {
        "duration": 43,
        "start_time": "2023-01-23T05:58:04.303Z"
      },
      {
        "duration": 37,
        "start_time": "2023-01-23T05:58:05.165Z"
      },
      {
        "duration": 45,
        "start_time": "2023-01-23T05:58:05.943Z"
      },
      {
        "duration": 35,
        "start_time": "2023-01-23T05:58:06.844Z"
      },
      {
        "duration": 3211,
        "start_time": "2023-01-23T05:59:05.925Z"
      },
      {
        "duration": 2528,
        "start_time": "2023-01-23T05:59:09.138Z"
      },
      {
        "duration": 103,
        "start_time": "2023-01-23T05:59:11.678Z"
      },
      {
        "duration": 40,
        "start_time": "2023-01-23T05:59:11.784Z"
      },
      {
        "duration": 35,
        "start_time": "2023-01-23T05:59:11.831Z"
      },
      {
        "duration": 44,
        "start_time": "2023-01-23T05:59:11.868Z"
      },
      {
        "duration": 8,
        "start_time": "2023-01-23T05:59:11.915Z"
      },
      {
        "duration": 106,
        "start_time": "2023-01-23T05:59:11.925Z"
      },
      {
        "duration": 70,
        "start_time": "2023-01-23T05:59:12.037Z"
      },
      {
        "duration": 95,
        "start_time": "2023-01-23T05:59:12.116Z"
      },
      {
        "duration": 50,
        "start_time": "2023-01-23T05:59:12.217Z"
      },
      {
        "duration": 5,
        "start_time": "2023-01-23T05:59:12.269Z"
      },
      {
        "duration": 619,
        "start_time": "2023-01-23T05:59:12.277Z"
      },
      {
        "duration": 20,
        "start_time": "2023-01-23T05:59:12.898Z"
      },
      {
        "duration": 16,
        "start_time": "2023-01-23T05:59:12.920Z"
      },
      {
        "duration": 24,
        "start_time": "2023-01-23T05:59:12.942Z"
      },
      {
        "duration": 13,
        "start_time": "2023-01-23T05:59:12.968Z"
      },
      {
        "duration": 685,
        "start_time": "2023-01-23T05:59:12.984Z"
      },
      {
        "duration": 41,
        "start_time": "2023-01-23T05:59:13.672Z"
      },
      {
        "duration": 43,
        "start_time": "2023-01-23T05:59:13.716Z"
      },
      {
        "duration": 22,
        "start_time": "2023-01-23T05:59:13.762Z"
      },
      {
        "duration": 22,
        "start_time": "2023-01-23T05:59:13.786Z"
      },
      {
        "duration": 71,
        "start_time": "2023-01-23T05:59:13.817Z"
      },
      {
        "duration": 66,
        "start_time": "2023-01-23T05:59:13.894Z"
      },
      {
        "duration": 25,
        "start_time": "2023-01-23T05:59:13.962Z"
      },
      {
        "duration": 18,
        "start_time": "2023-01-23T05:59:13.989Z"
      },
      {
        "duration": 43,
        "start_time": "2023-01-23T05:59:14.008Z"
      },
      {
        "duration": 19,
        "start_time": "2023-01-23T05:59:14.060Z"
      },
      {
        "duration": 58,
        "start_time": "2023-01-23T05:59:14.082Z"
      },
      {
        "duration": 24,
        "start_time": "2023-01-23T05:59:14.147Z"
      },
      {
        "duration": 34,
        "start_time": "2023-01-23T05:59:14.173Z"
      },
      {
        "duration": 55,
        "start_time": "2023-01-23T05:59:14.220Z"
      },
      {
        "duration": 20,
        "start_time": "2023-01-23T05:59:14.277Z"
      },
      {
        "duration": 57,
        "start_time": "2023-01-23T05:59:14.304Z"
      },
      {
        "duration": 24,
        "start_time": "2023-01-23T05:59:14.363Z"
      },
      {
        "duration": 34,
        "start_time": "2023-01-23T05:59:14.389Z"
      },
      {
        "duration": 189,
        "start_time": "2023-01-23T05:59:14.424Z"
      },
      {
        "duration": 10,
        "start_time": "2023-01-23T05:59:14.621Z"
      },
      {
        "duration": 10122,
        "start_time": "2023-01-23T05:59:14.633Z"
      },
      {
        "duration": 4,
        "start_time": "2023-01-23T05:59:24.757Z"
      },
      {
        "duration": 443,
        "start_time": "2023-01-23T05:59:24.764Z"
      },
      {
        "duration": 5,
        "start_time": "2023-01-23T05:59:25.209Z"
      },
      {
        "duration": 36,
        "start_time": "2023-01-23T05:59:25.215Z"
      },
      {
        "duration": 15811,
        "start_time": "2023-01-23T05:59:25.253Z"
      },
      {
        "duration": 4134,
        "start_time": "2023-01-23T05:59:41.067Z"
      },
      {
        "duration": 6255,
        "start_time": "2023-01-23T05:59:45.217Z"
      },
      {
        "duration": 5,
        "start_time": "2023-01-23T05:59:51.474Z"
      },
      {
        "duration": 3141,
        "start_time": "2023-01-23T05:59:51.482Z"
      },
      {
        "duration": 6,
        "start_time": "2023-01-23T05:59:54.630Z"
      },
      {
        "duration": 437,
        "start_time": "2023-01-23T05:59:54.642Z"
      },
      {
        "duration": 829,
        "start_time": "2023-01-23T05:59:55.081Z"
      },
      {
        "duration": 7,
        "start_time": "2023-01-23T05:59:55.917Z"
      },
      {
        "duration": 14,
        "start_time": "2023-01-23T05:59:55.927Z"
      },
      {
        "duration": 22,
        "start_time": "2023-01-23T05:59:55.948Z"
      },
      {
        "duration": 12,
        "start_time": "2023-01-23T05:59:55.974Z"
      },
      {
        "duration": 9,
        "start_time": "2023-01-23T05:59:55.989Z"
      },
      {
        "duration": 45,
        "start_time": "2023-01-23T05:59:56.007Z"
      },
      {
        "duration": 84,
        "start_time": "2023-01-23T05:59:56.054Z"
      },
      {
        "duration": 34,
        "start_time": "2023-01-23T05:59:56.141Z"
      },
      {
        "duration": 52,
        "start_time": "2023-01-23T05:59:56.178Z"
      },
      {
        "duration": 77,
        "start_time": "2023-01-23T05:59:56.233Z"
      },
      {
        "duration": 76,
        "start_time": "2023-01-23T05:59:56.312Z"
      },
      {
        "duration": 75,
        "start_time": "2023-01-23T05:59:56.390Z"
      },
      {
        "duration": 7,
        "start_time": "2023-01-23T05:59:56.467Z"
      },
      {
        "duration": 9,
        "start_time": "2023-01-23T05:59:56.476Z"
      },
      {
        "duration": 69,
        "start_time": "2023-01-23T05:59:56.487Z"
      },
      {
        "duration": 12,
        "start_time": "2023-01-23T05:59:56.559Z"
      },
      {
        "duration": 212928,
        "start_time": "2023-01-23T05:59:56.573Z"
      },
      {
        "duration": 7,
        "start_time": "2023-01-23T06:03:29.512Z"
      },
      {
        "duration": 255,
        "start_time": "2023-01-23T06:03:29.521Z"
      },
      {
        "duration": 4,
        "start_time": "2023-01-23T06:03:29.779Z"
      },
      {
        "duration": 9,
        "start_time": "2023-01-23T06:03:29.792Z"
      },
      {
        "duration": 5099,
        "start_time": "2023-01-23T06:03:29.806Z"
      },
      {
        "duration": 22,
        "start_time": "2023-01-23T06:03:34.910Z"
      },
      {
        "duration": 4,
        "start_time": "2023-01-23T06:03:34.934Z"
      },
      {
        "duration": 38534,
        "start_time": "2023-01-23T06:03:34.940Z"
      },
      {
        "duration": 4,
        "start_time": "2023-01-23T06:04:13.476Z"
      },
      {
        "duration": 9,
        "start_time": "2023-01-23T06:04:13.481Z"
      },
      {
        "duration": 169,
        "start_time": "2023-01-23T06:04:13.495Z"
      },
      {
        "duration": 162,
        "start_time": "2023-01-23T06:04:13.666Z"
      },
      {
        "duration": 309,
        "start_time": "2023-01-23T06:04:13.830Z"
      },
      {
        "duration": 7,
        "start_time": "2023-01-23T06:04:14.148Z"
      },
      {
        "duration": 8,
        "start_time": "2023-01-23T06:04:14.157Z"
      },
      {
        "duration": 62,
        "start_time": "2023-01-23T06:04:14.167Z"
      },
      {
        "duration": 1634,
        "start_time": "2023-01-23T06:04:14.231Z"
      },
      {
        "duration": 367,
        "start_time": "2023-01-23T06:04:46.076Z"
      },
      {
        "duration": 2877,
        "start_time": "2023-01-23T06:06:24.955Z"
      },
      {
        "duration": 5,
        "start_time": "2023-01-23T06:08:19.785Z"
      },
      {
        "duration": 8,
        "start_time": "2023-01-23T06:08:30.751Z"
      },
      {
        "duration": 4499,
        "start_time": "2023-01-23T06:09:33.686Z"
      },
      {
        "duration": 186,
        "start_time": "2023-01-23T06:10:46.085Z"
      },
      {
        "duration": 101,
        "start_time": "2023-01-23T06:12:02.161Z"
      },
      {
        "duration": 152,
        "start_time": "2023-01-23T06:12:15.077Z"
      },
      {
        "duration": 122,
        "start_time": "2023-01-23T06:12:23.808Z"
      },
      {
        "duration": 4980,
        "start_time": "2023-01-23T06:12:35.841Z"
      },
      {
        "duration": 34,
        "start_time": "2023-01-23T06:13:15.019Z"
      },
      {
        "duration": 13,
        "start_time": "2023-01-23T06:13:23.330Z"
      },
      {
        "duration": 5,
        "start_time": "2023-01-23T06:15:03.717Z"
      },
      {
        "duration": 23,
        "start_time": "2023-01-23T06:16:03.172Z"
      },
      {
        "duration": 2502,
        "start_time": "2023-01-23T06:16:21.024Z"
      },
      {
        "duration": 2076,
        "start_time": "2023-01-23T06:16:23.529Z"
      },
      {
        "duration": 70,
        "start_time": "2023-01-23T06:16:25.607Z"
      },
      {
        "duration": 33,
        "start_time": "2023-01-23T06:16:25.678Z"
      },
      {
        "duration": 31,
        "start_time": "2023-01-23T06:16:25.713Z"
      },
      {
        "duration": 27,
        "start_time": "2023-01-23T06:16:25.746Z"
      },
      {
        "duration": 5,
        "start_time": "2023-01-23T06:16:25.775Z"
      },
      {
        "duration": 97,
        "start_time": "2023-01-23T06:16:25.782Z"
      },
      {
        "duration": 90,
        "start_time": "2023-01-23T06:16:25.881Z"
      },
      {
        "duration": 110,
        "start_time": "2023-01-23T06:16:25.975Z"
      },
      {
        "duration": 50,
        "start_time": "2023-01-23T06:16:26.088Z"
      },
      {
        "duration": 27,
        "start_time": "2023-01-23T06:16:26.144Z"
      },
      {
        "duration": 593,
        "start_time": "2023-01-23T06:16:26.177Z"
      },
      {
        "duration": 27,
        "start_time": "2023-01-23T06:16:26.774Z"
      },
      {
        "duration": 37,
        "start_time": "2023-01-23T06:16:26.806Z"
      },
      {
        "duration": 13,
        "start_time": "2023-01-23T06:16:26.846Z"
      },
      {
        "duration": 14,
        "start_time": "2023-01-23T06:16:26.861Z"
      },
      {
        "duration": 543,
        "start_time": "2023-01-23T06:16:26.878Z"
      },
      {
        "duration": 28,
        "start_time": "2023-01-23T06:16:27.425Z"
      },
      {
        "duration": 5,
        "start_time": "2023-01-23T06:16:27.455Z"
      },
      {
        "duration": 14,
        "start_time": "2023-01-23T06:16:27.462Z"
      },
      {
        "duration": 34,
        "start_time": "2023-01-23T06:16:27.478Z"
      },
      {
        "duration": 39,
        "start_time": "2023-01-23T06:16:27.514Z"
      },
      {
        "duration": 8,
        "start_time": "2023-01-23T06:16:27.555Z"
      },
      {
        "duration": 22,
        "start_time": "2023-01-23T06:16:27.564Z"
      },
      {
        "duration": 39,
        "start_time": "2023-01-23T06:16:27.587Z"
      },
      {
        "duration": 15,
        "start_time": "2023-01-23T06:16:27.628Z"
      },
      {
        "duration": 19,
        "start_time": "2023-01-23T06:16:27.645Z"
      },
      {
        "duration": 22,
        "start_time": "2023-01-23T06:16:27.666Z"
      },
      {
        "duration": 50,
        "start_time": "2023-01-23T06:16:27.690Z"
      },
      {
        "duration": 17,
        "start_time": "2023-01-23T06:16:27.742Z"
      },
      {
        "duration": 25,
        "start_time": "2023-01-23T06:16:27.761Z"
      },
      {
        "duration": 27,
        "start_time": "2023-01-23T06:16:27.787Z"
      },
      {
        "duration": 18,
        "start_time": "2023-01-23T06:16:27.820Z"
      },
      {
        "duration": 17,
        "start_time": "2023-01-23T06:16:27.840Z"
      },
      {
        "duration": 17,
        "start_time": "2023-01-23T06:16:27.859Z"
      },
      {
        "duration": 136,
        "start_time": "2023-01-23T06:16:27.878Z"
      },
      {
        "duration": 7,
        "start_time": "2023-01-23T06:16:28.016Z"
      },
      {
        "duration": 8437,
        "start_time": "2023-01-23T06:16:28.025Z"
      },
      {
        "duration": 3,
        "start_time": "2023-01-23T06:16:36.464Z"
      },
      {
        "duration": 399,
        "start_time": "2023-01-23T06:16:36.474Z"
      },
      {
        "duration": 4,
        "start_time": "2023-01-23T06:16:36.875Z"
      },
      {
        "duration": 33,
        "start_time": "2023-01-23T06:16:36.892Z"
      },
      {
        "duration": 14924,
        "start_time": "2023-01-23T06:16:36.927Z"
      },
      {
        "duration": 4108,
        "start_time": "2023-01-23T06:16:51.853Z"
      },
      {
        "duration": 5169,
        "start_time": "2023-01-23T06:16:55.967Z"
      },
      {
        "duration": 3,
        "start_time": "2023-01-23T06:17:01.138Z"
      },
      {
        "duration": 2600,
        "start_time": "2023-01-23T06:17:01.144Z"
      },
      {
        "duration": 2,
        "start_time": "2023-01-23T06:17:03.746Z"
      },
      {
        "duration": 313,
        "start_time": "2023-01-23T06:17:03.750Z"
      },
      {
        "duration": 623,
        "start_time": "2023-01-23T06:17:04.064Z"
      },
      {
        "duration": 18,
        "start_time": "2023-01-23T06:17:04.691Z"
      },
      {
        "duration": 26,
        "start_time": "2023-01-23T06:17:04.717Z"
      },
      {
        "duration": 8,
        "start_time": "2023-01-23T06:17:04.745Z"
      },
      {
        "duration": 5,
        "start_time": "2023-01-23T06:17:04.756Z"
      },
      {
        "duration": 6,
        "start_time": "2023-01-23T06:17:04.763Z"
      },
      {
        "duration": 34,
        "start_time": "2023-01-23T06:17:04.771Z"
      },
      {
        "duration": 62,
        "start_time": "2023-01-23T06:17:04.814Z"
      },
      {
        "duration": 47,
        "start_time": "2023-01-23T06:17:04.879Z"
      },
      {
        "duration": 193,
        "start_time": "2023-01-23T06:17:04.928Z"
      },
      {
        "duration": 0,
        "start_time": "2023-01-23T06:17:05.128Z"
      },
      {
        "duration": 0,
        "start_time": "2023-01-23T06:17:05.131Z"
      },
      {
        "duration": 0,
        "start_time": "2023-01-23T06:17:05.132Z"
      },
      {
        "duration": 0,
        "start_time": "2023-01-23T06:17:05.133Z"
      },
      {
        "duration": 0,
        "start_time": "2023-01-23T06:17:05.135Z"
      },
      {
        "duration": 0,
        "start_time": "2023-01-23T06:17:05.136Z"
      },
      {
        "duration": 0,
        "start_time": "2023-01-23T06:17:05.137Z"
      },
      {
        "duration": 0,
        "start_time": "2023-01-23T06:17:05.140Z"
      },
      {
        "duration": 0,
        "start_time": "2023-01-23T06:17:05.142Z"
      },
      {
        "duration": 0,
        "start_time": "2023-01-23T06:17:05.144Z"
      },
      {
        "duration": 0,
        "start_time": "2023-01-23T06:17:05.145Z"
      },
      {
        "duration": 0,
        "start_time": "2023-01-23T06:17:05.146Z"
      },
      {
        "duration": 0,
        "start_time": "2023-01-23T06:17:05.148Z"
      },
      {
        "duration": 0,
        "start_time": "2023-01-23T06:17:05.149Z"
      },
      {
        "duration": 0,
        "start_time": "2023-01-23T06:17:05.150Z"
      },
      {
        "duration": 0,
        "start_time": "2023-01-23T06:17:05.152Z"
      },
      {
        "duration": 0,
        "start_time": "2023-01-23T06:17:05.153Z"
      },
      {
        "duration": 0,
        "start_time": "2023-01-23T06:17:05.155Z"
      },
      {
        "duration": 0,
        "start_time": "2023-01-23T06:17:05.156Z"
      },
      {
        "duration": 0,
        "start_time": "2023-01-23T06:17:05.157Z"
      },
      {
        "duration": 0,
        "start_time": "2023-01-23T06:17:05.158Z"
      },
      {
        "duration": 0,
        "start_time": "2023-01-23T06:17:05.160Z"
      },
      {
        "duration": 0,
        "start_time": "2023-01-23T06:17:05.162Z"
      },
      {
        "duration": 0,
        "start_time": "2023-01-23T06:17:05.163Z"
      },
      {
        "duration": 0,
        "start_time": "2023-01-23T06:17:05.166Z"
      },
      {
        "duration": 0,
        "start_time": "2023-01-23T06:17:05.167Z"
      },
      {
        "duration": 0,
        "start_time": "2023-01-23T06:17:05.194Z"
      },
      {
        "duration": 0,
        "start_time": "2023-01-23T06:17:05.195Z"
      },
      {
        "duration": 21,
        "start_time": "2023-01-23T06:23:39.646Z"
      },
      {
        "duration": 21,
        "start_time": "2023-01-23T06:23:41.246Z"
      },
      {
        "duration": 30,
        "start_time": "2023-01-23T06:23:42.058Z"
      },
      {
        "duration": 3,
        "start_time": "2023-01-23T06:23:42.666Z"
      },
      {
        "duration": 4,
        "start_time": "2023-01-23T06:23:43.978Z"
      },
      {
        "duration": 5,
        "start_time": "2023-01-23T06:23:44.050Z"
      },
      {
        "duration": 5,
        "start_time": "2023-01-23T06:23:45.424Z"
      },
      {
        "duration": 4,
        "start_time": "2023-01-23T06:23:46.063Z"
      },
      {
        "duration": 4,
        "start_time": "2023-01-23T06:23:46.224Z"
      },
      {
        "duration": 192065,
        "start_time": "2023-01-23T06:23:46.368Z"
      },
      {
        "duration": 9,
        "start_time": "2023-01-23T06:26:58.435Z"
      },
      {
        "duration": 309,
        "start_time": "2023-01-23T06:26:58.446Z"
      },
      {
        "duration": 5,
        "start_time": "2023-01-23T06:26:58.759Z"
      },
      {
        "duration": 8,
        "start_time": "2023-01-23T06:26:58.767Z"
      },
      {
        "duration": 5696,
        "start_time": "2023-01-23T06:26:58.778Z"
      },
      {
        "duration": 34,
        "start_time": "2023-01-23T06:27:04.477Z"
      },
      {
        "duration": 6,
        "start_time": "2023-01-23T06:27:04.520Z"
      },
      {
        "duration": 50429,
        "start_time": "2023-01-23T06:27:04.532Z"
      },
      {
        "duration": 5,
        "start_time": "2023-01-23T06:27:54.964Z"
      },
      {
        "duration": 16,
        "start_time": "2023-01-23T06:27:54.971Z"
      },
      {
        "duration": 375,
        "start_time": "2023-01-23T06:27:54.989Z"
      },
      {
        "duration": 178,
        "start_time": "2023-01-23T06:27:55.366Z"
      },
      {
        "duration": 324,
        "start_time": "2023-01-23T06:27:55.546Z"
      },
      {
        "duration": 6,
        "start_time": "2023-01-23T06:27:55.873Z"
      },
      {
        "duration": 33,
        "start_time": "2023-01-23T06:27:55.880Z"
      },
      {
        "duration": 45,
        "start_time": "2023-01-23T06:27:55.925Z"
      },
      {
        "duration": 2295,
        "start_time": "2023-01-23T06:27:55.973Z"
      },
      {
        "duration": 5462,
        "start_time": "2023-01-23T06:27:58.270Z"
      },
      {
        "duration": 3,
        "start_time": "2023-01-23T06:28:03.738Z"
      },
      {
        "duration": 524,
        "start_time": "2023-01-23T06:29:49.243Z"
      },
      {
        "duration": 17,
        "start_time": "2023-01-23T06:30:07.575Z"
      },
      {
        "duration": 449,
        "start_time": "2023-01-23T06:30:14.574Z"
      },
      {
        "duration": 15,
        "start_time": "2023-01-23T06:33:23.526Z"
      },
      {
        "duration": 3,
        "start_time": "2023-01-23T06:33:51.922Z"
      },
      {
        "duration": 2331,
        "start_time": "2023-01-23T06:34:42.926Z"
      },
      {
        "duration": 2054,
        "start_time": "2023-01-23T06:34:45.260Z"
      },
      {
        "duration": 68,
        "start_time": "2023-01-23T06:34:47.316Z"
      },
      {
        "duration": 52,
        "start_time": "2023-01-23T06:34:47.388Z"
      },
      {
        "duration": 19,
        "start_time": "2023-01-23T06:34:47.443Z"
      },
      {
        "duration": 22,
        "start_time": "2023-01-23T06:34:47.464Z"
      },
      {
        "duration": 6,
        "start_time": "2023-01-23T06:34:47.488Z"
      },
      {
        "duration": 123,
        "start_time": "2023-01-23T06:34:47.498Z"
      },
      {
        "duration": 49,
        "start_time": "2023-01-23T06:34:47.624Z"
      },
      {
        "duration": 70,
        "start_time": "2023-01-23T06:34:47.676Z"
      },
      {
        "duration": 59,
        "start_time": "2023-01-23T06:34:47.748Z"
      },
      {
        "duration": 6,
        "start_time": "2023-01-23T06:34:47.824Z"
      },
      {
        "duration": 493,
        "start_time": "2023-01-23T06:34:47.832Z"
      },
      {
        "duration": 16,
        "start_time": "2023-01-23T06:34:48.331Z"
      },
      {
        "duration": 76,
        "start_time": "2023-01-23T06:34:48.349Z"
      },
      {
        "duration": 11,
        "start_time": "2023-01-23T06:34:48.429Z"
      },
      {
        "duration": 26,
        "start_time": "2023-01-23T06:34:48.442Z"
      },
      {
        "duration": 503,
        "start_time": "2023-01-23T06:34:48.470Z"
      },
      {
        "duration": 51,
        "start_time": "2023-01-23T06:34:48.976Z"
      },
      {
        "duration": 10,
        "start_time": "2023-01-23T06:34:49.029Z"
      },
      {
        "duration": 10,
        "start_time": "2023-01-23T06:34:49.041Z"
      },
      {
        "duration": 80,
        "start_time": "2023-01-23T06:34:49.052Z"
      },
      {
        "duration": 51,
        "start_time": "2023-01-23T06:34:49.134Z"
      },
      {
        "duration": 106,
        "start_time": "2023-01-23T06:34:49.187Z"
      },
      {
        "duration": 77,
        "start_time": "2023-01-23T06:34:49.295Z"
      },
      {
        "duration": 5,
        "start_time": "2023-01-23T06:34:49.374Z"
      },
      {
        "duration": 18,
        "start_time": "2023-01-23T06:34:49.381Z"
      },
      {
        "duration": 43,
        "start_time": "2023-01-23T06:34:49.405Z"
      },
      {
        "duration": 17,
        "start_time": "2023-01-23T06:34:49.450Z"
      },
      {
        "duration": 13,
        "start_time": "2023-01-23T06:34:49.469Z"
      },
      {
        "duration": 23,
        "start_time": "2023-01-23T06:34:49.484Z"
      },
      {
        "duration": 35,
        "start_time": "2023-01-23T06:34:49.509Z"
      },
      {
        "duration": 16,
        "start_time": "2023-01-23T06:34:49.546Z"
      },
      {
        "duration": 11,
        "start_time": "2023-01-23T06:34:49.564Z"
      },
      {
        "duration": 57,
        "start_time": "2023-01-23T06:34:49.576Z"
      },
      {
        "duration": 18,
        "start_time": "2023-01-23T06:34:49.635Z"
      },
      {
        "duration": 133,
        "start_time": "2023-01-23T06:34:49.655Z"
      },
      {
        "duration": 21,
        "start_time": "2023-01-23T06:34:49.792Z"
      },
      {
        "duration": 8194,
        "start_time": "2023-01-23T06:34:49.814Z"
      },
      {
        "duration": 6,
        "start_time": "2023-01-23T06:34:58.009Z"
      },
      {
        "duration": 366,
        "start_time": "2023-01-23T06:34:58.017Z"
      },
      {
        "duration": 8,
        "start_time": "2023-01-23T06:34:58.392Z"
      },
      {
        "duration": 60,
        "start_time": "2023-01-23T06:34:58.403Z"
      },
      {
        "duration": 15199,
        "start_time": "2023-01-23T06:34:58.465Z"
      },
      {
        "duration": 3850,
        "start_time": "2023-01-23T06:35:13.665Z"
      },
      {
        "duration": 4684,
        "start_time": "2023-01-23T06:35:17.518Z"
      },
      {
        "duration": 9,
        "start_time": "2023-01-23T06:35:22.213Z"
      },
      {
        "duration": 2532,
        "start_time": "2023-01-23T06:35:22.224Z"
      },
      {
        "duration": 4,
        "start_time": "2023-01-23T06:35:24.758Z"
      },
      {
        "duration": 332,
        "start_time": "2023-01-23T06:35:24.765Z"
      },
      {
        "duration": 627,
        "start_time": "2023-01-23T06:35:25.107Z"
      },
      {
        "duration": 5,
        "start_time": "2023-01-23T06:35:25.736Z"
      },
      {
        "duration": 8,
        "start_time": "2023-01-23T06:35:25.742Z"
      },
      {
        "duration": 11,
        "start_time": "2023-01-23T06:35:25.752Z"
      },
      {
        "duration": 15,
        "start_time": "2023-01-23T06:35:25.764Z"
      },
      {
        "duration": 22,
        "start_time": "2023-01-23T06:35:25.781Z"
      },
      {
        "duration": 273,
        "start_time": "2023-01-23T06:35:25.804Z"
      },
      {
        "duration": 0,
        "start_time": "2023-01-23T06:35:26.079Z"
      },
      {
        "duration": 0,
        "start_time": "2023-01-23T06:35:26.080Z"
      },
      {
        "duration": 0,
        "start_time": "2023-01-23T06:35:26.082Z"
      },
      {
        "duration": 0,
        "start_time": "2023-01-23T06:35:26.083Z"
      },
      {
        "duration": 0,
        "start_time": "2023-01-23T06:35:26.091Z"
      },
      {
        "duration": 0,
        "start_time": "2023-01-23T06:35:26.092Z"
      },
      {
        "duration": 0,
        "start_time": "2023-01-23T06:35:26.093Z"
      },
      {
        "duration": 0,
        "start_time": "2023-01-23T06:35:26.094Z"
      },
      {
        "duration": 0,
        "start_time": "2023-01-23T06:35:26.095Z"
      },
      {
        "duration": 0,
        "start_time": "2023-01-23T06:35:26.095Z"
      },
      {
        "duration": 0,
        "start_time": "2023-01-23T06:35:26.096Z"
      },
      {
        "duration": 0,
        "start_time": "2023-01-23T06:35:26.097Z"
      },
      {
        "duration": 0,
        "start_time": "2023-01-23T06:35:26.099Z"
      },
      {
        "duration": 0,
        "start_time": "2023-01-23T06:35:26.100Z"
      },
      {
        "duration": 0,
        "start_time": "2023-01-23T06:35:26.102Z"
      },
      {
        "duration": 0,
        "start_time": "2023-01-23T06:35:26.103Z"
      },
      {
        "duration": 0,
        "start_time": "2023-01-23T06:35:26.104Z"
      },
      {
        "duration": 0,
        "start_time": "2023-01-23T06:35:26.105Z"
      },
      {
        "duration": 0,
        "start_time": "2023-01-23T06:35:26.106Z"
      },
      {
        "duration": 0,
        "start_time": "2023-01-23T06:35:26.107Z"
      },
      {
        "duration": 0,
        "start_time": "2023-01-23T06:35:26.108Z"
      },
      {
        "duration": 0,
        "start_time": "2023-01-23T06:35:26.109Z"
      },
      {
        "duration": 0,
        "start_time": "2023-01-23T06:35:26.111Z"
      },
      {
        "duration": 0,
        "start_time": "2023-01-23T06:35:26.112Z"
      },
      {
        "duration": 0,
        "start_time": "2023-01-23T06:35:26.113Z"
      },
      {
        "duration": 0,
        "start_time": "2023-01-23T06:35:26.114Z"
      },
      {
        "duration": 1,
        "start_time": "2023-01-23T06:35:26.115Z"
      },
      {
        "duration": 0,
        "start_time": "2023-01-23T06:35:26.117Z"
      },
      {
        "duration": 0,
        "start_time": "2023-01-23T06:35:26.118Z"
      },
      {
        "duration": 0,
        "start_time": "2023-01-23T06:35:26.119Z"
      },
      {
        "duration": 0,
        "start_time": "2023-01-23T06:35:26.120Z"
      },
      {
        "duration": 36,
        "start_time": "2023-01-23T06:35:58.521Z"
      },
      {
        "duration": 6,
        "start_time": "2023-01-23T06:36:00.576Z"
      },
      {
        "duration": 5,
        "start_time": "2023-01-23T06:36:00.760Z"
      },
      {
        "duration": 3,
        "start_time": "2023-01-23T06:36:01.780Z"
      },
      {
        "duration": 11,
        "start_time": "2023-01-23T06:36:02.030Z"
      },
      {
        "duration": 3,
        "start_time": "2023-01-23T06:36:06.172Z"
      },
      {
        "duration": 24,
        "start_time": "2023-01-23T06:36:06.947Z"
      },
      {
        "duration": 20,
        "start_time": "2023-01-23T06:36:10.027Z"
      },
      {
        "duration": 23,
        "start_time": "2023-01-23T06:36:11.164Z"
      },
      {
        "duration": 27,
        "start_time": "2023-01-23T06:36:11.643Z"
      },
      {
        "duration": 3,
        "start_time": "2023-01-23T06:36:14.167Z"
      },
      {
        "duration": 5,
        "start_time": "2023-01-23T06:36:14.671Z"
      },
      {
        "duration": 8,
        "start_time": "2023-01-23T06:36:14.848Z"
      },
      {
        "duration": 3,
        "start_time": "2023-01-23T06:36:15.764Z"
      },
      {
        "duration": 4,
        "start_time": "2023-01-23T06:36:15.943Z"
      },
      {
        "duration": 7,
        "start_time": "2023-01-23T06:36:16.112Z"
      },
      {
        "duration": 191857,
        "start_time": "2023-01-23T06:36:16.262Z"
      },
      {
        "duration": 6,
        "start_time": "2023-01-23T06:39:28.127Z"
      },
      {
        "duration": 268,
        "start_time": "2023-01-23T06:39:28.136Z"
      },
      {
        "duration": 4,
        "start_time": "2023-01-23T06:39:28.409Z"
      },
      {
        "duration": 14,
        "start_time": "2023-01-23T06:39:28.420Z"
      },
      {
        "duration": 4524,
        "start_time": "2023-01-23T06:39:28.436Z"
      },
      {
        "duration": 14,
        "start_time": "2023-01-23T06:39:32.962Z"
      },
      {
        "duration": 3,
        "start_time": "2023-01-23T06:39:32.977Z"
      },
      {
        "duration": 42996,
        "start_time": "2023-01-23T06:39:32.982Z"
      },
      {
        "duration": 6,
        "start_time": "2023-01-23T06:40:15.983Z"
      },
      {
        "duration": 53,
        "start_time": "2023-01-23T06:40:15.991Z"
      },
      {
        "duration": 226,
        "start_time": "2023-01-23T06:40:16.047Z"
      },
      {
        "duration": 170,
        "start_time": "2023-01-23T06:40:16.277Z"
      },
      {
        "duration": 433,
        "start_time": "2023-01-23T06:40:16.450Z"
      },
      {
        "duration": 25,
        "start_time": "2023-01-23T06:40:16.885Z"
      },
      {
        "duration": 28,
        "start_time": "2023-01-23T06:40:16.912Z"
      },
      {
        "duration": 17,
        "start_time": "2023-01-23T06:40:16.942Z"
      },
      {
        "duration": 3403,
        "start_time": "2023-01-23T06:40:16.961Z"
      },
      {
        "duration": 16,
        "start_time": "2023-01-23T06:40:20.366Z"
      },
      {
        "duration": 0,
        "start_time": "2023-01-23T06:40:20.384Z"
      },
      {
        "duration": 553,
        "start_time": "2023-01-23T06:40:44.888Z"
      },
      {
        "duration": 166,
        "start_time": "2023-01-23T06:41:47.767Z"
      },
      {
        "duration": 21,
        "start_time": "2023-01-23T06:42:05.224Z"
      },
      {
        "duration": 170,
        "start_time": "2023-01-23T06:42:42.378Z"
      },
      {
        "duration": 183,
        "start_time": "2023-01-23T06:42:49.742Z"
      },
      {
        "duration": 17,
        "start_time": "2023-01-23T07:18:13.985Z"
      },
      {
        "duration": 16,
        "start_time": "2023-01-23T07:23:56.231Z"
      },
      {
        "duration": 3,
        "start_time": "2023-01-23T07:23:58.873Z"
      },
      {
        "duration": 56,
        "start_time": "2023-01-23T07:24:00.930Z"
      },
      {
        "duration": 21,
        "start_time": "2023-01-23T07:24:36.317Z"
      },
      {
        "duration": 25,
        "start_time": "2023-01-23T07:25:17.817Z"
      },
      {
        "duration": 28,
        "start_time": "2023-01-23T07:25:25.984Z"
      },
      {
        "duration": 8,
        "start_time": "2023-01-23T07:25:49.880Z"
      },
      {
        "duration": 2104,
        "start_time": "2023-01-23T07:26:28.462Z"
      },
      {
        "duration": 1918,
        "start_time": "2023-01-23T07:26:30.569Z"
      },
      {
        "duration": 58,
        "start_time": "2023-01-23T07:26:32.492Z"
      },
      {
        "duration": 21,
        "start_time": "2023-01-23T07:26:32.552Z"
      },
      {
        "duration": 27,
        "start_time": "2023-01-23T07:26:32.576Z"
      },
      {
        "duration": 23,
        "start_time": "2023-01-23T07:26:32.608Z"
      },
      {
        "duration": 4,
        "start_time": "2023-01-23T07:26:35.375Z"
      },
      {
        "duration": 99,
        "start_time": "2023-01-23T07:26:36.114Z"
      },
      {
        "duration": 45,
        "start_time": "2023-01-23T07:26:36.368Z"
      },
      {
        "duration": 68,
        "start_time": "2023-01-23T07:26:39.057Z"
      },
      {
        "duration": 28,
        "start_time": "2023-01-23T07:26:39.423Z"
      },
      {
        "duration": 4,
        "start_time": "2023-01-23T07:26:40.978Z"
      },
      {
        "duration": 516,
        "start_time": "2023-01-23T07:26:41.879Z"
      },
      {
        "duration": 18,
        "start_time": "2023-01-23T07:26:42.397Z"
      },
      {
        "duration": 7,
        "start_time": "2023-01-23T07:26:42.473Z"
      },
      {
        "duration": 4,
        "start_time": "2023-01-23T07:26:42.979Z"
      },
      {
        "duration": 4,
        "start_time": "2023-01-23T07:26:45.477Z"
      },
      {
        "duration": 482,
        "start_time": "2023-01-23T07:26:45.633Z"
      },
      {
        "duration": 20,
        "start_time": "2023-01-23T07:26:46.118Z"
      },
      {
        "duration": 14,
        "start_time": "2023-01-23T07:26:46.141Z"
      },
      {
        "duration": 12,
        "start_time": "2023-01-23T07:26:46.281Z"
      },
      {
        "duration": 12,
        "start_time": "2023-01-23T07:26:46.422Z"
      },
      {
        "duration": 18,
        "start_time": "2023-01-23T07:26:46.585Z"
      },
      {
        "duration": 6,
        "start_time": "2023-01-23T07:26:47.073Z"
      },
      {
        "duration": 11,
        "start_time": "2023-01-23T07:26:47.216Z"
      },
      {
        "duration": 6,
        "start_time": "2023-01-23T07:26:47.544Z"
      },
      {
        "duration": 12,
        "start_time": "2023-01-23T07:26:47.875Z"
      },
      {
        "duration": 14,
        "start_time": "2023-01-23T07:26:48.073Z"
      },
      {
        "duration": 13,
        "start_time": "2023-01-23T07:26:48.378Z"
      },
      {
        "duration": 16,
        "start_time": "2023-01-23T07:26:48.577Z"
      },
      {
        "duration": 13,
        "start_time": "2023-01-23T07:26:48.732Z"
      },
      {
        "duration": 27,
        "start_time": "2023-01-23T07:26:49.073Z"
      },
      {
        "duration": 14,
        "start_time": "2023-01-23T07:26:49.228Z"
      },
      {
        "duration": 5,
        "start_time": "2023-01-23T07:26:49.390Z"
      },
      {
        "duration": 9,
        "start_time": "2023-01-23T07:26:49.579Z"
      },
      {
        "duration": 16,
        "start_time": "2023-01-23T07:26:50.362Z"
      },
      {
        "duration": 109,
        "start_time": "2023-01-23T07:26:52.509Z"
      },
      {
        "duration": 10,
        "start_time": "2023-01-23T07:26:54.702Z"
      },
      {
        "duration": 7447,
        "start_time": "2023-01-23T07:26:55.062Z"
      },
      {
        "duration": 3,
        "start_time": "2023-01-23T07:27:02.511Z"
      },
      {
        "duration": 337,
        "start_time": "2023-01-23T07:27:02.517Z"
      },
      {
        "duration": 3,
        "start_time": "2023-01-23T07:27:02.856Z"
      },
      {
        "duration": 45,
        "start_time": "2023-01-23T07:27:02.860Z"
      },
      {
        "duration": 15116,
        "start_time": "2023-01-23T07:27:02.908Z"
      },
      {
        "duration": 3989,
        "start_time": "2023-01-23T07:27:18.026Z"
      },
      {
        "duration": 4462,
        "start_time": "2023-01-23T07:27:22.018Z"
      },
      {
        "duration": 12,
        "start_time": "2023-01-23T07:27:26.482Z"
      },
      {
        "duration": 2634,
        "start_time": "2023-01-23T07:27:26.497Z"
      },
      {
        "duration": 3,
        "start_time": "2023-01-23T07:27:29.133Z"
      },
      {
        "duration": 333,
        "start_time": "2023-01-23T07:27:29.138Z"
      },
      {
        "duration": 628,
        "start_time": "2023-01-23T07:27:29.474Z"
      },
      {
        "duration": 4,
        "start_time": "2023-01-23T07:27:30.104Z"
      },
      {
        "duration": 3,
        "start_time": "2023-01-23T07:28:36.057Z"
      },
      {
        "duration": 5,
        "start_time": "2023-01-23T07:28:38.765Z"
      },
      {
        "duration": 5,
        "start_time": "2023-01-23T07:28:38.964Z"
      },
      {
        "duration": 3,
        "start_time": "2023-01-23T07:28:44.460Z"
      },
      {
        "duration": 141,
        "start_time": "2023-01-23T07:28:45.011Z"
      },
      {
        "duration": 18,
        "start_time": "2023-01-23T07:29:04.687Z"
      },
      {
        "duration": 10,
        "start_time": "2023-01-23T07:29:10.482Z"
      },
      {
        "duration": 12,
        "start_time": "2023-01-23T07:29:15.748Z"
      },
      {
        "duration": 3,
        "start_time": "2023-01-23T07:29:27.173Z"
      },
      {
        "duration": 42,
        "start_time": "2023-01-23T07:30:33.067Z"
      },
      {
        "duration": 23,
        "start_time": "2023-01-23T07:30:48.164Z"
      },
      {
        "duration": 9,
        "start_time": "2023-01-23T07:31:14.437Z"
      },
      {
        "duration": 36,
        "start_time": "2023-01-23T07:31:40.118Z"
      },
      {
        "duration": 3,
        "start_time": "2023-01-23T07:31:54.960Z"
      },
      {
        "duration": 10,
        "start_time": "2023-01-23T07:32:32.055Z"
      },
      {
        "duration": 4,
        "start_time": "2023-01-23T07:32:36.037Z"
      },
      {
        "duration": 23,
        "start_time": "2023-01-23T07:32:36.545Z"
      },
      {
        "duration": 31,
        "start_time": "2023-01-23T07:32:42.513Z"
      },
      {
        "duration": 6,
        "start_time": "2023-01-23T07:32:55.734Z"
      },
      {
        "duration": 3,
        "start_time": "2023-01-23T07:33:09.376Z"
      },
      {
        "duration": 11,
        "start_time": "2023-01-23T07:33:11.785Z"
      },
      {
        "duration": 6,
        "start_time": "2023-01-23T07:33:13.876Z"
      },
      {
        "duration": 26,
        "start_time": "2023-01-23T07:33:28.077Z"
      },
      {
        "duration": 23,
        "start_time": "2023-01-23T07:33:35.508Z"
      },
      {
        "duration": 17,
        "start_time": "2023-01-23T07:33:36.867Z"
      },
      {
        "duration": 27,
        "start_time": "2023-01-23T07:33:38.693Z"
      },
      {
        "duration": 21,
        "start_time": "2023-01-23T07:33:39.454Z"
      },
      {
        "duration": 2457,
        "start_time": "2023-01-23T07:33:49.879Z"
      },
      {
        "duration": 1857,
        "start_time": "2023-01-23T07:33:52.339Z"
      },
      {
        "duration": 56,
        "start_time": "2023-01-23T07:33:54.198Z"
      },
      {
        "duration": 22,
        "start_time": "2023-01-23T07:33:54.257Z"
      },
      {
        "duration": 33,
        "start_time": "2023-01-23T07:33:54.281Z"
      },
      {
        "duration": 23,
        "start_time": "2023-01-23T07:33:54.316Z"
      },
      {
        "duration": 3,
        "start_time": "2023-01-23T07:33:54.341Z"
      },
      {
        "duration": 88,
        "start_time": "2023-01-23T07:33:54.346Z"
      },
      {
        "duration": 42,
        "start_time": "2023-01-23T07:33:54.436Z"
      },
      {
        "duration": 73,
        "start_time": "2023-01-23T07:33:54.499Z"
      },
      {
        "duration": 50,
        "start_time": "2023-01-23T07:33:54.574Z"
      },
      {
        "duration": 5,
        "start_time": "2023-01-23T07:33:54.626Z"
      },
      {
        "duration": 506,
        "start_time": "2023-01-23T07:33:54.633Z"
      },
      {
        "duration": 17,
        "start_time": "2023-01-23T07:33:55.141Z"
      },
      {
        "duration": 24,
        "start_time": "2023-01-23T07:33:55.160Z"
      },
      {
        "duration": 38,
        "start_time": "2023-01-23T07:33:55.186Z"
      },
      {
        "duration": 12,
        "start_time": "2023-01-23T07:33:55.226Z"
      },
      {
        "duration": 440,
        "start_time": "2023-01-23T07:33:55.241Z"
      },
      {
        "duration": 27,
        "start_time": "2023-01-23T07:33:55.682Z"
      },
      {
        "duration": 7,
        "start_time": "2023-01-23T07:33:55.711Z"
      },
      {
        "duration": 18,
        "start_time": "2023-01-23T07:33:55.720Z"
      },
      {
        "duration": 45,
        "start_time": "2023-01-23T07:33:55.740Z"
      },
      {
        "duration": 195,
        "start_time": "2023-01-23T07:33:55.787Z"
      },
      {
        "duration": 43,
        "start_time": "2023-01-23T07:33:55.984Z"
      },
      {
        "duration": 22,
        "start_time": "2023-01-23T07:33:56.029Z"
      },
      {
        "duration": 6,
        "start_time": "2023-01-23T07:33:56.054Z"
      },
      {
        "duration": 23,
        "start_time": "2023-01-23T07:33:56.062Z"
      },
      {
        "duration": 41,
        "start_time": "2023-01-23T07:33:56.091Z"
      },
      {
        "duration": 22,
        "start_time": "2023-01-23T07:33:56.135Z"
      },
      {
        "duration": 41,
        "start_time": "2023-01-23T07:33:56.160Z"
      },
      {
        "duration": 33,
        "start_time": "2023-01-23T07:33:56.209Z"
      },
      {
        "duration": 31,
        "start_time": "2023-01-23T07:33:56.244Z"
      },
      {
        "duration": 13,
        "start_time": "2023-01-23T07:33:56.278Z"
      },
      {
        "duration": 18,
        "start_time": "2023-01-23T07:33:56.300Z"
      },
      {
        "duration": 15,
        "start_time": "2023-01-23T07:33:56.320Z"
      },
      {
        "duration": 21,
        "start_time": "2023-01-23T07:33:56.337Z"
      },
      {
        "duration": 125,
        "start_time": "2023-01-23T07:33:56.360Z"
      },
      {
        "duration": 10,
        "start_time": "2023-01-23T07:33:56.493Z"
      },
      {
        "duration": 7345,
        "start_time": "2023-01-23T07:33:56.504Z"
      },
      {
        "duration": 3,
        "start_time": "2023-01-23T07:34:03.851Z"
      },
      {
        "duration": 388,
        "start_time": "2023-01-23T07:34:03.855Z"
      },
      {
        "duration": 3,
        "start_time": "2023-01-23T07:34:04.245Z"
      },
      {
        "duration": 37,
        "start_time": "2023-01-23T07:34:04.249Z"
      },
      {
        "duration": 14220,
        "start_time": "2023-01-23T07:34:04.288Z"
      },
      {
        "duration": 3587,
        "start_time": "2023-01-23T07:34:18.511Z"
      },
      {
        "duration": 4367,
        "start_time": "2023-01-23T07:34:22.104Z"
      },
      {
        "duration": 4,
        "start_time": "2023-01-23T07:34:26.473Z"
      },
      {
        "duration": 2295,
        "start_time": "2023-01-23T07:34:26.479Z"
      },
      {
        "duration": 3,
        "start_time": "2023-01-23T07:34:28.776Z"
      },
      {
        "duration": 279,
        "start_time": "2023-01-23T07:34:28.781Z"
      },
      {
        "duration": 581,
        "start_time": "2023-01-23T07:34:29.061Z"
      },
      {
        "duration": 4,
        "start_time": "2023-01-23T07:34:29.644Z"
      },
      {
        "duration": 8,
        "start_time": "2023-01-23T07:34:29.649Z"
      },
      {
        "duration": 62,
        "start_time": "2023-01-23T07:34:29.658Z"
      },
      {
        "duration": 5,
        "start_time": "2023-01-23T07:34:29.722Z"
      },
      {
        "duration": 5,
        "start_time": "2023-01-23T07:34:29.729Z"
      },
      {
        "duration": 4,
        "start_time": "2023-01-23T07:34:29.736Z"
      },
      {
        "duration": 10,
        "start_time": "2023-01-23T07:34:29.742Z"
      },
      {
        "duration": 8,
        "start_time": "2023-01-23T07:34:29.754Z"
      },
      {
        "duration": 54,
        "start_time": "2023-01-23T07:34:29.763Z"
      },
      {
        "duration": 20,
        "start_time": "2023-01-23T07:34:29.819Z"
      },
      {
        "duration": 20,
        "start_time": "2023-01-23T07:34:29.841Z"
      },
      {
        "duration": 43,
        "start_time": "2023-01-23T07:34:29.862Z"
      },
      {
        "duration": 25,
        "start_time": "2023-01-23T07:34:29.907Z"
      },
      {
        "duration": 7,
        "start_time": "2023-01-23T07:34:29.933Z"
      },
      {
        "duration": 7,
        "start_time": "2023-01-23T07:34:29.942Z"
      },
      {
        "duration": 159,
        "start_time": "2023-01-23T07:34:29.951Z"
      },
      {
        "duration": 4,
        "start_time": "2023-01-23T07:34:30.112Z"
      },
      {
        "duration": 23,
        "start_time": "2023-01-23T07:34:30.118Z"
      },
      {
        "duration": 11,
        "start_time": "2023-01-23T07:34:30.143Z"
      },
      {
        "duration": 176881,
        "start_time": "2023-01-23T07:34:30.157Z"
      },
      {
        "duration": 4,
        "start_time": "2023-01-23T07:37:27.039Z"
      },
      {
        "duration": 292,
        "start_time": "2023-01-23T07:37:27.045Z"
      },
      {
        "duration": 3,
        "start_time": "2023-01-23T07:37:27.339Z"
      },
      {
        "duration": 9,
        "start_time": "2023-01-23T07:37:27.344Z"
      },
      {
        "duration": 3980,
        "start_time": "2023-01-23T07:37:27.354Z"
      },
      {
        "duration": 15,
        "start_time": "2023-01-23T07:37:31.336Z"
      },
      {
        "duration": 27,
        "start_time": "2023-01-23T07:37:31.354Z"
      },
      {
        "duration": 33308,
        "start_time": "2023-01-23T07:37:31.383Z"
      },
      {
        "duration": 9,
        "start_time": "2023-01-23T07:38:04.697Z"
      },
      {
        "duration": 12,
        "start_time": "2023-01-23T07:38:04.709Z"
      },
      {
        "duration": 135,
        "start_time": "2023-01-23T07:38:04.726Z"
      },
      {
        "duration": 284,
        "start_time": "2023-01-23T07:38:04.862Z"
      },
      {
        "duration": 317,
        "start_time": "2023-01-23T07:38:05.148Z"
      },
      {
        "duration": 7,
        "start_time": "2023-01-23T07:38:05.467Z"
      },
      {
        "duration": 30,
        "start_time": "2023-01-23T07:38:05.475Z"
      },
      {
        "duration": 15,
        "start_time": "2023-01-23T07:38:05.511Z"
      },
      {
        "duration": 1755,
        "start_time": "2023-01-23T07:38:05.528Z"
      },
      {
        "duration": 16,
        "start_time": "2023-01-23T07:38:07.285Z"
      },
      {
        "duration": 496,
        "start_time": "2023-01-23T07:38:07.309Z"
      },
      {
        "duration": 79,
        "start_time": "2023-01-23T07:43:12.202Z"
      },
      {
        "duration": 10,
        "start_time": "2023-01-23T07:45:20.631Z"
      },
      {
        "duration": 19,
        "start_time": "2023-01-23T07:46:28.236Z"
      },
      {
        "duration": 2312,
        "start_time": "2023-01-23T07:48:00.626Z"
      },
      {
        "duration": 1816,
        "start_time": "2023-01-23T07:48:02.941Z"
      },
      {
        "duration": 58,
        "start_time": "2023-01-23T07:48:04.759Z"
      },
      {
        "duration": 21,
        "start_time": "2023-01-23T07:48:04.819Z"
      },
      {
        "duration": 18,
        "start_time": "2023-01-23T07:48:04.841Z"
      },
      {
        "duration": 23,
        "start_time": "2023-01-23T07:48:04.861Z"
      },
      {
        "duration": 4,
        "start_time": "2023-01-23T07:48:04.886Z"
      },
      {
        "duration": 90,
        "start_time": "2023-01-23T07:48:04.895Z"
      },
      {
        "duration": 62,
        "start_time": "2023-01-23T07:48:04.987Z"
      },
      {
        "duration": 81,
        "start_time": "2023-01-23T07:48:05.053Z"
      },
      {
        "duration": 31,
        "start_time": "2023-01-23T07:48:05.136Z"
      },
      {
        "duration": 33,
        "start_time": "2023-01-23T07:48:05.169Z"
      },
      {
        "duration": 477,
        "start_time": "2023-01-23T07:48:05.205Z"
      },
      {
        "duration": 27,
        "start_time": "2023-01-23T07:48:05.684Z"
      },
      {
        "duration": 11,
        "start_time": "2023-01-23T07:48:05.713Z"
      },
      {
        "duration": 4,
        "start_time": "2023-01-23T07:48:05.726Z"
      },
      {
        "duration": 5,
        "start_time": "2023-01-23T07:48:05.732Z"
      },
      {
        "duration": 580,
        "start_time": "2023-01-23T07:48:05.739Z"
      },
      {
        "duration": 17,
        "start_time": "2023-01-23T07:48:06.324Z"
      },
      {
        "duration": 12,
        "start_time": "2023-01-23T07:48:06.343Z"
      },
      {
        "duration": 9,
        "start_time": "2023-01-23T07:48:06.357Z"
      },
      {
        "duration": 8,
        "start_time": "2023-01-23T07:48:06.368Z"
      },
      {
        "duration": 35,
        "start_time": "2023-01-23T07:48:06.377Z"
      },
      {
        "duration": 7,
        "start_time": "2023-01-23T07:48:06.415Z"
      },
      {
        "duration": 15,
        "start_time": "2023-01-23T07:48:06.424Z"
      },
      {
        "duration": 17,
        "start_time": "2023-01-23T07:48:06.441Z"
      },
      {
        "duration": 15,
        "start_time": "2023-01-23T07:48:06.460Z"
      },
      {
        "duration": 17,
        "start_time": "2023-01-23T07:48:06.497Z"
      },
      {
        "duration": 17,
        "start_time": "2023-01-23T07:48:06.516Z"
      },
      {
        "duration": 12,
        "start_time": "2023-01-23T07:48:06.534Z"
      },
      {
        "duration": 12,
        "start_time": "2023-01-23T07:48:06.548Z"
      },
      {
        "duration": 56,
        "start_time": "2023-01-23T07:48:06.561Z"
      },
      {
        "duration": 12,
        "start_time": "2023-01-23T07:48:06.619Z"
      },
      {
        "duration": 3,
        "start_time": "2023-01-23T07:48:06.633Z"
      },
      {
        "duration": 12,
        "start_time": "2023-01-23T07:48:06.637Z"
      },
      {
        "duration": 19,
        "start_time": "2023-01-23T07:48:06.651Z"
      },
      {
        "duration": 146,
        "start_time": "2023-01-23T07:48:06.671Z"
      },
      {
        "duration": 6,
        "start_time": "2023-01-23T07:48:06.819Z"
      },
      {
        "duration": 7302,
        "start_time": "2023-01-23T07:48:06.827Z"
      },
      {
        "duration": 3,
        "start_time": "2023-01-23T07:48:14.131Z"
      },
      {
        "duration": 378,
        "start_time": "2023-01-23T07:48:14.136Z"
      },
      {
        "duration": 4,
        "start_time": "2023-01-23T07:48:14.516Z"
      },
      {
        "duration": 29,
        "start_time": "2023-01-23T07:48:14.521Z"
      },
      {
        "duration": 14342,
        "start_time": "2023-01-23T07:48:14.552Z"
      },
      {
        "duration": 3907,
        "start_time": "2023-01-23T07:48:28.896Z"
      },
      {
        "duration": 4435,
        "start_time": "2023-01-23T07:48:32.805Z"
      },
      {
        "duration": 4,
        "start_time": "2023-01-23T07:48:37.242Z"
      },
      {
        "duration": 2338,
        "start_time": "2023-01-23T07:48:37.248Z"
      },
      {
        "duration": 4,
        "start_time": "2023-01-23T07:48:39.588Z"
      },
      {
        "duration": 286,
        "start_time": "2023-01-23T07:48:39.593Z"
      },
      {
        "duration": 570,
        "start_time": "2023-01-23T07:48:39.881Z"
      },
      {
        "duration": 4,
        "start_time": "2023-01-23T07:48:40.453Z"
      },
      {
        "duration": 6,
        "start_time": "2023-01-23T07:48:40.459Z"
      },
      {
        "duration": 5,
        "start_time": "2023-01-23T07:48:40.467Z"
      },
      {
        "duration": 20,
        "start_time": "2023-01-23T07:48:40.473Z"
      },
      {
        "duration": 9,
        "start_time": "2023-01-23T07:48:40.498Z"
      },
      {
        "duration": 10,
        "start_time": "2023-01-23T07:48:40.509Z"
      },
      {
        "duration": 11,
        "start_time": "2023-01-23T07:48:40.521Z"
      },
      {
        "duration": 18,
        "start_time": "2023-01-23T07:48:40.534Z"
      },
      {
        "duration": 73,
        "start_time": "2023-01-23T07:48:40.553Z"
      },
      {
        "duration": 20,
        "start_time": "2023-01-23T07:48:40.628Z"
      },
      {
        "duration": 27,
        "start_time": "2023-01-23T07:48:40.650Z"
      },
      {
        "duration": 17,
        "start_time": "2023-01-23T07:48:40.679Z"
      },
      {
        "duration": 12,
        "start_time": "2023-01-23T07:48:40.700Z"
      },
      {
        "duration": 20,
        "start_time": "2023-01-23T07:48:40.714Z"
      },
      {
        "duration": 6,
        "start_time": "2023-01-23T07:48:40.736Z"
      },
      {
        "duration": 1117,
        "start_time": "2023-01-23T07:48:40.743Z"
      },
      {
        "duration": 4,
        "start_time": "2023-01-23T07:48:41.861Z"
      },
      {
        "duration": 36,
        "start_time": "2023-01-23T07:48:41.867Z"
      },
      {
        "duration": 1,
        "start_time": "2023-01-23T07:48:41.907Z"
      },
      {
        "duration": 0,
        "start_time": "2023-01-23T07:48:41.909Z"
      },
      {
        "duration": 0,
        "start_time": "2023-01-23T07:48:41.910Z"
      },
      {
        "duration": 0,
        "start_time": "2023-01-23T07:48:41.911Z"
      },
      {
        "duration": 0,
        "start_time": "2023-01-23T07:48:41.913Z"
      },
      {
        "duration": 0,
        "start_time": "2023-01-23T07:48:41.913Z"
      },
      {
        "duration": 0,
        "start_time": "2023-01-23T07:48:41.914Z"
      },
      {
        "duration": 0,
        "start_time": "2023-01-23T07:48:41.916Z"
      },
      {
        "duration": 0,
        "start_time": "2023-01-23T07:48:41.917Z"
      },
      {
        "duration": 0,
        "start_time": "2023-01-23T07:48:41.918Z"
      },
      {
        "duration": 0,
        "start_time": "2023-01-23T07:48:41.919Z"
      },
      {
        "duration": 0,
        "start_time": "2023-01-23T07:48:41.920Z"
      },
      {
        "duration": 0,
        "start_time": "2023-01-23T07:48:41.920Z"
      },
      {
        "duration": 0,
        "start_time": "2023-01-23T07:48:41.921Z"
      },
      {
        "duration": 0,
        "start_time": "2023-01-23T07:48:41.922Z"
      },
      {
        "duration": 0,
        "start_time": "2023-01-23T07:48:41.923Z"
      },
      {
        "duration": 2273,
        "start_time": "2023-01-23T07:50:27.268Z"
      },
      {
        "duration": 1831,
        "start_time": "2023-01-23T07:50:29.544Z"
      },
      {
        "duration": 59,
        "start_time": "2023-01-23T07:50:31.377Z"
      },
      {
        "duration": 22,
        "start_time": "2023-01-23T07:50:31.438Z"
      },
      {
        "duration": 267,
        "start_time": "2023-01-23T07:50:31.462Z"
      },
      {
        "duration": 143,
        "start_time": "2023-01-23T07:50:31.731Z"
      },
      {
        "duration": 12,
        "start_time": "2023-01-23T07:50:31.876Z"
      },
      {
        "duration": 143,
        "start_time": "2023-01-23T07:50:31.890Z"
      },
      {
        "duration": 77,
        "start_time": "2023-01-23T07:50:32.035Z"
      },
      {
        "duration": 56,
        "start_time": "2023-01-23T07:50:32.115Z"
      },
      {
        "duration": 37,
        "start_time": "2023-01-23T07:50:32.198Z"
      },
      {
        "duration": 4,
        "start_time": "2023-01-23T07:50:32.237Z"
      },
      {
        "duration": 462,
        "start_time": "2023-01-23T07:50:32.243Z"
      },
      {
        "duration": 18,
        "start_time": "2023-01-23T07:50:32.707Z"
      },
      {
        "duration": 16,
        "start_time": "2023-01-23T07:50:32.727Z"
      },
      {
        "duration": 22,
        "start_time": "2023-01-23T07:50:32.745Z"
      },
      {
        "duration": 19,
        "start_time": "2023-01-23T07:50:32.769Z"
      },
      {
        "duration": 459,
        "start_time": "2023-01-23T07:50:32.790Z"
      },
      {
        "duration": 19,
        "start_time": "2023-01-23T07:50:33.251Z"
      },
      {
        "duration": 35,
        "start_time": "2023-01-23T07:50:33.271Z"
      },
      {
        "duration": 192,
        "start_time": "2023-01-23T07:50:33.309Z"
      },
      {
        "duration": 28,
        "start_time": "2023-01-23T07:50:33.505Z"
      },
      {
        "duration": 54,
        "start_time": "2023-01-23T07:50:33.535Z"
      },
      {
        "duration": 31,
        "start_time": "2023-01-23T07:50:33.590Z"
      },
      {
        "duration": 13,
        "start_time": "2023-01-23T07:50:33.623Z"
      },
      {
        "duration": 38,
        "start_time": "2023-01-23T07:50:33.638Z"
      },
      {
        "duration": 23,
        "start_time": "2023-01-23T07:50:33.678Z"
      },
      {
        "duration": 28,
        "start_time": "2023-01-23T07:50:33.707Z"
      },
      {
        "duration": 21,
        "start_time": "2023-01-23T07:50:33.736Z"
      },
      {
        "duration": 12,
        "start_time": "2023-01-23T07:50:33.758Z"
      },
      {
        "duration": 38,
        "start_time": "2023-01-23T07:50:33.772Z"
      },
      {
        "duration": 35,
        "start_time": "2023-01-23T07:50:33.812Z"
      },
      {
        "duration": 50,
        "start_time": "2023-01-23T07:50:33.849Z"
      },
      {
        "duration": 24,
        "start_time": "2023-01-23T07:50:33.900Z"
      },
      {
        "duration": 19,
        "start_time": "2023-01-23T07:50:33.927Z"
      },
      {
        "duration": 28,
        "start_time": "2023-01-23T07:50:33.948Z"
      },
      {
        "duration": 151,
        "start_time": "2023-01-23T07:50:33.978Z"
      },
      {
        "duration": 7,
        "start_time": "2023-01-23T07:50:34.131Z"
      },
      {
        "duration": 7674,
        "start_time": "2023-01-23T07:50:34.140Z"
      },
      {
        "duration": 4,
        "start_time": "2023-01-23T07:50:41.816Z"
      },
      {
        "duration": 366,
        "start_time": "2023-01-23T07:50:41.822Z"
      },
      {
        "duration": 12,
        "start_time": "2023-01-23T07:50:42.194Z"
      },
      {
        "duration": 41,
        "start_time": "2023-01-23T07:50:42.207Z"
      },
      {
        "duration": 14799,
        "start_time": "2023-01-23T07:50:42.250Z"
      },
      {
        "duration": 4046,
        "start_time": "2023-01-23T07:50:57.051Z"
      },
      {
        "duration": 4340,
        "start_time": "2023-01-23T07:51:01.099Z"
      },
      {
        "duration": 4,
        "start_time": "2023-01-23T07:51:05.440Z"
      },
      {
        "duration": 2887,
        "start_time": "2023-01-23T07:51:05.445Z"
      },
      {
        "duration": 3,
        "start_time": "2023-01-23T07:51:08.334Z"
      },
      {
        "duration": 320,
        "start_time": "2023-01-23T07:51:08.339Z"
      },
      {
        "duration": 581,
        "start_time": "2023-01-23T07:51:08.662Z"
      },
      {
        "duration": 4,
        "start_time": "2023-01-23T07:51:09.245Z"
      },
      {
        "duration": 5,
        "start_time": "2023-01-23T07:51:09.251Z"
      },
      {
        "duration": 57,
        "start_time": "2023-01-23T07:51:09.258Z"
      },
      {
        "duration": 7,
        "start_time": "2023-01-23T07:51:09.317Z"
      },
      {
        "duration": 5,
        "start_time": "2023-01-23T07:51:09.325Z"
      },
      {
        "duration": 4,
        "start_time": "2023-01-23T07:51:09.331Z"
      },
      {
        "duration": 10,
        "start_time": "2023-01-23T07:51:09.337Z"
      },
      {
        "duration": 44,
        "start_time": "2023-01-23T07:51:09.349Z"
      },
      {
        "duration": 7,
        "start_time": "2023-01-23T07:51:09.395Z"
      },
      {
        "duration": 26,
        "start_time": "2023-01-23T07:51:09.405Z"
      },
      {
        "duration": 20,
        "start_time": "2023-01-23T07:51:09.433Z"
      },
      {
        "duration": 6,
        "start_time": "2023-01-23T07:51:09.455Z"
      },
      {
        "duration": 7,
        "start_time": "2023-01-23T07:51:09.463Z"
      },
      {
        "duration": 5,
        "start_time": "2023-01-23T07:51:09.471Z"
      },
      {
        "duration": 5,
        "start_time": "2023-01-23T07:51:09.494Z"
      },
      {
        "duration": 175097,
        "start_time": "2023-01-23T07:51:09.504Z"
      },
      {
        "duration": 8,
        "start_time": "2023-01-23T07:54:04.603Z"
      },
      {
        "duration": 297,
        "start_time": "2023-01-23T07:54:04.613Z"
      },
      {
        "duration": 4,
        "start_time": "2023-01-23T07:54:04.913Z"
      },
      {
        "duration": 9,
        "start_time": "2023-01-23T07:54:04.920Z"
      },
      {
        "duration": 4208,
        "start_time": "2023-01-23T07:54:04.931Z"
      },
      {
        "duration": 13,
        "start_time": "2023-01-23T07:54:09.141Z"
      },
      {
        "duration": 4,
        "start_time": "2023-01-23T07:54:09.156Z"
      },
      {
        "duration": 32783,
        "start_time": "2023-01-23T07:54:09.162Z"
      },
      {
        "duration": 4,
        "start_time": "2023-01-23T07:54:41.947Z"
      },
      {
        "duration": 14,
        "start_time": "2023-01-23T07:54:41.953Z"
      },
      {
        "duration": 128,
        "start_time": "2023-01-23T07:54:41.968Z"
      },
      {
        "duration": 134,
        "start_time": "2023-01-23T07:54:42.101Z"
      },
      {
        "duration": 448,
        "start_time": "2023-01-23T07:54:42.237Z"
      },
      {
        "duration": 21,
        "start_time": "2023-01-23T07:54:42.687Z"
      },
      {
        "duration": 8,
        "start_time": "2023-01-23T07:54:42.714Z"
      },
      {
        "duration": 14,
        "start_time": "2023-01-23T07:54:42.725Z"
      },
      {
        "duration": 1500,
        "start_time": "2023-01-23T07:54:42.741Z"
      },
      {
        "duration": 9,
        "start_time": "2023-01-23T07:54:44.243Z"
      },
      {
        "duration": 2212,
        "start_time": "2023-01-23T07:55:58.014Z"
      },
      {
        "duration": 1839,
        "start_time": "2023-01-23T07:56:00.228Z"
      },
      {
        "duration": 62,
        "start_time": "2023-01-23T07:56:02.069Z"
      },
      {
        "duration": 22,
        "start_time": "2023-01-23T07:56:02.133Z"
      },
      {
        "duration": 18,
        "start_time": "2023-01-23T07:56:02.157Z"
      },
      {
        "duration": 30,
        "start_time": "2023-01-23T07:56:02.177Z"
      },
      {
        "duration": 4,
        "start_time": "2023-01-23T07:56:02.209Z"
      },
      {
        "duration": 88,
        "start_time": "2023-01-23T07:56:02.215Z"
      },
      {
        "duration": 45,
        "start_time": "2023-01-23T07:56:02.307Z"
      },
      {
        "duration": 70,
        "start_time": "2023-01-23T07:56:02.355Z"
      },
      {
        "duration": 29,
        "start_time": "2023-01-23T07:56:02.427Z"
      },
      {
        "duration": 5,
        "start_time": "2023-01-23T07:56:02.458Z"
      },
      {
        "duration": 470,
        "start_time": "2023-01-23T07:56:02.464Z"
      },
      {
        "duration": 15,
        "start_time": "2023-01-23T07:56:02.936Z"
      },
      {
        "duration": 8,
        "start_time": "2023-01-23T07:56:02.953Z"
      },
      {
        "duration": 10,
        "start_time": "2023-01-23T07:56:02.963Z"
      },
      {
        "duration": 27,
        "start_time": "2023-01-23T07:56:02.974Z"
      },
      {
        "duration": 433,
        "start_time": "2023-01-23T07:56:03.006Z"
      },
      {
        "duration": 15,
        "start_time": "2023-01-23T07:56:03.441Z"
      },
      {
        "duration": 6,
        "start_time": "2023-01-23T07:56:03.458Z"
      },
      {
        "duration": 10,
        "start_time": "2023-01-23T07:56:03.466Z"
      },
      {
        "duration": 25,
        "start_time": "2023-01-23T07:56:03.477Z"
      },
      {
        "duration": 20,
        "start_time": "2023-01-23T07:56:03.504Z"
      },
      {
        "duration": 9,
        "start_time": "2023-01-23T07:56:03.525Z"
      },
      {
        "duration": 10,
        "start_time": "2023-01-23T07:56:03.536Z"
      },
      {
        "duration": 9,
        "start_time": "2023-01-23T07:56:03.548Z"
      },
      {
        "duration": 17,
        "start_time": "2023-01-23T07:56:03.558Z"
      },
      {
        "duration": 26,
        "start_time": "2023-01-23T07:56:03.579Z"
      },
      {
        "duration": 19,
        "start_time": "2023-01-23T07:56:03.609Z"
      },
      {
        "duration": 11,
        "start_time": "2023-01-23T07:56:03.630Z"
      },
      {
        "duration": 13,
        "start_time": "2023-01-23T07:56:03.643Z"
      },
      {
        "duration": 40,
        "start_time": "2023-01-23T07:56:03.658Z"
      },
      {
        "duration": 13,
        "start_time": "2023-01-23T07:56:03.700Z"
      },
      {
        "duration": 3,
        "start_time": "2023-01-23T07:56:03.715Z"
      },
      {
        "duration": 9,
        "start_time": "2023-01-23T07:56:03.720Z"
      },
      {
        "duration": 16,
        "start_time": "2023-01-23T07:56:03.731Z"
      },
      {
        "duration": 158,
        "start_time": "2023-01-23T07:56:03.749Z"
      },
      {
        "duration": 7,
        "start_time": "2023-01-23T07:56:03.909Z"
      },
      {
        "duration": 7555,
        "start_time": "2023-01-23T07:56:03.918Z"
      },
      {
        "duration": 3,
        "start_time": "2023-01-23T07:56:11.475Z"
      },
      {
        "duration": 381,
        "start_time": "2023-01-23T07:56:11.480Z"
      },
      {
        "duration": 4,
        "start_time": "2023-01-23T07:56:11.862Z"
      },
      {
        "duration": 41,
        "start_time": "2023-01-23T07:56:11.867Z"
      },
      {
        "duration": 14438,
        "start_time": "2023-01-23T07:56:11.910Z"
      },
      {
        "duration": 3768,
        "start_time": "2023-01-23T07:56:26.350Z"
      },
      {
        "duration": 4459,
        "start_time": "2023-01-23T07:56:30.122Z"
      },
      {
        "duration": 9,
        "start_time": "2023-01-23T07:56:34.583Z"
      },
      {
        "duration": 2450,
        "start_time": "2023-01-23T07:56:34.596Z"
      },
      {
        "duration": 3,
        "start_time": "2023-01-23T07:56:37.048Z"
      },
      {
        "duration": 309,
        "start_time": "2023-01-23T07:56:37.054Z"
      },
      {
        "duration": 557,
        "start_time": "2023-01-23T07:56:37.365Z"
      },
      {
        "duration": 4,
        "start_time": "2023-01-23T07:56:37.924Z"
      },
      {
        "duration": 5,
        "start_time": "2023-01-23T07:56:37.930Z"
      },
      {
        "duration": 47,
        "start_time": "2023-01-23T07:56:37.937Z"
      },
      {
        "duration": 12,
        "start_time": "2023-01-23T07:56:37.991Z"
      },
      {
        "duration": 9,
        "start_time": "2023-01-23T07:56:38.006Z"
      },
      {
        "duration": 7,
        "start_time": "2023-01-23T07:56:38.017Z"
      },
      {
        "duration": 15,
        "start_time": "2023-01-23T07:56:38.026Z"
      },
      {
        "duration": 26,
        "start_time": "2023-01-23T07:56:38.042Z"
      },
      {
        "duration": 3,
        "start_time": "2023-01-23T07:56:38.070Z"
      },
      {
        "duration": 44,
        "start_time": "2023-01-23T07:56:38.074Z"
      },
      {
        "duration": 22,
        "start_time": "2023-01-23T07:56:38.120Z"
      },
      {
        "duration": 5,
        "start_time": "2023-01-23T07:56:38.144Z"
      },
      {
        "duration": 4,
        "start_time": "2023-01-23T07:56:38.150Z"
      },
      {
        "duration": 5,
        "start_time": "2023-01-23T07:56:38.156Z"
      },
      {
        "duration": 5,
        "start_time": "2023-01-23T07:56:38.163Z"
      },
      {
        "duration": 177782,
        "start_time": "2023-01-23T07:56:38.169Z"
      },
      {
        "duration": 5,
        "start_time": "2023-01-23T07:59:35.953Z"
      },
      {
        "duration": 345,
        "start_time": "2023-01-23T07:59:35.959Z"
      },
      {
        "duration": 6,
        "start_time": "2023-01-23T07:59:36.306Z"
      },
      {
        "duration": 5,
        "start_time": "2023-01-23T07:59:36.314Z"
      },
      {
        "duration": 4201,
        "start_time": "2023-01-23T07:59:36.321Z"
      },
      {
        "duration": 17,
        "start_time": "2023-01-23T07:59:40.524Z"
      },
      {
        "duration": 5,
        "start_time": "2023-01-23T07:59:40.543Z"
      },
      {
        "duration": 39232,
        "start_time": "2023-01-23T07:59:40.550Z"
      },
      {
        "duration": 4,
        "start_time": "2023-01-23T08:00:19.785Z"
      },
      {
        "duration": 39,
        "start_time": "2023-01-23T08:00:19.793Z"
      },
      {
        "duration": 175,
        "start_time": "2023-01-23T08:00:19.834Z"
      },
      {
        "duration": 284,
        "start_time": "2023-01-23T08:00:20.016Z"
      },
      {
        "duration": 331,
        "start_time": "2023-01-23T08:00:20.301Z"
      },
      {
        "duration": 7,
        "start_time": "2023-01-23T08:00:20.635Z"
      },
      {
        "duration": 23,
        "start_time": "2023-01-23T08:00:20.648Z"
      },
      {
        "duration": 32,
        "start_time": "2023-01-23T08:00:20.677Z"
      },
      {
        "duration": 2050,
        "start_time": "2023-01-23T08:00:20.712Z"
      },
      {
        "duration": 14,
        "start_time": "2023-01-23T08:00:22.764Z"
      },
      {
        "duration": 100,
        "start_time": "2023-01-23T12:40:22.085Z"
      },
      {
        "duration": 81,
        "start_time": "2023-01-23T12:42:30.488Z"
      },
      {
        "duration": 80,
        "start_time": "2023-01-23T12:44:54.159Z"
      },
      {
        "duration": 49,
        "start_time": "2023-01-23T13:42:32.063Z"
      },
      {
        "duration": 2970,
        "start_time": "2023-01-23T13:44:52.703Z"
      },
      {
        "duration": 1980,
        "start_time": "2023-01-23T13:44:55.675Z"
      },
      {
        "duration": 136,
        "start_time": "2023-01-23T13:44:57.657Z"
      },
      {
        "duration": 114,
        "start_time": "2023-01-23T13:44:57.795Z"
      },
      {
        "duration": 63,
        "start_time": "2023-01-23T13:44:57.911Z"
      },
      {
        "duration": 78,
        "start_time": "2023-01-23T13:44:57.976Z"
      },
      {
        "duration": 4,
        "start_time": "2023-01-23T13:44:58.056Z"
      },
      {
        "duration": 71,
        "start_time": "2023-01-23T13:44:58.061Z"
      },
      {
        "duration": 49,
        "start_time": "2023-01-23T13:44:58.134Z"
      },
      {
        "duration": 64,
        "start_time": "2023-01-23T13:44:58.185Z"
      },
      {
        "duration": 28,
        "start_time": "2023-01-23T13:44:58.250Z"
      },
      {
        "duration": 4,
        "start_time": "2023-01-23T13:44:58.280Z"
      },
      {
        "duration": 437,
        "start_time": "2023-01-23T13:44:58.286Z"
      },
      {
        "duration": 14,
        "start_time": "2023-01-23T13:44:58.725Z"
      },
      {
        "duration": 12,
        "start_time": "2023-01-23T13:44:58.740Z"
      },
      {
        "duration": 3,
        "start_time": "2023-01-23T13:44:58.753Z"
      },
      {
        "duration": 5,
        "start_time": "2023-01-23T13:44:58.758Z"
      },
      {
        "duration": 414,
        "start_time": "2023-01-23T13:44:58.765Z"
      },
      {
        "duration": 16,
        "start_time": "2023-01-23T13:44:59.180Z"
      },
      {
        "duration": 6,
        "start_time": "2023-01-23T13:44:59.197Z"
      },
      {
        "duration": 9,
        "start_time": "2023-01-23T13:44:59.205Z"
      },
      {
        "duration": 7,
        "start_time": "2023-01-23T13:44:59.216Z"
      },
      {
        "duration": 36,
        "start_time": "2023-01-23T13:44:59.224Z"
      },
      {
        "duration": 4,
        "start_time": "2023-01-23T13:44:59.261Z"
      },
      {
        "duration": 10,
        "start_time": "2023-01-23T13:44:59.267Z"
      },
      {
        "duration": 5,
        "start_time": "2023-01-23T13:44:59.279Z"
      },
      {
        "duration": 15,
        "start_time": "2023-01-23T13:44:59.286Z"
      },
      {
        "duration": 13,
        "start_time": "2023-01-23T13:44:59.306Z"
      },
      {
        "duration": 15,
        "start_time": "2023-01-23T13:44:59.350Z"
      },
      {
        "duration": 12,
        "start_time": "2023-01-23T13:44:59.367Z"
      },
      {
        "duration": 11,
        "start_time": "2023-01-23T13:44:59.381Z"
      },
      {
        "duration": 21,
        "start_time": "2023-01-23T13:44:59.394Z"
      },
      {
        "duration": 42,
        "start_time": "2023-01-23T13:44:59.416Z"
      },
      {
        "duration": 3,
        "start_time": "2023-01-23T13:44:59.459Z"
      },
      {
        "duration": 12,
        "start_time": "2023-01-23T13:44:59.464Z"
      },
      {
        "duration": 16,
        "start_time": "2023-01-23T13:44:59.477Z"
      },
      {
        "duration": 135,
        "start_time": "2023-01-23T13:44:59.494Z"
      },
      {
        "duration": 5,
        "start_time": "2023-01-23T13:44:59.631Z"
      },
      {
        "duration": 6697,
        "start_time": "2023-01-23T13:44:59.648Z"
      },
      {
        "duration": 2,
        "start_time": "2023-01-23T13:45:06.347Z"
      },
      {
        "duration": 376,
        "start_time": "2023-01-23T13:45:06.351Z"
      },
      {
        "duration": 4,
        "start_time": "2023-01-23T13:45:06.729Z"
      },
      {
        "duration": 30,
        "start_time": "2023-01-23T13:45:06.734Z"
      },
      {
        "duration": 13582,
        "start_time": "2023-01-23T13:45:06.766Z"
      },
      {
        "duration": 3604,
        "start_time": "2023-01-23T13:45:20.351Z"
      },
      {
        "duration": 4178,
        "start_time": "2023-01-23T13:45:23.957Z"
      },
      {
        "duration": 3,
        "start_time": "2023-01-23T13:45:28.137Z"
      },
      {
        "duration": 2237,
        "start_time": "2023-01-23T13:45:28.141Z"
      },
      {
        "duration": 2,
        "start_time": "2023-01-23T13:45:30.380Z"
      },
      {
        "duration": 279,
        "start_time": "2023-01-23T13:45:30.384Z"
      },
      {
        "duration": 520,
        "start_time": "2023-01-23T13:45:30.665Z"
      },
      {
        "duration": 4,
        "start_time": "2023-01-23T13:45:31.187Z"
      },
      {
        "duration": 21,
        "start_time": "2023-01-23T13:45:31.192Z"
      },
      {
        "duration": 23,
        "start_time": "2023-01-23T13:45:31.215Z"
      },
      {
        "duration": 9,
        "start_time": "2023-01-23T13:45:31.240Z"
      },
      {
        "duration": 20,
        "start_time": "2023-01-23T13:45:31.251Z"
      },
      {
        "duration": 20,
        "start_time": "2023-01-23T13:45:31.273Z"
      },
      {
        "duration": 12,
        "start_time": "2023-01-23T13:45:31.294Z"
      },
      {
        "duration": 21,
        "start_time": "2023-01-23T13:45:31.308Z"
      },
      {
        "duration": 44,
        "start_time": "2023-01-23T13:45:31.331Z"
      },
      {
        "duration": 24,
        "start_time": "2023-01-23T13:45:31.377Z"
      },
      {
        "duration": 27,
        "start_time": "2023-01-23T13:45:31.403Z"
      },
      {
        "duration": 18,
        "start_time": "2023-01-23T13:45:31.431Z"
      },
      {
        "duration": 5,
        "start_time": "2023-01-23T13:45:31.451Z"
      },
      {
        "duration": 9,
        "start_time": "2023-01-23T13:45:31.458Z"
      },
      {
        "duration": 15,
        "start_time": "2023-01-23T13:45:31.468Z"
      },
      {
        "duration": 2139,
        "start_time": "2023-01-23T13:46:39.283Z"
      },
      {
        "duration": 1759,
        "start_time": "2023-01-23T13:46:41.424Z"
      },
      {
        "duration": 53,
        "start_time": "2023-01-23T13:46:43.184Z"
      },
      {
        "duration": 22,
        "start_time": "2023-01-23T13:46:43.238Z"
      },
      {
        "duration": 18,
        "start_time": "2023-01-23T13:46:43.262Z"
      },
      {
        "duration": 23,
        "start_time": "2023-01-23T13:46:43.281Z"
      },
      {
        "duration": 5,
        "start_time": "2023-01-23T13:46:43.305Z"
      },
      {
        "duration": 67,
        "start_time": "2023-01-23T13:46:43.311Z"
      },
      {
        "duration": 47,
        "start_time": "2023-01-23T13:46:43.380Z"
      },
      {
        "duration": 66,
        "start_time": "2023-01-23T13:46:43.430Z"
      },
      {
        "duration": 51,
        "start_time": "2023-01-23T13:46:43.498Z"
      },
      {
        "duration": 4,
        "start_time": "2023-01-23T13:46:43.551Z"
      },
      {
        "duration": 421,
        "start_time": "2023-01-23T13:46:43.557Z"
      },
      {
        "duration": 12,
        "start_time": "2023-01-23T13:46:43.980Z"
      },
      {
        "duration": 16,
        "start_time": "2023-01-23T13:46:43.994Z"
      },
      {
        "duration": 9,
        "start_time": "2023-01-23T13:46:44.011Z"
      },
      {
        "duration": 8,
        "start_time": "2023-01-23T13:46:44.022Z"
      },
      {
        "duration": 391,
        "start_time": "2023-01-23T13:46:44.031Z"
      },
      {
        "duration": 15,
        "start_time": "2023-01-23T13:46:44.424Z"
      },
      {
        "duration": 4,
        "start_time": "2023-01-23T13:46:44.448Z"
      },
      {
        "duration": 12,
        "start_time": "2023-01-23T13:46:44.453Z"
      },
      {
        "duration": 8,
        "start_time": "2023-01-23T13:46:44.467Z"
      },
      {
        "duration": 14,
        "start_time": "2023-01-23T13:46:44.476Z"
      },
      {
        "duration": 7,
        "start_time": "2023-01-23T13:46:44.491Z"
      },
      {
        "duration": 10,
        "start_time": "2023-01-23T13:46:44.500Z"
      },
      {
        "duration": 9,
        "start_time": "2023-01-23T13:46:44.511Z"
      },
      {
        "duration": 27,
        "start_time": "2023-01-23T13:46:44.522Z"
      },
      {
        "duration": 12,
        "start_time": "2023-01-23T13:46:44.552Z"
      },
      {
        "duration": 14,
        "start_time": "2023-01-23T13:46:44.566Z"
      },
      {
        "duration": 17,
        "start_time": "2023-01-23T13:46:44.581Z"
      },
      {
        "duration": 16,
        "start_time": "2023-01-23T13:46:44.599Z"
      },
      {
        "duration": 42,
        "start_time": "2023-01-23T13:46:44.617Z"
      },
      {
        "duration": 11,
        "start_time": "2023-01-23T13:46:44.660Z"
      },
      {
        "duration": 5,
        "start_time": "2023-01-23T13:46:44.673Z"
      },
      {
        "duration": 15,
        "start_time": "2023-01-23T13:46:44.680Z"
      },
      {
        "duration": 17,
        "start_time": "2023-01-23T13:46:44.697Z"
      },
      {
        "duration": 133,
        "start_time": "2023-01-23T13:46:44.716Z"
      },
      {
        "duration": 6,
        "start_time": "2023-01-23T13:46:44.851Z"
      },
      {
        "duration": 6770,
        "start_time": "2023-01-23T13:46:44.859Z"
      },
      {
        "duration": 3,
        "start_time": "2023-01-23T13:46:51.630Z"
      },
      {
        "duration": 351,
        "start_time": "2023-01-23T13:46:51.634Z"
      },
      {
        "duration": 3,
        "start_time": "2023-01-23T13:46:51.987Z"
      },
      {
        "duration": 38,
        "start_time": "2023-01-23T13:46:51.991Z"
      },
      {
        "duration": 13747,
        "start_time": "2023-01-23T13:46:52.030Z"
      },
      {
        "duration": 3583,
        "start_time": "2023-01-23T13:47:05.779Z"
      },
      {
        "duration": 3990,
        "start_time": "2023-01-23T13:47:09.364Z"
      },
      {
        "duration": 4,
        "start_time": "2023-01-23T13:47:13.357Z"
      },
      {
        "duration": 2169,
        "start_time": "2023-01-23T13:47:13.363Z"
      },
      {
        "duration": 3,
        "start_time": "2023-01-23T13:47:15.533Z"
      },
      {
        "duration": 257,
        "start_time": "2023-01-23T13:47:15.537Z"
      },
      {
        "duration": 522,
        "start_time": "2023-01-23T13:47:15.796Z"
      },
      {
        "duration": 6,
        "start_time": "2023-01-23T13:47:16.320Z"
      },
      {
        "duration": 6,
        "start_time": "2023-01-23T13:47:16.328Z"
      },
      {
        "duration": 14,
        "start_time": "2023-01-23T13:47:16.336Z"
      },
      {
        "duration": 10,
        "start_time": "2023-01-23T13:47:16.354Z"
      },
      {
        "duration": 10,
        "start_time": "2023-01-23T13:47:16.365Z"
      },
      {
        "duration": 12,
        "start_time": "2023-01-23T13:47:16.377Z"
      },
      {
        "duration": 25,
        "start_time": "2023-01-23T13:47:16.390Z"
      },
      {
        "duration": 25,
        "start_time": "2023-01-23T13:47:16.417Z"
      },
      {
        "duration": 59,
        "start_time": "2023-01-23T13:47:16.444Z"
      },
      {
        "duration": 109,
        "start_time": "2023-01-23T13:47:16.505Z"
      },
      {
        "duration": 22,
        "start_time": "2023-01-23T13:47:16.616Z"
      },
      {
        "duration": 3,
        "start_time": "2023-01-23T13:47:16.640Z"
      },
      {
        "duration": 7,
        "start_time": "2023-01-23T13:47:16.645Z"
      },
      {
        "duration": 12,
        "start_time": "2023-01-23T13:47:16.654Z"
      },
      {
        "duration": 10,
        "start_time": "2023-01-23T13:47:16.668Z"
      },
      {
        "duration": 165329,
        "start_time": "2023-01-23T13:47:16.680Z"
      },
      {
        "duration": 3,
        "start_time": "2023-01-23T13:50:02.011Z"
      },
      {
        "duration": 242,
        "start_time": "2023-01-23T13:50:02.016Z"
      },
      {
        "duration": 3,
        "start_time": "2023-01-23T13:50:02.259Z"
      },
      {
        "duration": 19,
        "start_time": "2023-01-23T13:50:02.264Z"
      },
      {
        "duration": 4717,
        "start_time": "2023-01-23T13:50:02.285Z"
      },
      {
        "duration": 17,
        "start_time": "2023-01-23T13:50:07.004Z"
      },
      {
        "duration": 91,
        "start_time": "2023-01-23T13:50:07.023Z"
      },
      {
        "duration": 29945,
        "start_time": "2023-01-23T13:50:07.116Z"
      },
      {
        "duration": 3,
        "start_time": "2023-01-23T13:50:37.063Z"
      },
      {
        "duration": 8,
        "start_time": "2023-01-23T13:50:37.068Z"
      },
      {
        "duration": 130,
        "start_time": "2023-01-23T13:50:37.077Z"
      },
      {
        "duration": 265,
        "start_time": "2023-01-23T13:50:37.209Z"
      },
      {
        "duration": 257,
        "start_time": "2023-01-23T13:50:37.476Z"
      },
      {
        "duration": 15,
        "start_time": "2023-01-23T13:50:37.735Z"
      },
      {
        "duration": 7,
        "start_time": "2023-01-23T13:50:37.755Z"
      },
      {
        "duration": 12,
        "start_time": "2023-01-23T13:50:37.764Z"
      },
      {
        "duration": 1498,
        "start_time": "2023-01-23T13:50:37.777Z"
      },
      {
        "duration": 10,
        "start_time": "2023-01-23T13:50:39.277Z"
      },
      {
        "duration": 22,
        "start_time": "2023-01-23T13:52:38.729Z"
      },
      {
        "duration": 161,
        "start_time": "2023-01-23T13:52:41.497Z"
      },
      {
        "duration": 22,
        "start_time": "2023-01-23T13:52:42.145Z"
      },
      {
        "duration": 2120,
        "start_time": "2023-01-23T13:53:03.500Z"
      },
      {
        "duration": 1808,
        "start_time": "2023-01-23T13:53:05.622Z"
      },
      {
        "duration": 51,
        "start_time": "2023-01-23T13:53:07.432Z"
      },
      {
        "duration": 30,
        "start_time": "2023-01-23T13:53:07.485Z"
      },
      {
        "duration": 18,
        "start_time": "2023-01-23T13:53:07.516Z"
      },
      {
        "duration": 23,
        "start_time": "2023-01-23T13:53:07.536Z"
      },
      {
        "duration": 4,
        "start_time": "2023-01-23T13:53:07.560Z"
      },
      {
        "duration": 72,
        "start_time": "2023-01-23T13:53:07.566Z"
      },
      {
        "duration": 38,
        "start_time": "2023-01-23T13:53:07.649Z"
      },
      {
        "duration": 43,
        "start_time": "2023-01-23T13:53:07.689Z"
      },
      {
        "duration": 26,
        "start_time": "2023-01-23T13:53:07.749Z"
      },
      {
        "duration": 4,
        "start_time": "2023-01-23T13:53:07.777Z"
      },
      {
        "duration": 417,
        "start_time": "2023-01-23T13:53:07.782Z"
      },
      {
        "duration": 13,
        "start_time": "2023-01-23T13:53:08.200Z"
      },
      {
        "duration": 5,
        "start_time": "2023-01-23T13:53:08.216Z"
      },
      {
        "duration": 6,
        "start_time": "2023-01-23T13:53:08.223Z"
      },
      {
        "duration": 5,
        "start_time": "2023-01-23T13:53:08.286Z"
      },
      {
        "duration": 410,
        "start_time": "2023-01-23T13:53:08.472Z"
      },
      {
        "duration": 16,
        "start_time": "2023-01-23T13:53:09.000Z"
      },
      {
        "duration": 5,
        "start_time": "2023-01-23T13:53:09.168Z"
      },
      {
        "duration": 8,
        "start_time": "2023-01-23T13:53:09.320Z"
      },
      {
        "duration": 7,
        "start_time": "2023-01-23T13:53:09.514Z"
      },
      {
        "duration": 13,
        "start_time": "2023-01-23T13:53:09.680Z"
      },
      {
        "duration": 5,
        "start_time": "2023-01-23T13:53:10.200Z"
      },
      {
        "duration": 9,
        "start_time": "2023-01-23T13:53:10.400Z"
      },
      {
        "duration": 5,
        "start_time": "2023-01-23T13:53:10.766Z"
      },
      {
        "duration": 11,
        "start_time": "2023-01-23T13:53:11.115Z"
      },
      {
        "duration": 11,
        "start_time": "2023-01-23T13:53:11.288Z"
      },
      {
        "duration": 12,
        "start_time": "2023-01-23T13:53:11.656Z"
      },
      {
        "duration": 12,
        "start_time": "2023-01-23T13:53:11.840Z"
      },
      {
        "duration": 19,
        "start_time": "2023-01-23T13:53:12.001Z"
      },
      {
        "duration": 31,
        "start_time": "2023-01-23T13:53:12.361Z"
      },
      {
        "duration": 18,
        "start_time": "2023-01-23T13:53:12.537Z"
      },
      {
        "duration": 3,
        "start_time": "2023-01-23T13:53:12.697Z"
      },
      {
        "duration": 11,
        "start_time": "2023-01-23T13:53:14.469Z"
      },
      {
        "duration": 17,
        "start_time": "2023-01-23T13:53:14.983Z"
      },
      {
        "duration": 112,
        "start_time": "2023-01-23T13:53:17.881Z"
      },
      {
        "duration": 6,
        "start_time": "2023-01-23T13:53:18.385Z"
      },
      {
        "duration": 6796,
        "start_time": "2023-01-23T13:53:18.721Z"
      },
      {
        "duration": 2,
        "start_time": "2023-01-23T13:53:25.519Z"
      },
      {
        "duration": 362,
        "start_time": "2023-01-23T13:53:25.523Z"
      },
      {
        "duration": 3,
        "start_time": "2023-01-23T13:53:25.887Z"
      },
      {
        "duration": 33,
        "start_time": "2023-01-23T13:53:25.892Z"
      },
      {
        "duration": 13960,
        "start_time": "2023-01-23T13:53:25.927Z"
      },
      {
        "duration": 4175,
        "start_time": "2023-01-23T13:53:39.889Z"
      },
      {
        "duration": 4144,
        "start_time": "2023-01-23T13:53:44.066Z"
      },
      {
        "duration": 3,
        "start_time": "2023-01-23T13:53:48.212Z"
      },
      {
        "duration": 2196,
        "start_time": "2023-01-23T13:53:48.217Z"
      },
      {
        "duration": 3,
        "start_time": "2023-01-23T13:53:50.415Z"
      },
      {
        "duration": 269,
        "start_time": "2023-01-23T13:53:50.420Z"
      },
      {
        "duration": 524,
        "start_time": "2023-01-23T13:53:50.691Z"
      },
      {
        "duration": 4,
        "start_time": "2023-01-23T13:53:51.217Z"
      },
      {
        "duration": 6,
        "start_time": "2023-01-23T13:53:51.223Z"
      },
      {
        "duration": 20,
        "start_time": "2023-01-23T13:53:51.231Z"
      },
      {
        "duration": 11,
        "start_time": "2023-01-23T13:53:51.253Z"
      },
      {
        "duration": 12,
        "start_time": "2023-01-23T13:53:51.266Z"
      },
      {
        "duration": 15,
        "start_time": "2023-01-23T13:53:51.279Z"
      },
      {
        "duration": 60,
        "start_time": "2023-01-23T13:54:01.802Z"
      },
      {
        "duration": 19,
        "start_time": "2023-01-23T13:54:03.835Z"
      },
      {
        "duration": 19,
        "start_time": "2023-01-23T13:54:04.457Z"
      },
      {
        "duration": 89,
        "start_time": "2023-01-23T13:55:06.547Z"
      },
      {
        "duration": 24,
        "start_time": "2023-01-23T13:55:07.332Z"
      },
      {
        "duration": 19,
        "start_time": "2023-01-23T13:55:07.863Z"
      },
      {
        "duration": 4,
        "start_time": "2023-01-23T13:55:27.166Z"
      },
      {
        "duration": 3,
        "start_time": "2023-01-23T13:55:27.869Z"
      },
      {
        "duration": 2,
        "start_time": "2023-01-23T13:55:28.044Z"
      },
      {
        "duration": 4,
        "start_time": "2023-01-23T13:55:28.220Z"
      },
      {
        "duration": 164085,
        "start_time": "2023-01-23T13:55:28.414Z"
      },
      {
        "duration": 3,
        "start_time": "2023-01-23T13:58:12.501Z"
      },
      {
        "duration": 247,
        "start_time": "2023-01-23T13:58:12.506Z"
      },
      {
        "duration": 4,
        "start_time": "2023-01-23T13:58:12.756Z"
      },
      {
        "duration": 6,
        "start_time": "2023-01-23T13:58:12.762Z"
      },
      {
        "duration": 3415,
        "start_time": "2023-01-23T13:58:12.770Z"
      },
      {
        "duration": 11,
        "start_time": "2023-01-23T13:58:16.187Z"
      },
      {
        "duration": 3,
        "start_time": "2023-01-23T13:58:16.200Z"
      },
      {
        "duration": 29974,
        "start_time": "2023-01-23T13:58:16.204Z"
      },
      {
        "duration": 3,
        "start_time": "2023-01-23T13:58:46.181Z"
      },
      {
        "duration": 9,
        "start_time": "2023-01-23T13:58:46.186Z"
      },
      {
        "duration": 153,
        "start_time": "2023-01-23T13:58:46.197Z"
      },
      {
        "duration": 260,
        "start_time": "2023-01-23T13:58:46.352Z"
      },
      {
        "duration": 288,
        "start_time": "2023-01-23T13:58:46.614Z"
      },
      {
        "duration": 5,
        "start_time": "2023-01-23T13:58:46.903Z"
      },
      {
        "duration": 16,
        "start_time": "2023-01-23T13:58:46.910Z"
      },
      {
        "duration": 22,
        "start_time": "2023-01-23T13:58:46.927Z"
      },
      {
        "duration": 1500,
        "start_time": "2023-01-23T13:58:46.950Z"
      },
      {
        "duration": 9,
        "start_time": "2023-01-23T13:58:48.452Z"
      },
      {
        "duration": 2162,
        "start_time": "2023-01-23T14:02:31.584Z"
      },
      {
        "duration": 1852,
        "start_time": "2023-01-23T14:02:33.749Z"
      },
      {
        "duration": 52,
        "start_time": "2023-01-23T14:02:35.602Z"
      },
      {
        "duration": 21,
        "start_time": "2023-01-23T14:02:35.656Z"
      },
      {
        "duration": 18,
        "start_time": "2023-01-23T14:02:35.679Z"
      },
      {
        "duration": 23,
        "start_time": "2023-01-23T14:02:35.699Z"
      },
      {
        "duration": 4,
        "start_time": "2023-01-23T14:02:35.723Z"
      },
      {
        "duration": 67,
        "start_time": "2023-01-23T14:02:35.729Z"
      },
      {
        "duration": 54,
        "start_time": "2023-01-23T14:02:35.797Z"
      },
      {
        "duration": 46,
        "start_time": "2023-01-23T14:02:35.854Z"
      },
      {
        "duration": 48,
        "start_time": "2023-01-23T14:02:35.902Z"
      },
      {
        "duration": 4,
        "start_time": "2023-01-23T14:02:35.951Z"
      },
      {
        "duration": 423,
        "start_time": "2023-01-23T14:02:35.957Z"
      },
      {
        "duration": 15,
        "start_time": "2023-01-23T14:02:36.382Z"
      },
      {
        "duration": 10,
        "start_time": "2023-01-23T14:02:36.399Z"
      },
      {
        "duration": 9,
        "start_time": "2023-01-23T14:02:36.411Z"
      },
      {
        "duration": 13,
        "start_time": "2023-01-23T14:02:36.422Z"
      },
      {
        "duration": 403,
        "start_time": "2023-01-23T14:02:36.437Z"
      },
      {
        "duration": 19,
        "start_time": "2023-01-23T14:02:36.841Z"
      },
      {
        "duration": 33,
        "start_time": "2023-01-23T14:02:36.861Z"
      },
      {
        "duration": 15,
        "start_time": "2023-01-23T14:02:36.896Z"
      },
      {
        "duration": 12,
        "start_time": "2023-01-23T14:02:36.913Z"
      },
      {
        "duration": 14,
        "start_time": "2023-01-23T14:02:36.927Z"
      },
      {
        "duration": 5,
        "start_time": "2023-01-23T14:02:36.943Z"
      },
      {
        "duration": 8,
        "start_time": "2023-01-23T14:02:36.950Z"
      },
      {
        "duration": 6,
        "start_time": "2023-01-23T14:02:36.960Z"
      },
      {
        "duration": 11,
        "start_time": "2023-01-23T14:02:36.968Z"
      },
      {
        "duration": 11,
        "start_time": "2023-01-23T14:02:36.985Z"
      },
      {
        "duration": 12,
        "start_time": "2023-01-23T14:02:36.998Z"
      },
      {
        "duration": 46,
        "start_time": "2023-01-23T14:02:37.012Z"
      },
      {
        "duration": 12,
        "start_time": "2023-01-23T14:02:37.060Z"
      },
      {
        "duration": 22,
        "start_time": "2023-01-23T14:02:37.074Z"
      },
      {
        "duration": 10,
        "start_time": "2023-01-23T14:02:37.098Z"
      },
      {
        "duration": 3,
        "start_time": "2023-01-23T14:02:37.109Z"
      },
      {
        "duration": 39,
        "start_time": "2023-01-23T14:02:37.113Z"
      },
      {
        "duration": 16,
        "start_time": "2023-01-23T14:02:37.154Z"
      },
      {
        "duration": 126,
        "start_time": "2023-01-23T14:02:37.172Z"
      },
      {
        "duration": 6,
        "start_time": "2023-01-23T14:02:37.300Z"
      },
      {
        "duration": 6709,
        "start_time": "2023-01-23T14:02:37.307Z"
      },
      {
        "duration": 3,
        "start_time": "2023-01-23T14:02:44.018Z"
      },
      {
        "duration": 362,
        "start_time": "2023-01-23T14:02:44.022Z"
      },
      {
        "duration": 3,
        "start_time": "2023-01-23T14:02:44.386Z"
      },
      {
        "duration": 29,
        "start_time": "2023-01-23T14:02:44.391Z"
      },
      {
        "duration": 13483,
        "start_time": "2023-01-23T14:02:44.422Z"
      },
      {
        "duration": 3461,
        "start_time": "2023-01-23T14:02:57.906Z"
      },
      {
        "duration": 4122,
        "start_time": "2023-01-23T14:03:01.370Z"
      },
      {
        "duration": 3,
        "start_time": "2023-01-23T14:03:05.494Z"
      },
      {
        "duration": 2162,
        "start_time": "2023-01-23T14:03:05.498Z"
      },
      {
        "duration": 3,
        "start_time": "2023-01-23T14:03:07.661Z"
      },
      {
        "duration": 265,
        "start_time": "2023-01-23T14:03:07.666Z"
      },
      {
        "duration": 517,
        "start_time": "2023-01-23T14:03:07.933Z"
      },
      {
        "duration": 5,
        "start_time": "2023-01-23T14:03:08.452Z"
      },
      {
        "duration": 33,
        "start_time": "2023-01-23T14:03:08.458Z"
      },
      {
        "duration": 14,
        "start_time": "2023-01-23T14:03:08.492Z"
      },
      {
        "duration": 13,
        "start_time": "2023-01-23T14:03:08.508Z"
      },
      {
        "duration": 5,
        "start_time": "2023-01-23T14:03:08.523Z"
      },
      {
        "duration": 15,
        "start_time": "2023-01-23T14:03:08.530Z"
      },
      {
        "duration": 26,
        "start_time": "2023-01-23T14:03:08.547Z"
      },
      {
        "duration": 22,
        "start_time": "2023-01-23T14:03:08.575Z"
      },
      {
        "duration": 81,
        "start_time": "2023-01-23T14:03:08.599Z"
      },
      {
        "duration": 20,
        "start_time": "2023-01-23T14:03:08.681Z"
      },
      {
        "duration": 25,
        "start_time": "2023-01-23T14:03:08.702Z"
      },
      {
        "duration": 18,
        "start_time": "2023-01-23T14:03:08.728Z"
      },
      {
        "duration": 6,
        "start_time": "2023-01-23T14:03:08.748Z"
      },
      {
        "duration": 5,
        "start_time": "2023-01-23T14:03:08.756Z"
      },
      {
        "duration": 18,
        "start_time": "2023-01-23T14:03:08.762Z"
      },
      {
        "duration": 162941,
        "start_time": "2023-01-23T14:03:08.782Z"
      },
      {
        "duration": 5,
        "start_time": "2023-01-23T14:05:51.725Z"
      },
      {
        "duration": 243,
        "start_time": "2023-01-23T14:05:51.732Z"
      },
      {
        "duration": 4,
        "start_time": "2023-01-23T14:05:51.977Z"
      },
      {
        "duration": 8,
        "start_time": "2023-01-23T14:05:51.982Z"
      },
      {
        "duration": 3820,
        "start_time": "2023-01-23T14:05:51.992Z"
      },
      {
        "duration": 12,
        "start_time": "2023-01-23T14:05:55.814Z"
      },
      {
        "duration": 6,
        "start_time": "2023-01-23T14:05:55.828Z"
      },
      {
        "duration": 30951,
        "start_time": "2023-01-23T14:05:55.836Z"
      },
      {
        "duration": 4,
        "start_time": "2023-01-23T14:06:26.788Z"
      },
      {
        "duration": 6,
        "start_time": "2023-01-23T14:06:26.793Z"
      },
      {
        "duration": 121,
        "start_time": "2023-01-23T14:06:26.800Z"
      },
      {
        "duration": 250,
        "start_time": "2023-01-23T14:06:26.923Z"
      },
      {
        "duration": 246,
        "start_time": "2023-01-23T14:06:27.174Z"
      },
      {
        "duration": 6,
        "start_time": "2023-01-23T14:06:27.422Z"
      },
      {
        "duration": 6,
        "start_time": "2023-01-23T14:06:27.451Z"
      },
      {
        "duration": 11,
        "start_time": "2023-01-23T14:06:27.459Z"
      },
      {
        "duration": 1399,
        "start_time": "2023-01-23T14:06:27.472Z"
      },
      {
        "duration": 9,
        "start_time": "2023-01-23T14:06:28.872Z"
      },
      {
        "duration": 2248,
        "start_time": "2023-01-23T14:06:40.479Z"
      },
      {
        "duration": 1746,
        "start_time": "2023-01-23T14:06:42.729Z"
      },
      {
        "duration": 51,
        "start_time": "2023-01-23T14:06:44.477Z"
      },
      {
        "duration": 21,
        "start_time": "2023-01-23T14:06:44.531Z"
      },
      {
        "duration": 18,
        "start_time": "2023-01-23T14:06:44.554Z"
      },
      {
        "duration": 25,
        "start_time": "2023-01-23T14:06:44.573Z"
      },
      {
        "duration": 4,
        "start_time": "2023-01-23T14:06:44.600Z"
      },
      {
        "duration": 64,
        "start_time": "2023-01-23T14:06:44.606Z"
      },
      {
        "duration": 40,
        "start_time": "2023-01-23T14:06:44.672Z"
      },
      {
        "duration": 72,
        "start_time": "2023-01-23T14:06:44.715Z"
      },
      {
        "duration": 30,
        "start_time": "2023-01-23T14:06:44.788Z"
      },
      {
        "duration": 5,
        "start_time": "2023-01-23T14:06:44.819Z"
      },
      {
        "duration": 421,
        "start_time": "2023-01-23T14:06:44.825Z"
      },
      {
        "duration": 13,
        "start_time": "2023-01-23T14:06:45.248Z"
      },
      {
        "duration": 6,
        "start_time": "2023-01-23T14:06:45.262Z"
      },
      {
        "duration": 5,
        "start_time": "2023-01-23T14:06:45.270Z"
      },
      {
        "duration": 11,
        "start_time": "2023-01-23T14:06:45.276Z"
      },
      {
        "duration": 407,
        "start_time": "2023-01-23T14:06:45.288Z"
      },
      {
        "duration": 14,
        "start_time": "2023-01-23T14:06:45.697Z"
      },
      {
        "duration": 12,
        "start_time": "2023-01-23T14:06:45.712Z"
      },
      {
        "duration": 9,
        "start_time": "2023-01-23T14:06:45.726Z"
      },
      {
        "duration": 16,
        "start_time": "2023-01-23T14:06:45.736Z"
      },
      {
        "duration": 13,
        "start_time": "2023-01-23T14:06:45.754Z"
      },
      {
        "duration": 13,
        "start_time": "2023-01-23T14:06:45.769Z"
      },
      {
        "duration": 9,
        "start_time": "2023-01-23T14:06:45.784Z"
      },
      {
        "duration": 7,
        "start_time": "2023-01-23T14:06:45.794Z"
      },
      {
        "duration": 16,
        "start_time": "2023-01-23T14:06:45.803Z"
      },
      {
        "duration": 25,
        "start_time": "2023-01-23T14:06:45.825Z"
      },
      {
        "duration": 17,
        "start_time": "2023-01-23T14:06:45.852Z"
      },
      {
        "duration": 20,
        "start_time": "2023-01-23T14:06:45.870Z"
      },
      {
        "duration": 12,
        "start_time": "2023-01-23T14:06:45.891Z"
      },
      {
        "duration": 22,
        "start_time": "2023-01-23T14:06:45.905Z"
      },
      {
        "duration": 29,
        "start_time": "2023-01-23T14:06:45.928Z"
      },
      {
        "duration": 3,
        "start_time": "2023-01-23T14:06:45.959Z"
      },
      {
        "duration": 11,
        "start_time": "2023-01-23T14:06:45.963Z"
      },
      {
        "duration": 18,
        "start_time": "2023-01-23T14:06:45.976Z"
      },
      {
        "duration": 134,
        "start_time": "2023-01-23T14:06:45.996Z"
      },
      {
        "duration": 5,
        "start_time": "2023-01-23T14:06:46.132Z"
      },
      {
        "duration": 6812,
        "start_time": "2023-01-23T14:06:46.149Z"
      },
      {
        "duration": 3,
        "start_time": "2023-01-23T14:06:52.962Z"
      },
      {
        "duration": 330,
        "start_time": "2023-01-23T14:06:52.967Z"
      },
      {
        "duration": 3,
        "start_time": "2023-01-23T14:06:53.298Z"
      },
      {
        "duration": 36,
        "start_time": "2023-01-23T14:06:53.303Z"
      },
      {
        "duration": 13664,
        "start_time": "2023-01-23T14:06:53.341Z"
      },
      {
        "duration": 3547,
        "start_time": "2023-01-23T14:07:07.008Z"
      },
      {
        "duration": 4046,
        "start_time": "2023-01-23T14:07:10.556Z"
      },
      {
        "duration": 3,
        "start_time": "2023-01-23T14:07:14.604Z"
      },
      {
        "duration": 2189,
        "start_time": "2023-01-23T14:07:14.609Z"
      },
      {
        "duration": 2,
        "start_time": "2023-01-23T14:07:16.800Z"
      },
      {
        "duration": 262,
        "start_time": "2023-01-23T14:07:16.804Z"
      },
      {
        "duration": 533,
        "start_time": "2023-01-23T14:07:17.068Z"
      },
      {
        "duration": 5,
        "start_time": "2023-01-23T14:07:17.603Z"
      },
      {
        "duration": 12,
        "start_time": "2023-01-23T14:07:17.610Z"
      },
      {
        "duration": 9,
        "start_time": "2023-01-23T14:07:17.624Z"
      },
      {
        "duration": 9,
        "start_time": "2023-01-23T14:07:17.634Z"
      },
      {
        "duration": 7,
        "start_time": "2023-01-23T14:07:17.645Z"
      },
      {
        "duration": 3,
        "start_time": "2023-01-23T14:07:17.654Z"
      },
      {
        "duration": 18,
        "start_time": "2023-01-23T14:07:17.659Z"
      },
      {
        "duration": 15,
        "start_time": "2023-01-23T14:07:17.679Z"
      },
      {
        "duration": 92,
        "start_time": "2023-01-23T14:07:17.696Z"
      },
      {
        "duration": 21,
        "start_time": "2023-01-23T14:07:17.790Z"
      },
      {
        "duration": 36,
        "start_time": "2023-01-23T14:07:17.813Z"
      },
      {
        "duration": 4,
        "start_time": "2023-01-23T14:07:17.851Z"
      },
      {
        "duration": 4,
        "start_time": "2023-01-23T14:07:17.856Z"
      },
      {
        "duration": 4,
        "start_time": "2023-01-23T14:07:17.862Z"
      },
      {
        "duration": 16,
        "start_time": "2023-01-23T14:07:17.868Z"
      },
      {
        "duration": 164406,
        "start_time": "2023-01-23T14:07:17.887Z"
      },
      {
        "duration": 5,
        "start_time": "2023-01-23T14:10:02.294Z"
      },
      {
        "duration": 251,
        "start_time": "2023-01-23T14:10:02.300Z"
      },
      {
        "duration": 3,
        "start_time": "2023-01-23T14:10:02.553Z"
      },
      {
        "duration": 11,
        "start_time": "2023-01-23T14:10:02.558Z"
      },
      {
        "duration": 4215,
        "start_time": "2023-01-23T14:10:02.570Z"
      },
      {
        "duration": 11,
        "start_time": "2023-01-23T14:10:06.786Z"
      },
      {
        "duration": 3,
        "start_time": "2023-01-23T14:10:06.799Z"
      },
      {
        "duration": 31694,
        "start_time": "2023-01-23T14:10:06.804Z"
      },
      {
        "duration": 4,
        "start_time": "2023-01-23T14:10:38.500Z"
      },
      {
        "duration": 6,
        "start_time": "2023-01-23T14:10:38.506Z"
      },
      {
        "duration": 135,
        "start_time": "2023-01-23T14:10:38.514Z"
      },
      {
        "duration": 135,
        "start_time": "2023-01-23T14:10:38.651Z"
      },
      {
        "duration": 445,
        "start_time": "2023-01-23T14:10:38.788Z"
      },
      {
        "duration": 14,
        "start_time": "2023-01-23T14:10:39.235Z"
      },
      {
        "duration": 7,
        "start_time": "2023-01-23T14:10:39.254Z"
      },
      {
        "duration": 9,
        "start_time": "2023-01-23T14:10:39.263Z"
      },
      {
        "duration": 1432,
        "start_time": "2023-01-23T14:10:39.274Z"
      },
      {
        "duration": 10,
        "start_time": "2023-01-23T14:10:40.708Z"
      },
      {
        "duration": 77,
        "start_time": "2023-01-24T05:00:28.667Z"
      },
      {
        "duration": 67,
        "start_time": "2023-01-24T05:00:47.090Z"
      },
      {
        "duration": 75,
        "start_time": "2023-01-24T05:01:32.680Z"
      },
      {
        "duration": 3134,
        "start_time": "2023-02-09T09:50:57.334Z"
      },
      {
        "duration": 2123,
        "start_time": "2023-02-09T09:51:00.471Z"
      },
      {
        "duration": 129,
        "start_time": "2023-02-09T09:51:02.596Z"
      },
      {
        "duration": 106,
        "start_time": "2023-02-09T09:51:02.728Z"
      },
      {
        "duration": 61,
        "start_time": "2023-02-09T09:51:02.836Z"
      },
      {
        "duration": 75,
        "start_time": "2023-02-09T09:51:02.899Z"
      },
      {
        "duration": 4,
        "start_time": "2023-02-09T09:51:02.976Z"
      },
      {
        "duration": 77,
        "start_time": "2023-02-09T09:51:02.982Z"
      },
      {
        "duration": 46,
        "start_time": "2023-02-09T09:51:03.061Z"
      },
      {
        "duration": 85,
        "start_time": "2023-02-09T09:51:03.111Z"
      },
      {
        "duration": 60,
        "start_time": "2023-02-09T09:51:03.198Z"
      },
      {
        "duration": 5,
        "start_time": "2023-02-09T09:51:03.260Z"
      },
      {
        "duration": 544,
        "start_time": "2023-02-09T09:51:03.267Z"
      },
      {
        "duration": 15,
        "start_time": "2023-02-09T09:51:03.813Z"
      },
      {
        "duration": 28,
        "start_time": "2023-02-09T09:51:03.838Z"
      },
      {
        "duration": 17,
        "start_time": "2023-02-09T09:51:03.868Z"
      },
      {
        "duration": 22,
        "start_time": "2023-02-09T09:51:03.886Z"
      },
      {
        "duration": 445,
        "start_time": "2023-02-09T09:51:03.910Z"
      },
      {
        "duration": 17,
        "start_time": "2023-02-09T09:51:04.357Z"
      },
      {
        "duration": 43,
        "start_time": "2023-02-09T09:51:04.375Z"
      },
      {
        "duration": 35,
        "start_time": "2023-02-09T09:51:04.420Z"
      },
      {
        "duration": 58,
        "start_time": "2023-02-09T09:51:04.458Z"
      },
      {
        "duration": 47,
        "start_time": "2023-02-09T09:51:04.518Z"
      },
      {
        "duration": 86,
        "start_time": "2023-02-09T09:51:04.567Z"
      },
      {
        "duration": 50,
        "start_time": "2023-02-09T09:51:04.656Z"
      },
      {
        "duration": 53,
        "start_time": "2023-02-09T09:51:04.708Z"
      },
      {
        "duration": 70,
        "start_time": "2023-02-09T09:51:04.763Z"
      },
      {
        "duration": 59,
        "start_time": "2023-02-09T09:51:04.838Z"
      },
      {
        "duration": 57,
        "start_time": "2023-02-09T09:51:04.899Z"
      },
      {
        "duration": 93,
        "start_time": "2023-02-09T09:51:04.958Z"
      },
      {
        "duration": 63,
        "start_time": "2023-02-09T09:51:05.053Z"
      },
      {
        "duration": 59,
        "start_time": "2023-02-09T09:51:05.118Z"
      },
      {
        "duration": 75,
        "start_time": "2023-02-09T09:51:05.178Z"
      },
      {
        "duration": 29,
        "start_time": "2023-02-09T09:51:05.255Z"
      },
      {
        "duration": 72,
        "start_time": "2023-02-09T09:51:05.286Z"
      },
      {
        "duration": 97,
        "start_time": "2023-02-09T09:51:05.360Z"
      },
      {
        "duration": 159,
        "start_time": "2023-02-09T09:51:05.459Z"
      },
      {
        "duration": 7,
        "start_time": "2023-02-09T09:51:05.621Z"
      },
      {
        "duration": 7183,
        "start_time": "2023-02-09T09:51:05.636Z"
      },
      {
        "duration": 3,
        "start_time": "2023-02-09T09:51:12.821Z"
      },
      {
        "duration": 359,
        "start_time": "2023-02-09T09:51:12.825Z"
      },
      {
        "duration": 4,
        "start_time": "2023-02-09T09:51:13.186Z"
      },
      {
        "duration": 33,
        "start_time": "2023-02-09T09:51:13.191Z"
      }
    ],
    "colab": {
      "provenance": []
    },
    "kernelspec": {
      "display_name": "Python 3 (ipykernel)",
      "language": "python",
      "name": "python3"
    },
    "language_info": {
      "codemirror_mode": {
        "name": "ipython",
        "version": 3
      },
      "file_extension": ".py",
      "mimetype": "text/x-python",
      "name": "python",
      "nbconvert_exporter": "python",
      "pygments_lexer": "ipython3",
      "version": "3.9.5"
    },
    "toc": {
      "base_numbering": 1,
      "nav_menu": {},
      "number_sections": true,
      "sideBar": true,
      "skip_h1_title": true,
      "title_cell": "Table of Contents",
      "title_sidebar": "Contents",
      "toc_cell": false,
      "toc_position": {},
      "toc_section_display": true,
      "toc_window_display": false
    }
  },
  "nbformat": 4,
  "nbformat_minor": 0
}